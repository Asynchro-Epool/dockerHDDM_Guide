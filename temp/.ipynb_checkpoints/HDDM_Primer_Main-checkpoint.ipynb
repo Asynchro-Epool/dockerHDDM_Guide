{
 "cells": [
  {
   "cell_type": "markdown",
   "metadata": {},
   "source": [
    "\n",
    "# Bayesian Hierarchical drift-diffusion modelling: A primer\n",
    "Author: Hu Chuan-Peng (PhD)\n",
    "\n",
    "Contact: hcp4715 AT hotmail.com\n",
    "\n",
    "\n",
    "This is the script for illustrating a principled workflow of hierarchical bayesian drift diffusion modelling. We used data from Cavanagh et al.(2011) as an example.This dataset had been used in Wiecki et al (2013).\n",
    "\n",
    "\n",
    "## About the dataset\n",
    "### Participants\n",
    "14 patients with Parkinsons' disease. 12 males, 2 females, age range (46 ~ 77 years).\n",
    "\n",
    "### Experimental design\n",
    "\n",
    "Two within-subject design: \n",
    "Independent variable: DBS on vs DBS off;\n",
    "Independent variable: high (win-win; lose-lose) vs. low conflict (win-lose).\n",
    "\n",
    "Dependent variable:\n",
    "RT and response.\n",
    "\n",
    "### Procedure\n",
    "\n",
    "![Task dynamics](./Cavanagh_2011_procedure.png)\n",
    "\n",
    "The above figure is from Cavanagh et al (2011)'s figure 1b. The experiment include two session: training and test. During training, participants learned to choose one item in each pair (termed A/B and C/D) that was reinforced more often (A/B, 100%/0%; C/D, 75%/25%). In example below, the butterfly might be A and the piano might be B. During testing, participants had to choose the better stimulus, leading to high-conflict choices for win-win (A/C) and lose-lose (B/D) as well as low-conflict choices (A/D, C/B). For example, if the cake was C in training, this would reflect a high-conflict win-win cue.\n",
    "\n",
    "Only the testing data are available and used here in this primer.\n",
    "\n",
    "**Reference of the data**\n",
    "\n",
    "Cavanagh, J. F., Wiecki, T. V., Cohen, M. X., Figueroa, C. M., Samanta, J., Sherman, S. J., & Frank, M. J. (2011). Subthalamic nucleus stimulation reverses mediofrontal influence over decision threshold. Nature Neuroscience, 14(11), 1462–1467. https://doi.org/10.1038/nn.2925\n",
    "\n",
    "Wiecki, T. V., Sofer, I., & Frank, M. J. (2013). HDDM: Hierarchical Bayesian estimation of the Drift-Diffusion Model in Python. Frontiers in Neuroinformatics, 7. https://doi.org/10.3389/fninf.2013.00014"
   ]
  },
  {
   "cell_type": "code",
   "execution_count": 1,
   "metadata": {},
   "outputs": [
    {
     "name": "stderr",
     "output_type": "stream",
     "text": [
      "/opt/conda/lib/python3.7/site-packages/IPython/parallel.py:13: ShimWarning: The `IPython.parallel` package has been deprecated since IPython 4.0. You should import from ipyparallel instead.\n",
      "  \"You should import from ipyparallel instead.\", ShimWarning)\n"
     ]
    },
    {
     "name": "stdout",
     "output_type": "stream",
     "text": [
      "The current HDDM version is:  0.8.0\n"
     ]
    }
   ],
   "source": [
    "%matplotlib inline\n",
    "\n",
    "# Preparation\n",
    "import os, hddm, time, csv\n",
    "import glob\n",
    "import kabuki \n",
    "import datetime\n",
    "from datetime import date\n",
    "\n",
    "import pymc as pm\n",
    "import hddm\n",
    "import kabuki\n",
    "print(\"The current HDDM version is: \", hddm.__version__)\n",
    "\n",
    "import arviz as az\n",
    "import numpy as np\n",
    "import pandas as pd\n",
    "import feather\n",
    "import xarray as xr\n",
    "import matplotlib.pyplot as plt\n",
    "import seaborn as sns\n",
    "\n",
    "# import sparse # test whether package `sparse` is installed; doesn't matter if not installed.\n",
    "\n",
    "from p_tqdm import p_map\n",
    "from functools import partial\n",
    "\n",
    "# set the color of plots\n",
    "from cycler import cycler\n",
    "plt.rcParams['axes.prop_cycle'] = cycler(color='bgrcmykw')"
   ]
  },
  {
   "cell_type": "markdown",
   "metadata": {},
   "source": [
    "## Loading data and explore the data\n",
    "\n",
    "The data is from `HDDM` package itself, but it was hidden in the `examples` folder, uncomment the following code to find it out:"
   ]
  },
  {
   "cell_type": "code",
   "execution_count": 2,
   "metadata": {},
   "outputs": [],
   "source": [
    "# # find the directory of \"cavanagh_theta_nn.csv\"\n",
    "# print(hddm.__file__)\n",
    "# !head /opt/conda/lib/python3.7/site-packages/hddm/examples/cavanagh_theta_nn.csv"
   ]
  },
  {
   "cell_type": "code",
   "execution_count": 3,
   "metadata": {
    "scrolled": true
   },
   "outputs": [
    {
     "data": {
      "text/html": [
       "<div>\n",
       "<style scoped>\n",
       "    .dataframe tbody tr th:only-of-type {\n",
       "        vertical-align: middle;\n",
       "    }\n",
       "\n",
       "    .dataframe tbody tr th {\n",
       "        vertical-align: top;\n",
       "    }\n",
       "\n",
       "    .dataframe thead th {\n",
       "        text-align: right;\n",
       "    }\n",
       "</style>\n",
       "<table border=\"1\" class=\"dataframe\">\n",
       "  <thead>\n",
       "    <tr style=\"text-align: right;\">\n",
       "      <th></th>\n",
       "      <th>subj_idx</th>\n",
       "      <th>stim</th>\n",
       "      <th>rt</th>\n",
       "      <th>response</th>\n",
       "      <th>theta</th>\n",
       "      <th>dbs</th>\n",
       "      <th>conf</th>\n",
       "    </tr>\n",
       "  </thead>\n",
       "  <tbody>\n",
       "    <tr>\n",
       "      <th>3983</th>\n",
       "      <td>13</td>\n",
       "      <td>LL</td>\n",
       "      <td>1.450</td>\n",
       "      <td>0.0</td>\n",
       "      <td>-1.237166</td>\n",
       "      <td>0</td>\n",
       "      <td>HC</td>\n",
       "    </tr>\n",
       "    <tr>\n",
       "      <th>3984</th>\n",
       "      <td>13</td>\n",
       "      <td>WL</td>\n",
       "      <td>0.711</td>\n",
       "      <td>1.0</td>\n",
       "      <td>-0.377450</td>\n",
       "      <td>0</td>\n",
       "      <td>LC</td>\n",
       "    </tr>\n",
       "    <tr>\n",
       "      <th>3985</th>\n",
       "      <td>13</td>\n",
       "      <td>WL</td>\n",
       "      <td>0.784</td>\n",
       "      <td>1.0</td>\n",
       "      <td>-0.694194</td>\n",
       "      <td>0</td>\n",
       "      <td>LC</td>\n",
       "    </tr>\n",
       "    <tr>\n",
       "      <th>3986</th>\n",
       "      <td>13</td>\n",
       "      <td>LL</td>\n",
       "      <td>2.350</td>\n",
       "      <td>0.0</td>\n",
       "      <td>-0.546536</td>\n",
       "      <td>0</td>\n",
       "      <td>HC</td>\n",
       "    </tr>\n",
       "    <tr>\n",
       "      <th>3987</th>\n",
       "      <td>13</td>\n",
       "      <td>WW</td>\n",
       "      <td>1.250</td>\n",
       "      <td>1.0</td>\n",
       "      <td>0.752388</td>\n",
       "      <td>0</td>\n",
       "      <td>HC</td>\n",
       "    </tr>\n",
       "  </tbody>\n",
       "</table>\n",
       "</div>"
      ],
      "text/plain": [
       "      subj_idx stim     rt  response     theta  dbs conf\n",
       "3983        13   LL  1.450       0.0 -1.237166    0   HC\n",
       "3984        13   WL  0.711       1.0 -0.377450    0   LC\n",
       "3985        13   WL  0.784       1.0 -0.694194    0   LC\n",
       "3986        13   LL  2.350       0.0 -0.546536    0   HC\n",
       "3987        13   WW  1.250       1.0  0.752388    0   HC"
      ]
     },
     "execution_count": 3,
     "metadata": {},
     "output_type": "execute_result"
    }
   ],
   "source": [
    "data = hddm.load_csv('/opt/conda/lib/python3.7/site-packages/hddm/examples/cavanagh_theta_nn.csv')\n",
    "data.tail()"
   ]
  },
  {
   "cell_type": "markdown",
   "metadata": {},
   "source": [
    "### Check the number of trials for each condition\n",
    "\n",
    "Way 1: grouped by `stim`"
   ]
  },
  {
   "cell_type": "code",
   "execution_count": 4,
   "metadata": {},
   "outputs": [
    {
     "data": {
      "text/plain": [
       "subj_idx\n",
       "0     298\n",
       "1     298\n",
       "2     293\n",
       "3     255\n",
       "4     283\n",
       "5     303\n",
       "6     299\n",
       "7     294\n",
       "8     293\n",
       "9     217\n",
       "10    309\n",
       "11    305\n",
       "12    267\n",
       "13    274\n",
       "dtype: int64"
      ]
     },
     "execution_count": 4,
     "metadata": {},
     "output_type": "execute_result"
    }
   ],
   "source": [
    "data.groupby(['subj_idx']).size()"
   ]
  },
  {
   "cell_type": "code",
   "execution_count": 5,
   "metadata": {
    "scrolled": true
   },
   "outputs": [
    {
     "data": {
      "text/plain": [
       "subj_idx  stim  dbs\n",
       "0         LL    0      36\n",
       "                1      37\n",
       "          WL    0      74\n",
       "                1      77\n",
       "          WW    0      38\n",
       "                       ..\n",
       "13        LL    1      39\n",
       "          WL    0      62\n",
       "                1      73\n",
       "          WW    0      32\n",
       "                1      39\n",
       "Length: 84, dtype: int64"
      ]
     },
     "execution_count": 5,
     "metadata": {},
     "output_type": "execute_result"
    }
   ],
   "source": [
    "data.groupby(['subj_idx', 'stim', 'dbs']).size()"
   ]
  },
  {
   "cell_type": "markdown",
   "metadata": {},
   "source": [
    "Way 2: grouped by `conf`"
   ]
  },
  {
   "cell_type": "code",
   "execution_count": 6,
   "metadata": {
    "jupyter": {
     "outputs_hidden": true
    },
    "scrolled": true
   },
   "outputs": [
    {
     "data": {
      "text/plain": [
       "subj_idx  conf  dbs\n",
       "0         HC    0      74\n",
       "                1      73\n",
       "          LC    0      74\n",
       "                1      77\n",
       "1         HC    0      70\n",
       "                1      75\n",
       "          LC    0      77\n",
       "                1      76\n",
       "2         HC    0      77\n",
       "                1      69\n",
       "          LC    0      78\n",
       "                1      69\n",
       "3         HC    0      68\n",
       "                1      58\n",
       "          LC    0      71\n",
       "                1      58\n",
       "4         HC    0      73\n",
       "                1      66\n",
       "          LC    0      75\n",
       "                1      69\n",
       "5         HC    0      77\n",
       "                1      71\n",
       "          LC    0      77\n",
       "                1      78\n",
       "6         HC    0      75\n",
       "                1      70\n",
       "          LC    0      78\n",
       "                1      76\n",
       "7         HC    0      75\n",
       "                1      77\n",
       "          LC    0      69\n",
       "                1      73\n",
       "8         HC    0      73\n",
       "                1      72\n",
       "          LC    0      73\n",
       "                1      75\n",
       "9         HC    0      57\n",
       "                1      50\n",
       "          LC    0      58\n",
       "                1      52\n",
       "10        HC    0      74\n",
       "                1      78\n",
       "          LC    0      79\n",
       "                1      78\n",
       "11        HC    0      73\n",
       "                1      79\n",
       "          LC    0      73\n",
       "                1      80\n",
       "12        HC    0      71\n",
       "                1      58\n",
       "          LC    0      77\n",
       "                1      61\n",
       "13        HC    0      61\n",
       "                1      78\n",
       "          LC    0      62\n",
       "                1      73\n",
       "dtype: int64"
      ]
     },
     "execution_count": 6,
     "metadata": {},
     "output_type": "execute_result"
    }
   ],
   "source": [
    "data.groupby(['subj_idx', 'conf', 'dbs']).size()"
   ]
  },
  {
   "cell_type": "markdown",
   "metadata": {},
   "source": [
    "### Visualize the raw data\n",
    "\n",
    "Way 1: Original way"
   ]
  },
  {
   "cell_type": "code",
   "execution_count": 7,
   "metadata": {
    "scrolled": true
   },
   "outputs": [
    {
     "data": {
      "image/png": "[encoded data removed]",
      "text/plain": [
       "<Figure size 432x288 with 1 Axes>"
      ]
     },
     "metadata": {
      "needs_background": "light"
     },
     "output_type": "display_data"
    }
   ],
   "source": [
    "data = hddm.utils.flip_errors(data)\n",
    "\n",
    "fig = plt.figure()\n",
    "ax = fig.add_subplot(111, xlabel='RT', ylabel='count', title='RT distributions')\n",
    "for i, subj_data in data.groupby('subj_idx'):\n",
    "    subj_data.rt.hist(bins=20, histtype='step', ax=ax)\n",
    "\n",
    "# plt.savefig('hddm_demo_fig_00.pdf')"
   ]
  },
  {
   "cell_type": "markdown",
   "metadata": {},
   "source": [
    "Way 2: Interactive with plotly"
   ]
  },
  {
   "cell_type": "markdown",
   "metadata": {},
   "source": [
    "### Visualize the summary results\n",
    "Here we can reproduce part of Figure 3 in Cavanagh et al. (2011)."
   ]
  },
  {
   "cell_type": "code",
   "execution_count": 8,
   "metadata": {},
   "outputs": [
    {
     "data": {
      "text/plain": [
       "<seaborn.axisgrid.FacetGrid at 0x7f3b9e71f550>"
      ]
     },
     "execution_count": 8,
     "metadata": {},
     "output_type": "execute_result"
    },
    {
     "data": {
      "image/png": "[encoded data removed]",
      "text/plain": [
       "<Figure size 622.6x360 with 2 Axes>"
      ]
     },
     "metadata": {},
     "output_type": "display_data"
    }
   ],
   "source": [
    "# get the median of accurate RTs\n",
    "data_rt_sum = data[data['response'] ==1].groupby(['subj_idx','dbs', 'stim'])['rt'].median().reset_index()\n",
    "\n",
    "# get the mean accuracy (this approach is not optimal)\n",
    "data_acc_sum = data.groupby(['subj_idx','dbs', 'stim'])['response'].mean().reset_index()\n",
    "\n",
    "data_rt_sum['DVs'] = 'RTs'\n",
    "data_rt_sum.rename(columns={'rt':'value'}, inplace=True)\n",
    "data_acc_sum['DVs'] = 'Accuracy'\n",
    "data_acc_sum.rename(columns={'response':'value'}, inplace=True)\n",
    "\n",
    "data_sum = pd.concat([data_rt_sum, data_acc_sum]).reset_index(drop=True)  # concat two dataframes\n",
    "\n",
    "# # categorize the cond and order the data\n",
    "from pandas.api.types import CategoricalDtype\n",
    "\n",
    "stim_type = CategoricalDtype(categories=['WL', 'WW', 'LL'],\n",
    "                           ordered=True)\n",
    "data_rt_sum['stim'] = data_rt_sum['stim'].astype(stim_type)\n",
    "data_acc_sum['stim'] = data_acc_sum['stim'].astype(stim_type)\n",
    "data_sum['stim'] = data_sum['stim'].astype(stim_type)\n",
    "\n",
    "### MUST use map_dataframe()\n",
    "sns.set_theme(style=\"whitegrid\")\n",
    "\n",
    "g = sns.FacetGrid(data=data_sum, col=\"DVs\", height=5, aspect=.8, sharex=True, sharey=False)\n",
    "g.map_dataframe(sns.barplot, x='stim', y=\"value\", hue = 'dbs', \n",
    "                #order=['valid_high', 'invalid_high', 'valid_low', 'invalid_low'],\n",
    "                #ci = 'sd', # not used, boostrap confidence interval will be used?\n",
    "                palette=\"dark\", alpha=.6,)\n",
    "g.add_legend()"
   ]
  },
  {
   "cell_type": "code",
   "execution_count": 9,
   "metadata": {},
   "outputs": [
    {
     "data": {
      "image/png": "[encoded data removed]",
      "text/plain": [
       "<Figure size 648x432 with 1 Axes>"
      ]
     },
     "metadata": {},
     "output_type": "display_data"
    }
   ],
   "source": [
    "# plot raincloud of RT\n",
    "import ptitprince as pt\n",
    "\n",
    "dx = \"stim\"; dy = \"value\"; dhue = \"dbs\"; ort = \"v\"; pal = \"Set2\"; sigma = .4\n",
    "\n",
    "f, ax = plt.subplots(figsize=(9, 6))\n",
    "\n",
    "ax = pt.RainCloud(x=dx, y=dy, hue=dhue, data=data_rt_sum, palette=pal, \n",
    "                  bw=sigma, width_viol=.5,\n",
    "                  ax=ax, orient=ort, alpha=.65, dodge=True, pointplot=True, move=.2)"
   ]
  },
  {
   "cell_type": "code",
   "execution_count": 10,
   "metadata": {},
   "outputs": [
    {
     "data": {
      "image/png": "[encoded data removed]",
      "text/plain": [
       "<Figure size 648x432 with 1 Axes>"
      ]
     },
     "metadata": {},
     "output_type": "display_data"
    }
   ],
   "source": [
    "f, ax = plt.subplots(figsize=(9, 6))\n",
    "\n",
    "ax = pt.RainCloud(x=dx, y=dy, hue=dhue, data=data_acc_sum, palette=pal, \n",
    "                  bw=sigma, width_viol=.5,\n",
    "                  ax=ax, orient=ort, alpha=.65, dodge=True, pointplot=True, move=.2)"
   ]
  },
  {
   "cell_type": "code",
   "execution_count": 11,
   "metadata": {},
   "outputs": [],
   "source": [
    "# fig, (ax1, ax2) = plt.subplots(nrows=1, \n",
    "#                                ncols=2, \n",
    "#                                figsize=(12, 6),\n",
    "#                                sharex=True,\n",
    "#                                sharey=False)\n",
    "\n",
    "# ax1 = pt.RainCloud(x=dx, y=dy, hue=dhue, data=data_rt_sum, palette=pal, \n",
    "#                   bw=sigma, width_viol=.5,\n",
    "#                   ax=ax, orient=ort, alpha=.65, dodge=True, pointplot=True, move=.2)\n",
    "\n",
    "# ax2 = pt.RainCloud(x=dx, y=dy, hue=dhue, data=data_acc_sum, palette=pal, \n",
    "#                   bw=sigma, width_viol=.5,\n",
    "#                   ax=ax, orient=ort, alpha=.65, dodge=True, pointplot=True, move=.2)\n",
    "\n",
    "# plt.show()"
   ]
  },
  {
   "cell_type": "markdown",
   "metadata": {},
   "source": [
    "## Prior predictive check\n",
    "\n",
    "See `prior_pred_check.ipynb`"
   ]
  },
  {
   "cell_type": "markdown",
   "metadata": {},
   "source": [
    "## Model specification\n",
    "\n",
    "Model specification is for demonstration purpose.\n",
    "\n",
    "Here we used models that already showed in previous tutorial, but with more details."
   ]
  },
  {
   "cell_type": "markdown",
   "metadata": {},
   "source": [
    "### M0: Baseline model: simplified model\n",
    "\n",
    "In this model, we only fit a basic hierarchical DDM model, we assume that all the parameters are not varied across any condition.\n",
    "\n",
    "`m0_0 = HDDM(data)`\n",
    "\n",
    "$$x_{ij} \\sim wfpt(a_j, v_j, t_j, z_j, sv, st, sz)$$\n",
    "$$v_j \\sim N(\\mu_v, \\sigma_v^2)$$\n",
    "$$a_j \\sim G(\\mu_a, \\sigma_a^2)$$\n",
    "$$t_j \\sim N(\\mu_t, \\sigma_t^2)$$\n",
    "$$z = 0.5 $$\n",
    "$$sv = 0 $$\n",
    "$$st = 0 $$\n",
    "$$sz = 0 $$\n",
    "\n",
    "$$\\mu_a \\sim G(1.5, 0.75)$$\n",
    "$$\\sigma_a \\sim HN(0.1)$$\n",
    "\n",
    "$$\\mu_v \\sim N(\\mu = 2, \\sigma = 3)$$\n",
    "$$\\sigma_v \\sim HN(2)$$\n",
    "\n",
    "$$\\mu_t \\sim G(0.4, 0.2)$$\n",
    "$$\\sigma_t \\sim HN(1)$$"
   ]
  },
  {
   "cell_type": "markdown",
   "metadata": {},
   "source": [
    "### M1: Baseline model: full model\n",
    "\n",
    "`m1 = HDDM(data, include=['z', 'sv', 'sz', 'st'])`\n",
    "\n",
    "$$x_{ij} \\sim wfpt(a_j, v_j, t_j, z_j, sv, st, sz)$$\n",
    "$$v_j \\sim N(\\mu_v, \\sigma_v^2)$$\n",
    "$$a_j \\sim G(\\mu_a, \\sigma_a^2)$$\n",
    "$$t_j \\sim N(\\mu_t, \\sigma_t^2)$$\n",
    "$$z_j \\sim invlogit(N(\\mu_z, \\sigma_z^2))$$\n",
    "$$sv \\sim HN(2)$$\n",
    "$$st \\sim HN(0.3)$$\n",
    "$$sz \\sim B(1, 3)$$\n",
    "\n",
    "$$\\mu_a \\sim G(1.5, 0.75)$$\n",
    "$$\\sigma_a \\sim HN(0.1)$$\n",
    "\n",
    "$$\\mu_v \\sim N(\\mu = 2, \\sigma = 3)$$\n",
    "$$\\sigma_v \\sim HN(2)$$\n",
    "\n",
    "$$\\mu_z \\sim N(0.5, 0.5)$$\n",
    "$$\\sigma_z \\sim HN(0.05)$$\n",
    "\n",
    "$$\\mu_t \\sim G(0.4, 0.2)$$\n",
    "$$\\sigma_t \\sim HN(1)$$\n",
    "\n",
    "A graphical representation of this model is simpler than the graph appeared in [Wiecki et al, 2013](https://github.com/hddm-devs/hddm/blob/master/docs/paper/graphical_hddm.svg)):\n",
    "\n",
    "![Graph_m0](./model_graphs/model_graph_basic.svg)\n"
   ]
  },
  {
   "cell_type": "markdown",
   "metadata": {},
   "source": [
    "### M2: Depends_on conflict level, full model\n",
    "In this model, we will use different `v` for different conflict levels, but keep all the other variables' at group level. By doing so, we added one additional level to the model ---- conditions. And this level has two levels: high vs. low. However, for the prior distribution, $v_{j, p}$ share the same priors.\n",
    "\n",
    "`m2 = HDDM(data, depends_on={'v': 'conf'}, include = ['z', 'sv', 'sz', 'st'])`\n",
    "\n",
    "$$x_{i, k, j} \\sim wfpt(a_j, v_{k, j}, t_j, z_j, sv, st, sz)$$\n",
    "\n",
    "$$v_{k, j} \\sim N(\\mu_v, \\sigma_v^2)$$\n",
    "$$a_j \\sim G(\\mu_a, \\sigma_a^2)$$\n",
    "$$t_j \\sim N(\\mu_t, \\sigma_t^2)$$\n",
    "$$z_j \\sim invlogit(N(\\mu_z, \\sigma_z^2))$$\n",
    "$$sv \\sim HN(2)$$\n",
    "$$st \\sim HN(0.3)$$\n",
    "$$sz \\sim B(1, 3)$$\n",
    "\n",
    "$$\\mu_a \\sim G(1.5, 0.75)$$\n",
    "$$\\sigma_a \\sim HN(0.1)$$\n",
    "\n",
    "$$\\mu_v \\sim N(\\mu = 2, \\sigma = 3)$$\n",
    "$$\\sigma_v \\sim HN(2)$$\n",
    "\n",
    "$$\\mu_z \\sim N(0.5, 0.5)$$\n",
    "$$\\sigma_z \\sim HN(0.05)$$\n",
    "\n",
    "$$\\mu_t \\sim G(0.4, 0.2)$$\n",
    "$$\\sigma_t \\sim HN(1)$$\n",
    "\n",
    "[Insert graph of m1 here]"
   ]
  },
  {
   "cell_type": "markdown",
   "metadata": {},
   "source": [
    "### M3: Regressed on conflict level (varying intercept)\n",
    "In regression models, HDDM can be viewed as a hierarchical generalized linear model. Thus, experiences with generalized hierarchical linear model can be useful.\n",
    "\n",
    "In previous tutorial, Wiecki et al (2011) demonstrated how to use regression model using `dummy coding` or `treatment coding`. There are also other coding schema available in `patsy`\n",
    "\n",
    "\n",
    "`m3 = HDDMRegressor(data, \"v ~ C(conf, Treatment('LC'))\", group_only_regressors=True, include = ['z', 'sv', 'sz', 'st'])`\n",
    "\n",
    "$$x_{i, k, j} \\sim wfpt(a_j, v_{k, j}, t_j, z_j, sv, st, sz)$$\n",
    "\n",
    "$$v_{k, j} = v_{j_{intercept}} + v_{k_{beta}} * Treatment_k$$\n",
    "\n",
    "$$v_{j_{intercept}} \\sim N(\\mu_v, \\sigma_v^2)$$\n",
    "$$v_{k_{beta}} \\sim N()$$\n",
    "\n",
    "$$a_j \\sim G(\\mu_a, \\sigma_a^2)$$\n",
    "$$t_j \\sim N(\\mu_t, \\sigma_t^2)$$\n",
    "$$z_j \\sim invlogit(N(\\mu_z, \\sigma_z^2))$$\n",
    "$$sv \\sim HN(2)$$\n",
    "$$st \\sim HN(0.3)$$\n",
    "$$sz \\sim B(1, 3)$$\n",
    "\n",
    "$$ \\alpha_v \\sim N(\\mu_v, \\sigma_v^2)$$\n",
    "$$ \\beta_v \\sim N()$$\n",
    "\n",
    "$$\\mu_a \\sim G(1.5, 0.75)$$\n",
    "$$\\sigma_a \\sim HN(0.1)$$\n",
    "\n",
    "$$\\mu_v \\sim N(\\mu = 2, \\sigma = 3)$$\n",
    "$$\\sigma_v \\sim HN(2)$$\n",
    "\n",
    "$$\\mu_z \\sim N(0.5, 0.5)$$\n",
    "$$\\sigma_z \\sim HN(0.05)$$\n",
    "\n",
    "$$\\mu_t \\sim G(0.4, 0.2)$$\n",
    "$$\\sigma_t \\sim HN(1)$$\n",
    "\n",
    "\n",
    "* Contrast vs. variable. In Statistical rethings (page 157, 159), Richard distinguished `indicator variable` and `index variable` and recommended `index variable`. What is the relationship between these two and different contrast (design matrix)?"
   ]
  },
  {
   "cell_type": "markdown",
   "metadata": {},
   "source": [
    "Now we need to have a bit tour on `patsy`. `patsy` used the grammar that may familiar to those who use `lme4` or related packages (e.g., `brms`).\n",
    "\n",
    "Very briefly, the grammar of `patsy` is like this:\n",
    "\n",
    "$$ y \\sim a + b*x$$\n",
    "\n",
    "The left hand side of $\\sim$ is the variable need to be predicted, which is usually the outcome (i.e., parameters of DDM in HDDM). the right hand side of the $\\sim$ is the predictors. please see the [document of `patsy`](https://patsy.readthedocs.io/en/latest/formulas.html) for more, or see https://arxiv.org/abs/1911.08628 for a more general explanation for MLM.\n",
    "\n",
    "In `patsy`, the function`dmatrices` can give the design matrix with both the dependent variable on the lefthand side of the formual and the right hand side of the formula, which two parts are delimiited by `~` .\n",
    "\n",
    "If we are only interested in the right hand side of the formula, which is we usually do, we need `dmatrix`.\n",
    "\n",
    "As mentioned in `patsy` API, `patsy` has implemented several widely-used way to handle categorical data. \n",
    "\n",
    "The most-widely used one is \"treatment contrast\". \n",
    "\n",
    "The `reduced rank` and `full rank` are not familiar to readers from psychology. `redcued rank` is the design matrix with `intercept`, i.e., one level of the condition is selected as a reference. This `reduced rank` is the traditional meaning of `dummy coding` in psychology. `full rank` is the design without a reference, the each column of the resulting matrix represents the mean of the corresponding level. This way of coding is the call `cell mean` . "
   ]
  },
  {
   "cell_type": "code",
   "execution_count": 12,
   "metadata": {},
   "outputs": [],
   "source": [
    "from patsy import dmatrix, demo_data\n",
    "demo = demo_data(\"a\", \"b\", \"x1\", \"x2\", \"y\", \"z column\")"
   ]
  },
  {
   "cell_type": "code",
   "execution_count": 13,
   "metadata": {},
   "outputs": [
    {
     "data": {
      "text/plain": [
       "DesignMatrix with shape (8, 3)\n",
       "  Intercept        x1        x2\n",
       "          1   1.76405  -0.10322\n",
       "          1   0.40016   0.41060\n",
       "          1   0.97874   0.14404\n",
       "          1   2.24089   1.45427\n",
       "          1   1.86756   0.76104\n",
       "          1  -0.97728   0.12168\n",
       "          1   0.95009   0.44386\n",
       "          1  -0.15136   0.33367\n",
       "  Terms:\n",
       "    'Intercept' (column 0)\n",
       "    'x1' (column 1)\n",
       "    'x2' (column 2)"
      ]
     },
     "execution_count": 13,
     "metadata": {},
     "output_type": "execute_result"
    }
   ],
   "source": [
    "dmatrix(\"x1 + x2\", demo)"
   ]
  },
  {
   "cell_type": "code",
   "execution_count": 14,
   "metadata": {
    "scrolled": true
   },
   "outputs": [
    {
     "data": {
      "text/plain": [
       "DesignMatrix with shape (20, 2)\n",
       "  Intercept  C(conf, Treatment('LC'))[T.HC]\n",
       "          1                               1\n",
       "          1                               0\n",
       "          1                               1\n",
       "          1                               0\n",
       "          1                               1\n",
       "          1                               0\n",
       "          1                               1\n",
       "          1                               0\n",
       "          1                               1\n",
       "          1                               0\n",
       "          1                               1\n",
       "          1                               0\n",
       "          1                               1\n",
       "          1                               1\n",
       "          1                               0\n",
       "          1                               0\n",
       "          1                               1\n",
       "          1                               0\n",
       "          1                               0\n",
       "          1                               0\n",
       "  Terms:\n",
       "    'Intercept' (column 0)\n",
       "    \"C(conf, Treatment('LC'))\" (column 1)"
      ]
     },
     "execution_count": 14,
     "metadata": {},
     "output_type": "execute_result"
    }
   ],
   "source": [
    "# show first 20 row of design matrix\n",
    "dmatrix(\"C(conf, Treatment('LC'))\", data.head(20))\n",
    "\n",
    "# or using DataFrame:\n",
    "#pd.DataFrame(dmatrix(\"C(conf, Treatment('LC'))\", data))"
   ]
  },
  {
   "cell_type": "markdown",
   "metadata": {},
   "source": [
    "### M4: Regressed on conflict level (varying intercept and varying slope)\n",
    "\n",
    "```\n",
    "m3 = hddm.HDDMRegressor(data, \"v ~ C(conf, Treatment('LC'))\", group_only_regressors=False)\n",
    "```\n",
    "\n",
    "### M5: Using theta as an additional predictor of `a`\n",
    "```\n",
    "m4 = hddm.HDDMRegressor(data[data.dbs == 0],\n",
    "                        \"a ~ theta:C(conf, Treatment('LC'))\",\n",
    "                        depends_on={'v': 'conf'})\n",
    "```\n",
    "\n",
    "### M6: Regression for both parameters\n",
    "```\n",
    "m6 = hddm.HDDMRegressor(data[data.dbs == 0],\n",
    "                        \"a ~ theta:C(conf, Treatment('LC')),\n",
    "                         v ~ C(conf, Treatment('LC'))\")\n",
    "```\n",
    "\n",
    "Two issues that persisted in the users' forum:\n",
    "* Should we use `HDDMRegressor` whenever the design is within-subject?\n",
    "* Do we need to start from the `full model` as suggested by some articles on linear mixed model?"
   ]
  },
  {
   "cell_type": "markdown",
   "metadata": {},
   "source": [
    "### M7: Regression for three parameters\n",
    "\n",
    "In the tutorial, Cavanagh modelled dbs on and off separately, can we model them in one model?\n",
    "\n",
    "```\n",
    "m7 = hddm.HDDMRegressor(data[data.dbs == 0],\n",
    "     [\"a ~ theta:C(conf, Treatment('LC')):C(dbs, Treatment('0')),\n",
    "     v ~ C(conf, Treatment('LC'))\"])\n",
    "```\n",
    "\n",
    "Two issues that persisted in the users' forum:\n",
    "* Should we use `HDDMRegressor` whenever the design is within-subject?\n",
    "* Do we need to start from the `full model` as suggested by some articles on linear mixed model?"
   ]
  },
  {
   "cell_type": "code",
   "execution_count": 15,
   "metadata": {},
   "outputs": [
    {
     "data": {
      "text/html": [
       "<div>\n",
       "<style scoped>\n",
       "    .dataframe tbody tr th:only-of-type {\n",
       "        vertical-align: middle;\n",
       "    }\n",
       "\n",
       "    .dataframe tbody tr th {\n",
       "        vertical-align: top;\n",
       "    }\n",
       "\n",
       "    .dataframe thead th {\n",
       "        text-align: right;\n",
       "    }\n",
       "</style>\n",
       "<table border=\"1\" class=\"dataframe\">\n",
       "  <thead>\n",
       "    <tr style=\"text-align: right;\">\n",
       "      <th></th>\n",
       "      <th>0</th>\n",
       "      <th>1</th>\n",
       "      <th>2</th>\n",
       "      <th>3</th>\n",
       "      <th>4</th>\n",
       "    </tr>\n",
       "  </thead>\n",
       "  <tbody>\n",
       "    <tr>\n",
       "      <th>0</th>\n",
       "      <td>1.0</td>\n",
       "      <td>0.0</td>\n",
       "      <td>0.0</td>\n",
       "      <td>0.656275</td>\n",
       "      <td>0.000000</td>\n",
       "    </tr>\n",
       "    <tr>\n",
       "      <th>1</th>\n",
       "      <td>1.0</td>\n",
       "      <td>-0.0</td>\n",
       "      <td>-0.0</td>\n",
       "      <td>-0.000000</td>\n",
       "      <td>-0.327889</td>\n",
       "    </tr>\n",
       "    <tr>\n",
       "      <th>2</th>\n",
       "      <td>1.0</td>\n",
       "      <td>-0.0</td>\n",
       "      <td>-0.0</td>\n",
       "      <td>-0.480285</td>\n",
       "      <td>-0.000000</td>\n",
       "    </tr>\n",
       "    <tr>\n",
       "      <th>3</th>\n",
       "      <td>1.0</td>\n",
       "      <td>0.0</td>\n",
       "      <td>0.0</td>\n",
       "      <td>0.000000</td>\n",
       "      <td>1.927427</td>\n",
       "    </tr>\n",
       "    <tr>\n",
       "      <th>4</th>\n",
       "      <td>1.0</td>\n",
       "      <td>-0.0</td>\n",
       "      <td>-0.0</td>\n",
       "      <td>-0.213236</td>\n",
       "      <td>-0.000000</td>\n",
       "    </tr>\n",
       "  </tbody>\n",
       "</table>\n",
       "</div>"
      ],
      "text/plain": [
       "     0    1    2         3         4\n",
       "0  1.0  0.0  0.0  0.656275  0.000000\n",
       "1  1.0 -0.0 -0.0 -0.000000 -0.327889\n",
       "2  1.0 -0.0 -0.0 -0.480285 -0.000000\n",
       "3  1.0  0.0  0.0  0.000000  1.927427\n",
       "4  1.0 -0.0 -0.0 -0.213236 -0.000000"
      ]
     },
     "execution_count": 15,
     "metadata": {},
     "output_type": "execute_result"
    }
   ],
   "source": [
    "pd.DataFrame(dmatrix(\"theta:C(conf, Treatment('LC')):C(dbs, Treatment('0'))\", data)).head()"
   ]
  },
  {
   "cell_type": "code",
   "execution_count": 16,
   "metadata": {},
   "outputs": [
    {
     "data": {
      "text/html": [
       "<div>\n",
       "<style scoped>\n",
       "    .dataframe tbody tr th:only-of-type {\n",
       "        vertical-align: middle;\n",
       "    }\n",
       "\n",
       "    .dataframe tbody tr th {\n",
       "        vertical-align: top;\n",
       "    }\n",
       "\n",
       "    .dataframe thead th {\n",
       "        text-align: right;\n",
       "    }\n",
       "</style>\n",
       "<table border=\"1\" class=\"dataframe\">\n",
       "  <thead>\n",
       "    <tr style=\"text-align: right;\">\n",
       "      <th></th>\n",
       "      <th>0</th>\n",
       "      <th>1</th>\n",
       "      <th>2</th>\n",
       "      <th>3</th>\n",
       "    </tr>\n",
       "  </thead>\n",
       "  <tbody>\n",
       "    <tr>\n",
       "      <th>0</th>\n",
       "      <td>0.000000</td>\n",
       "      <td>0.000000</td>\n",
       "      <td>0.656275</td>\n",
       "      <td>0.000000</td>\n",
       "    </tr>\n",
       "    <tr>\n",
       "      <th>1</th>\n",
       "      <td>-0.000000</td>\n",
       "      <td>-0.000000</td>\n",
       "      <td>-0.000000</td>\n",
       "      <td>-0.327889</td>\n",
       "    </tr>\n",
       "    <tr>\n",
       "      <th>2</th>\n",
       "      <td>-0.000000</td>\n",
       "      <td>-0.000000</td>\n",
       "      <td>-0.480285</td>\n",
       "      <td>-0.000000</td>\n",
       "    </tr>\n",
       "    <tr>\n",
       "      <th>3</th>\n",
       "      <td>0.000000</td>\n",
       "      <td>0.000000</td>\n",
       "      <td>0.000000</td>\n",
       "      <td>1.927427</td>\n",
       "    </tr>\n",
       "    <tr>\n",
       "      <th>4</th>\n",
       "      <td>-0.000000</td>\n",
       "      <td>-0.000000</td>\n",
       "      <td>-0.213236</td>\n",
       "      <td>-0.000000</td>\n",
       "    </tr>\n",
       "    <tr>\n",
       "      <th>...</th>\n",
       "      <td>...</td>\n",
       "      <td>...</td>\n",
       "      <td>...</td>\n",
       "      <td>...</td>\n",
       "    </tr>\n",
       "    <tr>\n",
       "      <th>3983</th>\n",
       "      <td>-1.237166</td>\n",
       "      <td>-0.000000</td>\n",
       "      <td>-0.000000</td>\n",
       "      <td>-0.000000</td>\n",
       "    </tr>\n",
       "    <tr>\n",
       "      <th>3984</th>\n",
       "      <td>-0.000000</td>\n",
       "      <td>-0.377450</td>\n",
       "      <td>-0.000000</td>\n",
       "      <td>-0.000000</td>\n",
       "    </tr>\n",
       "    <tr>\n",
       "      <th>3985</th>\n",
       "      <td>-0.000000</td>\n",
       "      <td>-0.694194</td>\n",
       "      <td>-0.000000</td>\n",
       "      <td>-0.000000</td>\n",
       "    </tr>\n",
       "    <tr>\n",
       "      <th>3986</th>\n",
       "      <td>-0.546536</td>\n",
       "      <td>-0.000000</td>\n",
       "      <td>-0.000000</td>\n",
       "      <td>-0.000000</td>\n",
       "    </tr>\n",
       "    <tr>\n",
       "      <th>3987</th>\n",
       "      <td>0.752388</td>\n",
       "      <td>0.000000</td>\n",
       "      <td>0.000000</td>\n",
       "      <td>0.000000</td>\n",
       "    </tr>\n",
       "  </tbody>\n",
       "</table>\n",
       "<p>3988 rows × 4 columns</p>\n",
       "</div>"
      ],
      "text/plain": [
       "             0         1         2         3\n",
       "0     0.000000  0.000000  0.656275  0.000000\n",
       "1    -0.000000 -0.000000 -0.000000 -0.327889\n",
       "2    -0.000000 -0.000000 -0.480285 -0.000000\n",
       "3     0.000000  0.000000  0.000000  1.927427\n",
       "4    -0.000000 -0.000000 -0.213236 -0.000000\n",
       "...        ...       ...       ...       ...\n",
       "3983 -1.237166 -0.000000 -0.000000 -0.000000\n",
       "3984 -0.000000 -0.377450 -0.000000 -0.000000\n",
       "3985 -0.000000 -0.694194 -0.000000 -0.000000\n",
       "3986 -0.546536 -0.000000 -0.000000 -0.000000\n",
       "3987  0.752388  0.000000  0.000000  0.000000\n",
       "\n",
       "[3988 rows x 4 columns]"
      ]
     },
     "execution_count": 16,
     "metadata": {},
     "output_type": "execute_result"
    }
   ],
   "source": [
    "pd.DataFrame(dmatrix(\"0 + theta:C(conf, Treatment('LC')):C(dbs, Treatment('0'))\", data))"
   ]
  },
  {
   "cell_type": "markdown",
   "metadata": {},
   "source": [
    "## Parameter recovery\n",
    "\n",
    "This will be done in a new notebook.\n"
   ]
  },
  {
   "cell_type": "markdown",
   "metadata": {},
   "source": [
    "## Fitting hierarchical models and convert\n",
    "\n",
    "### Model specification\n",
    "\n",
    "We will only use 2000 samples and burn in 500. Also, we will use 4 chains for each model."
   ]
  },
  {
   "cell_type": "markdown",
   "metadata": {},
   "source": [
    "## Model estimation with data\n",
    "We used parallel processing by `p_tqdm`."
   ]
  },
  {
   "cell_type": "code",
   "execution_count": 17,
   "metadata": {},
   "outputs": [
    {
     "name": "stdout",
     "output_type": "stream",
     "text": [
      "CPU times: user 3 µs, sys: 2 µs, total: 5 µs\n",
      "Wall time: 7.63 µs\n"
     ]
    }
   ],
   "source": [
    "%%time\n",
    "\n",
    "# define a function to run model in parallel\n",
    "\n",
    "# M0_0: base model: simplified\n",
    "def run_m0(id, df=None, samples=None, burn=None, save_name=\"ms0\"): \n",
    "#     print('running model %i'%id);\n",
    "    import hddm\n",
    "    \n",
    "    dbname = save_name + '_chain_%i.db'%id \n",
    "    mname  = save_name + '_chain_%i'%id    \n",
    "    m = hddm.HDDM(df)\n",
    "    m.find_starting_values()\n",
    "    m.sample(samples, burn=burn, dbname=dbname, db='pickle') # it's neccessary to save the model data\n",
    "    m.save(mname)\n",
    "    \n",
    "    return m\n",
    "\n",
    "# M1: base model: full model\n",
    "def run_m1(id, df=None, samples=None, burn=None, save_name=\"ms1\"): \n",
    "#     print('running model %i'%id);\n",
    "    import hddm\n",
    "    \n",
    "    dbname = save_name + '_chain_%i.db'%id \n",
    "    mname  = save_name + '_chain_%i'%id    \n",
    "    m = hddm.HDDM(df, include=['z', 'sv', 'sz', 'st'])\n",
    "    m.find_starting_values()\n",
    "    m.sample(samples, burn=burn, dbname=dbname, db='pickle') # it's neccessary to save the model data\n",
    "    m.save(mname)\n",
    "    \n",
    "    return m\n",
    "\n",
    "\n",
    "# M2: treat within-subj as between-subj: full model\n",
    "def run_m2(id, df=None, samples=None, burn=None, save_name=\"ms2\"): \n",
    "#     print('running model %i'%id);\n",
    "    import hddm\n",
    "    \n",
    "    dbname = save_name + '_chain_%i.db'%id \n",
    "    mname  = save_name + '_chain_%i'%id    \n",
    "    m = hddm.HDDM(df, include=['z', 'sv', 'st', 'sz'], \n",
    "                  depends_on={'v': 'conf'})\n",
    "    m.find_starting_values()\n",
    "    m.sample(samples, burn=burn, dbname=dbname, db='pickle') # it's neccessary to save the model data\n",
    "    m.save(mname)\n",
    "    \n",
    "    return m\n",
    "\n",
    "\n",
    "# M3: regression model (varying intercept)\n",
    "def run_m3(id, df=None, samples=None, burn=None, save_name=\"ms3\"): \n",
    "#     print('running model %i'%id);\n",
    "    import hddm\n",
    "    \n",
    "    dbname = save_name + '_chain_%i.db'%id \n",
    "    mname  = save_name + '_chain_%i'%id   \n",
    "    m = hddm.HDDMRegressor(data,  \n",
    "                           \"v ~ C(conf, Treatment('LC'))\", \n",
    "                           group_only_regressors=True,\n",
    "                           keep_regressor_trace=True,\n",
    "                           include=['z', 'sv', 'st', 'sz'])\n",
    "    m.find_starting_values()\n",
    "    m.sample(samples, burn=burn, dbname=dbname, db='pickle') # it's neccessary to save the model data\n",
    "    m.save(mname)\n",
    "    \n",
    "    return m\n",
    "\n",
    "# M4: regression model (varying intercept and slope)\n",
    "def run_m4(id, df=None, samples=None, burn=None, save_name=\"ms4\"): \n",
    "#     print('running model %i'%id);\n",
    "    import hddm\n",
    "    \n",
    "    dbname = save_name + '_chain_%i.db'%id \n",
    "    mname  = save_name + '_chain_%i'%id   \n",
    "    m = hddm.HDDMRegressor(data,\n",
    "                           \"v ~ C(conf, Treatment('LC'))\", \n",
    "                           group_only_regressors=False,\n",
    "                           keep_regressor_trace=True,\n",
    "                           include=['z', 'sv', 'st', 'sz'])\n",
    "    m.find_starting_values()\n",
    "    m.sample(samples, burn=burn, dbname=dbname, db='pickle') # it's neccessary to save the model data\n",
    "    m.save(mname)\n",
    "    \n",
    "    return m\n",
    "\n",
    "# M5: regression model + theta as an additional predictor of `a`\n",
    "def run_m5(id, df=None, samples=None, burn=None, save_name=\"ms5\"): \n",
    "#     print('running model %i'%id);\n",
    "    import hddm\n",
    "    \n",
    "    dbname = save_name + '_chain_%i.db'%id \n",
    "    mname  = save_name + '_chain_%i'%id\n",
    "    m = hddm.HDDMRegressor(data,\n",
    "                           \"a ~ theta:C(conf, Treatment('LC'))\",\n",
    "                           depends_on={'v': 'conf'},\n",
    "                           group_only_regressors=False,\n",
    "                           keep_regressor_trace=True,\n",
    "                           include=['z', 'sv', 'st', 'sz'])\n",
    "    m.find_starting_values()\n",
    "    m.sample(samples, burn=burn, dbname=dbname, db='pickle') # it's neccessary to save the model data\n",
    "    m.save(mname)\n",
    "    \n",
    "    return m\n",
    "\n",
    "# M6: Regression for both parameters\n",
    "def run_m6(id, df=None, samples=None, burn=None, save_name=\"ms6\"): \n",
    "    import hddm\n",
    "    \n",
    "    dbname = save_name + '_chain_%i.db'%id \n",
    "    mname  = save_name + '_chain_%i'%id\n",
    "    a_reg = {'model': \"a ~ theta:C(conf, Treatment('LC'))\", 'link_func': lambda x: x}\n",
    "    v_reg = {'model': \"v ~ C(conf, Treatment('LC'))\", 'link_func': lambda x: x}\n",
    "    reg_descr = [a_reg, v_reg]\n",
    "    \n",
    "    m = hddm.HDDMRegressor(data,\n",
    "                           reg_descr,\n",
    "                           group_only_regressors=False,\n",
    "                           keep_regressor_trace=True,\n",
    "                           include=['z', 'sv', 'st', 'sz'])\n",
    "    m.find_starting_values()\n",
    "    m.sample(samples, burn=burn, dbname=dbname, db='pickle') # it's neccessary to save the model data\n",
    "    m.save(mname)\n",
    "    \n",
    "    return m\n",
    "\n",
    "# M7: Regression for both parameters\n",
    "def run_m7(id, df=None, samples=None, burn=None, save_name=\"ms7\"): \n",
    "    import hddm\n",
    "    \n",
    "    dbname = save_name + '_chain_%i.db'%id \n",
    "    mname  = save_name + '_chain_%i'%id\n",
    "    a_reg = {'model': \"a ~ theta:C(conf, Treatment('LC')):C(dbs, Treatment('0'))\", 'link_func': lambda x: x}\n",
    "    v_reg = {'model': \"v ~ C(conf, Treatment('LC'))\", 'link_func': lambda x: x}\n",
    "    reg_descr = [a_reg, v_reg]\n",
    "    \n",
    "    m = hddm.HDDMRegressor(data,\n",
    "                           reg_descr,\n",
    "                           group_only_regressors=False,\n",
    "                           keep_regressor_trace=True,\n",
    "                           include=['z', 'sv', 'st', 'sz'])\n",
    "    m.find_starting_values()\n",
    "    m.sample(samples, burn=burn, dbname=dbname, db='pickle') # it's neccessary to save the model data\n",
    "    m.save(mname)\n",
    "    \n",
    "    return m"
   ]
  },
  {
   "cell_type": "markdown",
   "metadata": {},
   "source": [
    "Here we define a function to run the model, get posterior, generate posterior predictive, and calculate the point-wise log likelihood. The steps inside can be executed separately too."
   ]
  },
  {
   "cell_type": "code",
   "execution_count": 18,
   "metadata": {},
   "outputs": [],
   "source": [
    "samples = 2000\n",
    "burn = 500\n",
    "chains = 4\n",
    "test_mode = False"
   ]
  },
  {
   "cell_type": "code",
   "execution_count": 19,
   "metadata": {
    "jupyter": {
     "outputs_hidden": true
    },
    "scrolled": true
   },
   "outputs": [
    {
     "name": "stdout",
     "output_type": "stream",
     "text": [
      "['/home/jovyan/hddm/temp/ms0_chain_1', '/home/jovyan/hddm/temp/ms0_chain_2', '/home/jovyan/hddm/temp/ms0_chain_0', '/home/jovyan/hddm/temp/ms0_chain_3']\n",
      "current loading:  /home/jovyan/hddm/temp/ms0_chain_1 \n",
      "\n",
      "current loading:  /home/jovyan/hddm/temp/ms0_chain_2 \n",
      "\n",
      "current loading:  /home/jovyan/hddm/temp/ms0_chain_0 \n",
      "\n",
      "current loading:  /home/jovyan/hddm/temp/ms0_chain_3 \n",
      "\n",
      "['/home/jovyan/hddm/temp/ms1_chain_1', '/home/jovyan/hddm/temp/ms1_chain_3', '/home/jovyan/hddm/temp/ms1_chain_2', '/home/jovyan/hddm/temp/ms1_chain_0']\n",
      "current loading:  /home/jovyan/hddm/temp/ms1_chain_1 \n",
      "\n",
      "current loading:  /home/jovyan/hddm/temp/ms1_chain_3 \n",
      "\n",
      "current loading:  /home/jovyan/hddm/temp/ms1_chain_2 \n",
      "\n",
      "current loading:  /home/jovyan/hddm/temp/ms1_chain_0 \n",
      "\n",
      "['/home/jovyan/hddm/temp/ms2_chain_2', '/home/jovyan/hddm/temp/ms2_chain_3', '/home/jovyan/hddm/temp/ms2_chain_1', '/home/jovyan/hddm/temp/ms2_chain_0']\n",
      "current loading:  /home/jovyan/hddm/temp/ms2_chain_2 \n",
      "\n",
      "current loading:  /home/jovyan/hddm/temp/ms2_chain_3 \n",
      "\n",
      "current loading:  /home/jovyan/hddm/temp/ms2_chain_1 \n",
      "\n",
      "current loading:  /home/jovyan/hddm/temp/ms2_chain_0 \n",
      "\n",
      "['/home/jovyan/hddm/temp/ms3_chain_2', '/home/jovyan/hddm/temp/ms3_chain_1', '/home/jovyan/hddm/temp/ms3_chain_0', '/home/jovyan/hddm/temp/ms3_chain_3']\n",
      "current loading:  /home/jovyan/hddm/temp/ms3_chain_2 \n",
      "\n",
      "WARNING: Custom link functions will not be loaded.\n",
      "current loading:  /home/jovyan/hddm/temp/ms3_chain_1 \n",
      "\n",
      "WARNING: Custom link functions will not be loaded.\n",
      "current loading:  /home/jovyan/hddm/temp/ms3_chain_0 \n",
      "\n",
      "WARNING: Custom link functions will not be loaded.\n",
      "current loading:  /home/jovyan/hddm/temp/ms3_chain_3 \n",
      "\n",
      "WARNING: Custom link functions will not be loaded.\n",
      "['/home/jovyan/hddm/temp/ms4_chain_0', '/home/jovyan/hddm/temp/ms4_chain_3', '/home/jovyan/hddm/temp/ms4_chain_1', '/home/jovyan/hddm/temp/ms4_chain_2']\n",
      "current loading:  /home/jovyan/hddm/temp/ms4_chain_0 \n",
      "\n",
      "WARNING: Custom link functions will not be loaded.\n",
      "current loading:  /home/jovyan/hddm/temp/ms4_chain_3 \n",
      "\n",
      "WARNING: Custom link functions will not be loaded.\n",
      "current loading:  /home/jovyan/hddm/temp/ms4_chain_1 \n",
      "\n",
      "WARNING: Custom link functions will not be loaded.\n",
      "current loading:  /home/jovyan/hddm/temp/ms4_chain_2 \n",
      "\n",
      "WARNING: Custom link functions will not be loaded.\n",
      "['/home/jovyan/hddm/temp/ms5_chain_0', '/home/jovyan/hddm/temp/ms5_chain_3', '/home/jovyan/hddm/temp/ms5_chain_2', '/home/jovyan/hddm/temp/ms5_chain_1']\n",
      "current loading:  /home/jovyan/hddm/temp/ms5_chain_0 \n",
      "\n",
      "WARNING: Custom link functions will not be loaded.\n",
      "current loading:  /home/jovyan/hddm/temp/ms5_chain_3 \n",
      "\n",
      "WARNING: Custom link functions will not be loaded.\n",
      "current loading:  /home/jovyan/hddm/temp/ms5_chain_2 \n",
      "\n",
      "WARNING: Custom link functions will not be loaded.\n",
      "current loading:  /home/jovyan/hddm/temp/ms5_chain_1 \n",
      "\n",
      "WARNING: Custom link functions will not be loaded.\n",
      "['/home/jovyan/hddm/temp/ms6_chain_1', '/home/jovyan/hddm/temp/ms6_chain_3', '/home/jovyan/hddm/temp/ms6_chain_2', '/home/jovyan/hddm/temp/ms6_chain_0']\n",
      "current loading:  /home/jovyan/hddm/temp/ms6_chain_1 \n",
      "\n",
      "WARNING: Custom link functions will not be loaded.\n",
      "current loading:  /home/jovyan/hddm/temp/ms6_chain_3 \n",
      "\n",
      "WARNING: Custom link functions will not be loaded.\n",
      "current loading:  /home/jovyan/hddm/temp/ms6_chain_2 \n",
      "\n",
      "WARNING: Custom link functions will not be loaded.\n",
      "current loading:  /home/jovyan/hddm/temp/ms6_chain_0 \n",
      "\n",
      "WARNING: Custom link functions will not be loaded.\n",
      "['/home/jovyan/hddm/temp/ms7_chain_3', '/home/jovyan/hddm/temp/ms7_chain_2', '/home/jovyan/hddm/temp/ms7_chain_1', '/home/jovyan/hddm/temp/ms7_chain_0']\n",
      "current loading:  /home/jovyan/hddm/temp/ms7_chain_3 \n",
      "\n",
      "WARNING: Custom link functions will not be loaded.\n",
      "current loading:  /home/jovyan/hddm/temp/ms7_chain_2 \n",
      "\n",
      "WARNING: Custom link functions will not be loaded.\n",
      "current loading:  /home/jovyan/hddm/temp/ms7_chain_1 \n",
      "\n",
      "WARNING: Custom link functions will not be loaded.\n",
      "current loading:  /home/jovyan/hddm/temp/ms7_chain_0 \n",
      "\n",
      "WARNING: Custom link functions will not be loaded.\n",
      "CPU times: user 1min 11s, sys: 805 ms, total: 1min 11s\n",
      "Wall time: 1min 12s\n"
     ]
    }
   ],
   "source": [
    "%%time\n",
    "\n",
    "## total time: 5h 19s when test_mode is False\n",
    "\n",
    "## Step 1: run models in parallel\n",
    "file_path = \"/home/jovyan/hddm/temp/\"\n",
    "\n",
    "if test_mode:\n",
    "    model_func = [run_m2, run_m5, run_m7]\n",
    "    \n",
    "    m_keys = [\"ms2\",\n",
    "              \"ms5\",\n",
    "              \"ms7\"]\n",
    "    \n",
    "    models = {\"ms2\": [], \n",
    "              \"ms5\": [], \n",
    "              \"ms7\": []}\n",
    "\n",
    "else: \n",
    "    model_func = [run_m0, run_m1, run_m2, run_m3, \n",
    "                  run_m4, run_m5, run_m6, run_m7]\n",
    "\n",
    "    # models = [[]] * len(model_func) hcp, using list in list is very tricky here, when loading \n",
    "    # models by for loop, it will end up with each list in the list \"models\" has 32 elements. \n",
    "\n",
    "    m_keys = [\"ms0\", \"ms1\", \"ms2\",\n",
    "              \"ms3\", \"ms4\", \"ms5\",\n",
    "              \"ms6\", \"ms7\"]\n",
    "        \n",
    "    models = {\"ms0\": [], \"ms1\": [], \"ms2\": [], \n",
    "              \"ms3\": [], \"ms4\": [], \"ms5\": [], \n",
    "              \"ms6\": [], \"ms7\": []}\n",
    "\n",
    "for ii in range(len(model_func)):\n",
    "    #print(model_func[ii])\n",
    "    #print(model_name[ii])\n",
    "    file_full_path = file_path + \"*\" + m_keys[ii] + \"_chain_*[!db]\" \n",
    "    # print(file_full_path)\n",
    "    file_names = glob.glob(file_full_path, recursive=False)\n",
    "    print(file_names)\n",
    "    \n",
    "    if file_names:\n",
    "        for jj in file_names:\n",
    "            print('current loading: ', jj, '\\n')\n",
    "            models[m_keys[ii]].append(hddm.load(jj))\n",
    "    else:\n",
    "        print('current estimating:', m_keys[ii])\n",
    "        models[m_keys[ii]] = p_map(partial(model_func[ii], df=data, samples=samples, \n",
    "                                         burn=burn),\n",
    "                                 range(chains))"
   ]
  },
  {
   "cell_type": "code",
   "execution_count": 20,
   "metadata": {},
   "outputs": [
    {
     "name": "stdout",
     "output_type": "stream",
     "text": [
      "ms0[0]'s DIC:  10972.56481117915\n",
      "ms1[0]'s DIC:  10838.802483238465\n",
      "ms2[0]'s DIC:  10655.322158367066\n",
      "ms3[0]'s DIC:  10661.443058395987\n",
      "ms4[0]'s DIC:  10656.226770282521\n",
      "ms5[0]'s DIC:  10658.719752245677\n",
      "ms6[0]'s DIC:  10658.691936194937\n",
      "ms7[0]'s DIC:  10662.063874857773\n",
      "CPU times: user 194 ms, sys: 72 µs, total: 195 ms\n",
      "Wall time: 192 ms\n"
     ]
    }
   ],
   "source": [
    "%%time\n",
    "\n",
    "for key, model in models.items():\n",
    "#     print(len(models[key]))\n",
    "    print(key + \"[0]'s DIC: \", model[0].dic)"
   ]
  },
  {
   "cell_type": "markdown",
   "metadata": {},
   "source": [
    "Get the posterior traces (necessary?)"
   ]
  },
  {
   "cell_type": "code",
   "execution_count": 21,
   "metadata": {
    "jupyter": {
     "outputs_hidden": true
    }
   },
   "outputs": [
    {
     "name": "stdout",
     "output_type": "stream",
     "text": [
      "ms0\n",
      "ms1\n",
      "ms2\n",
      "ms3\n",
      "ms4\n",
      "ms5\n",
      "ms6\n",
      "ms7\n",
      "CPU times: user 125 ms, sys: 8.05 ms, total: 133 ms\n",
      "Wall time: 131 ms\n"
     ]
    }
   ],
   "source": [
    "%%time\n",
    "\n",
    "## step 2: Get posterior trace\n",
    "\n",
    "if test_mode:\n",
    "    df_traces = {\"ms2\": [], \n",
    "                 \"ms5\": [],\n",
    "                 \"ms7\": []}\n",
    "else:\n",
    "    df_traces = {\"ms0\": [], \"ms1\": [], \"ms2\": [], \n",
    "                 \"ms3\": [], \"ms4\": [], \"ms5\": [],\n",
    "                 \"ms6\": [], \"ms7\": []}\n",
    "\n",
    "for key, model in models.items():\n",
    "#    ms = models[m_keys[ii]]\n",
    "    print(key)\n",
    "#     print(df_traces[m_keys[ii]])\n",
    "    trace_tmp = []\n",
    "    for jj in range(len(model)):\n",
    "        trace_tmp = model[jj].get_traces()\n",
    "        trace_tmp['chain'] = jj\n",
    "        trace_tmp['draw'] = np.arange(len(trace_tmp), dtype=int)\n",
    "        df_traces[key].append(trace_tmp)\n",
    "    df_traces[key] = pd.concat(df_traces[key])"
   ]
  },
  {
   "cell_type": "code",
   "execution_count": 22,
   "metadata": {},
   "outputs": [],
   "source": [
    "from p_tqdm import p_map\n",
    "from functools import partial\n",
    "\n",
    "# NOTE: I hacked the `post_pred_gen`, \n",
    "# more detals: https://groups.google.com/g/hddm-users/c/Is6AM7eN0fo\n",
    "from post_pred_gen_redifined import _parents_to_random_posterior_sample\n",
    "from post_pred_gen_redifined import _post_pred_generate\n",
    "from post_pred_gen_redifined import post_pred_gen\n",
    "\n",
    "from pointwise_loglik_gen import _pointwise_like_generate\n",
    "from pointwise_loglik_gen import pointwise_like_gen"
   ]
  },
  {
   "cell_type": "markdown",
   "metadata": {},
   "source": [
    "## PPC\n",
    "\n",
    "The original PPC function was revise so that (1) the default number of samples of the PPC is the same as MCMC in model fitting; (2) every draw in the posterior will be used for PPC, instead of randomly select from all posteriors."
   ]
  },
  {
   "cell_type": "code",
   "execution_count": 23,
   "metadata": {
    "scrolled": true
   },
   "outputs": [
    {
     "name": "stdout",
     "output_type": "stream",
     "text": [
      "No PPC values, try to get feather file names\n",
      "Got feather file names, loading the PPC\n",
      "loading \n",
      " /home/jovyan/hddm/temp/df_ms0_ppc_chain_2.ftr\n",
      "loading \n",
      " /home/jovyan/hddm/temp/df_ms0_ppc_chain_3.ftr\n",
      "loading \n",
      " /home/jovyan/hddm/temp/df_ms0_ppc_chain_0.ftr\n",
      "loading \n",
      " /home/jovyan/hddm/temp/df_ms0_ppc_chain_1.ftr\n",
      "No PPC values, try to get feather file names\n",
      "Got feather file names, loading the PPC\n",
      "loading \n",
      " /home/jovyan/hddm/temp/df_ms1_ppc_chain_3.ftr\n",
      "loading \n",
      " /home/jovyan/hddm/temp/df_ms1_ppc_chain_1.ftr\n",
      "loading \n",
      " /home/jovyan/hddm/temp/df_ms1_ppc_chain_2.ftr\n",
      "loading \n",
      " /home/jovyan/hddm/temp/df_ms1_ppc_chain_0.ftr\n",
      "No PPC values, try to get feather file names\n",
      "Got feather file names, loading the PPC\n",
      "loading \n",
      " /home/jovyan/hddm/temp/df_ms2_ppc_chain_0.ftr\n",
      "loading \n",
      " /home/jovyan/hddm/temp/df_ms2_ppc_chain_1.ftr\n",
      "loading \n",
      " /home/jovyan/hddm/temp/df_ms2_ppc_chain_3.ftr\n",
      "loading \n",
      " /home/jovyan/hddm/temp/df_ms2_ppc_chain_2.ftr\n",
      "No PPC values, try to get feather file names\n",
      "Got feather file names, loading the PPC\n",
      "loading \n",
      " /home/jovyan/hddm/temp/df_ms3_ppc_chain_0.ftr\n",
      "loading \n",
      " /home/jovyan/hddm/temp/df_ms3_ppc_chain_3.ftr\n",
      "loading \n",
      " /home/jovyan/hddm/temp/df_ms3_ppc_chain_1.ftr\n",
      "loading \n",
      " /home/jovyan/hddm/temp/df_ms3_ppc_chain_2.ftr\n",
      "No PPC values, try to get feather file names\n",
      "Got feather file names, loading the PPC\n",
      "loading \n",
      " /home/jovyan/hddm/temp/df_ms4_ppc_chain_3.ftr\n",
      "loading \n",
      " /home/jovyan/hddm/temp/df_ms4_ppc_chain_0.ftr\n",
      "loading \n",
      " /home/jovyan/hddm/temp/df_ms4_ppc_chain_2.ftr\n",
      "loading \n",
      " /home/jovyan/hddm/temp/df_ms4_ppc_chain_1.ftr\n",
      "No PPC values, try to get feather file names\n",
      "Got feather file names, loading the PPC\n",
      "loading \n",
      " /home/jovyan/hddm/temp/df_ms5_ppc_chain_3.ftr\n",
      "loading \n",
      " /home/jovyan/hddm/temp/df_ms5_ppc_chain_2.ftr\n",
      "loading \n",
      " /home/jovyan/hddm/temp/df_ms5_ppc_chain_0.ftr\n",
      "loading \n",
      " /home/jovyan/hddm/temp/df_ms5_ppc_chain_1.ftr\n",
      "No PPC values, try to get feather file names\n",
      "Got feather file names, loading the PPC\n",
      "loading \n",
      " /home/jovyan/hddm/temp/df_ms6_ppc_chain_1.ftr\n",
      "loading \n",
      " /home/jovyan/hddm/temp/df_ms6_ppc_chain_2.ftr\n",
      "loading \n",
      " /home/jovyan/hddm/temp/df_ms6_ppc_chain_3.ftr\n",
      "loading \n",
      " /home/jovyan/hddm/temp/df_ms6_ppc_chain_0.ftr\n",
      "No PPC values, try to get feather file names\n",
      "Got feather file names, loading the PPC\n",
      "loading \n",
      " /home/jovyan/hddm/temp/df_ms7_ppc_chain_0.ftr\n",
      "loading \n",
      " /home/jovyan/hddm/temp/df_ms7_ppc_chain_1.ftr\n",
      "loading \n",
      " /home/jovyan/hddm/temp/df_ms7_ppc_chain_2.ftr\n",
      "loading \n",
      " /home/jovyan/hddm/temp/df_ms7_ppc_chain_3.ftr\n",
      "CPU times: user 17.6 s, sys: 7.12 s, total: 24.7 s\n",
      "Wall time: 19.8 s\n"
     ]
    }
   ],
   "source": [
    "%%time\n",
    "\n",
    "## total time: 1d 6h 12min 5s when test_mode is False\n",
    "\n",
    "if test_mode:\n",
    "    df_ppc   = {\"ms2\": [], \n",
    "                 \"ms5\": [],\n",
    "                 \"ms7\": []}\n",
    "#     m_keys = [\"df_ppc_2\", \n",
    "#                 \"df_ppc_5\", \n",
    "#                 \"df_ppc_7\"]    \n",
    "else:  \n",
    "    df_ppc = {\"ms0\": [], \"ms1\": [], \"ms2\": [], \n",
    "              \"ms3\": [], \"ms4\": [], \"ms5\": [], \n",
    "              \"ms6\": [], \"ms7\": []}\n",
    "#     m_keys = [\"df_ppc_0\", \"df_ppc_1\", \"df_ppc_2\", \n",
    "#                 \"df_ppc_3\", \"df_ppc_4\", \"df_ppc_5\", \n",
    "#                 \"df_ppc_6\", \"df_ppc_7\"]\n",
    "\n",
    "for ii in range(len(m_keys)):\n",
    "    key = m_keys[ii]\n",
    "    value = df_ppc[m_keys[ii]]\n",
    "    \n",
    "    if not bool(value):\n",
    "        print(\"No PPC values, try to get feather file names\")\n",
    "        # read ftr filenames\n",
    "        ftr_path = file_path + \"df_\" + key + \"_ppc_chain_*ftr\" \n",
    "        ftr_names = glob.glob(ftr_path, recursive=False)\n",
    "#         print(ftr_names)\n",
    "        \n",
    "        # if there are ftr files\n",
    "        if ftr_names:\n",
    "            print(\"Got feather file names, loading the PPC\")\n",
    "            for ftrname in ftr_names:\n",
    "#             for f_id in range(len(ftr_names)):\n",
    "                print(\"loading \\n\", ftrname)\n",
    "                df_tmp = pd.read_feather(ftrname, columns=None, use_threads=True)\n",
    "                df_tmp = df_tmp.set_index([\"node\", \"draw\", 'trial_idx'])\n",
    "                df_ppc[key].append(df_tmp)     \n",
    "        else:\n",
    "            print(\"No feather files either, run PPC now ...\")\n",
    "#             for ii in range(len(m_keys)):\n",
    "            ms = models[m_keys[ii]]\n",
    "            print(\"Generating PPC \", key, \"for\", m_keys[ii])\n",
    "            start_time = time.time()  # the start time of the processing\n",
    "        #     df_ppc[m_keys[ii]] = p_map(partial(post_pred_gen, samples = 500), ms)\n",
    "            df_ppc[key] = p_map(partial(post_pred_gen), ms)\n",
    "\n",
    "            print(\"Running PPC costs %f seconds\" % (time.time() - start_time))\n",
    "            \n",
    "            print(\"Save PPC to feather files\")\n",
    "            for chain in range(len(df_ppc[key])):\n",
    "                ftrname = file_path + \"df_\" + key + \"_ppc_chain_\" + str(chain) + \".ftr\"\n",
    "                print(ftrname)\n",
    "                df_ppc[key][chain].reset_index().to_feather(ftrname)\n",
    "    else:\n",
    "        continue"
   ]
  },
  {
   "cell_type": "markdown",
   "metadata": {},
   "source": [
    "## Point-wise log-likelihood (PLL)\n",
    "\n",
    "Calculate the pll based on `node`"
   ]
  },
  {
   "cell_type": "code",
   "execution_count": 24,
   "metadata": {
    "scrolled": true
   },
   "outputs": [
    {
     "name": "stdout",
     "output_type": "stream",
     "text": [
      "\n",
      "No loglik values, try to get feather file names\n",
      "Got feather file names, loading the loglik files\n",
      "loading \n",
      " /home/jovyan/hddm/temp/df_ms0_pll_chain_3.ftr\n",
      "loading \n",
      " /home/jovyan/hddm/temp/df_ms0_pll_chain_2.ftr\n",
      "loading \n",
      " /home/jovyan/hddm/temp/df_ms0_pll_chain_1.ftr\n",
      "loading \n",
      " /home/jovyan/hddm/temp/df_ms0_pll_chain_0.ftr\n",
      "\n",
      "No loglik values, try to get feather file names\n",
      "Got feather file names, loading the loglik files\n",
      "loading \n",
      " /home/jovyan/hddm/temp/df_ms1_pll_chain_3.ftr\n",
      "loading \n",
      " /home/jovyan/hddm/temp/df_ms1_pll_chain_2.ftr\n",
      "loading \n",
      " /home/jovyan/hddm/temp/df_ms1_pll_chain_1.ftr\n",
      "loading \n",
      " /home/jovyan/hddm/temp/df_ms1_pll_chain_0.ftr\n",
      "\n",
      "No loglik values, try to get feather file names\n",
      "Got feather file names, loading the loglik files\n",
      "loading \n",
      " /home/jovyan/hddm/temp/df_ms2_pll_chain_2.ftr\n",
      "loading \n",
      " /home/jovyan/hddm/temp/df_ms2_pll_chain_0.ftr\n",
      "loading \n",
      " /home/jovyan/hddm/temp/df_ms2_pll_chain_3.ftr\n",
      "loading \n",
      " /home/jovyan/hddm/temp/df_ms2_pll_chain_1.ftr\n",
      "\n",
      "No loglik values, try to get feather file names\n",
      "No feather files either, run loglik now ...\n",
      "Generating loglik  ms3 for ms3\n"
     ]
    },
    {
     "data": {
      "application/vnd.jupyter.widget-view+json": {
       "model_id": "c48553856e604c7aafc7ffc545d27a6a",
       "version_major": 2,
       "version_minor": 0
      },
      "text/plain": [
       "HBox(children=(FloatProgress(value=0.0, max=4.0), HTML(value='')))"
      ]
     },
     "metadata": {},
     "output_type": "display_data"
    },
    {
     "name": "stdout",
     "output_type": "stream",
     "text": [
      "WARNING: Custom link functions will not be loaded.\n",
      "WARNING: Custom link functions will not be loaded.\n",
      "WARNING: Custom link functions will not be loaded.\n",
      "WARNING: Custom link functions will not be loaded.\n",
      "WARNING: Will not save custom link functions.\n",
      "WARNING: Will not save custom link functions.\n",
      "WARNING: Will not save custom link functions.\n",
      "WARNING: Will not save custom link functions.\n",
      " [----------       28%                  ] 4 of 14 complete in 128.5 sec[----------       28%                  ] 4 of 14 complete in 129.4 sec[----------       28%                  ] 4 of 14 complete in 130.7 sec[----------       28%                  ] 4 of 14 complete in 132.9 sec[-------------    35%                  ] 5 of 14 complete in 261.1 sec[-------------    35%                  ] 5 of 14 complete in 264.2 sec[-------------    35%                  ] 5 of 14 complete in 266.0 sec[-------------    35%                  ] 5 of 14 complete in 266.4 sec[---------------- 42%                  ] 6 of 14 complete in 389.9 sec[---------------- 42%                  ] 6 of 14 complete in 394.6 sec[---------------- 42%                  ] 6 of 14 complete in 395.0 sec[---------------- 42%                  ] 6 of 14 complete in 399.2 sec[-----------------50%                  ] 7 of 14 complete in 502.9 sec[-----------------50%                  ] 7 of 14 complete in 507.0 sec[-----------------50%                  ] 7 of 14 complete in 508.2 sec[-----------------50%                  ] 7 of 14 complete in 510.9 sec[-----------------57%-                 ] 8 of 14 complete in 630.3 sec[-----------------57%-                 ] 8 of 14 complete in 633.2 sec[-----------------57%-                 ] 8 of 14 complete in 635.9 sec[-----------------57%-                 ] 8 of 14 complete in 640.3 sec[-----------------64%----              ] 9 of 14 complete in 765.8 sec[-----------------64%----              ] 9 of 14 complete in 770.0 sec[-----------------64%----              ] 9 of 14 complete in 770.7 sec[-----------------64%----              ] 9 of 14 complete in 777.1 sec[-----------------71%-------           ] 10 of 14 complete in 896.1 sec[-----------------71%-------           ] 10 of 14 complete in 901.2 sec[-----------------71%-------           ] 10 of 14 complete in 904.0 sec[-----------------71%-------           ] 10 of 14 complete in 913.1 sec[-----------------78%---------         ] 11 of 14 complete in 1026.4 sec[-----------------78%---------         ] 11 of 14 complete in 1030.0 sec[-----------------78%---------         ] 11 of 14 complete in 1038.3 sec[-----------------78%---------         ] 11 of 14 complete in 1044.6 sec[-----------------85%------------      ] 12 of 14 complete in 1154.5 sec[-----------------85%------------      ] 12 of 14 complete in 1159.3 sec[-----------------85%------------      ] 12 of 14 complete in 1171.0 sec[-----------------85%------------      ] 12 of 14 complete in 1172.0 sec[-----------------92%---------------   ] 13 of 14 complete in 1251.1 sec[-----------------92%---------------   ] 13 of 14 complete in 1255.2 sec[-----------------92%---------------   ] 13 of 14 complete in 1266.7 sec[-----------------92%---------------   ] 13 of 14 complete in 1269.3 sec[-----------------100%-----------------] 14 of 14 complete in 1385.2 sec[-----------------100%-----------------] 14 of 14 complete in 1391.5 sec[-----------------100%-----------------] 14 of 14 complete in 1402.0 sec[-----------------100%-----------------] 14 of 14 complete in 1409.7 sec[------------------107%------------------] 15 of 14 complete in 1517.6 sec[------------------107%------------------] 15 of 14 complete in 1526.3 sec[------------------107%------------------] 15 of 14 complete in 1534.5 sec[------------------107%------------------] 15 of 14 complete in 1548.1 sec[-------------------114%--------------------] 16 of 14 complete in 1634.1 sec[-------------------114%--------------------] 16 of 14 complete in 1648.4 sec[-------------------114%--------------------] 16 of 14 complete in 1651.0 sec[-------------------114%--------------------] 16 of 14 complete in 1664.6 sec[---------------------121%---------------------] 17 of 14 complete in 1755.9 sec[---------------------121%---------------------] 17 of 14 complete in 1768.9 sec[---------------------121%---------------------] 17 of 14 complete in 1774.7 sec[---------------------121%---------------------] 17 of 14 complete in 1783.8 sec\n",
      "Generating loglik costs 1787.386700 seconds\n",
      "Save loglik to feather files\n",
      "/home/jovyan/hddm/temp/df_ms3_pll_chain_0.ftr\n",
      "/home/jovyan/hddm/temp/df_ms3_pll_chain_1.ftr\n",
      "/home/jovyan/hddm/temp/df_ms3_pll_chain_2.ftr\n",
      "/home/jovyan/hddm/temp/df_ms3_pll_chain_3.ftr\n",
      "\n",
      "No loglik values, try to get feather file names\n",
      "No feather files either, run loglik now ...\n",
      "Generating loglik  ms4 for ms4\n",
      "WARNING: Will not save custom link functions.\n"
     ]
    },
    {
     "data": {
      "application/vnd.jupyter.widget-view+json": {
       "model_id": "e7f584b8e592442e9120b87ba6fc8a9c",
       "version_major": 2,
       "version_minor": 0
      },
      "text/plain": [
       "HBox(children=(FloatProgress(value=0.0, max=4.0), HTML(value='')))"
      ]
     },
     "metadata": {},
     "output_type": "display_data"
    },
    {
     "name": "stdout",
     "output_type": "stream",
     "text": [
      "WARNING: Custom link functions will not be loaded.\n",
      "WARNING: Custom link functions will not be loaded.\n",
      "WARNING: Custom link functions will not be loaded.\n",
      "WARNING: Custom link functions will not be loaded.\n",
      "WARNING: Will not save custom link functions.\n",
      "WARNING: Will not save custom link functions.\n",
      "WARNING: Will not save custom link functions.\n",
      " [----------       28%                  ] 4 of 14 complete in 129.1 sec[----------       28%                  ] 4 of 14 complete in 129.2 sec[----------       28%                  ] 4 of 14 complete in 129.1 sec[----------       28%                  ] 4 of 14 complete in 129.3 sec[-------------    35%                  ] 5 of 14 complete in 259.4 sec[-------------    35%                  ] 5 of 14 complete in 259.7 sec[-------------    35%                  ] 5 of 14 complete in 259.9 sec[-------------    35%                  ] 5 of 14 complete in 265.0 sec[---------------- 42%                  ] 6 of 14 complete in 387.6 sec[---------------- 42%                  ] 6 of 14 complete in 388.4 sec[---------------- 42%                  ] 6 of 14 complete in 388.8 sec[---------------- 42%                  ] 6 of 14 complete in 398.4 sec[-----------------50%                  ] 7 of 14 complete in 498.4 sec[-----------------50%                  ] 7 of 14 complete in 499.5 sec[-----------------50%                  ] 7 of 14 complete in 500.1 sec[-----------------50%                  ] 7 of 14 complete in 514.1 sec[-----------------57%-                 ] 8 of 14 complete in 622.2 sec[-----------------57%-                 ] 8 of 14 complete in 624.7 sec[-----------------57%-                 ] 8 of 14 complete in 625.8 sec[-----------------57%-                 ] 8 of 14 complete in 643.2 sec[-----------------64%----              ] 9 of 14 complete in 757.6 sec[-----------------64%----              ] 9 of 14 complete in 759.5 sec[-----------------64%----              ] 9 of 14 complete in 760.4 sec[-----------------64%----              ] 9 of 14 complete in 775.4 sec[-----------------71%-------           ] 10 of 14 complete in 890.1 sec[-----------------71%-------           ] 10 of 14 complete in 891.3 sec[-----------------71%-------           ] 10 of 14 complete in 894.5 sec[-----------------71%-------           ] 10 of 14 complete in 906.4 sec[-----------------78%---------         ] 11 of 14 complete in 1019.9 sec[-----------------78%---------         ] 11 of 14 complete in 1020.2 sec[-----------------78%---------         ] 11 of 14 complete in 1026.0 sec[-----------------78%---------         ] 11 of 14 complete in 1035.3 sec[-----------------85%------------      ] 12 of 14 complete in 1147.6 sec[-----------------85%------------      ] 12 of 14 complete in 1148.6 sec[-----------------85%------------      ] 12 of 14 complete in 1156.9 sec[-----------------85%------------      ] 12 of 14 complete in 1162.6 sec[-----------------92%---------------   ] 13 of 14 complete in 1242.3 sec[-----------------92%---------------   ] 13 of 14 complete in 1247.6 sec[-----------------92%---------------   ] 13 of 14 complete in 1252.0 sec[-----------------92%---------------   ] 13 of 14 complete in 1257.5 sec[-----------------100%-----------------] 14 of 14 complete in 1377.4 sec[-----------------100%-----------------] 14 of 14 complete in 1386.9 sec[-----------------100%-----------------] 14 of 14 complete in 1387.8 sec[-----------------100%-----------------] 14 of 14 complete in 1392.8 sec[------------------107%------------------] 15 of 14 complete in 1516.0 sec[------------------107%------------------] 15 of 14 complete in 1520.2 sec[------------------107%------------------] 15 of 14 complete in 1520.9 sec[------------------107%------------------] 15 of 14 complete in 1526.8 sec[-------------------114%--------------------] 16 of 14 complete in 1636.5 sec[-------------------114%--------------------] 16 of 14 complete in 1637.1 sec[-------------------114%--------------------] 16 of 14 complete in 1637.5 sec[-------------------114%--------------------] 16 of 14 complete in 1647.1 sec[---------------------121%---------------------] 17 of 14 complete in 1756.4 sec[---------------------121%---------------------] 17 of 14 complete in 1760.0 sec[---------------------121%---------------------] 17 of 14 complete in 1762.2 sec[---------------------121%---------------------] 17 of 14 complete in 1766.9 sec\n",
      "Generating loglik costs 1770.609713 seconds\n",
      "Save loglik to feather files\n",
      "/home/jovyan/hddm/temp/df_ms4_pll_chain_0.ftr\n",
      "/home/jovyan/hddm/temp/df_ms4_pll_chain_1.ftr\n",
      "/home/jovyan/hddm/temp/df_ms4_pll_chain_2.ftr\n",
      "/home/jovyan/hddm/temp/df_ms4_pll_chain_3.ftr\n",
      "\n",
      "No loglik values, try to get feather file names\n",
      "No feather files either, run loglik now ...\n",
      "Generating loglik  ms5 for ms5\n"
     ]
    },
    {
     "data": {
      "application/vnd.jupyter.widget-view+json": {
       "model_id": "6114e01cae3f4dd0ac248a69e32cb297",
       "version_major": 2,
       "version_minor": 0
      },
      "text/plain": [
       "HBox(children=(FloatProgress(value=0.0, max=4.0), HTML(value='')))"
      ]
     },
     "metadata": {},
     "output_type": "display_data"
    },
    {
     "name": "stdout",
     "output_type": "stream",
     "text": [
      "WARNING: Custom link functions will not be loaded.\n",
      "WARNING: Custom link functions will not be loaded.\n",
      "WARNING: Custom link functions will not be loaded.\n",
      "WARNING: Custom link functions will not be loaded.\n",
      "WARNING: Will not save custom link functions.\n",
      "WARNING: Will not save custom link functions.\n",
      "WARNING: Will not save custom link functions.\n",
      "WARNING: Will not save custom link functions.\n",
      " [-----            14%                  ] 4 of 28 complete in 64.4 sec[-----            14%                  ] 4 of 28 complete in 64.4 sec[-----            14%                  ] 4 of 28 complete in 64.6 sec[-----            14%                  ] 4 of 28 complete in 66.2 sec[------           17%                  ] 5 of 28 complete in 129.0 sec[------           17%                  ] 5 of 28 complete in 129.3 sec[------           17%                  ] 5 of 28 complete in 131.8 sec[------           17%                  ] 5 of 28 complete in 132.0 sec[--------         21%                  ] 6 of 28 complete in 194.0 sec[--------         21%                  ] 6 of 28 complete in 194.5 sec[--------         21%                  ] 6 of 28 complete in 197.8 sec[--------         21%                  ] 6 of 28 complete in 200.3 sec[---------        25%                  ] 7 of 28 complete in 251.2 sec[---------        25%                  ] 7 of 28 complete in 253.4 sec[---------        25%                  ] 7 of 28 complete in 255.4 sec[---------        25%                  ] 7 of 28 complete in 259.4 sec[----------       28%                  ] 8 of 28 complete in 317.4 sec[----------       28%                  ] 8 of 28 complete in 317.4 sec[----------       28%                  ] 8 of 28 complete in 319.6 sec[----------       28%                  ] 8 of 28 complete in 322.8 sec[------------     32%                  ] 9 of 28 complete in 385.1 sec[------------     32%                  ] 9 of 28 complete in 387.5 sec[------------     32%                  ] 9 of 28 complete in 388.1 sec[------------     32%                  ] 9 of 28 complete in 389.9 sec[-------------    35%                  ] 10 of 28 complete in 451.2 sec[-------------    35%                  ] 10 of 28 complete in 455.0 sec[-------------    35%                  ] 10 of 28 complete in 456.0 sec[-------------    35%                  ] 10 of 28 complete in 458.0 sec[--------------   39%                  ] 11 of 28 complete in 521.1 sec[--------------   39%                  ] 11 of 28 complete in 525.3 sec[--------------   39%                  ] 11 of 28 complete in 525.8 sec[--------------   39%                  ] 11 of 28 complete in 527.3 sec[---------------- 42%                  ] 12 of 28 complete in 589.6 sec[---------------- 42%                  ] 12 of 28 complete in 591.0 sec[---------------- 42%                  ] 12 of 28 complete in 592.6 sec[---------------- 42%                  ] 12 of 28 complete in 592.7 sec[-----------------46%                  ] 13 of 28 complete in 640.2 sec[-----------------46%                  ] 13 of 28 complete in 640.7 sec[-----------------46%                  ] 13 of 28 complete in 641.7 sec[-----------------46%                  ] 13 of 28 complete in 642.6 sec[-----------------50%                  ] 14 of 28 complete in 709.7 sec[-----------------50%                  ] 14 of 28 complete in 711.9 sec[-----------------50%                  ] 14 of 28 complete in 712.2 sec[-----------------50%                  ] 14 of 28 complete in 713.4 sec[-----------------53%                  ] 15 of 28 complete in 779.4 sec[-----------------53%                  ] 15 of 28 complete in 782.2 sec[-----------------53%                  ] 15 of 28 complete in 782.5 sec[-----------------53%                  ] 15 of 28 complete in 784.0 sec[-----------------57%-                 ] 16 of 28 complete in 838.9 sec[-----------------57%-                 ] 16 of 28 complete in 841.0 sec[-----------------57%-                 ] 16 of 28 complete in 842.7 sec[-----------------57%-                 ] 16 of 28 complete in 845.1 sec[-----------------60%---               ] 17 of 28 complete in 903.1 sec[-----------------60%---               ] 17 of 28 complete in 904.5 sec[-----------------60%---               ] 17 of 28 complete in 907.6 sec[-----------------60%---               ] 17 of 28 complete in 910.8 sec[-----------------64%----              ] 18 of 28 complete in 972.4 sec[-----------------64%----              ] 18 of 28 complete in 973.1 sec[-----------------64%----              ] 18 of 28 complete in 976.5 sec[-----------------64%----              ] 18 of 28 complete in 982.2 sec[-----------------67%-----             ] 19 of 28 complete in 1042.6 sec[-----------------67%-----             ] 19 of 28 complete in 1043.7 sec[-----------------67%-----             ] 19 of 28 complete in 1046.0 sec[-----------------67%-----             ] 19 of 28 complete in 1054.6 sec[-----------------71%-------           ] 20 of 28 complete in 1109.6 sec[-----------------71%-------           ] 20 of 28 complete in 1113.8 sec[-----------------71%-------           ] 20 of 28 complete in 1114.1 sec[-----------------71%-------           ] 20 of 28 complete in 1122.8 sec[-----------------75%--------          ] 21 of 28 complete in 1168.5 sec[-----------------75%--------          ] 21 of 28 complete in 1172.6 sec[-----------------75%--------          ] 21 of 28 complete in 1173.4 sec[-----------------75%--------          ] 21 of 28 complete in 1183.8 sec[-----------------78%---------         ] 22 of 28 complete in 1236.3 sec[-----------------78%---------         ] 22 of 28 complete in 1238.6 sec[-----------------78%---------         ] 22 of 28 complete in 1239.5 sec[-----------------78%---------         ] 22 of 28 complete in 1249.9 sec[-----------------82%-----------       ] 23 of 28 complete in 1309.2 sec[-----------------82%-----------       ] 23 of 28 complete in 1310.2 sec[-----------------82%-----------       ] 23 of 28 complete in 1310.8 sec[-----------------82%-----------       ] 23 of 28 complete in 1320.5 sec[-----------------85%------------      ] 24 of 28 complete in 1379.1 sec[-----------------85%------------      ] 24 of 28 complete in 1380.5 sec[-----------------85%------------      ] 24 of 28 complete in 1384.2 sec[-----------------85%------------      ] 24 of 28 complete in 1390.7 sec[-----------------89%-------------     ] 25 of 28 complete in 1446.8 sec[-----------------89%-------------     ] 25 of 28 complete in 1447.5 sec[-----------------89%-------------     ] 25 of 28 complete in 1449.3 sec[-----------------89%-------------     ] 25 of 28 complete in 1455.7 sec[-----------------92%---------------   ] 26 of 28 complete in 1517.2 sec[-----------------92%---------------   ] 26 of 28 complete in 1517.2 sec[-----------------92%---------------   ] 26 of 28 complete in 1517.2 sec[-----------------92%---------------   ] 26 of 28 complete in 1523.4 sec[-----------------96%----------------  ] 27 of 28 complete in 1567.9 sec[-----------------96%----------------  ] 27 of 28 complete in 1568.6 sec[-----------------96%----------------  ] 27 of 28 complete in 1570.0 sec[-----------------96%----------------  ] 27 of 28 complete in 1574.0 sec[-----------------100%-----------------] 28 of 28 complete in 1640.9 sec[-----------------100%-----------------] 28 of 28 complete in 1641.7 sec[-----------------100%-----------------] 28 of 28 complete in 1644.1 sec[-----------------100%-----------------] 28 of 28 complete in 1644.9 sec[-----------------103%------------------] 29 of 28 complete in 1712.1 sec[-----------------103%------------------] 29 of 28 complete in 1713.6 sec[-----------------103%------------------] 29 of 28 complete in 1714.1 sec[-----------------103%------------------] 29 of 28 complete in 1716.2 sec[------------------107%------------------] 30 of 28 complete in 1775.2 sec[------------------107%------------------] 30 of 28 complete in 1776.9 sec[------------------107%------------------] 30 of 28 complete in 1778.8 sec[------------------107%------------------] 30 of 28 complete in 1781.8 sec[-------------------110%-------------------] 31 of 28 complete in 1836.6 sec[-------------------110%-------------------] 31 of 28 complete in 1839.5 sec[-------------------110%-------------------] 31 of 28 complete in 1842.1 sec[-------------------110%-------------------] 31 of 28 complete in 1845.3 sec\n",
      "Generating loglik costs 1849.539139 seconds\n",
      "Save loglik to feather files\n",
      "/home/jovyan/hddm/temp/df_ms5_pll_chain_0.ftr\n",
      "/home/jovyan/hddm/temp/df_ms5_pll_chain_1.ftr\n",
      "/home/jovyan/hddm/temp/df_ms5_pll_chain_2.ftr\n"
     ]
    },
    {
     "name": "stdout",
     "output_type": "stream",
     "text": [
      "/home/jovyan/hddm/temp/df_ms5_pll_chain_3.ftr\n",
      "\n",
      "No loglik values, try to get feather file names\n",
      "No feather files either, run loglik now ...\n",
      "Generating loglik  ms6 for ms6\n"
     ]
    },
    {
     "data": {
      "application/vnd.jupyter.widget-view+json": {
       "model_id": "ad9acbbf8fd049c2b7e3b87d6650daac",
       "version_major": 2,
       "version_minor": 0
      },
      "text/plain": [
       "HBox(children=(FloatProgress(value=0.0, max=4.0), HTML(value='')))"
      ]
     },
     "metadata": {},
     "output_type": "display_data"
    },
    {
     "name": "stdout",
     "output_type": "stream",
     "text": [
      "WARNING: Custom link functions will not be loaded.\n",
      "WARNING: Custom link functions will not be loaded.\n",
      "WARNING: Custom link functions will not be loaded.\n",
      "WARNING: Custom link functions will not be loaded.\n",
      "WARNING: Will not save custom link functions.\n",
      "WARNING: Will not save custom link functions.\n",
      "WARNING: Will not save custom link functions.\n",
      "WARNING: Will not save custom link functions.\n",
      "WARNING: Will not save custom link functions.\n",
      "WARNING: Will not save custom link functions.\n",
      "WARNING: Will not save custom link functions.\n",
      "WARNING: Will not save custom link functions.\n",
      " [----------       28%                  ] 4 of 14 complete in 146.6 sec[----------       28%                  ] 4 of 14 complete in 146.9 sec[----------       28%                  ] 4 of 14 complete in 151.9 sec[----------       28%                  ] 4 of 14 complete in 153.2 sec[-------------    35%                  ] 5 of 14 complete in 295.0 sec[-------------    35%                  ] 5 of 14 complete in 295.5 sec[-------------    35%                  ] 5 of 14 complete in 303.2 sec[-------------    35%                  ] 5 of 14 complete in 304.3 sec[---------------- 42%                  ] 6 of 14 complete in 440.5 sec[---------------- 42%                  ] 6 of 14 complete in 447.4 sec[---------------- 42%                  ] 6 of 14 complete in 449.8 sec[---------------- 42%                  ] 6 of 14 complete in 450.4 sec[-----------------50%                  ] 7 of 14 complete in 570.2 sec[-----------------50%                  ] 7 of 14 complete in 574.3 sec[-----------------50%                  ] 7 of 14 complete in 577.3 sec[-----------------50%                  ] 7 of 14 complete in 581.5 sec[-----------------57%-                 ] 8 of 14 complete in 711.9 sec[-----------------57%-                 ] 8 of 14 complete in 716.3 sec[-----------------57%-                 ] 8 of 14 complete in 719.2 sec[-----------------57%-                 ] 8 of 14 complete in 728.8 sec[-----------------64%----              ] 9 of 14 complete in 862.5 sec[-----------------64%----              ] 9 of 14 complete in 866.7 sec[-----------------64%----              ] 9 of 14 complete in 869.9 sec[-----------------64%----              ] 9 of 14 complete in 885.8 sec[-----------------71%-------           ] 10 of 14 complete in 1011.0 sec[-----------------71%-------           ] 10 of 14 complete in 1018.6 sec[-----------------71%-------           ] 10 of 14 complete in 1019.1 sec[-----------------71%-------           ] 10 of 14 complete in 1039.9 sec[-----------------78%---------         ] 11 of 14 complete in 1157.4 sec[-----------------78%---------         ] 11 of 14 complete in 1165.1 sec[-----------------78%---------         ] 11 of 14 complete in 1169.2 sec[-----------------78%---------         ] 11 of 14 complete in 1191.9 sec[-----------------85%------------      ] 12 of 14 complete in 1302.4 sec[-----------------85%------------      ] 12 of 14 complete in 1310.9 sec[-----------------85%------------      ] 12 of 14 complete in 1320.6 sec[-----------------85%------------      ] 12 of 14 complete in 1339.1 sec[-----------------92%---------------   ] 13 of 14 complete in 1414.1 sec[-----------------92%---------------   ] 13 of 14 complete in 1419.6 sec[-----------------92%---------------   ] 13 of 14 complete in 1433.4 sec[-----------------92%---------------   ] 13 of 14 complete in 1449.2 sec[-----------------100%-----------------] 14 of 14 complete in 1573.4 sec[-----------------100%-----------------] 14 of 14 complete in 1573.8 sec[-----------------100%-----------------] 14 of 14 complete in 1588.8 sec[-----------------100%-----------------] 14 of 14 complete in 1605.3 sec[------------------107%------------------] 15 of 14 complete in 1725.5 sec[------------------107%------------------] 15 of 14 complete in 1730.8 sec[------------------107%------------------] 15 of 14 complete in 1739.5 sec[------------------107%------------------] 15 of 14 complete in 1758.7 sec[-------------------114%--------------------] 16 of 14 complete in 1860.1 sec[-------------------114%--------------------] 16 of 14 complete in 1863.9 sec[-------------------114%--------------------] 16 of 14 complete in 1872.4 sec[-------------------114%--------------------] 16 of 14 complete in 1893.8 sec[---------------------121%---------------------] 17 of 14 complete in 1997.5 sec[---------------------121%---------------------] 17 of 14 complete in 1999.7 sec[---------------------121%---------------------] 17 of 14 complete in 2007.8 sec[---------------------121%---------------------] 17 of 14 complete in 2032.9 sec\n",
      "Generating loglik costs 2038.627995 seconds\n",
      "Save loglik to feather files\n",
      "/home/jovyan/hddm/temp/df_ms6_pll_chain_0.ftr\n",
      "/home/jovyan/hddm/temp/df_ms6_pll_chain_1.ftr\n",
      "/home/jovyan/hddm/temp/df_ms6_pll_chain_2.ftr\n",
      "/home/jovyan/hddm/temp/df_ms6_pll_chain_3.ftr\n",
      "\n",
      "No loglik values, try to get feather file names\n",
      "No feather files either, run loglik now ...\n",
      "Generating loglik  ms7 for ms7\n",
      "WARNING: Will not save custom link functions.\n",
      "WARNING: Will not save custom link functions.\n",
      "WARNING: Will not save custom link functions.\n",
      "WARNING: Will not save custom link functions.\n",
      "WARNING: Custom link functions will not be loaded.\n"
     ]
    },
    {
     "data": {
      "application/vnd.jupyter.widget-view+json": {
       "model_id": "f0f6217888314645911348465f3a5749",
       "version_major": 2,
       "version_minor": 0
      },
      "text/plain": [
       "HBox(children=(FloatProgress(value=0.0, max=4.0), HTML(value='')))"
      ]
     },
     "metadata": {},
     "output_type": "display_data"
    },
    {
     "name": "stdout",
     "output_type": "stream",
     "text": [
      "WARNING: Custom link functions will not be loaded.\n",
      "WARNING: Will not save custom link functions.\n",
      "WARNING: Will not save custom link functions.\n",
      "WARNING: Will not save custom link functions.\n",
      "WARNING: Will not save custom link functions.\n",
      "WARNING: Custom link functions will not be loaded.\n",
      "WARNING: Custom link functions will not be loaded.\n",
      " [----------       28%                  ] 4 of 14 complete in 143.6 sec[----------       28%                  ] 4 of 14 complete in 143.7 sec[----------       28%                  ] 4 of 14 complete in 147.2 sec[----------       28%                  ] 4 of 14 complete in 149.1 sec[-------------    35%                  ] 5 of 14 complete in 288.7 sec[-------------    35%                  ] 5 of 14 complete in 293.8 sec[-------------    35%                  ] 5 of 14 complete in 294.4 sec[-------------    35%                  ] 5 of 14 complete in 294.5 sec[---------------- 42%                  ] 6 of 14 complete in 432.4 sec[---------------- 42%                  ] 6 of 14 complete in 440.1 sec[---------------- 42%                  ] 6 of 14 complete in 440.7 sec[---------------- 42%                  ] 6 of 14 complete in 446.0 sec[-----------------50%                  ] 7 of 14 complete in 561.6 sec[-----------------50%                  ] 7 of 14 complete in 566.1 sec[-----------------50%                  ] 7 of 14 complete in 567.2 sec[-----------------50%                  ] 7 of 14 complete in 578.1 sec[-----------------57%-                 ] 8 of 14 complete in 703.7 sec[-----------------57%-                 ] 8 of 14 complete in 708.4 sec[-----------------57%-                 ] 8 of 14 complete in 713.5 sec[-----------------57%-                 ] 8 of 14 complete in 724.3 sec[-----------------64%----              ] 9 of 14 complete in 854.4 sec[-----------------64%----              ] 9 of 14 complete in 859.0 sec[-----------------64%----              ] 9 of 14 complete in 863.4 sec[-----------------64%----              ] 9 of 14 complete in 880.8 sec[-----------------71%-------           ] 10 of 14 complete in 1005.0 sec[-----------------71%-------           ] 10 of 14 complete in 1007.9 sec[-----------------71%-------           ] 10 of 14 complete in 1011.0 sec[-----------------71%-------           ] 10 of 14 complete in 1035.9 sec[-----------------78%---------         ] 11 of 14 complete in 1150.8 sec[-----------------78%---------         ] 11 of 14 complete in 1156.3 sec[-----------------78%---------         ] 11 of 14 complete in 1160.7 sec[-----------------78%---------         ] 11 of 14 complete in 1187.1 sec[-----------------85%------------      ] 12 of 14 complete in 1296.2 sec[-----------------85%------------      ] 12 of 14 complete in 1301.4 sec[-----------------85%------------      ] 12 of 14 complete in 1306.6 sec[-----------------85%------------      ] 12 of 14 complete in 1333.1 sec[-----------------92%---------------   ] 13 of 14 complete in 1404.4 sec[-----------------92%---------------   ] 13 of 14 complete in 1413.4 sec[-----------------92%---------------   ] 13 of 14 complete in 1417.5 sec[-----------------92%---------------   ] 13 of 14 complete in 1444.8 sec[-----------------100%-----------------] 14 of 14 complete in 1556.9 sec[-----------------100%-----------------] 14 of 14 complete in 1570.6 sec[-----------------100%-----------------] 14 of 14 complete in 1573.8 sec[-----------------100%-----------------] 14 of 14 complete in 1604.8 sec[------------------107%------------------] 15 of 14 complete in 1707.6 sec[------------------107%------------------] 15 of 14 complete in 1720.6 sec[------------------107%------------------] 15 of 14 complete in 1730.0 sec[------------------107%------------------] 15 of 14 complete in 1761.0 sec[-------------------114%--------------------] 16 of 14 complete in 1840.5 sec[-------------------114%--------------------] 16 of 14 complete in 1853.4 sec[-------------------114%--------------------] 16 of 14 complete in 1866.9 sec[-------------------114%--------------------] 16 of 14 complete in 1896.5 sec[---------------------121%---------------------] 17 of 14 complete in 1976.6 sec[---------------------121%---------------------] 17 of 14 complete in 1988.9 sec[---------------------121%---------------------] 17 of 14 complete in 2005.3 sec[---------------------121%---------------------] 17 of 14 complete in 2030.9 sec\n",
      "Generating loglik costs 2036.792260 seconds\n",
      "Save loglik to feather files\n",
      "/home/jovyan/hddm/temp/df_ms7_pll_chain_0.ftr\n",
      "/home/jovyan/hddm/temp/df_ms7_pll_chain_1.ftr\n",
      "/home/jovyan/hddm/temp/df_ms7_pll_chain_2.ftr\n",
      "/home/jovyan/hddm/temp/df_ms7_pll_chain_3.ftr\n",
      "CPU times: user 18.5 s, sys: 12.9 s, total: 31.4 s\n",
      "Wall time: 2h 38min 17s\n"
     ]
    }
   ],
   "source": [
    "%%time\n",
    "\n",
    "## total time: 2h 38min 51s when test_mode is False\n",
    "\n",
    "if test_mode:\n",
    "    df_pll = {\"ms2\": [],\n",
    "              \"ms5\": [],\n",
    "              \"ms7\": []}  \n",
    "#     m_keys = [\"df_pll_2\", \n",
    "#                 \"df_pll_5\", \n",
    "#                 \"df_pll_7\"]\n",
    "    \n",
    "else:\n",
    "    df_pll = {\"ms0\": [], \"ms1\": [], \"ms2\": [], \n",
    "              \"ms3\": [], \"ms4\": [], \"ms5\": [], \n",
    "              \"ms6\": [], \"ms7\": []}  \n",
    "#     m_keys = [\"df_pll_0\", \"df_pll_1\", \"df_pll_2\",\n",
    "#                 \"df_pll_3\", \"df_pll_4\", \"df_pll_5\",\n",
    "#                 \"df_pll_6\", \"df_pll_7\"]\n",
    "\n",
    "for ii in range(len(m_keys)):\n",
    "    key = m_keys[ii]\n",
    "    value = df_pll[m_keys[ii]]\n",
    "\n",
    "    if not bool(value):\n",
    "        print(\"\\nNo loglik values, try to get feather file names\")\n",
    "        # read ftr filenames\n",
    "        ftr_path = file_path + \"df_\" + key + \"_pll_chain_*ftr\" \n",
    "        ftr_names = glob.glob(ftr_path, recursive=False)\n",
    "        # print(ftr_names)\n",
    "        \n",
    "        # if there are ftr files\n",
    "        if ftr_names:\n",
    "            print(\"Got feather file names, loading the loglik files\")\n",
    "            for ftrname in ftr_names:\n",
    "                print(\"loading \\n\", ftrname)\n",
    "                df_tmp = pd.read_feather(ftrname, columns=None, use_threads=True)\n",
    "                df_tmp = df_tmp.set_index([\"node\", \"draw\", 'trial_idx'])\n",
    "                df_pll[key].append(df_tmp)\n",
    "        else:\n",
    "            print(\"No feather files either, run loglik now ...\")\n",
    "\n",
    "            ms = models[m_keys[ii]]\n",
    "            print(\"Generating loglik \", key, \"for\", m_keys[ii])\n",
    "            start_time = time.time()  # the start time of the processing\n",
    "            # df_pll[m_keys[ii]] = p_map(partial(pointwise_like_gen, samples = 500), ms)\n",
    "            df_pll[key] = p_map(partial(pointwise_like_gen), ms)\n",
    "\n",
    "            print(\"Generating loglik costs %f seconds\" % (time.time() - start_time))\n",
    "            \n",
    "            print(\"Save loglik to feather files\")\n",
    "            for chain in range(len(df_pll[key])):\n",
    "                ftrname = file_path + \"df_\" + key + \"_pll_chain_\" + str(chain) + \".ftr\"\n",
    "                print(ftrname)\n",
    "                df_pll[key][chain].reset_index().to_feather(ftrname)\n",
    "    else:\n",
    "        continue"
   ]
  },
  {
   "cell_type": "markdown",
   "metadata": {},
   "source": [
    "## Covert PPC and log-likelihood to InferenceData"
   ]
  },
  {
   "cell_type": "code",
   "execution_count": 25,
   "metadata": {},
   "outputs": [
    {
     "name": "stdout",
     "output_type": "stream",
     "text": [
      "CPU times: user 46.6 s, sys: 8.29 s, total: 54.9 s\n",
      "Wall time: 54.9 s\n"
     ]
    }
   ],
   "source": [
    "%%time\n",
    "\n",
    "if test_mode:\n",
    "    InfData = {\"ms2\": [], \n",
    "                 \"ms5\": [],\n",
    "                 \"ms7\": []}   \n",
    "#     m_keys = [\"InfData_2\", \n",
    "#                 \"InfData_5\", \n",
    "#                 \"InfData_7\"]\n",
    "    \n",
    "else:\n",
    "    InfData = {\"ms0\": [], \"ms1\": [], \"ms2\": [], \n",
    "              \"ms3\": [], \"ms4\": [], \"ms5\": [], \n",
    "              \"ms6\": [], \"ms7\": []}  \n",
    "#     m_keys = [\"InfData_0\", \"InfData_1\", \"InfData_2\",\n",
    "#                 \"InfData_3\", \"InfData_4\", \"InfData_5\",\n",
    "#                 \"InfData_6\", \"InfData_7\"]\n",
    "\n",
    "for ii in range(len(models)):\n",
    "    obs_data = models[m_keys[ii]][0].data.copy()\n",
    "    obs_data.index.names = ['trial_idx']\n",
    "    if 'conf' in obs_data.columns:\n",
    "        obs_data.drop(['subj_idx','stim', 'theta','dbs','conf'], axis=1, inplace=True)\n",
    "    xdata_observed = xr.Dataset.from_dataframe(obs_data)\n",
    "\n",
    "    df_traces_tmp = df_traces[m_keys[ii]].set_index([\"chain\", \"draw\"])\n",
    "    xdata_posterior = xr.Dataset.from_dataframe(df_traces_tmp)\n",
    "    \n",
    "    df_ppc_tmp = pd.concat(df_ppc[m_keys[ii]], names=['chain'], \n",
    "                            keys = list(range(len(df_ppc[m_keys[ii]]))))\n",
    "#     df_ppc_tmp['response'] = df_ppc_tmp['response'].astype('float')\n",
    "    df_ppc_tmp = df_ppc_tmp.reset_index(level=1, drop=True)\n",
    "    xdata_post_pred = xr.Dataset.from_dataframe(df_ppc_tmp)\n",
    "    \n",
    "    df_pll_tmp = pd.concat(df_pll[m_keys[ii]], names=['chain'], \n",
    "                            keys = list(range(len(df_pll[m_keys[ii]]))))\n",
    "    df_pll_tmp = df_pll_tmp.reset_index(level=1, drop=True)\n",
    "    xdata_loglik = xr.Dataset.from_dataframe(df_pll_tmp)\n",
    "    \n",
    "    InfData[m_keys[ii]] = az.InferenceData(posterior=xdata_posterior, \n",
    "                                             observed_data=xdata_observed,\n",
    "                                             posterior_predictive=xdata_post_pred,\n",
    "                                             log_likelihood = xdata_loglik)"
   ]
  },
  {
   "cell_type": "code",
   "execution_count": 26,
   "metadata": {
    "scrolled": true
   },
   "outputs": [
    {
     "name": "stderr",
     "output_type": "stream",
     "text": [
      "/opt/conda/lib/python3.7/site-packages/arviz/stats/stats.py:876: RuntimeWarning: overflow encountered in exp\n",
      "  weights = 1 / np.exp(len_scale - len_scale[:, None]).sum(axis=1)\n",
      "/opt/conda/lib/python3.7/site-packages/arviz/stats/stats.py:908: RuntimeWarning: overflow encountered in expm1\n",
      "  x = np.expm1(-kappa * np.log1p(-probs)) / kappa\n",
      "/opt/conda/lib/python3.7/site-packages/arviz/stats/stats.py:876: RuntimeWarning: overflow encountered in exp\n",
      "  weights = 1 / np.exp(len_scale - len_scale[:, None]).sum(axis=1)\n",
      "/opt/conda/lib/python3.7/site-packages/arviz/stats/stats.py:876: RuntimeWarning: overflow encountered in exp\n",
      "  weights = 1 / np.exp(len_scale - len_scale[:, None]).sum(axis=1)\n",
      "/opt/conda/lib/python3.7/site-packages/arviz/stats/stats.py:876: RuntimeWarning: overflow encountered in exp\n",
      "  weights = 1 / np.exp(len_scale - len_scale[:, None]).sum(axis=1)\n",
      "/opt/conda/lib/python3.7/site-packages/numpy/core/_methods.py:47: RuntimeWarning: overflow encountered in reduce\n",
      "  return umr_sum(a, axis, dtype, out, keepdims, initial, where)\n",
      "/opt/conda/lib/python3.7/site-packages/arviz/stats/stats.py:876: RuntimeWarning: overflow encountered in exp\n",
      "  weights = 1 / np.exp(len_scale - len_scale[:, None]).sum(axis=1)\n",
      "/opt/conda/lib/python3.7/site-packages/arviz/stats/stats.py:876: RuntimeWarning: overflow encountered in exp\n",
      "  weights = 1 / np.exp(len_scale - len_scale[:, None]).sum(axis=1)\n",
      "/opt/conda/lib/python3.7/site-packages/arviz/stats/stats.py:876: RuntimeWarning: overflow encountered in exp\n",
      "  weights = 1 / np.exp(len_scale - len_scale[:, None]).sum(axis=1)\n",
      "/opt/conda/lib/python3.7/site-packages/arviz/stats/stats.py:876: RuntimeWarning: overflow encountered in exp\n",
      "  weights = 1 / np.exp(len_scale - len_scale[:, None]).sum(axis=1)\n"
     ]
    },
    {
     "data": {
      "text/html": [
       "<div>\n",
       "<style scoped>\n",
       "    .dataframe tbody tr th:only-of-type {\n",
       "        vertical-align: middle;\n",
       "    }\n",
       "\n",
       "    .dataframe tbody tr th {\n",
       "        vertical-align: top;\n",
       "    }\n",
       "\n",
       "    .dataframe thead th {\n",
       "        text-align: right;\n",
       "    }\n",
       "</style>\n",
       "<table border=\"1\" class=\"dataframe\">\n",
       "  <thead>\n",
       "    <tr style=\"text-align: right;\">\n",
       "      <th></th>\n",
       "      <th>rank</th>\n",
       "      <th>loo</th>\n",
       "      <th>p_loo</th>\n",
       "      <th>d_loo</th>\n",
       "      <th>weight</th>\n",
       "      <th>se</th>\n",
       "      <th>dse</th>\n",
       "      <th>warning</th>\n",
       "      <th>loo_scale</th>\n",
       "    </tr>\n",
       "  </thead>\n",
       "  <tbody>\n",
       "    <tr>\n",
       "      <th>ms7</th>\n",
       "      <td>0</td>\n",
       "      <td>-6984.524366</td>\n",
       "      <td>1592.664677</td>\n",
       "      <td>0.000000</td>\n",
       "      <td>0.000000</td>\n",
       "      <td>719.386237</td>\n",
       "      <td>0.000000</td>\n",
       "      <td>True</td>\n",
       "      <td>log</td>\n",
       "    </tr>\n",
       "    <tr>\n",
       "      <th>ms6</th>\n",
       "      <td>1</td>\n",
       "      <td>-7087.891440</td>\n",
       "      <td>1690.939648</td>\n",
       "      <td>103.367074</td>\n",
       "      <td>0.000000</td>\n",
       "      <td>791.962393</td>\n",
       "      <td>115.360804</td>\n",
       "      <td>True</td>\n",
       "      <td>log</td>\n",
       "    </tr>\n",
       "    <tr>\n",
       "      <th>ms3</th>\n",
       "      <td>2</td>\n",
       "      <td>-7177.441842</td>\n",
       "      <td>1762.696341</td>\n",
       "      <td>192.917476</td>\n",
       "      <td>0.208386</td>\n",
       "      <td>825.937374</td>\n",
       "      <td>135.105539</td>\n",
       "      <td>True</td>\n",
       "      <td>log</td>\n",
       "    </tr>\n",
       "    <tr>\n",
       "      <th>ms4</th>\n",
       "      <td>3</td>\n",
       "      <td>-7328.071002</td>\n",
       "      <td>1923.727846</td>\n",
       "      <td>343.546636</td>\n",
       "      <td>0.147960</td>\n",
       "      <td>894.070097</td>\n",
       "      <td>177.278121</td>\n",
       "      <td>True</td>\n",
       "      <td>log</td>\n",
       "    </tr>\n",
       "    <tr>\n",
       "      <th>ms5</th>\n",
       "      <td>4</td>\n",
       "      <td>-7365.089880</td>\n",
       "      <td>1973.758599</td>\n",
       "      <td>380.565513</td>\n",
       "      <td>0.437777</td>\n",
       "      <td>876.362399</td>\n",
       "      <td>186.825655</td>\n",
       "      <td>True</td>\n",
       "      <td>log</td>\n",
       "    </tr>\n",
       "    <tr>\n",
       "      <th>ms2</th>\n",
       "      <td>5</td>\n",
       "      <td>-7447.039691</td>\n",
       "      <td>2047.867328</td>\n",
       "      <td>462.515324</td>\n",
       "      <td>0.000000</td>\n",
       "      <td>916.394979</td>\n",
       "      <td>213.053865</td>\n",
       "      <td>True</td>\n",
       "      <td>log</td>\n",
       "    </tr>\n",
       "    <tr>\n",
       "      <th>ms1</th>\n",
       "      <td>6</td>\n",
       "      <td>-7555.644242</td>\n",
       "      <td>2054.629045</td>\n",
       "      <td>571.119876</td>\n",
       "      <td>0.005530</td>\n",
       "      <td>920.595478</td>\n",
       "      <td>252.561152</td>\n",
       "      <td>True</td>\n",
       "      <td>log</td>\n",
       "    </tr>\n",
       "    <tr>\n",
       "      <th>ms0</th>\n",
       "      <td>7</td>\n",
       "      <td>-12305.520195</td>\n",
       "      <td>6789.186865</td>\n",
       "      <td>5320.995829</td>\n",
       "      <td>0.200347</td>\n",
       "      <td>1916.902123</td>\n",
       "      <td>1987.635772</td>\n",
       "      <td>True</td>\n",
       "      <td>log</td>\n",
       "    </tr>\n",
       "  </tbody>\n",
       "</table>\n",
       "</div>"
      ],
      "text/plain": [
       "     rank           loo        p_loo        d_loo    weight           se  \\\n",
       "ms7     0  -6984.524366  1592.664677     0.000000  0.000000   719.386237   \n",
       "ms6     1  -7087.891440  1690.939648   103.367074  0.000000   791.962393   \n",
       "ms3     2  -7177.441842  1762.696341   192.917476  0.208386   825.937374   \n",
       "ms4     3  -7328.071002  1923.727846   343.546636  0.147960   894.070097   \n",
       "ms5     4  -7365.089880  1973.758599   380.565513  0.437777   876.362399   \n",
       "ms2     5  -7447.039691  2047.867328   462.515324  0.000000   916.394979   \n",
       "ms1     6  -7555.644242  2054.629045   571.119876  0.005530   920.595478   \n",
       "ms0     7 -12305.520195  6789.186865  5320.995829  0.200347  1916.902123   \n",
       "\n",
       "             dse  warning loo_scale  \n",
       "ms7     0.000000     True       log  \n",
       "ms6   115.360804     True       log  \n",
       "ms3   135.105539     True       log  \n",
       "ms4   177.278121     True       log  \n",
       "ms5   186.825655     True       log  \n",
       "ms2   213.053865     True       log  \n",
       "ms1   252.561152     True       log  \n",
       "ms0  1987.635772     True       log  "
      ]
     },
     "execution_count": 26,
     "metadata": {},
     "output_type": "execute_result"
    }
   ],
   "source": [
    "az.compare(InfData)"
   ]
  },
  {
   "cell_type": "markdown",
   "metadata": {},
   "source": [
    "**NOTE: after running all cells above, around 22 GB memory is used (72% of my PC)**"
   ]
  },
  {
   "cell_type": "code",
   "execution_count": 27,
   "metadata": {
    "scrolled": true
   },
   "outputs": [
    {
     "name": "stdout",
     "output_type": "stream",
     "text": [
      "LOO of  ms0\n"
     ]
    },
    {
     "name": "stderr",
     "output_type": "stream",
     "text": [
      "/opt/conda/lib/python3.7/site-packages/arviz/stats/stats.py:876: RuntimeWarning: overflow encountered in exp\n",
      "  weights = 1 / np.exp(len_scale - len_scale[:, None]).sum(axis=1)\n",
      "/opt/conda/lib/python3.7/site-packages/arviz/stats/stats.py:908: RuntimeWarning: overflow encountered in expm1\n",
      "  x = np.expm1(-kappa * np.log1p(-probs)) / kappa\n"
     ]
    },
    {
     "name": "stdout",
     "output_type": "stream",
     "text": [
      "Computed from 6000 by 3988 log-likelihood matrix\n",
      "\n",
      "         Estimate       SE\n",
      "elpd_loo -12305.52  1916.90\n",
      "p_loo     6789.19        -\n",
      "\n",
      "There has been a warning during the calculation. Please check the results.\n",
      "LOO of  ms1\n"
     ]
    },
    {
     "name": "stderr",
     "output_type": "stream",
     "text": [
      "/opt/conda/lib/python3.7/site-packages/arviz/stats/stats.py:876: RuntimeWarning: overflow encountered in exp\n",
      "  weights = 1 / np.exp(len_scale - len_scale[:, None]).sum(axis=1)\n"
     ]
    },
    {
     "name": "stdout",
     "output_type": "stream",
     "text": [
      "Computed from 6000 by 3988 log-likelihood matrix\n",
      "\n",
      "         Estimate       SE\n",
      "elpd_loo -7555.64   920.60\n",
      "p_loo     2054.63        -\n",
      "\n",
      "There has been a warning during the calculation. Please check the results.\n",
      "LOO of  ms2\n"
     ]
    },
    {
     "name": "stderr",
     "output_type": "stream",
     "text": [
      "/opt/conda/lib/python3.7/site-packages/arviz/stats/stats.py:876: RuntimeWarning: overflow encountered in exp\n",
      "  weights = 1 / np.exp(len_scale - len_scale[:, None]).sum(axis=1)\n"
     ]
    },
    {
     "name": "stdout",
     "output_type": "stream",
     "text": [
      "Computed from 6000 by 3988 log-likelihood matrix\n",
      "\n",
      "         Estimate       SE\n",
      "elpd_loo -7447.04   916.39\n",
      "p_loo     2047.87        -\n",
      "\n",
      "There has been a warning during the calculation. Please check the results.\n",
      "LOO of  ms3\n"
     ]
    },
    {
     "name": "stderr",
     "output_type": "stream",
     "text": [
      "/opt/conda/lib/python3.7/site-packages/arviz/stats/stats.py:876: RuntimeWarning: overflow encountered in exp\n",
      "  weights = 1 / np.exp(len_scale - len_scale[:, None]).sum(axis=1)\n",
      "/opt/conda/lib/python3.7/site-packages/numpy/core/_methods.py:47: RuntimeWarning: overflow encountered in reduce\n",
      "  return umr_sum(a, axis, dtype, out, keepdims, initial, where)\n"
     ]
    },
    {
     "name": "stdout",
     "output_type": "stream",
     "text": [
      "Computed from 6000 by 3988 log-likelihood matrix\n",
      "\n",
      "         Estimate       SE\n",
      "elpd_loo -7177.44   825.94\n",
      "p_loo     1762.70        -\n",
      "\n",
      "There has been a warning during the calculation. Please check the results.\n",
      "LOO of  ms4\n"
     ]
    },
    {
     "name": "stderr",
     "output_type": "stream",
     "text": [
      "/opt/conda/lib/python3.7/site-packages/arviz/stats/stats.py:876: RuntimeWarning: overflow encountered in exp\n",
      "  weights = 1 / np.exp(len_scale - len_scale[:, None]).sum(axis=1)\n"
     ]
    },
    {
     "name": "stdout",
     "output_type": "stream",
     "text": [
      "Computed from 6000 by 3988 log-likelihood matrix\n",
      "\n",
      "         Estimate       SE\n",
      "elpd_loo -7328.07   894.07\n",
      "p_loo     1923.73        -\n",
      "\n",
      "There has been a warning during the calculation. Please check the results.\n",
      "LOO of  ms5\n"
     ]
    },
    {
     "name": "stderr",
     "output_type": "stream",
     "text": [
      "/opt/conda/lib/python3.7/site-packages/arviz/stats/stats.py:876: RuntimeWarning: overflow encountered in exp\n",
      "  weights = 1 / np.exp(len_scale - len_scale[:, None]).sum(axis=1)\n"
     ]
    },
    {
     "name": "stdout",
     "output_type": "stream",
     "text": [
      "Computed from 6000 by 3988 log-likelihood matrix\n",
      "\n",
      "         Estimate       SE\n",
      "elpd_loo -7365.09   876.36\n",
      "p_loo     1973.76        -\n",
      "\n",
      "There has been a warning during the calculation. Please check the results.\n",
      "LOO of  ms6\n"
     ]
    },
    {
     "name": "stderr",
     "output_type": "stream",
     "text": [
      "/opt/conda/lib/python3.7/site-packages/arviz/stats/stats.py:876: RuntimeWarning: overflow encountered in exp\n",
      "  weights = 1 / np.exp(len_scale - len_scale[:, None]).sum(axis=1)\n"
     ]
    },
    {
     "name": "stdout",
     "output_type": "stream",
     "text": [
      "Computed from 6000 by 3988 log-likelihood matrix\n",
      "\n",
      "         Estimate       SE\n",
      "elpd_loo -7087.89   791.96\n",
      "p_loo     1690.94        -\n",
      "\n",
      "There has been a warning during the calculation. Please check the results.\n",
      "LOO of  ms7\n"
     ]
    },
    {
     "name": "stderr",
     "output_type": "stream",
     "text": [
      "/opt/conda/lib/python3.7/site-packages/arviz/stats/stats.py:876: RuntimeWarning: overflow encountered in exp\n",
      "  weights = 1 / np.exp(len_scale - len_scale[:, None]).sum(axis=1)\n"
     ]
    },
    {
     "name": "stdout",
     "output_type": "stream",
     "text": [
      "Computed from 6000 by 3988 log-likelihood matrix\n",
      "\n",
      "         Estimate       SE\n",
      "elpd_loo -6984.52   719.39\n",
      "p_loo     1592.66        -\n",
      "\n",
      "There has been a warning during the calculation. Please check the results.\n"
     ]
    }
   ],
   "source": [
    "for key, value in InfData.items():\n",
    "    print(\"LOO of \", key)\n",
    "    print(az.loo(value))"
   ]
  },
  {
   "cell_type": "code",
   "execution_count": 28,
   "metadata": {
    "scrolled": false
   },
   "outputs": [
    {
     "data": {
      "text/plain": [
       "array([<matplotlib.axes._subplots.AxesSubplot object at 0x7f3c51523750>,\n",
       "       <matplotlib.axes._subplots.AxesSubplot object at 0x7f3c514a1610>],\n",
       "      dtype=object)"
      ]
     },
     "execution_count": 28,
     "metadata": {},
     "output_type": "execute_result"
    },
    {
     "data": {
      "image/png": "[encoded data removed]",
      "text/plain": [
       "<Figure size 993.6x331.2 with 2 Axes>"
      ]
     },
     "metadata": {},
     "output_type": "display_data"
    }
   ],
   "source": [
    "az.plot_ppc(InfData['ms2'], num_pp_samples=100, random_seed=7)"
   ]
  },
  {
   "cell_type": "code",
   "execution_count": 29,
   "metadata": {
    "scrolled": true
   },
   "outputs": [
    {
     "data": {
      "text/plain": [
       "array([<matplotlib.axes._subplots.AxesSubplot object at 0x7f3c50945590>,\n",
       "       <matplotlib.axes._subplots.AxesSubplot object at 0x7f3c508ff990>],\n",
       "      dtype=object)"
      ]
     },
     "execution_count": 29,
     "metadata": {},
     "output_type": "execute_result"
    },
    {
     "data": {
      "image/png": "[encoded data removed]",
      "text/plain": [
       "<Figure size 993.6x331.2 with 2 Axes>"
      ]
     },
     "metadata": {},
     "output_type": "display_data"
    }
   ],
   "source": [
    "az.plot_ppc(InfData['ms3'], num_pp_samples=100, random_seed=7)"
   ]
  },
  {
   "cell_type": "code",
   "execution_count": 31,
   "metadata": {
    "scrolled": false
   },
   "outputs": [
    {
     "data": {
      "text/plain": [
       "array([<matplotlib.axes._subplots.AxesSubplot object at 0x7f3bdbc3add0>,\n",
       "       <matplotlib.axes._subplots.AxesSubplot object at 0x7f3bdbbce850>],\n",
       "      dtype=object)"
      ]
     },
     "execution_count": 31,
     "metadata": {},
     "output_type": "execute_result"
    },
    {
     "data": {
      "image/png": "[encoded data removed]",
      "text/plain": [
       "<Figure size 993.6x331.2 with 2 Axes>"
      ]
     },
     "metadata": {},
     "output_type": "display_data"
    }
   ],
   "source": [
    "az.plot_ppc(InfData['ms7'], num_pp_samples=100, random_seed=7)"
   ]
  }
 ],
 "metadata": {
  "kernelspec": {
   "display_name": "Python 3",
   "language": "python",
   "name": "python3"
  },
  "language_info": {
   "codemirror_mode": {
    "name": "ipython",
    "version": 3
   },
   "file_extension": ".py",
   "mimetype": "text/x-python",
   "name": "python",
   "nbconvert_exporter": "python",
   "pygments_lexer": "ipython3",
   "version": "3.7.6"
  }
 },
 "nbformat": 4,
 "nbformat_minor": 4
}
