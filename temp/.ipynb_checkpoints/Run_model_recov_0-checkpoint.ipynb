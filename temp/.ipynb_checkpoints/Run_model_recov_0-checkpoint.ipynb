{
 "cells": [
  {
   "cell_type": "code",
   "execution_count": 1,
   "metadata": {
    "scrolled": true
   },
   "outputs": [
    {
     "name": "stdout",
     "output_type": "stream",
     "text": [
      "Notebook is running: /opt/conda/bin/python\n",
      "The current HDDM version is 3.7.6\n",
      "The current HDDM version is 0.8.0\n",
      "The current Kabuki version is 0.6.3\n",
      "The current PyMC version is 2.3.8\n",
      "The current IPython version is 7.15.0\n",
      "The current Numpy version is 1.19.4\n",
      "The current Pandas version is 1.0.5\n",
      "The current seaborn version is 0.11.1\n"
     ]
    },
    {
     "name": "stderr",
     "output_type": "stream",
     "text": [
      "/opt/conda/lib/python3.7/site-packages/IPython/parallel.py:13: ShimWarning: The `IPython.parallel` package has been deprecated since IPython 4.0. You should import from ipyparallel instead.\n",
      "  \"You should import from ipyparallel instead.\", ShimWarning)\n"
     ]
    }
   ],
   "source": [
    "import sys\n",
    "print('Notebook is running:', sys.executable)\n",
    "\n",
    "# further check your python version\n",
    "from platform import python_version\n",
    "\n",
    "print('The current HDDM version is', python_version())\n",
    "\n",
    "# If you are sure that conda is installed, also check the package that install\n",
    "#!conda list  # list the conda\n",
    "\n",
    "import hddm, IPython, kabuki, pymc\n",
    "import numpy as np\n",
    "import pandas as pd\n",
    "import seaborn as sns\n",
    "print('The current HDDM version is', hddm.__version__) # 0.8.0\n",
    "print('The current Kabuki version is', kabuki.__version__) # 0.6.3\n",
    "print('The current PyMC version is', pymc.__version__) # 2.3.8\n",
    "\n",
    "# Warning:`IPython.parallel` package has been deprecated since IPython 4.0. \n",
    "print('The current IPython version is', IPython.__version__) \n",
    "\n",
    "print('The current Numpy version is', np.__version__) \n",
    "\n",
    "print('The current Pandas version is', pd.__version__)\n",
    "\n",
    "print('The current seaborn version is', sns.__version__)"
   ]
  },
  {
   "cell_type": "code",
   "execution_count": 2,
   "metadata": {},
   "outputs": [],
   "source": [
    "# Preparation\n",
    "import os, hddm, time, csv\n",
    "import glob\n",
    "import datetime\n",
    "from datetime import date\n",
    "\n",
    "import pymc as pm\n",
    "import hddm\n",
    "import kabuki\n",
    "\n",
    "import arviz as az\n",
    "import numpy as np\n",
    "import pandas as pd\n",
    "import feather\n",
    "import xarray as xr\n",
    "import matplotlib.pyplot as plt\n",
    "import seaborn as sns\n",
    "from patsy import dmatrix\n",
    "\n",
    "from p_tqdm import p_map\n",
    "from functools import partial\n",
    "\n",
    "# set the color of plots\n",
    "from cycler import cycler\n",
    "plt.rcParams['axes.prop_cycle'] = cycler(color='bgrcmykw')"
   ]
  },
  {
   "cell_type": "code",
   "execution_count": 5,
   "metadata": {},
   "outputs": [],
   "source": [
    "from p_tqdm import p_map\n",
    "from functools import partial\n",
    "\n",
    "# NOTE: I hacked the `post_pred_gen`, \n",
    "# more detals: https://groups.google.com/g/hddm-users/c/Is6AM7eN0fo\n",
    "from post_pred_gen_redifined import _parents_to_random_posterior_sample\n",
    "from post_pred_gen_redifined import _post_pred_generate\n",
    "from post_pred_gen_redifined import post_pred_gen\n",
    "\n",
    "from pointwise_loglik_gen import _pointwise_like_generate\n",
    "from pointwise_loglik_gen import pointwise_like_gen\n",
    "\n",
    "from SimData import SimData\n",
    "from run_models import run_m1, run_m2, run_m4, run_m5, run_m7, \n",
    "\n",
    "model_func = [run_m1, run_m2, run_m4, run_m5, run_m7]\n",
    "\n",
    "m_keys = [\"ms1\",\n",
    "          \"ms2\",\n",
    "          \"ms4\",\n",
    "          \"ms5\",\n",
    "          \"ms7\"]\n",
    "\n",
    "df_keys = [\"sim_df1\", \n",
    "           \"sim_df2\", \n",
    "           \"sim_df4\", \n",
    "           \"sim_df5\",\n",
    "           \"sim_df7\"]\n"
   ]
  },
  {
   "cell_type": "code",
   "execution_count": 10,
   "metadata": {},
   "outputs": [],
   "source": [
    "def model_recov(m_keys, data, model_func):\n",
    "    \"\"\"\n",
    "    This func is for model recovery\n",
    "    \n",
    "    input: \n",
    "    m_keys\n",
    "    df_keys\n",
    "    \n",
    "    \"\"\"\n",
    "    InfData = {}\n",
    "    for ii in range(len(m_keys)):\n",
    "        m_key = m_keys[ii]\n",
    "\n",
    "        ### Run models\n",
    "        ms_tmp = p_map(partial(model_func[ii], \n",
    "                               df=data, \n",
    "                               samples=samples,\n",
    "                               burn=burn,\n",
    "                               save_name=\"model_tmp\"),\n",
    "                       range(chains))\n",
    "\n",
    "        ### Observations\n",
    "        xdata_observed = ms_tmp[0].data.copy()\n",
    "        xdata_observed.index.names = ['trial_idx']\n",
    "        xdata_observed = xdata_observed[['rt', 'response']]\n",
    "        xdata_observed = xr.Dataset.from_dataframe(xdata_observed)\n",
    "\n",
    "        ### posteriors\n",
    "        xdata_posterior = []\n",
    "        for jj in range(len(ms_tmp)):\n",
    "            trace_tmp = ms_tmp[jj].get_traces()\n",
    "            trace_tmp['chain'] = jj\n",
    "            trace_tmp['draw'] = np.arange(len(trace_tmp), dtype=int)\n",
    "            xdata_posterior.append(trace_tmp)\n",
    "        xdata_posterior = pd.concat(xdata_posterior)\n",
    "        xdata_posterior = xdata_posterior.set_index([\"chain\", \"draw\"])\n",
    "        xdata_posterior = xr.Dataset.from_dataframe(xdata_posterior)\n",
    "\n",
    "        ### PPC\n",
    "        xdata_post_pred = [] # define an empty dict        \n",
    "        start_time = time.time()  \n",
    "        xdata_post_pred = p_map(partial(post_pred_gen), ms_tmp)\n",
    "        print(\"Running PPC costs %f seconds\" % (time.time() - start_time))\n",
    "        xdata_post_pred = pd.concat(xdata_post_pred, names=['chain'], \n",
    "                                keys = list(range(len(xdata_post_pred))))\n",
    "        xdata_post_pred = xdata_post_pred.reset_index(level=1, drop=True)\n",
    "        xdata_post_pred = xr.Dataset.from_dataframe(xdata_post_pred)\n",
    "\n",
    "        ### Point-wise log likelihood\n",
    "        xdata_loglik = [] # define an empty dict\n",
    "        start_time = time.time()  # the start time of the processing\n",
    "        xdata_loglik = p_map(partial(pointwise_like_gen), ms_tmp)\n",
    "        print(\"Generating loglik costs %f seconds\" % (time.time() - start_time))\n",
    "\n",
    "        xdata_loglik = pd.concat(xdata_loglik, names=['chain'], \n",
    "                                keys = list(range(len(xdata_loglik))))\n",
    "        xdata_loglik = xdata_loglik.reset_index(level=1, drop=True)\n",
    "        xdata_loglik = xr.Dataset.from_dataframe(xdata_loglik)\n",
    "\n",
    "        InfData[m_key] = az.InferenceData(posterior=xdata_posterior, \n",
    "                                                 observed_data=xdata_observed,\n",
    "                                                 posterior_predictive=xdata_post_pred,\n",
    "                                                 log_likelihood = xdata_loglik)\n",
    "    return ms_tmp, InfData"
   ]
  },
  {
   "cell_type": "code",
   "execution_count": 6,
   "metadata": {},
   "outputs": [],
   "source": [
    "samples = 1000\n",
    "burn = 500\n",
    "chains = 4"
   ]
  },
  {
   "cell_type": "code",
   "execution_count": 11,
   "metadata": {},
   "outputs": [
    {
     "data": {
      "application/vnd.jupyter.widget-view+json": {
       "model_id": "c39e7ea268c945928122f1c978d50d90",
       "version_major": 2,
       "version_minor": 0
      },
      "text/plain": [
       "HBox(children=(FloatProgress(value=0.0, max=4.0), HTML(value='')))"
      ]
     },
     "metadata": {},
     "output_type": "display_data"
    },
    {
     "name": "stderr",
     "output_type": "stream",
     "text": [
      "/opt/conda/lib/python3.7/site-packages/scipy/optimize/optimize.py:2149: RuntimeWarning: invalid value encountered in double_scalars\n",
      "  tmp2 = (x - v) * (fx - fw)\n",
      "/opt/conda/lib/python3.7/site-packages/scipy/optimize/optimize.py:2149: RuntimeWarning: invalid value encountered in double_scalars\n",
      "  tmp2 = (x - v) * (fx - fw)\n",
      "/opt/conda/lib/python3.7/site-packages/scipy/optimize/optimize.py:2149: RuntimeWarning: invalid value encountered in double_scalars\n",
      "  tmp2 = (x - v) * (fx - fw)\n",
      "/opt/conda/lib/python3.7/site-packages/scipy/optimize/optimize.py:2149: RuntimeWarning: invalid value encountered in double_scalars\n",
      "  tmp2 = (x - v) * (fx - fw)\n"
     ]
    },
    {
     "name": "stdout",
     "output_type": "stream",
     "text": [
      "                   0%                  ] 18 of 2000 complete in 9.4 sec[                  0%                  ] 3 of 2000 complete in 0.9 sec[                  0%                  ] 3 of 2000 complete in 0.9 sec[                  0%                  ] 3 of 2000 complete in 1.1 sec[                  0%                  ] 4 of 2000 complete in 1.1 sec[                  0%                  ] 4 of 2000 complete in 1.4 sec[                  0%                  ] 4 of 2000 complete in 1.4 sec[                  0%                  ] 4 of 2000 complete in 1.7 sec[                  0%                  ] 5 of 2000 complete in 1.7 sec[                  0%                  ] 5 of 2000 complete in 2.0 sec[                  0%                  ] 5 of 2000 complete in 2.1 sec[                  0%                  ] 5 of 2000 complete in 2.2 sec[                  0%                  ] 6 of 2000 complete in 2.3 sec[                  0%                  ] 6 of 2000 complete in 2.6 sec[                  0%                  ] 6 of 2000 complete in 2.7 sec[                  0%                  ] 6 of 2000 complete in 2.7 sec[                  0%                  ] 7 of 2000 complete in 3.1 sec[                  0%                  ] 7 of 2000 complete in 3.3 sec[                  0%                  ] 8 of 2000 complete in 3.3 sec[                  0%                  ] 7 of 2000 complete in 3.4 sec[                  0%                  ] 8 of 2000 complete in 3.7 sec[                  0%                  ] 8 of 2000 complete in 3.8 sec[                  0%                  ] 9 of 2000 complete in 3.9 sec[                  0%                  ] 8 of 2000 complete in 4.0 sec[                  0%                  ] 9 of 2000 complete in 4.3 sec[                  0%                  ] 10 of 2000 complete in 4.5 sec[                  0%                  ] 9 of 2000 complete in 4.5 sec[                  0%                  ] 9 of 2000 complete in 4.7 sec[                  0%                  ] 10 of 2000 complete in 4.9 sec[                  0%                  ] 10 of 2000 complete in 5.1 sec[                  0%                  ] 11 of 2000 complete in 5.1 sec[                  0%                  ] 10 of 2000 complete in 5.3 sec[                  0%                  ] 11 of 2000 complete in 5.4 sec[                  0%                  ] 12 of 2000 complete in 5.7 sec[                  0%                  ] 11 of 2000 complete in 5.7 sec[                  0%                  ] 12 of 2000 complete in 5.9 sec[                  0%                  ] 11 of 2000 complete in 6.0 sec[                  0%                  ] 13 of 2000 complete in 6.3 sec[                  0%                  ] 12 of 2000 complete in 6.3 sec[                  0%                  ] 12 of 2000 complete in 6.5 sec[                  0%                  ] 13 of 2000 complete in 6.5 sec[                  0%                  ] 13 of 2000 complete in 6.9 sec[                  0%                  ] 14 of 2000 complete in 7.1 sec[                  0%                  ] 13 of 2000 complete in 7.1 sec[                  0%                  ] 15 of 2000 complete in 7.4 sec[                  0%                  ] 14 of 2000 complete in 7.5 sec[                  0%                  ] 15 of 2000 complete in 7.7 sec[                  0%                  ] 14 of 2000 complete in 7.7 sec[                  0%                  ] 16 of 2000 complete in 8.1 sec[                  0%                  ] 15 of 2000 complete in 8.1 sec[                  0%                  ] 16 of 2000 complete in 8.2 sec[                  0%                  ] 15 of 2000 complete in 8.3 sec[                  0%                  ] 16 of 2000 complete in 8.7 sec[                  0%                  ] 17 of 2000 complete in 8.7 sec[                  0%                  ] 17 of 2000 complete in 8.8 sec[                  0%                  ] 16 of 2000 complete in 8.9 sec[                  0%                  ] 18 of 2000 complete in 9.4 sec [                  0%                  ] 17 of 2000 complete in 9.4 sec[                  0%                  ] 17 of 2000 complete in 9.5 sec[                  0%                  ] 19 of 2000 complete in 9.9 sec[                  0%                  ] 19 of 2000 complete in 10.0 sec[                  0%                  ] 18 of 2000 complete in 10.0 sec[                  0%                  ] 18 of 2000 complete in 10.1 sec[                  0%                  ] 19 of 2000 complete in 10.6 sec[                  0%                  ] 19 of 2000 complete in 10.6 sec[                  1%                  ] 20 of 2000 complete in 10.7 sec[                  1%                  ] 21 of 2000 complete in 10.9 sec[                  1%                  ] 20 of 2000 complete in 11.1 sec[                  1%                  ] 20 of 2000 complete in 11.2 sec[                  1%                  ] 21 of 2000 complete in 11.2 sec[                  1%                  ] 22 of 2000 complete in 11.4 sec[                  1%                  ] 21 of 2000 complete in 11.7 sec[                  1%                  ] 21 of 2000 complete in 11.8 sec[                  1%                  ] 22 of 2000 complete in 11.8 sec[                  1%                  ] 23 of 2000 complete in 12.0 sec[                  1%                  ] 22 of 2000 complete in 12.2 sec[                  1%                  ] 22 of 2000 complete in 12.4 sec[                  1%                  ] 23 of 2000 complete in 12.5 sec[                  1%                  ] 24 of 2000 complete in 12.5 sec[                  1%                  ] 23 of 2000 complete in 12.9 sec[                  1%                  ] 23 of 2000 complete in 13.0 sec[                  1%                  ] 24 of 2000 complete in 13.0 sec[                  1%                  ] 25 of 2000 complete in 13.1 sec[                  1%                  ] 24 of 2000 complete in 13.4 sec[                  1%                  ] 24 of 2000 complete in 13.5 sec[                  1%                  ] 25 of 2000 complete in 13.5 sec[                  1%                  ] 26 of 2000 complete in 13.8 sec[                  1%                  ] 25 of 2000 complete in 13.9 sec[                  1%                  ] 26 of 2000 complete in 14.1 sec[                  1%                  ] 25 of 2000 complete in 14.1 sec[                  1%                  ] 27 of 2000 complete in 14.3 sec[                  1%                  ] 27 of 2000 complete in 14.7 sec[                  1%                  ] 26 of 2000 complete in 14.7 sec[                  1%                  ] 27 of 2000 complete in 14.9 sec[                  1%                  ] 28 of 2000 complete in 15.0 sec[                  1%                  ] 28 of 2000 complete in 15.2 sec[                  1%                  ] 27 of 2000 complete in 15.3 sec[                  1%                  ] 28 of 2000 complete in 15.4 sec[                  1%                  ] 29 of 2000 complete in 15.5 sec[                  1%                  ] 29 of 2000 complete in 15.8 sec[                  1%                  ] 28 of 2000 complete in 15.9 sec[                  1%                  ] 29 of 2000 complete in 15.9 sec[                  1%                  ] 30 of 2000 complete in 16.0 sec[                  1%                  ] 30 of 2000 complete in 16.4 sec[                  1%                  ] 29 of 2000 complete in 16.5 sec[                  1%                  ] 30 of 2000 complete in 16.5 sec[                  1%                  ] 31 of 2000 complete in 16.8 sec[                  1%                  ] 31 of 2000 complete in 17.0 sec[                  1%                  ] 30 of 2000 complete in 17.1 sec[                  1%                  ] 31 of 2000 complete in 17.2 sec[                  1%                  ] 32 of 2000 complete in 17.4 sec[                  1%                  ] 31 of 2000 complete in 17.6 sec[                  1%                  ] 32 of 2000 complete in 17.7 sec[                  1%                  ] 33 of 2000 complete in 17.9 sec[                  1%                  ] 32 of 2000 complete in 18.2 sec"
     ]
    },
    {
     "name": "stdout",
     "output_type": "stream",
     "text": [
      " [                  1%                  ] 33 of 2000 complete in 18.2 sec[                  1%                  ] 33 of 2000 complete in 18.4 sec[                  1%                  ] 34 of 2000 complete in 18.4 sec[                  1%                  ] 33 of 2000 complete in 18.8 sec[                  1%                  ] 34 of 2000 complete in 18.9 sec[                  1%                  ] 35 of 2000 complete in 19.0 sec[                  1%                  ] 35 of 2000 complete in 19.1 sec[                  1%                  ] 34 of 2000 complete in 19.5 sec[                  1%                  ] 36 of 2000 complete in 19.5 sec[                  1%                  ] 36 of 2000 complete in 19.6 sec[                  1%                  ] 36 of 2000 complete in 19.9 sec[                  1%                  ] 37 of 2000 complete in 20.1 sec[                  1%                  ] 35 of 2000 complete in 20.1 sec[                  1%                  ] 37 of 2000 complete in 20.5 sec[                  1%                  ] 36 of 2000 complete in 20.7 sec[                  1%                  ] 38 of 2000 complete in 20.7 sec[                  1%                  ] 38 of 2000 complete in 20.7 sec[                  1%                  ] 38 of 2000 complete in 21.1 sec[                  1%                  ] 37 of 2000 complete in 21.2 sec[                  1%                  ] 39 of 2000 complete in 21.3 sec[                  1%                  ] 39 of 2000 complete in 21.4 sec[                  1%                  ] 38 of 2000 complete in 21.8 sec[                  1%                  ] 39 of 2000 complete in 21.8 sec[                  2%                  ] 40 of 2000 complete in 21.9 sec[                  2%                  ] 40 of 2000 complete in 22.0 sec[                  2%                  ] 40 of 2000 complete in 22.3 sec[                  2%                  ] 41 of 2000 complete in 22.6 sec[                  2%                  ] 41 of 2000 complete in 22.5 sec[                  2%                  ] 41 of 2000 complete in 22.8 sec[                  2%                  ] 40 of 2000 complete in 23.0 sec[                  2%                  ] 42 of 2000 complete in 23.1 sec[                  2%                  ] 42 of 2000 complete in 23.2 sec[                  2%                  ] 42 of 2000 complete in 23.3 sec[                  2%                  ] 41 of 2000 complete in 23.6 sec[                  2%                  ] 43 of 2000 complete in 23.7 sec[                  2%                  ] 43 of 2000 complete in 23.7 sec[                  2%                  ] 43 of 2000 complete in 23.9 sec[                  2%                  ] 42 of 2000 complete in 24.1 sec[                  2%                  ] 44 of 2000 complete in 24.2 sec[                  2%                  ] 44 of 2000 complete in 24.4 sec[                  2%                  ] 44 of 2000 complete in 24.4 sec[                  2%                  ] 45 of 2000 complete in 24.8 sec[                  2%                  ] 45 of 2000 complete in 25.0 sec[                  2%                  ] 44 of 2000 complete in 25.1 sec[                  2%                  ] 45 of 2000 complete in 25.1 sec[                  2%                  ] 46 of 2000 complete in 25.3 sec[                  2%                  ] 46 of 2000 complete in 25.6 sec[                  2%                  ] 45 of 2000 complete in 25.7 sec[                  2%                  ] 47 of 2000 complete in 26.0 sec[                  2%                  ] 47 of 2000 complete in 26.1 sec[                  2%                  ] 47 of 2000 complete in 26.1 sec[                  2%                  ] 46 of 2000 complete in 26.2 sec[                  2%                  ] 48 of 2000 complete in 26.6 sec[                  2%                  ] 48 of 2000 complete in 26.6 sec[                  2%                  ] 47 of 2000 complete in 26.7 sec[                  2%                  ] 48 of 2000 complete in 26.8 sec[                  2%                  ] 49 of 2000 complete in 27.2 sec[                  2%                  ] 49 of 2000 complete in 27.2 sec[                  2%                  ] 48 of 2000 complete in 27.3 sec[                  2%                  ] 49 of 2000 complete in 27.3 sec[                  2%                  ] 50 of 2000 complete in 27.8 sec[                  2%                  ] 50 of 2000 complete in 27.8 sec[                  2%                  ] 49 of 2000 complete in 27.8 sec[                  2%                  ] 50 of 2000 complete in 27.9 sec[                  2%                  ] 51 of 2000 complete in 28.4 sec[                  2%                  ] 50 of 2000 complete in 28.4 sec[                  2%                  ] 51 of 2000 complete in 28.4 sec[                  2%                  ] 51 of 2000 complete in 28.6 sec[                  2%                  ] 52 of 2000 complete in 28.9 sec[                  2%                  ] 52 of 2000 complete in 29.1 sec[                  2%                  ] 51 of 2000 complete in 29.1 sec[                  2%                  ] 52 of 2000 complete in 29.3 sec[                  2%                  ] 52 of 2000 complete in 29.6 sec[-                 2%                  ] 53 of 2000 complete in 29.6 sec[-                 2%                  ] 53 of 2000 complete in 29.7 sec[-                 2%                  ] 53 of 2000 complete in 30.1 sec[-                 2%                  ] 53 of 2000 complete in 30.2 sec[-                 2%                  ] 54 of 2000 complete in 30.2 sec[-                 2%                  ] 54 of 2000 complete in 30.3 sec[-                 2%                  ] 54 of 2000 complete in 30.7 sec[-                 2%                  ] 55 of 2000 complete in 30.7 sec[-                 2%                  ] 54 of 2000 complete in 30.8 sec[-                 2%                  ] 55 of 2000 complete in 31.1 sec[-                 2%                  ] 55 of 2000 complete in 31.3 sec[-                 2%                  ] 56 of 2000 complete in 31.4 sec[-                 2%                  ] 55 of 2000 complete in 31.4 sec[-                 2%                  ] 56 of 2000 complete in 31.9 sec[-                 2%                  ] 56 of 2000 complete in 31.8 sec[-                 2%                  ] 56 of 2000 complete in 32.0 sec[-                 2%                  ] 58 of 2000 complete in 32.4 sec[-                 2%                  ] 57 of 2000 complete in 32.5 sec[-                 2%                  ] 57 of 2000 complete in 32.5 sec[-                 2%                  ] 57 of 2000 complete in 32.6 sec[-                 2%                  ] 59 of 2000 complete in 33.0 sec[-                 2%                  ] 58 of 2000 complete in 33.2 sec[-                 2%                  ] 58 of 2000 complete in 33.2 sec[-                 2%                  ] 58 of 2000 complete in 33.3 sec[-                 3%                  ] 60 of 2000 complete in 33.5 sec[-                 2%                  ] 59 of 2000 complete in 33.9 sec[-                 2%                  ] 59 of 2000 complete in 33.9 sec[-                 2%                  ] 59 of 2000 complete in 34.1 sec[-                 3%                  ] 61 of 2000 complete in 34.1 sec[-                 3%                  ] 60 of 2000 complete in 34.6 sec[-                 3%                  ] 60 of 2000 complete in 34.6 sec[-                 3%                  ] 62 of 2000 complete in 34.7 sec[-                 3%                  ] 60 of 2000 complete in 34.7 sec[-                 3%                  ] 61 of 2000 complete in 35.2 sec[-                 3%                  ] 61 of 2000 complete in 35.2 sec[-                 3%                  ] 61 of 2000 complete in 35.3 sec[-                 3%                  ] 64 of 2000 complete in 35.7 sec[-                 3%                  ] 62 of 2000 complete in 35.8 sec[-                 3%                  ] 62 of 2000 complete in 35.9 sec[-                 3%                  ] 62 of 2000 complete in 35.9 sec[-                 3%                  ] 65 of 2000 complete in 36.2 sec"
     ]
    },
    {
     "name": "stdout",
     "output_type": "stream",
     "text": [
      " [-                 3%                  ] 63 of 2000 complete in 36.3 sec[-                 3%                  ] 63 of 2000 complete in 36.4 sec[-                 3%                  ] 63 of 2000 complete in 36.5 sec[-                 3%                  ] 66 of 2000 complete in 36.9 sec[-                 3%                  ] 64 of 2000 complete in 37.0 sec[-                 3%                  ] 64 of 2000 complete in 37.2 sec[-                 3%                  ] 64 of 2000 complete in 37.3 sec[-                 3%                  ] 65 of 2000 complete in 37.6 sec[-                 3%                  ] 65 of 2000 complete in 37.7 sec[-                 3%                  ] 65 of 2000 complete in 37.8 sec[-                 3%                  ] 68 of 2000 complete in 37.9 sec[-                 3%                  ] 66 of 2000 complete in 38.2 sec[-                 3%                  ] 66 of 2000 complete in 38.3 sec[-                 3%                  ] 69 of 2000 complete in 38.5 sec[-                 3%                  ] 66 of 2000 complete in 38.5 sec[-                 3%                  ] 67 of 2000 complete in 38.8 sec[-                 3%                  ] 67 of 2000 complete in 39.0 sec[-                 3%                  ] 70 of 2000 complete in 39.1 sec[-                 3%                  ] 67 of 2000 complete in 39.2 sec[-                 3%                  ] 68 of 2000 complete in 39.4 sec[-                 3%                  ] 68 of 2000 complete in 39.5 sec[-                 3%                  ] 69 of 2000 complete in 39.9 sec[-                 3%                  ] 68 of 2000 complete in 40.0 sec[-                 3%                  ] 72 of 2000 complete in 40.1 sec[-                 3%                  ] 69 of 2000 complete in 40.2 sec[-                 3%                  ] 70 of 2000 complete in 40.5 sec[-                 3%                  ] 73 of 2000 complete in 40.6 sec[-                 3%                  ] 69 of 2000 complete in 40.7 sec[-                 3%                  ] 70 of 2000 complete in 40.8 sec[-                 3%                  ] 71 of 2000 complete in 41.1 sec[-                 3%                  ] 70 of 2000 complete in 41.3 sec[-                 3%                  ] 71 of 2000 complete in 41.4 sec[-                 3%                  ] 75 of 2000 complete in 41.7 sec[-                 3%                  ] 72 of 2000 complete in 41.7 sec[-                 3%                  ] 71 of 2000 complete in 41.9 sec[-                 3%                  ] 72 of 2000 complete in 42.0 sec[-                 3%                  ] 76 of 2000 complete in 42.3 sec[-                 3%                  ] 73 of 2000 complete in 42.2 sec[-                 3%                  ] 72 of 2000 complete in 42.6 sec[-                 3%                  ] 73 of 2000 complete in 42.6 sec[-                 3%                  ] 74 of 2000 complete in 42.8 sec[-                 3%                  ] 77 of 2000 complete in 42.9 sec[-                 3%                  ] 73 of 2000 complete in 43.2 sec[-                 3%                  ] 74 of 2000 complete in 43.3 sec[-                 3%                  ] 78 of 2000 complete in 43.4 sec[-                 3%                  ] 75 of 2000 complete in 43.5 sec[-                 3%                  ] 75 of 2000 complete in 43.9 sec[-                 3%                  ] 79 of 2000 complete in 44.0 sec[-                 3%                  ] 74 of 2000 complete in 44.0 sec[-                 3%                  ] 76 of 2000 complete in 44.1 sec[-                 4%                  ] 80 of 2000 complete in 44.5 sec[-                 3%                  ] 75 of 2000 complete in 44.6 sec[-                 3%                  ] 76 of 2000 complete in 44.6 sec[-                 3%                  ] 77 of 2000 complete in 44.8 sec[-                 4%                  ] 81 of 2000 complete in 45.1 sec[-                 3%                  ] 76 of 2000 complete in 45.2 sec[-                 3%                  ] 77 of 2000 complete in 45.3 sec[-                 3%                  ] 78 of 2000 complete in 45.4 sec[-                 4%                  ] 82 of 2000 complete in 45.7 sec[-                 3%                  ] 77 of 2000 complete in 45.8 sec[-                 3%                  ] 78 of 2000 complete in 45.9 sec[-                 3%                  ] 79 of 2000 complete in 46.0 sec[-                 4%                  ] 83 of 2000 complete in 46.3 sec[-                 3%                  ] 79 of 2000 complete in 46.5 sec[-                 3%                  ] 78 of 2000 complete in 46.5 sec[-                 4%                  ] 80 of 2000 complete in 46.6 sec[-                 4%                  ] 84 of 2000 complete in 46.8 sec[-                 4%                  ] 81 of 2000 complete in 47.1 sec[-                 3%                  ] 79 of 2000 complete in 47.1 sec[-                 4%                  ] 85 of 2000 complete in 47.3 sec[-                 4%                  ] 81 of 2000 complete in 47.4 sec[-                 4%                  ] 82 of 2000 complete in 47.7 sec[-                 4%                  ] 80 of 2000 complete in 47.7 sec[-                 4%                  ] 86 of 2000 complete in 47.9 sec[-                 4%                  ] 82 of 2000 complete in 48.0 sec[-                 4%                  ] 83 of 2000 complete in 48.3 sec[-                 4%                  ] 81 of 2000 complete in 48.3 sec[-                 4%                  ] 87 of 2000 complete in 48.5 sec[-                 4%                  ] 83 of 2000 complete in 48.7 sec[-                 4%                  ] 84 of 2000 complete in 48.9 sec[-                 4%                  ] 82 of 2000 complete in 49.0 sec[-                 4%                  ] 88 of 2000 complete in 49.0 sec[-                 4%                  ] 84 of 2000 complete in 49.3 sec[-                 4%                  ] 89 of 2000 complete in 49.6 sec[-                 4%                  ] 83 of 2000 complete in 49.6 sec[-                 4%                  ] 85 of 2000 complete in 49.8 sec[-                 4%                  ] 86 of 2000 complete in 49.9 sec[-                 4%                  ] 90 of 2000 complete in 50.1 sec[-                 4%                  ] 84 of 2000 complete in 50.2 sec[-                 4%                  ] 87 of 2000 complete in 50.5 sec[-                 4%                  ] 86 of 2000 complete in 50.5 sec[-                 4%                  ] 91 of 2000 complete in 50.8 sec[-                 4%                  ] 85 of 2000 complete in 50.8 sec[-                 4%                  ] 88 of 2000 complete in 51.0 sec[-                 4%                  ] 87 of 2000 complete in 51.2 sec[-                 4%                  ] 92 of 2000 complete in 51.5 sec[-                 4%                  ] 86 of 2000 complete in 51.4 sec[-                 4%                  ] 89 of 2000 complete in 51.5 sec[-                 4%                  ] 88 of 2000 complete in 51.8 sec[-                 4%                  ] 93 of 2000 complete in 52.0 sec[-                 4%                  ] 87 of 2000 complete in 52.0 sec[-                 4%                  ] 90 of 2000 complete in 52.1 sec[-                 4%                  ] 89 of 2000 complete in 52.5 sec[-                 4%                  ] 94 of 2000 complete in 52.6 sec[-                 4%                  ] 91 of 2000 complete in 52.6 sec[-                 4%                  ] 88 of 2000 complete in 52.6 sec[-                 4%                  ] 95 of 2000 complete in 53.1 sec[-                 4%                  ] 92 of 2000 complete in 53.2 sec[-                 4%                  ] 90 of 2000 complete in 53.2 sec[-                 4%                  ] 89 of 2000 complete in 53.3 sec[-                 4%                  ] 96 of 2000 complete in 53.7 sec[-                 4%                  ] 91 of 2000 complete in 53.8 sec[-                 4%                  ] 90 of 2000 complete in 53.8 sec[-                 4%                  ] 94 of 2000 complete in 54.2 sec"
     ]
    },
    {
     "name": "stdout",
     "output_type": "stream",
     "text": [
      " --                5%                  ] 118 of 2000 complete in 68.4 sec[-                 4%                  ] 92 of 2000 complete in 54.4 sec[-                 4%                  ] 91 of 2000 complete in 54.4 sec[-                 4%                  ] 95 of 2000 complete in 54.7 sec[-                 4%                  ] 98 of 2000 complete in 54.9 sec[-                 4%                  ] 93 of 2000 complete in 55.0 sec[-                 4%                  ] 92 of 2000 complete in 55.0 sec[-                 4%                  ] 96 of 2000 complete in 55.2 sec[-                 4%                  ] 99 of 2000 complete in 55.5 sec[-                 4%                  ] 94 of 2000 complete in 55.6 sec[-                 4%                  ] 93 of 2000 complete in 55.6 sec[-                 4%                  ] 97 of 2000 complete in 55.8 sec[-                 4%                  ] 95 of 2000 complete in 56.3 sec[-                 4%                  ] 94 of 2000 complete in 56.3 sec[-                 4%                  ] 98 of 2000 complete in 56.3 sec[-                 5%                  ] 101 of 2000 complete in 56.6 sec[-                 4%                  ] 96 of 2000 complete in 56.8 sec[-                 4%                  ] 95 of 2000 complete in 56.8 sec[-                 4%                  ] 99 of 2000 complete in 57.0 sec[-                 5%                  ] 102 of 2000 complete in 57.1 sec[-                 4%                  ] 97 of 2000 complete in 57.4 sec[-                 4%                  ] 96 of 2000 complete in 57.5 sec[-                 5%                  ] 100 of 2000 complete in 57.7 sec[-                 5%                  ] 103 of 2000 complete in 57.7 sec[-                 4%                  ] 98 of 2000 complete in 58.1 sec[-                 4%                  ] 97 of 2000 complete in 58.1 sec[-                 5%                  ] 101 of 2000 complete in 58.3 sec[-                 5%                  ] 104 of 2000 complete in 58.4 sec[-                 4%                  ] 99 of 2000 complete in 58.7 sec[-                 4%                  ] 98 of 2000 complete in 58.7 sec[-                 5%                  ] 102 of 2000 complete in 58.9 sec[-                 5%                  ] 105 of 2000 complete in 59.2 sec[-                 5%                  ] 100 of 2000 complete in 59.4 sec[-                 4%                  ] 99 of 2000 complete in 59.4 sec[-                 5%                  ] 103 of 2000 complete in 59.5 sec[--                5%                  ] 106 of 2000 complete in 59.8 sec[-                 5%                  ] 104 of 2000 complete in 60.1 sec[-                 5%                  ] 100 of 2000 complete in 60.1 sec[-                 5%                  ] 101 of 2000 complete in 60.1 sec[--                5%                  ] 107 of 2000 complete in 60.4 sec[-                 5%                  ] 105 of 2000 complete in 60.7 sec[-                 5%                  ] 101 of 2000 complete in 60.7 sec[-                 5%                  ] 102 of 2000 complete in 60.8 sec[--                5%                  ] 108 of 2000 complete in 61.1 sec[--                5%                  ] 106 of 2000 complete in 61.2 sec[-                 5%                  ] 102 of 2000 complete in 61.2 sec[-                 5%                  ] 103 of 2000 complete in 61.5 sec[--                5%                  ] 109 of 2000 complete in 61.7 sec[--                5%                  ] 107 of 2000 complete in 61.8 sec[-                 5%                  ] 103 of 2000 complete in 61.9 sec[-                 5%                  ] 104 of 2000 complete in 62.1 sec[--                5%                  ] 110 of 2000 complete in 62.2 sec[--                5%                  ] 108 of 2000 complete in 62.3 sec[-                 5%                  ] 104 of 2000 complete in 62.5 sec[-                 5%                  ] 105 of 2000 complete in 62.7 sec[--                5%                  ] 111 of 2000 complete in 62.8 sec[--                5%                  ] 109 of 2000 complete in 62.9 sec[-                 5%                  ] 105 of 2000 complete in 63.0 sec[--                5%                  ] 112 of 2000 complete in 63.3 sec[--                5%                  ] 106 of 2000 complete in 63.4 sec[--                5%                  ] 110 of 2000 complete in 63.4 sec[--                5%                  ] 106 of 2000 complete in 63.6 sec[--                5%                  ] 113 of 2000 complete in 63.8 sec[--                5%                  ] 111 of 2000 complete in 64.0 sec[--                5%                  ] 107 of 2000 complete in 64.1 sec[--                5%                  ] 107 of 2000 complete in 64.3 sec[--                5%                  ] 114 of 2000 complete in 64.4 sec[--                5%                  ] 112 of 2000 complete in 64.7 sec[--                5%                  ] 108 of 2000 complete in 64.7 sec[--                5%                  ] 108 of 2000 complete in 64.8 sec[--                5%                  ] 115 of 2000 complete in 65.0 sec[--                5%                  ] 113 of 2000 complete in 65.3 sec[--                5%                  ] 109 of 2000 complete in 65.4 sec[--                5%                  ] 109 of 2000 complete in 65.4 sec[--                5%                  ] 116 of 2000 complete in 65.5 sec[--                5%                  ] 114 of 2000 complete in 65.8 sec[--                5%                  ] 110 of 2000 complete in 65.9 sec[--                5%                  ] 110 of 2000 complete in 65.9 sec[--                5%                  ] 117 of 2000 complete in 66.1 sec[--                5%                  ] 115 of 2000 complete in 66.5 sec[--                5%                  ] 111 of 2000 complete in 66.6 sec[--                5%                  ] 111 of 2000 complete in 66.6 sec[--                5%                  ] 118 of 2000 complete in 66.7 sec[--                5%                  ] 116 of 2000 complete in 67.2 sec[--                5%                  ] 112 of 2000 complete in 67.3 sec[--                5%                  ] 112 of 2000 complete in 67.3 sec[--                5%                  ] 119 of 2000 complete in 67.3 sec[--                5%                  ] 117 of 2000 complete in 67.8 sec[--                5%                  ] 113 of 2000 complete in 67.9 sec[--                5%                  ] 113 of 2000 complete in 67.9 sec[--                6%                  ] 120 of 2000 complete in 68.0 sec [--                5%                  ] 114 of 2000 complete in 68.4 sec[--                5%                  ] 114 of 2000 complete in 68.4 sec[--                6%                  ] 121 of 2000 complete in 68.5 sec[--                5%                  ] 119 of 2000 complete in 68.9 sec[--                5%                  ] 115 of 2000 complete in 69.0 sec[--                5%                  ] 115 of 2000 complete in 69.0 sec[--                6%                  ] 122 of 2000 complete in 69.1 sec[--                5%                  ] 116 of 2000 complete in 69.5 sec[--                5%                  ] 116 of 2000 complete in 69.6 sec[--                6%                  ] 121 of 2000 complete in 69.7 sec[--                6%                  ] 123 of 2000 complete in 69.7 sec[--                5%                  ] 117 of 2000 complete in 70.1 sec[--                6%                  ] 122 of 2000 complete in 70.2 sec[--                6%                  ] 124 of 2000 complete in 70.3 sec[--                5%                  ] 117 of 2000 complete in 70.3 sec[--                5%                  ] 118 of 2000 complete in 70.8 sec[--                6%                  ] 123 of 2000 complete in 70.8 sec[--                6%                  ] 125 of 2000 complete in 70.9 sec[--                5%                  ] 118 of 2000 complete in 71.0 sec[--                6%                  ] 124 of 2000 complete in 71.4 sec[--                6%                  ] 126 of 2000 complete in 71.5 sec[--                5%                  ] 119 of 2000 complete in 71.5 sec"
     ]
    },
    {
     "name": "stdout",
     "output_type": "stream",
     "text": [
      " [--                5%                  ] 119 of 2000 complete in 71.5 sec[--                6%                  ] 125 of 2000 complete in 71.9 sec[--                6%                  ] 127 of 2000 complete in 72.1 sec[--                6%                  ] 120 of 2000 complete in 72.2 sec[--                6%                  ] 120 of 2000 complete in 72.2 sec[--                6%                  ] 126 of 2000 complete in 72.5 sec[--                6%                  ] 128 of 2000 complete in 72.7 sec[--                6%                  ] 121 of 2000 complete in 73.0 sec[--                6%                  ] 121 of 2000 complete in 73.0 sec[--                6%                  ] 127 of 2000 complete in 73.1 sec[--                6%                  ] 129 of 2000 complete in 73.2 sec[--                6%                  ] 128 of 2000 complete in 73.7 sec[--                6%                  ] 122 of 2000 complete in 73.7 sec[--                6%                  ] 130 of 2000 complete in 73.8 sec[--                6%                  ] 122 of 2000 complete in 73.8 sec[--                6%                  ] 129 of 2000 complete in 74.3 sec[--                6%                  ] 131 of 2000 complete in 74.4 sec[--                6%                  ] 123 of 2000 complete in 74.4 sec[--                6%                  ] 123 of 2000 complete in 74.5 sec[--                6%                  ] 130 of 2000 complete in 75.0 sec[--                6%                  ] 124 of 2000 complete in 75.0 sec[--                6%                  ] 132 of 2000 complete in 75.1 sec[--                6%                  ] 124 of 2000 complete in 75.3 sec[--                6%                  ] 131 of 2000 complete in 75.6 sec[--                6%                  ] 125 of 2000 complete in 75.6 sec[--                6%                  ] 133 of 2000 complete in 75.6 sec[--                6%                  ] 125 of 2000 complete in 76.0 sec[--                6%                  ] 132 of 2000 complete in 76.2 sec[--                6%                  ] 134 of 2000 complete in 76.3 sec[--                6%                  ] 126 of 2000 complete in 76.7 sec[--                6%                  ] 133 of 2000 complete in 76.7 sec[--                6%                  ] 127 of 2000 complete in 76.7 sec[--                6%                  ] 135 of 2000 complete in 76.9 sec[--                6%                  ] 134 of 2000 complete in 77.4 sec[--                6%                  ] 128 of 2000 complete in 77.4 sec[--                6%                  ] 127 of 2000 complete in 77.4 sec[--                6%                  ] 136 of 2000 complete in 77.5 sec[--                6%                  ] 135 of 2000 complete in 78.0 sec[--                6%                  ] 129 of 2000 complete in 78.1 sec[--                6%                  ] 128 of 2000 complete in 78.1 sec[--                6%                  ] 137 of 2000 complete in 78.2 sec[--                6%                  ] 136 of 2000 complete in 78.6 sec[--                6%                  ] 129 of 2000 complete in 78.8 sec[--                6%                  ] 130 of 2000 complete in 78.8 sec[--                6%                  ] 138 of 2000 complete in 79.1 sec[--                6%                  ] 131 of 2000 complete in 79.3 sec[--                6%                  ] 138 of 2000 complete in 79.5 sec[--                6%                  ] 130 of 2000 complete in 79.6 sec[--                6%                  ] 139 of 2000 complete in 79.9 sec[--                6%                  ] 132 of 2000 complete in 79.9 sec[--                6%                  ] 139 of 2000 complete in 80.0 sec[--                6%                  ] 131 of 2000 complete in 80.4 sec[--                7%                  ] 140 of 2000 complete in 80.6 sec[--                6%                  ] 133 of 2000 complete in 80.5 sec[--                7%                  ] 140 of 2000 complete in 80.6 sec[--                7%                  ] 141 of 2000 complete in 81.1 sec[--                7%                  ] 141 of 2000 complete in 81.1 sec[--                6%                  ] 132 of 2000 complete in 81.2 sec[--                6%                  ] 134 of 2000 complete in 81.2 sec[--                7%                  ] 142 of 2000 complete in 81.7 sec[--                7%                  ] 142 of 2000 complete in 81.8 sec[--                6%                  ] 135 of 2000 complete in 81.8 sec[--                6%                  ] 133 of 2000 complete in 81.9 sec[--                7%                  ] 143 of 2000 complete in 82.3 sec[--                7%                  ] 143 of 2000 complete in 82.4 sec[--                6%                  ] 136 of 2000 complete in 82.4 sec[--                6%                  ] 134 of 2000 complete in 82.7 sec[--                7%                  ] 144 of 2000 complete in 82.9 sec[--                7%                  ] 144 of 2000 complete in 83.0 sec[--                6%                  ] 137 of 2000 complete in 83.0 sec[--                7%                  ] 145 of 2000 complete in 83.5 sec[--                6%                  ] 135 of 2000 complete in 83.5 sec[--                7%                  ] 145 of 2000 complete in 83.6 sec[--                6%                  ] 138 of 2000 complete in 83.6 sec[--                7%                  ] 146 of 2000 complete in 84.1 sec[--                7%                  ] 146 of 2000 complete in 84.2 sec[--                6%                  ] 139 of 2000 complete in 84.2 sec[--                6%                  ] 136 of 2000 complete in 84.4 sec[--                7%                  ] 147 of 2000 complete in 84.8 sec[--                7%                  ] 147 of 2000 complete in 84.8 sec[--                7%                  ] 140 of 2000 complete in 84.9 sec[--                6%                  ] 137 of 2000 complete in 85.1 sec[--                7%                  ] 148 of 2000 complete in 85.4 sec[--                7%                  ] 148 of 2000 complete in 85.4 sec[--                7%                  ] 141 of 2000 complete in 85.4 sec[--                6%                  ] 138 of 2000 complete in 85.7 sec[--                7%                  ] 149 of 2000 complete in 86.0 sec[--                7%                  ] 149 of 2000 complete in 86.0 sec[--                7%                  ] 142 of 2000 complete in 85.9 sec[--                6%                  ] 139 of 2000 complete in 86.3 sec[--                7%                  ] 143 of 2000 complete in 86.4 sec[--                7%                  ] 150 of 2000 complete in 86.5 sec[--                7%                  ] 150 of 2000 complete in 86.6 sec[--                7%                  ] 140 of 2000 complete in 87.1 sec[--                7%                  ] 144 of 2000 complete in 87.1 sec[--                7%                  ] 151 of 2000 complete in 87.2 sec[--                7%                  ] 151 of 2000 complete in 87.3 sec[--                7%                  ] 145 of 2000 complete in 87.6 sec[--                7%                  ] 141 of 2000 complete in 87.7 sec[--                7%                  ] 152 of 2000 complete in 87.9 sec[--                7%                  ] 152 of 2000 complete in 87.9 sec[--                7%                  ] 146 of 2000 complete in 88.2 sec[--                7%                  ] 153 of 2000 complete in 88.5 sec[--                7%                  ] 142 of 2000 complete in 88.5 sec[--                7%                  ] 153 of 2000 complete in 88.5 sec[--                7%                  ] 147 of 2000 complete in 88.8 sec[--                7%                  ] 154 of 2000 complete in 89.2 sec[--                7%                  ] 154 of 2000 complete in 89.2 sec[--                7%                  ] 143 of 2000 complete in 89.2 sec[--                7%                  ] 148 of 2000 complete in 89.5 sec[--                7%                  ] 155 of 2000 complete in 89.7 sec[--                7%                  ] 155 of 2000 complete in 89.8 sec[--                7%                  ] 144 of 2000 complete in 89.9 sec"
     ]
    },
    {
     "name": "stdout",
     "output_type": "stream",
     "text": [
      " [--                7%                  ] 149 of 2000 complete in 90.1 sec[--                7%                  ] 156 of 2000 complete in 90.4 sec[--                7%                  ] 156 of 2000 complete in 90.5 sec[--                7%                  ] 145 of 2000 complete in 90.6 sec[--                7%                  ] 150 of 2000 complete in 90.7 sec[--                7%                  ] 157 of 2000 complete in 91.0 sec[--                7%                  ] 157 of 2000 complete in 91.1 sec[--                7%                  ] 151 of 2000 complete in 91.2 sec[--                7%                  ] 146 of 2000 complete in 91.4 sec[---               7%                  ] 158 of 2000 complete in 91.7 sec[---               7%                  ] 158 of 2000 complete in 91.9 sec[--                7%                  ] 152 of 2000 complete in 91.9 sec[--                7%                  ] 147 of 2000 complete in 92.1 sec[---               7%                  ] 159 of 2000 complete in 92.4 sec[--                7%                  ] 153 of 2000 complete in 92.5 sec[---               7%                  ] 159 of 2000 complete in 92.6 sec[--                7%                  ] 148 of 2000 complete in 92.8 sec[--                7%                  ] 154 of 2000 complete in 93.0 sec[---               8%                  ] 160 of 2000 complete in 93.2 sec[---               8%                  ] 160 of 2000 complete in 93.2 sec[--                7%                  ] 149 of 2000 complete in 93.4 sec[--                7%                  ] 155 of 2000 complete in 93.7 sec[---               8%                  ] 161 of 2000 complete in 93.8 sec[---               8%                  ] 161 of 2000 complete in 93.8 sec[--                7%                  ] 150 of 2000 complete in 94.2 sec[--                7%                  ] 156 of 2000 complete in 94.4 sec[---               8%                  ] 162 of 2000 complete in 94.5 sec[---               8%                  ] 162 of 2000 complete in 94.5 sec[--                7%                  ] 151 of 2000 complete in 94.9 sec[--                7%                  ] 157 of 2000 complete in 94.9 sec[---               8%                  ] 163 of 2000 complete in 95.1 sec[---               8%                  ] 163 of 2000 complete in 95.2 sec[---               7%                  ] 158 of 2000 complete in 95.5 sec[---               8%                  ] 164 of 2000 complete in 95.7 sec[--                7%                  ] 152 of 2000 complete in 95.7 sec[---               8%                  ] 164 of 2000 complete in 95.9 sec[---               7%                  ] 159 of 2000 complete in 96.2 sec[---               8%                  ] 165 of 2000 complete in 96.4 sec[---               8%                  ] 165 of 2000 complete in 96.5 sec[--                7%                  ] 153 of 2000 complete in 96.5 sec[---               8%                  ] 160 of 2000 complete in 96.7 sec[---               8%                  ] 166 of 2000 complete in 97.1 sec[---               8%                  ] 166 of 2000 complete in 97.1 sec[--                7%                  ] 154 of 2000 complete in 97.1 sec[---               8%                  ] 161 of 2000 complete in 97.3 sec[---               8%                  ] 167 of 2000 complete in 97.7 sec[---               8%                  ] 167 of 2000 complete in 97.7 sec[--                7%                  ] 155 of 2000 complete in 97.8 sec[---               8%                  ] 162 of 2000 complete in 97.9 sec[---               8%                  ] 168 of 2000 complete in 98.4 sec  [---               8%                  ] 168 of 2000 complete in 98.4 sec[--                7%                  ] 156 of 2000 complete in 98.4 sec[---               8%                  ] 163 of 2000 complete in 98.6 sec[--                7%                  ] 157 of 2000 complete in 99.0 sec[---               8%                  ] 169 of 2000 complete in 99.1 sec[---               8%                  ] 169 of 2000 complete in 99.1 sec[---               8%                  ] 164 of 2000 complete in 99.2 sec[---               7%                  ] 158 of 2000 complete in 99.6 sec[---               8%                  ] 170 of 2000 complete in 99.7 sec[---               8%                  ] 170 of 2000 complete in 99.8 sec[---               8%                  ] 165 of 2000 complete in 99.8 sec[---               7%                  ] 159 of 2000 complete in 100.2 sec[---               8%                  ] 171 of 2000 complete in 100.4 sec[---               8%                  ] 166 of 2000 complete in 100.4 sec[---               8%                  ] 171 of 2000 complete in 100.5 sec[---               8%                  ] 160 of 2000 complete in 100.8 sec[---               8%                  ] 167 of 2000 complete in 101.0 sec[---               8%                  ] 172 of 2000 complete in 101.2 sec[---               8%                  ] 161 of 2000 complete in 101.4 sec[---               8%                  ] 172 of 2000 complete in 101.4 sec[---               8%                  ] 168 of 2000 complete in 101.6 sec[---               8%                  ] 173 of 2000 complete in 102.0 sec[---               8%                  ] 162 of 2000 complete in 102.0 sec[---               8%                  ] 169 of 2000 complete in 102.2 sec[---               8%                  ] 173 of 2000 complete in 102.3 sec[---               8%                  ] 163 of 2000 complete in 102.6 sec[---               8%                  ] 174 of 2000 complete in 102.6 sec[---               8%                  ] 170 of 2000 complete in 102.8 sec[---               8%                  ] 174 of 2000 complete in 103.0 sec[---               8%                  ] 164 of 2000 complete in 103.2 sec[---               8%                  ] 175 of 2000 complete in 103.4 sec[---               8%                  ] 171 of 2000 complete in 103.5 sec[---               8%                  ] 165 of 2000 complete in 103.8 sec[---               8%                  ] 175 of 2000 complete in 103.8 sec[---               8%                  ] 176 of 2000 complete in 104.1 sec[---               8%                  ] 172 of 2000 complete in 104.1 sec[---               8%                  ] 166 of 2000 complete in 104.5 sec[---               8%                  ] 176 of 2000 complete in 104.7 sec[---               8%                  ] 177 of 2000 complete in 104.8 sec[---               8%                  ] 173 of 2000 complete in 104.9 sec[---               8%                  ] 167 of 2000 complete in 105.0 sec[---               8%                  ] 178 of 2000 complete in 105.5 sec[---               8%                  ] 177 of 2000 complete in 105.5 sec[---               8%                  ] 174 of 2000 complete in 105.5 sec[---               8%                  ] 168 of 2000 complete in 105.7 sec[---               8%                  ] 179 of 2000 complete in 106.1 sec[---               8%                  ] 175 of 2000 complete in 106.2 sec[---               8%                  ] 178 of 2000 complete in 106.4 sec[---               8%                  ] 169 of 2000 complete in 106.4 sec[---               9%                  ] 180 of 2000 complete in 107.0 sec[---               8%                  ] 170 of 2000 complete in 107.0 sec[---               8%                  ] 176 of 2000 complete in 107.0 sec[---               8%                  ] 179 of 2000 complete in 107.3 sec[---               8%                  ] 171 of 2000 complete in 107.6 sec[---               9%                  ] 181 of 2000 complete in 107.6 sec[---               8%                  ] 177 of 2000 complete in 107.8 sec[---               9%                  ] 180 of 2000 complete in 108.1 sec[---               8%                  ] 172 of 2000 complete in 108.2 sec[---               9%                  ] 182 of 2000 complete in 108.4 sec[---               8%                  ] 178 of 2000 complete in 108.5 sec[---               8%                  ] 173 of 2000 complete in 108.9 sec[---               9%                  ] 181 of 2000 complete in 109.1 sec"
     ]
    },
    {
     "name": "stdout",
     "output_type": "stream",
     "text": [
      " [---               9%                  ] 183 of 2000 complete in 109.2 sec[---               8%                  ] 179 of 2000 complete in 109.2 sec[---               8%                  ] 174 of 2000 complete in 109.5 sec[---               9%                  ] 180 of 2000 complete in 109.8 sec[---               9%                  ] 184 of 2000 complete in 109.9 sec[---               9%                  ] 182 of 2000 complete in 110.1 sec[---               8%                  ] 175 of 2000 complete in 110.2 sec[---               9%                  ] 185 of 2000 complete in 110.5 sec[---               9%                  ] 181 of 2000 complete in 110.6 sec[---               8%                  ] 176 of 2000 complete in 110.8 sec[---               9%                  ] 183 of 2000 complete in 111.0 sec[---               9%                  ] 186 of 2000 complete in 111.2 sec[---               9%                  ] 182 of 2000 complete in 111.3 sec[---               8%                  ] 177 of 2000 complete in 111.4 sec[---               9%                  ] 187 of 2000 complete in 111.8 sec[---               9%                  ] 184 of 2000 complete in 111.8 sec[---               9%                  ] 183 of 2000 complete in 111.9 sec[---               8%                  ] 178 of 2000 complete in 112.1 sec[---               9%                  ] 188 of 2000 complete in 112.4 sec[---               9%                  ] 185 of 2000 complete in 112.6 sec[---               8%                  ] 179 of 2000 complete in 112.7 sec[---               9%                  ] 184 of 2000 complete in 112.7 sec[---               9%                  ] 189 of 2000 complete in 113.0 sec[---               9%                  ] 180 of 2000 complete in 113.3 sec[---               9%                  ] 186 of 2000 complete in 113.4 sec[---               9%                  ] 185 of 2000 complete in 113.5 sec[---               9%                  ] 190 of 2000 complete in 113.6 sec[---               9%                  ] 181 of 2000 complete in 114.0 sec[---               9%                  ] 191 of 2000 complete in 114.2 sec[---               9%                  ] 186 of 2000 complete in 114.1 sec[---               9%                  ] 187 of 2000 complete in 114.2 sec[---               9%                  ] 182 of 2000 complete in 114.5 sec[---               9%                  ] 192 of 2000 complete in 114.7 sec[---               9%                  ] 187 of 2000 complete in 114.8 sec[---               9%                  ] 188 of 2000 complete in 115.1 sec[---               9%                  ] 183 of 2000 complete in 115.1 sec[---               9%                  ] 188 of 2000 complete in 115.5 sec[---               9%                  ] 184 of 2000 complete in 115.6 sec[---               9%                  ] 193 of 2000 complete in 115.7 sec[---               9%                  ] 189 of 2000 complete in 116.1 sec[---               9%                  ] 189 of 2000 complete in 116.1 sec[---               9%                  ] 185 of 2000 complete in 116.2 sec[---               9%                  ] 194 of 2000 complete in 116.3 sec[---               9%                  ] 190 of 2000 complete in 116.8 sec[---               9%                  ] 186 of 2000 complete in 116.8 sec[---               9%                  ] 195 of 2000 complete in 117.1 sec[---               9%                  ] 190 of 2000 complete in 117.1 sec[---               9%                  ] 191 of 2000 complete in 117.4 sec[---               9%                  ] 187 of 2000 complete in 117.4 sec[---               9%                  ] 196 of 2000 complete in 117.7 sec[---               9%                  ] 191 of 2000 complete in 118.0 sec[---               9%                  ] 188 of 2000 complete in 118.1 sec[---               9%                  ] 192 of 2000 complete in 118.0 sec[---               9%                  ] 197 of 2000 complete in 118.4 sec[---               9%                  ] 193 of 2000 complete in 118.6 sec[---               9%                  ] 189 of 2000 complete in 118.7 sec[---               9%                  ] 192 of 2000 complete in 119.1 sec[---               9%                  ] 198 of 2000 complete in 119.1 sec[---               9%                  ] 190 of 2000 complete in 119.3 sec[---               9%                  ] 194 of 2000 complete in 119.4 sec[---               9%                  ] 199 of 2000 complete in 119.8 sec[---               9%                  ] 191 of 2000 complete in 119.9 sec[---               9%                  ] 195 of 2000 complete in 120.0 sec[---               9%                  ] 193 of 2000 complete in 120.2 sec[---               9%                  ] 192 of 2000 complete in 120.4 sec[---              10%                  ] 200 of 2000 complete in 120.6 sec[---               9%                  ] 196 of 2000 complete in 120.8 sec[---               9%                  ] 193 of 2000 complete in 120.9 sec[---               9%                  ] 194 of 2000 complete in 121.0 sec[---              10%                  ] 201 of 2000 complete in 121.2 sec[---               9%                  ] 194 of 2000 complete in 121.5 sec[---               9%                  ] 197 of 2000 complete in 121.6 sec[---               9%                  ] 195 of 2000 complete in 121.9 sec[---              10%                  ] 202 of 2000 complete in 121.9 sec[---               9%                  ] 195 of 2000 complete in 122.1 sec[---               9%                  ] 198 of 2000 complete in 122.5 sec[---               9%                  ] 196 of 2000 complete in 122.6 sec[---              10%                  ] 203 of 2000 complete in 122.7 sec[---               9%                  ] 196 of 2000 complete in 122.8 sec[---              10%                  ] 204 of 2000 complete in 123.3 sec[---               9%                  ] 197 of 2000 complete in 123.4 sec[---               9%                  ] 199 of 2000 complete in 123.4 sec[---               9%                  ] 197 of 2000 complete in 123.7 sec[---              10%                  ] 205 of 2000 complete in 123.9 sec[---               9%                  ] 198 of 2000 complete in 124.0 sec[---              10%                  ] 200 of 2000 complete in 124.2 sec[---              10%                  ] 206 of 2000 complete in 124.6 sec[---               9%                  ] 198 of 2000 complete in 124.5 sec[---               9%                  ] 199 of 2000 complete in 124.6 sec[---              10%                  ] 201 of 2000 complete in 124.9 sec[---              10%                  ] 207 of 2000 complete in 125.3 sec[---              10%                  ] 200 of 2000 complete in 125.3 sec[---               9%                  ] 199 of 2000 complete in 125.4 sec[---              10%                  ] 202 of 2000 complete in 125.7 sec[---              10%                  ] 201 of 2000 complete in 125.8 sec[---              10%                  ] 208 of 2000 complete in 125.9 sec[---              10%                  ] 200 of 2000 complete in 126.2 sec[---              10%                  ] 203 of 2000 complete in 126.3 sec[---              10%                  ] 202 of 2000 complete in 126.4 sec[---              10%                  ] 209 of 2000 complete in 126.5 sec[---              10%                  ] 201 of 2000 complete in 127.0 sec[---              10%                  ] 203 of 2000 complete in 127.0 sec[---              10%                  ] 204 of 2000 complete in 127.1 sec[---              10%                  ] 210 of 2000 complete in 127.2 sec[---              10%                  ] 204 of 2000 complete in 127.6 sec[----             10%                  ] 211 of 2000 complete in 127.7 sec[---              10%                  ] 202 of 2000 complete in 127.7 sec[---              10%                  ] 205 of 2000 complete in 127.9 sec[---              10%                  ] 205 of 2000 complete in 128.2 sec[----             10%                  ] 212 of 2000 complete in 128.4 sec[---              10%                  ] 203 of 2000 complete in 128.5 sec"
     ]
    },
    {
     "name": "stdout",
     "output_type": "stream",
     "text": [
      " [---              10%                  ] 206 of 2000 complete in 128.6 sec[---              10%                  ] 206 of 2000 complete in 128.8 sec[----             10%                  ] 213 of 2000 complete in 129.0 sec[---              10%                  ] 204 of 2000 complete in 129.2 sec[---              10%                  ] 207 of 2000 complete in 129.5 sec[---              10%                  ] 207 of 2000 complete in 129.5 sec[----             10%                  ] 214 of 2000 complete in 129.6 sec[---              10%                  ] 205 of 2000 complete in 129.9 sec[---              10%                  ] 208 of 2000 complete in 130.2 sec[---              10%                  ] 208 of 2000 complete in 130.2 sec[----             10%                  ] 215 of 2000 complete in 130.4 sec[---              10%                  ] 206 of 2000 complete in 130.8 sec[---              10%                  ] 209 of 2000 complete in 130.8 sec[---              10%                  ] 209 of 2000 complete in 130.9 sec[----             10%                  ] 216 of 2000 complete in 131.0 sec[---              10%                  ] 210 of 2000 complete in 131.5 sec[---              10%                  ] 207 of 2000 complete in 131.6 sec[----             10%                  ] 217 of 2000 complete in 131.6 sec[---              10%                  ] 210 of 2000 complete in 131.7 sec[----             10%                  ] 211 of 2000 complete in 132.0 sec[----             10%                  ] 218 of 2000 complete in 132.3 sec[----             10%                  ] 211 of 2000 complete in 132.3 sec[---              10%                  ] 208 of 2000 complete in 132.6 sec[----             10%                  ] 212 of 2000 complete in 132.6 sec[----             10%                  ] 219 of 2000 complete in 132.8 sec[----             10%                  ] 212 of 2000 complete in 133.0 sec[----             10%                  ] 213 of 2000 complete in 133.2 sec[----             11%                  ] 220 of 2000 complete in 133.4 sec[---              10%                  ] 209 of 2000 complete in 133.4 sec[----             10%                  ] 213 of 2000 complete in 133.6 sec[----             10%                  ] 214 of 2000 complete in 133.9 sec[----             11%                  ] 221 of 2000 complete in 134.2 sec[---              10%                  ] 210 of 2000 complete in 134.2 sec[----             10%                  ] 214 of 2000 complete in 134.2 sec[----             10%                  ] 215 of 2000 complete in 134.6 sec[----             11%                  ] 222 of 2000 complete in 134.8 sec[----             10%                  ] 215 of 2000 complete in 134.9 sec[----             10%                  ] 211 of 2000 complete in 134.9 sec[----             10%                  ] 216 of 2000 complete in 135.2 sec[----             11%                  ] 223 of 2000 complete in 135.5 sec[----             10%                  ] 216 of 2000 complete in 135.7 sec[----             10%                  ] 212 of 2000 complete in 135.9 sec[----             10%                  ] 217 of 2000 complete in 135.9 sec[----             11%                  ] 224 of 2000 complete in 136.1 sec[----             10%                  ] 217 of 2000 complete in 136.4 sec[----             10%                  ] 218 of 2000 complete in 136.5 sec[----             11%                  ] 225 of 2000 complete in 136.6 sec[----             10%                  ] 213 of 2000 complete in 136.8 sec[----             10%                  ] 218 of 2000 complete in 137.0 sec[----             10%                  ] 219 of 2000 complete in 137.2 sec[----             11%                  ] 226 of 2000 complete in 137.3 sec[----             10%                  ] 214 of 2000 complete in 137.7 sec[----             10%                  ] 219 of 2000 complete in 137.6 sec[----             11%                  ] 220 of 2000 complete in 137.7 sec[----             11%                  ] 227 of 2000 complete in 138.0 sec[----             11%                  ] 220 of 2000 complete in 138.3 sec[----             10%                  ] 215 of 2000 complete in 138.4 sec[----             11%                  ] 228 of 2000 complete in 138.7 sec[----             11%                  ] 222 of 2000 complete in 138.8 sec[----             11%                  ] 221 of 2000 complete in 138.9 sec[----             10%                  ] 216 of 2000 complete in 139.3 sec[----             11%                  ] 223 of 2000 complete in 139.3 sec[----             11%                  ] 229 of 2000 complete in 139.4 sec[----             11%                  ] 222 of 2000 complete in 139.4 sec[----             11%                  ] 230 of 2000 complete in 140.0 sec[----             11%                  ] 224 of 2000 complete in 140.0 sec[----             11%                  ] 223 of 2000 complete in 140.1 sec[----             10%                  ] 217 of 2000 complete in 140.3 sec[----             11%                  ] 231 of 2000 complete in 140.7 sec[----             11%                  ] 225 of 2000 complete in 140.7 sec[----             11%                  ] 224 of 2000 complete in 140.8 sec[----             10%                  ] 218 of 2000 complete in 141.1 sec[----             11%                  ] 232 of 2000 complete in 141.3 sec[----             11%                  ] 226 of 2000 complete in 141.3 sec[----             11%                  ] 225 of 2000 complete in 141.5 sec[----             10%                  ] 219 of 2000 complete in 141.8 sec[----             11%                  ] 227 of 2000 complete in 142.0 sec[----             11%                  ] 233 of 2000 complete in 142.0 sec[----             11%                  ] 226 of 2000 complete in 142.2 sec[----             11%                  ] 228 of 2000 complete in 142.5 sec[----             11%                  ] 234 of 2000 complete in 142.6 sec[----             11%                  ] 220 of 2000 complete in 142.8 sec[----             11%                  ] 227 of 2000 complete in 142.8 sec[----             11%                  ] 235 of 2000 complete in 143.2 sec[----             11%                  ] 229 of 2000 complete in 143.1 sec[----             11%                  ] 221 of 2000 complete in 143.6 sec[----             11%                  ] 228 of 2000 complete in 143.6 sec[----             11%                  ] 236 of 2000 complete in 143.7 sec[----             11%                  ] 230 of 2000 complete in 143.7 sec[----             11%                  ] 237 of 2000 complete in 144.2 sec[----             11%                  ] 229 of 2000 complete in 144.3 sec[----             11%                  ] 231 of 2000 complete in 144.3 sec[----             11%                  ] 222 of 2000 complete in 144.6 sec[----             11%                  ] 238 of 2000 complete in 144.7 sec[----             11%                  ] 232 of 2000 complete in 144.9 sec[----             11%                  ] 230 of 2000 complete in 144.9 sec[----             11%                  ] 239 of 2000 complete in 145.3 sec[----             11%                  ] 223 of 2000 complete in 145.3 sec[----             11%                  ] 233 of 2000 complete in 145.4 sec[----             11%                  ] 231 of 2000 complete in 145.5 sec[----             12%                  ] 240 of 2000 complete in 146.0 sec[----             11%                  ] 234 of 2000 complete in 146.0 sec[----             11%                  ] 224 of 2000 complete in 146.3 sec[----             11%                  ] 232 of 2000 complete in 146.3 sec[----             12%                  ] 241 of 2000 complete in 146.6 sec[----             11%                  ] 235 of 2000 complete in 146.6 sec[----             11%                  ] 233 of 2000 complete in 146.9 sec[----             11%                  ] 225 of 2000 complete in 147.0 sec[----             12%                  ] 242 of 2000 complete in 147.2 sec[----             11%                  ] 236 of 2000 complete in 147.3 sec[----             11%                  ] 234 of 2000 complete in 147.4 sec"
     ]
    },
    {
     "name": "stdout",
     "output_type": "stream",
     "text": [
      " [----             12%                  ] 243 of 2000 complete in 147.9 sec[----             11%                  ] 237 of 2000 complete in 147.9 sec[----             11%                  ] 235 of 2000 complete in 147.9 sec[----             11%                  ] 226 of 2000 complete in 148.1 sec[----             12%                  ] 244 of 2000 complete in 148.6 sec[----             11%                  ] 238 of 2000 complete in 148.6 sec[----             11%                  ] 236 of 2000 complete in 148.6 sec[----             11%                  ] 227 of 2000 complete in 148.9 sec[----             11%                  ] 237 of 2000 complete in 149.2 sec[----             11%                  ] 239 of 2000 complete in 149.2 sec[----             12%                  ] 245 of 2000 complete in 149.3 sec[----             11%                  ] 238 of 2000 complete in 149.7 sec[----             11%                  ] 228 of 2000 complete in 149.9 sec[----             12%                  ] 246 of 2000 complete in 149.9 sec[----             12%                  ] 240 of 2000 complete in 150.0 sec[----             11%                  ] 239 of 2000 complete in 150.4 sec[----             12%                  ] 247 of 2000 complete in 150.5 sec[----             12%                  ] 241 of 2000 complete in 150.6 sec[----             11%                  ] 229 of 2000 complete in 150.8 sec[----             12%                  ] 248 of 2000 complete in 151.0 sec[----             12%                  ] 240 of 2000 complete in 151.0 sec[----             12%                  ] 242 of 2000 complete in 151.3 sec[----             12%                  ] 249 of 2000 complete in 151.6 sec[----             12%                  ] 241 of 2000 complete in 151.7 sec[----             11%                  ] 230 of 2000 complete in 151.8 sec[----             12%                  ] 243 of 2000 complete in 151.9 sec[----             12%                  ] 250 of 2000 complete in 152.1 sec[----             12%                  ] 242 of 2000 complete in 152.3 sec[----             12%                  ] 244 of 2000 complete in 152.4 sec[----             12%                  ] 251 of 2000 complete in 152.7 sec[----             11%                  ] 231 of 2000 complete in 152.8 sec[----             12%                  ] 243 of 2000 complete in 152.9 sec[----             12%                  ] 245 of 2000 complete in 153.0 sec[----             12%                  ] 252 of 2000 complete in 153.3 sec[----             12%                  ] 246 of 2000 complete in 153.6 sec[----             12%                  ] 244 of 2000 complete in 153.6 sec[----             12%                  ] 253 of 2000 complete in 153.9 sec[----             11%                  ] 232 of 2000 complete in 153.9 sec[----             12%                  ] 247 of 2000 complete in 154.2 sec[----             12%                  ] 245 of 2000 complete in 154.2 sec[----             12%                  ] 254 of 2000 complete in 154.4 sec[----             12%                  ] 248 of 2000 complete in 154.7 sec[----             12%                  ] 246 of 2000 complete in 154.8 sec[----             11%                  ] 233 of 2000 complete in 154.8 sec[----             12%                  ] 255 of 2000 complete in 155.0 sec[----             12%                  ] 249 of 2000 complete in 155.4 sec[----             12%                  ] 247 of 2000 complete in 155.4 sec[----             11%                  ] 234 of 2000 complete in 155.9 sec[----             12%                  ] 248 of 2000 complete in 156.0 sec[----             12%                  ] 257 of 2000 complete in 156.1 sec[----             12%                  ] 251 of 2000 complete in 156.5 sec[----             12%                  ] 258 of 2000 complete in 156.6 sec[----             12%                  ] 249 of 2000 complete in 156.6 sec[----             11%                  ] 235 of 2000 complete in 156.9 sec[----             12%                  ] 252 of 2000 complete in 157.1 sec[----             12%                  ] 259 of 2000 complete in 157.2 sec[----             12%                  ] 250 of 2000 complete in 157.3 sec[----             12%                  ] 253 of 2000 complete in 157.6 sec[----             11%                  ] 236 of 2000 complete in 157.7 sec[----             12%                  ] 251 of 2000 complete in 157.9 sec[----             12%                  ] 254 of 2000 complete in 158.2 sec[----             13%                  ] 261 of 2000 complete in 158.4 sec[----             12%                  ] 252 of 2000 complete in 158.4 sec[----             11%                  ] 237 of 2000 complete in 158.5 sec[----             12%                  ] 255 of 2000 complete in 158.7 sec[----             13%                  ] 262 of 2000 complete in 159.0 sec[----             12%                  ] 253 of 2000 complete in 159.0 sec[----             12%                  ] 256 of 2000 complete in 159.4 sec[----             11%                  ] 238 of 2000 complete in 159.4 sec[----             13%                  ] 263 of 2000 complete in 159.6 sec[----             12%                  ] 254 of 2000 complete in 159.7 sec[----             12%                  ] 257 of 2000 complete in 159.9 sec[-----            13%                  ] 264 of 2000 complete in 160.2 sec[----             12%                  ] 255 of 2000 complete in 160.4 sec[----             12%                  ] 258 of 2000 complete in 160.5 sec[----             11%                  ] 239 of 2000 complete in 160.6 sec[-----            13%                  ] 265 of 2000 complete in 160.8 sec[----             12%                  ] 259 of 2000 complete in 161.0 sec[----             12%                  ] 256 of 2000 complete in 161.1 sec[-----            13%                  ] 266 of 2000 complete in 161.5 sec[----             13%                  ] 260 of 2000 complete in 161.7 sec[----             12%                  ] 257 of 2000 complete in 161.7 sec[----             12%                  ] 240 of 2000 complete in 161.8 sec[-----            13%                  ] 267 of 2000 complete in 162.2 sec[----             13%                  ] 261 of 2000 complete in 162.2 sec[----             12%                  ] 258 of 2000 complete in 162.4 sec[-----            13%                  ] 268 of 2000 complete in 162.7 sec[----             12%                  ] 241 of 2000 complete in 162.8 sec[----             12%                  ] 259 of 2000 complete in 163.1 sec[-----            13%                  ] 269 of 2000 complete in 163.3 sec[----             13%                  ] 263 of 2000 complete in 163.3 sec[----             12%                  ] 242 of 2000 complete in 163.7 sec[----             13%                  ] 260 of 2000 complete in 163.7 sec[-----            13%                  ] 270 of 2000 complete in 163.9 sec[-----            13%                  ] 264 of 2000 complete in 164.0 sec[----             13%                  ] 261 of 2000 complete in 164.3 sec[----             12%                  ] 243 of 2000 complete in 164.5 sec[-----            13%                  ] 271 of 2000 complete in 164.6 sec[-----            13%                  ] 265 of 2000 complete in 164.7 sec[----             13%                  ] 262 of 2000 complete in 164.9 sec[-----            13%                  ] 272 of 2000 complete in 165.2 sec[-----            13%                  ] 266 of 2000 complete in 165.3 sec[----             12%                  ] 244 of 2000 complete in 165.4 sec[----             13%                  ] 263 of 2000 complete in 165.5 sec[-----            13%                  ] 273 of 2000 complete in 165.8 sec[-----            13%                  ] 267 of 2000 complete in 165.8 sec[-----            13%                  ] 264 of 2000 complete in 166.2 sec[----             12%                  ] 245 of 2000 complete in 166.3 sec[-----            13%                  ] 274 of 2000 complete in 166.3 sec[-----            13%                  ] 268 of 2000 complete in 166.4 sec[-----            13%                  ] 265 of 2000 complete in 166.8 sec"
     ]
    },
    {
     "name": "stdout",
     "output_type": "stream",
     "text": [
      " [-----            13%                  ] 275 of 2000 complete in 166.9 sec[-----            13%                  ] 269 of 2000 complete in 167.0 sec[----             12%                  ] 246 of 2000 complete in 167.1 sec[-----            13%                  ] 266 of 2000 complete in 167.4 sec[-----            13%                  ] 276 of 2000 complete in 167.6 sec[-----            13%                  ] 271 of 2000 complete in 167.8 sec[-----            13%                  ] 267 of 2000 complete in 168.1 sec[----             12%                  ] 247 of 2000 complete in 168.2 sec[-----            13%                  ] 277 of 2000 complete in 168.3 sec[-----            13%                  ] 272 of 2000 complete in 168.5 sec[-----            13%                  ] 268 of 2000 complete in 168.7 sec[----             12%                  ] 248 of 2000 complete in 169.0 sec[-----            13%                  ] 273 of 2000 complete in 169.1 sec[-----            13%                  ] 279 of 2000 complete in 169.4 sec[-----            13%                  ] 269 of 2000 complete in 169.4 sec[----             12%                  ] 249 of 2000 complete in 169.7 sec[-----            13%                  ] 274 of 2000 complete in 169.7 sec[-----            14%                  ] 280 of 2000 complete in 170.0 sec[-----            13%                  ] 270 of 2000 complete in 170.0 sec[-----            13%                  ] 275 of 2000 complete in 170.4 sec[-----            14%                  ] 281 of 2000 complete in 170.6 sec[----             12%                  ] 250 of 2000 complete in 170.7 sec[-----            13%                  ] 271 of 2000 complete in 170.8 sec[-----            13%                  ] 276 of 2000 complete in 170.9 sec[-----            14%                  ] 282 of 2000 complete in 171.1 sec[-----            13%                  ] 272 of 2000 complete in 171.5 sec[----             12%                  ] 251 of 2000 complete in 171.7 sec[-----            13%                  ] 277 of 2000 complete in 171.7 sec[-----            14%                  ] 283 of 2000 complete in 171.8 sec[-----            13%                  ] 273 of 2000 complete in 172.1 sec[-----            14%                  ] 284 of 2000 complete in 172.3 sec[-----            13%                  ] 278 of 2000 complete in 172.3 sec[----             12%                  ] 252 of 2000 complete in 172.8 sec[-----            14%                  ] 285 of 2000 complete in 172.8 sec[-----            13%                  ] 274 of 2000 complete in 172.8 sec[-----            13%                  ] 279 of 2000 complete in 172.9 sec[-----            14%                  ] 286 of 2000 complete in 173.4 sec[-----            14%                  ] 280 of 2000 complete in 173.4 sec[-----            13%                  ] 275 of 2000 complete in 173.5 sec[-----            14%                  ] 287 of 2000 complete in 173.9 sec[-----            14%                  ] 281 of 2000 complete in 174.0 sec[----             12%                  ] 253 of 2000 complete in 174.0 sec[-----            13%                  ] 276 of 2000 complete in 174.2 sec[-----            14%                  ] 288 of 2000 complete in 174.5 sec[-----            14%                  ] 282 of 2000 complete in 174.5 sec[----             12%                  ] 254 of 2000 complete in 174.8 sec[-----            13%                  ] 277 of 2000 complete in 174.8 sec[-----            14%                  ] 289 of 2000 complete in 175.1 sec[-----            14%                  ] 283 of 2000 complete in 175.3 sec[-----            13%                  ] 278 of 2000 complete in 175.5 sec[-----            14%                  ] 290 of 2000 complete in 175.8 sec[-----            14%                  ] 284 of 2000 complete in 175.8 sec[----             12%                  ] 255 of 2000 complete in 175.9 sec[-----            13%                  ] 279 of 2000 complete in 176.1 sec[-----            14%                  ] 291 of 2000 complete in 176.4 sec[-----            14%                  ] 285 of 2000 complete in 176.5 sec[----             12%                  ] 256 of 2000 complete in 176.7 sec[-----            14%                  ] 280 of 2000 complete in 176.8 sec[-----            14%                  ] 292 of 2000 complete in 176.9 sec[-----            14%                  ] 286 of 2000 complete in 177.1 sec[-----            14%                  ] 293 of 2000 complete in 177.5 sec[-----            14%                  ] 281 of 2000 complete in 177.5 sec[----             12%                  ] 257 of 2000 complete in 177.6 sec[-----            14%                  ] 287 of 2000 complete in 177.7 sec[-----            14%                  ] 294 of 2000 complete in 178.1 sec[-----            14%                  ] 282 of 2000 complete in 178.2 sec[-----            14%                  ] 288 of 2000 complete in 178.3 sec[-----            14%                  ] 295 of 2000 complete in 178.6 sec[----             12%                  ] 258 of 2000 complete in 178.7 sec[-----            14%                  ] 289 of 2000 complete in 178.8 sec[-----            14%                  ] 283 of 2000 complete in 178.8 sec[-----            14%                  ] 296 of 2000 complete in 179.2 sec[-----            14%                  ] 290 of 2000 complete in 179.4 sec[-----            14%                  ] 284 of 2000 complete in 179.6 sec[----             12%                  ] 259 of 2000 complete in 179.8 sec[-----            14%                  ] 291 of 2000 complete in 180.0 sec[-----            14%                  ] 298 of 2000 complete in 180.3 sec[-----            14%                  ] 285 of 2000 complete in 180.4 sec[-----            14%                  ] 292 of 2000 complete in 180.6 sec[----             13%                  ] 260 of 2000 complete in 180.7 sec[-----            14%                  ] 299 of 2000 complete in 180.8 sec[-----            14%                  ] 293 of 2000 complete in 181.1 sec[-----            14%                  ] 286 of 2000 complete in 181.1 sec[-----            15%                  ] 300 of 2000 complete in 181.4 sec[----             13%                  ] 261 of 2000 complete in 181.6 sec[-----            14%                  ] 294 of 2000 complete in 181.7 sec[-----            14%                  ] 287 of 2000 complete in 181.8 sec[-----            15%                  ] 301 of 2000 complete in 182.0 sec[-----            14%                  ] 295 of 2000 complete in 182.2 sec[-----            14%                  ] 288 of 2000 complete in 182.4 sec[-----            15%                  ] 302 of 2000 complete in 182.6 sec[----             13%                  ] 262 of 2000 complete in 182.6 sec[-----            14%                  ] 296 of 2000 complete in 182.8 sec[-----            15%                  ] 303 of 2000 complete in 183.2 sec[-----            14%                  ] 290 of 2000 complete in 183.3 sec[-----            14%                  ] 297 of 2000 complete in 183.4 sec[-----            15%                  ] 304 of 2000 complete in 183.8 sec[----             13%                  ] 263 of 2000 complete in 183.9 sec[-----            14%                  ] 298 of 2000 complete in 183.9 sec[-----            14%                  ] 291 of 2000 complete in 184.0 sec[-----            15%                  ] 305 of 2000 complete in 184.4 sec[-----            14%                  ] 299 of 2000 complete in 184.6 sec[-----            14%                  ] 292 of 2000 complete in 184.6 sec[-----            13%                  ] 264 of 2000 complete in 184.8 sec[-----            15%                  ] 306 of 2000 complete in 185.0 sec[-----            14%                  ] 293 of 2000 complete in 185.1 sec[-----            15%                  ] 300 of 2000 complete in 185.2 sec[-----            15%                  ] 307 of 2000 complete in 185.5 sec[-----            14%                  ] 294 of 2000 complete in 185.8 sec[-----            15%                  ] 301 of 2000 complete in 185.8 sec[-----            13%                  ] 265 of 2000 complete in 185.9 sec"
     ]
    },
    {
     "name": "stdout",
     "output_type": "stream",
     "text": [
      " [-----            15%                  ] 308 of 2000 complete in 186.2 sec[-----            15%                  ] 302 of 2000 complete in 186.3 sec[-----            14%                  ] 295 of 2000 complete in 186.4 sec[-----            15%                  ] 309 of 2000 complete in 186.8 sec[-----            13%                  ] 266 of 2000 complete in 186.8 sec[-----            15%                  ] 303 of 2000 complete in 187.0 sec[-----            14%                  ] 296 of 2000 complete in 187.2 sec[-----            15%                  ] 310 of 2000 complete in 187.3 sec[-----            15%                  ] 304 of 2000 complete in 187.6 sec[-----            15%                  ] 311 of 2000 complete in 187.8 sec[-----            13%                  ] 267 of 2000 complete in 188.0 sec[-----            14%                  ] 297 of 2000 complete in 188.0 sec[-----            15%                  ] 305 of 2000 complete in 188.2 sec[-----            15%                  ] 312 of 2000 complete in 188.4 sec[-----            14%                  ] 298 of 2000 complete in 188.6 sec[-----            15%                  ] 306 of 2000 complete in 188.8 sec[-----            15%                  ] 313 of 2000 complete in 189.1 sec[-----            13%                  ] 268 of 2000 complete in 189.1 sec[-----            14%                  ] 299 of 2000 complete in 189.4 sec[-----            15%                  ] 307 of 2000 complete in 189.5 sec[-----            15%                  ] 314 of 2000 complete in 189.7 sec[-----            15%                  ] 308 of 2000 complete in 190.1 sec[-----            15%                  ] 300 of 2000 complete in 190.1 sec[-----            13%                  ] 269 of 2000 complete in 190.1 sec[-----            15%                  ] 315 of 2000 complete in 190.3 sec[-----            15%                  ] 309 of 2000 complete in 190.8 sec[------           15%                  ] 316 of 2000 complete in 190.9 sec[-----            13%                  ] 270 of 2000 complete in 190.9 sec[-----            15%                  ] 301 of 2000 complete in 190.9 sec[-----            15%                  ] 310 of 2000 complete in 191.3 sec[------           15%                  ] 317 of 2000 complete in 191.4 sec[-----            15%                  ] 302 of 2000 complete in 191.6 sec[-----            13%                  ] 271 of 2000 complete in 191.8 sec[-----            15%                  ] 311 of 2000 complete in 191.9 sec[------           15%                  ] 318 of 2000 complete in 192.1 sec[-----            15%                  ] 303 of 2000 complete in 192.4 sec[-----            15%                  ] 312 of 2000 complete in 192.6 sec[------           15%                  ] 319 of 2000 complete in 192.7 sec[-----            13%                  ] 272 of 2000 complete in 192.9 sec[-----            15%                  ] 304 of 2000 complete in 193.2 sec[-----            15%                  ] 313 of 2000 complete in 193.2 sec[------           16%                  ] 320 of 2000 complete in 193.4 sec[-----            13%                  ] 273 of 2000 complete in 193.7 sec[-----            15%                  ] 314 of 2000 complete in 193.8 sec[------           16%                  ] 321 of 2000 complete in 193.9 sec[-----            15%                  ] 305 of 2000 complete in 194.0 sec[------           16%                  ] 322 of 2000 complete in 194.5 sec[-----            15%                  ] 315 of 2000 complete in 194.5 sec[-----            13%                  ] 274 of 2000 complete in 194.7 sec[-----            15%                  ] 306 of 2000 complete in 194.7 sec[------           16%                  ] 323 of 2000 complete in 195.1 sec[------           15%                  ] 316 of 2000 complete in 195.2 sec[-----            15%                  ] 307 of 2000 complete in 195.5 sec[-----            13%                  ] 275 of 2000 complete in 195.5 sec[------           16%                  ] 324 of 2000 complete in 195.8 sec[------           15%                  ] 317 of 2000 complete in 195.8 sec[-----            15%                  ] 308 of 2000 complete in 196.1 sec[-----            13%                  ] 276 of 2000 complete in 196.4 sec[------           15%                  ] 318 of 2000 complete in 196.5 sec[------           16%                  ] 325 of 2000 complete in 196.5 sec[-----            15%                  ] 309 of 2000 complete in 196.9 sec[------           15%                  ] 319 of 2000 complete in 197.1 sec[-----            13%                  ] 277 of 2000 complete in 197.2 sec[-----            15%                  ] 310 of 2000 complete in 197.5 sec[------           16%                  ] 327 of 2000 complete in 197.7 sec[------           16%                  ] 320 of 2000 complete in 197.7 sec[-----            13%                  ] 278 of 2000 complete in 197.8 sec[------           16%                  ] 328 of 2000 complete in 198.3 sec[-----            15%                  ] 311 of 2000 complete in 198.2 sec[-----            13%                  ] 279 of 2000 complete in 198.4 sec[------           16%                  ] 321 of 2000 complete in 198.4 sec[------           16%                  ] 329 of 2000 complete in 198.8 sec[-----            15%                  ] 312 of 2000 complete in 198.9 sec[-----            14%                  ] 280 of 2000 complete in 199.0 sec[------           16%                  ] 322 of 2000 complete in 199.1 sec[------           16%                  ] 330 of 2000 complete in 199.4 sec[-----            15%                  ] 313 of 2000 complete in 199.6 sec[-----            14%                  ] 281 of 2000 complete in 199.7 sec[------           16%                  ] 323 of 2000 complete in 199.8 sec[------           16%                  ] 331 of 2000 complete in 200.0 sec[-----            14%                  ] 282 of 2000 complete in 200.4 sec[------           16%                  ] 332 of 2000 complete in 200.5 sec[------           16%                  ] 324 of 2000 complete in 200.5 sec[-----            15%                  ] 314 of 2000 complete in 200.5 sec[-----            14%                  ] 283 of 2000 complete in 201.1 sec[------           16%                  ] 325 of 2000 complete in 201.1 sec[------           16%                  ] 333 of 2000 complete in 201.2 sec[-----            15%                  ] 315 of 2000 complete in 201.3 sec[------           16%                  ] 326 of 2000 complete in 201.7 sec[-----            14%                  ] 284 of 2000 complete in 201.8 sec[------           16%                  ] 334 of 2000 complete in 202.0 sec[------           15%                  ] 316 of 2000 complete in 202.1 sec[------           16%                  ] 327 of 2000 complete in 202.3 sec[-----            14%                  ] 285 of 2000 complete in 202.4 sec[------           16%                  ] 335 of 2000 complete in 202.5 sec[------           16%                  ] 328 of 2000 complete in 202.9 sec[------           15%                  ] 317 of 2000 complete in 203.0 sec[-----            14%                  ] 286 of 2000 complete in 203.0 sec[------           16%                  ] 336 of 2000 complete in 203.2 sec[------           16%                  ] 329 of 2000 complete in 203.6 sec[------           15%                  ] 318 of 2000 complete in 203.7 sec[-----            14%                  ] 287 of 2000 complete in 203.7 sec[------           16%                  ] 337 of 2000 complete in 203.8 sec[------           16%                  ] 330 of 2000 complete in 204.2 sec[-----            14%                  ] 288 of 2000 complete in 204.3 sec[------           16%                  ] 338 of 2000 complete in 204.4 sec[------           15%                  ] 319 of 2000 complete in 204.4 sec[------           16%                  ] 331 of 2000 complete in 204.8 sec[-----            14%                  ] 289 of 2000 complete in 204.9 sec[------           16%                  ] 339 of 2000 complete in 205.0 sec[------           16%                  ] 320 of 2000 complete in 205.2 sec"
     ]
    },
    {
     "name": "stdout",
     "output_type": "stream",
     "text": [
      " [------           16%                  ] 332 of 2000 complete in 205.3 sec[-----            14%                  ] 290 of 2000 complete in 205.6 sec[------           17%                  ] 340 of 2000 complete in 205.6 sec[------           16%                  ] 333 of 2000 complete in 206.0 sec[------           17%                  ] 341 of 2000 complete in 206.2 sec[------           16%                  ] 321 of 2000 complete in 206.2 sec[-----            14%                  ] 291 of 2000 complete in 206.3 sec[------           16%                  ] 334 of 2000 complete in 206.6 sec[------           17%                  ] 342 of 2000 complete in 206.8 sec[-----            14%                  ] 292 of 2000 complete in 206.9 sec[------           16%                  ] 322 of 2000 complete in 206.9 sec[------           16%                  ] 335 of 2000 complete in 207.2 sec[------           17%                  ] 343 of 2000 complete in 207.3 sec[-----            14%                  ] 293 of 2000 complete in 207.6 sec[------           16%                  ] 323 of 2000 complete in 207.6 sec[------           16%                  ] 336 of 2000 complete in 207.9 sec[------           17%                  ] 344 of 2000 complete in 207.9 sec[-----            14%                  ] 294 of 2000 complete in 208.4 sec[------           16%                  ] 337 of 2000 complete in 208.4 sec[------           17%                  ] 345 of 2000 complete in 208.5 sec[------           16%                  ] 324 of 2000 complete in 208.5 sec[-----            14%                  ] 295 of 2000 complete in 209.0 sec[------           17%                  ] 346 of 2000 complete in 209.1 sec[------           16%                  ] 338 of 2000 complete in 209.1 sec[------           16%                  ] 325 of 2000 complete in 209.3 sec[------           16%                  ] 339 of 2000 complete in 209.6 sec[-----            14%                  ] 296 of 2000 complete in 209.7 sec[------           17%                  ] 348 of 2000 complete in 210.1 sec[------           17%                  ] 340 of 2000 complete in 210.3 sec[------           16%                  ] 326 of 2000 complete in 210.2 sec[-----            14%                  ] 297 of 2000 complete in 210.4 sec[------           17%                  ] 349 of 2000 complete in 210.7 sec[------           17%                  ] 341 of 2000 complete in 210.9 sec[-----            14%                  ] 298 of 2000 complete in 211.0 sec[------           17%                  ] 350 of 2000 complete in 211.4 sec[------           16%                  ] 327 of 2000 complete in 211.5 sec[------           17%                  ] 342 of 2000 complete in 211.6 sec[-----            14%                  ] 299 of 2000 complete in 211.7 sec[------           17%                  ] 351 of 2000 complete in 212.0 sec[------           17%                  ] 343 of 2000 complete in 212.1 sec[-----            15%                  ] 300 of 2000 complete in 212.4 sec[------           17%                  ] 352 of 2000 complete in 212.6 sec[------           16%                  ] 328 of 2000 complete in 212.5 sec[------           17%                  ] 344 of 2000 complete in 213.0 sec[-----            15%                  ] 301 of 2000 complete in 213.0 sec[------           17%                  ] 353 of 2000 complete in 213.2 sec[------           16%                  ] 329 of 2000 complete in 213.5 sec[-----            15%                  ] 302 of 2000 complete in 213.7 sec[------           17%                  ] 354 of 2000 complete in 213.7 sec[------           17%                  ] 345 of 2000 complete in 213.7 sec[------           17%                  ] 355 of 2000 complete in 214.3 sec[------           16%                  ] 330 of 2000 complete in 214.3 sec[-----            15%                  ] 303 of 2000 complete in 214.4 sec[------           17%                  ] 346 of 2000 complete in 214.4 sec[------           17%                  ] 356 of 2000 complete in 214.9 sec[------           17%                  ] 347 of 2000 complete in 215.1 sec[-----            15%                  ] 304 of 2000 complete in 215.2 sec[------           16%                  ] 331 of 2000 complete in 215.2 sec[------           17%                  ] 357 of 2000 complete in 215.4 sec[------           17%                  ] 348 of 2000 complete in 215.7 sec[-----            15%                  ] 305 of 2000 complete in 215.8 sec[------           17%                  ] 349 of 2000 complete in 216.2 sec[------           16%                  ] 332 of 2000 complete in 216.2 sec[-----            15%                  ] 306 of 2000 complete in 216.4 sec[------           17%                  ] 359 of 2000 complete in 216.4 sec[------           18%                  ] 360 of 2000 complete in 216.9 sec[------           17%                  ] 350 of 2000 complete in 216.9 sec[------           16%                  ] 333 of 2000 complete in 217.1 sec[-----            15%                  ] 307 of 2000 complete in 217.2 sec[------           18%                  ] 361 of 2000 complete in 217.5 sec[------           17%                  ] 351 of 2000 complete in 217.5 sec[-----            15%                  ] 308 of 2000 complete in 217.8 sec[------           17%                  ] 352 of 2000 complete in 218.0 sec[------           18%                  ] 362 of 2000 complete in 218.1 sec[------           16%                  ] 334 of 2000 complete in 218.2 sec[-----            15%                  ] 309 of 2000 complete in 218.6 sec[------           18%                  ] 363 of 2000 complete in 218.7 sec[------           17%                  ] 353 of 2000 complete in 218.7 sec[------           16%                  ] 335 of 2000 complete in 219.1 sec[------           18%                  ] 364 of 2000 complete in 219.2 sec[-----            15%                  ] 310 of 2000 complete in 219.3 sec[------           17%                  ] 354 of 2000 complete in 219.3 sec[------           18%                  ] 365 of 2000 complete in 219.9 sec[------           17%                  ] 355 of 2000 complete in 219.9 sec[-----            15%                  ] 311 of 2000 complete in 220.1 sec[------           16%                  ] 336 of 2000 complete in 220.2 sec[------           17%                  ] 356 of 2000 complete in 220.4 sec[------           18%                  ] 366 of 2000 complete in 220.5 sec[-----            15%                  ] 312 of 2000 complete in 220.7 sec[------           16%                  ] 337 of 2000 complete in 221.0 sec[------           18%                  ] 367 of 2000 complete in 221.1 sec[------           17%                  ] 357 of 2000 complete in 221.1 sec[-----            15%                  ] 313 of 2000 complete in 221.3 sec[------           18%                  ] 368 of 2000 complete in 221.6 sec[------           17%                  ] 358 of 2000 complete in 221.7 sec[------           16%                  ] 338 of 2000 complete in 221.8 sec[-----            15%                  ] 314 of 2000 complete in 221.9 sec[-------          18%                  ] 369 of 2000 complete in 222.3 sec[------           17%                  ] 359 of 2000 complete in 222.3 sec[-----            15%                  ] 315 of 2000 complete in 222.6 sec[------           16%                  ] 339 of 2000 complete in 222.6 sec[-------          18%                  ] 370 of 2000 complete in 222.9 sec[------           18%                  ] 360 of 2000 complete in 222.9 sec[------           15%                  ] 316 of 2000 complete in 223.3 sec[-------          18%                  ] 371 of 2000 complete in 223.4 sec[------           17%                  ] 340 of 2000 complete in 223.5 sec[------           18%                  ] 361 of 2000 complete in 223.5 sec[-------          18%                  ] 372 of 2000 complete in 224.0 sec[------           15%                  ] 317 of 2000 complete in 224.0 sec[------           18%                  ] 362 of 2000 complete in 224.1 sec[------           17%                  ] 341 of 2000 complete in 224.4 sec"
     ]
    },
    {
     "name": "stdout",
     "output_type": "stream",
     "text": [
      " -------          20%                  ] 401 of 2000 complete in 240.1 secc[------           18%                  ] 363 of 2000 complete in 224.6 sec[------           15%                  ] 318 of 2000 complete in 224.8 sec[-------          18%                  ] 374 of 2000 complete in 225.1 sec[------           18%                  ] 364 of 2000 complete in 225.2 sec[------           17%                  ] 342 of 2000 complete in 225.2 sec[------           15%                  ] 319 of 2000 complete in 225.6 sec[-------          18%                  ] 375 of 2000 complete in 225.7 sec[------           18%                  ] 365 of 2000 complete in 225.8 sec[------           16%                  ] 320 of 2000 complete in 226.2 sec[------           17%                  ] 343 of 2000 complete in 226.2 sec[-------          18%                  ] 376 of 2000 complete in 226.3 sec[------           18%                  ] 366 of 2000 complete in 226.4 sec[-------          18%                  ] 377 of 2000 complete in 226.8 sec[------           16%                  ] 321 of 2000 complete in 226.9 sec[------           18%                  ] 367 of 2000 complete in 226.9 sec[------           17%                  ] 344 of 2000 complete in 227.0 sec[-------          18%                  ] 378 of 2000 complete in 227.5 sec  [------           16%                  ] 322 of 2000 complete in 227.5 sec[------           18%                  ] 368 of 2000 complete in 227.5 sec[------           17%                  ] 345 of 2000 complete in 227.8 sec[-------          18%                  ] 379 of 2000 complete in 228.1 sec[------           16%                  ] 323 of 2000 complete in 228.2 sec[-------          18%                  ] 370 of 2000 complete in 228.4 sec[------           17%                  ] 346 of 2000 complete in 228.7 sec[-------          19%                  ] 381 of 2000 complete in 228.9 sec[-------          18%                  ] 371 of 2000 complete in 228.9 sec[------           16%                  ] 324 of 2000 complete in 229.1 sec[-------          19%                  ] 382 of 2000 complete in 229.4 sec[------           16%                  ] 325 of 2000 complete in 229.7 sec[------           17%                  ] 347 of 2000 complete in 229.8 sec[-------          19%                  ] 383 of 2000 complete in 230.0 sec[-------          18%                  ] 373 of 2000 complete in 230.0 sec[-------          19%                  ] 384 of 2000 complete in 230.5 sec[------           16%                  ] 326 of 2000 complete in 230.5 sec[-------          18%                  ] 374 of 2000 complete in 230.5 sec[------           17%                  ] 348 of 2000 complete in 230.9 sec[-------          19%                  ] 385 of 2000 complete in 231.0 sec[-------          18%                  ] 375 of 2000 complete in 231.2 sec[------           16%                  ] 327 of 2000 complete in 231.3 sec[-------          19%                  ] 386 of 2000 complete in 231.6 sec[-------          18%                  ] 376 of 2000 complete in 231.9 sec[------           16%                  ] 328 of 2000 complete in 231.9 sec[-------          19%                  ] 387 of 2000 complete in 232.2 sec[------           17%                  ] 349 of 2000 complete in 232.1 sec[-------          18%                  ] 377 of 2000 complete in 232.4 sec[-------          19%                  ] 388 of 2000 complete in 232.7 sec[------           16%                  ] 329 of 2000 complete in 232.7 sec[-------          18%                  ] 378 of 2000 complete in 233.0 sec[------           17%                  ] 350 of 2000 complete in 233.2 sec[-------          19%                  ] 389 of 2000 complete in 233.3 sec[-------          18%                  ] 379 of 2000 complete in 233.5 sec[------           16%                  ] 330 of 2000 complete in 233.6 sec[-------          19%                  ] 390 of 2000 complete in 233.8 sec[-------          19%                  ] 380 of 2000 complete in 234.0 sec[------           17%                  ] 351 of 2000 complete in 234.2 sec[------           16%                  ] 331 of 2000 complete in 234.3 sec[-------          19%                  ] 391 of 2000 complete in 234.4 sec[-------          19%                  ] 392 of 2000 complete in 234.9 sec[------           16%                  ] 332 of 2000 complete in 235.1 sec[-------          19%                  ] 382 of 2000 complete in 235.1 sec[------           17%                  ] 352 of 2000 complete in 235.1 sec[-------          19%                  ] 393 of 2000 complete in 235.6 sec[-------          19%                  ] 383 of 2000 complete in 235.7 sec[------           16%                  ] 333 of 2000 complete in 235.8 sec[------           17%                  ] 353 of 2000 complete in 236.0 sec[-------          19%                  ] 394 of 2000 complete in 236.1 sec[-------          19%                  ] 384 of 2000 complete in 236.3 sec[------           16%                  ] 334 of 2000 complete in 236.6 sec[-------          19%                  ] 395 of 2000 complete in 236.8 sec[------           17%                  ] 354 of 2000 complete in 236.9 sec[-------          19%                  ] 385 of 2000 complete in 236.9 sec[------           16%                  ] 335 of 2000 complete in 237.2 sec[-------          19%                  ] 396 of 2000 complete in 237.4 sec[-------          19%                  ] 386 of 2000 complete in 237.5 sec[------           17%                  ] 355 of 2000 complete in 237.7 sec[-------          19%                  ] 387 of 2000 complete in 238.0 sec[-------          19%                  ] 397 of 2000 complete in 238.0 sec[------           16%                  ] 336 of 2000 complete in 238.1 sec[-------          19%                  ] 398 of 2000 complete in 238.5 sec[-------          19%                  ] 388 of 2000 complete in 238.5 sec[------           17%                  ] 356 of 2000 complete in 238.5 sec[------           16%                  ] 337 of 2000 complete in 239.0 sec[-------          19%                  ] 399 of 2000 complete in 239.0 sec[-------          19%                  ] 389 of 2000 complete in 239.1 sec[------           17%                  ] 357 of 2000 complete in 239.4 sec[-------          20%                  ] 400 of 2000 complete in 239.6 sec[-------          19%                  ] 390 of 2000 complete in 239.6 sec[------           16%                  ] 338 of 2000 complete in 239.9 sec [------           17%                  ] 358 of 2000 complete in 240.1 sec[-------          19%                  ] 391 of 2000 complete in 240.2 sec"
     ]
    },
    {
     "name": "stderr",
     "output_type": "stream",
     "text": [
      "Process ForkPoolWorker-9:\n",
      "Process ForkPoolWorker-8:\n",
      "Process ForkPoolWorker-6:\n",
      "Process ForkPoolWorker-7:\n"
     ]
    },
    {
     "name": "stdout",
     "output_type": "stream",
     "text": [
      "Halting at iteration Halting at iteration   "
     ]
    },
    {
     "name": "stderr",
     "output_type": "stream",
     "text": [
      "Process ForkPoolWorker-5:\n",
      "Traceback (most recent call last):\n",
      "Traceback (most recent call last):\n",
      "Traceback (most recent call last):\n",
      "Traceback (most recent call last):\n",
      "  File \"/opt/conda/lib/python3.7/site-packages/multiprocess/process.py\", line 297, in _bootstrap\n",
      "    self.run()\n",
      "  File \"/opt/conda/lib/python3.7/site-packages/multiprocess/process.py\", line 297, in _bootstrap\n",
      "    self.run()\n",
      "  File \"/opt/conda/lib/python3.7/site-packages/multiprocess/process.py\", line 297, in _bootstrap\n",
      "    self.run()\n",
      "  File \"/opt/conda/lib/python3.7/site-packages/multiprocess/process.py\", line 297, in _bootstrap\n",
      "    self.run()\n",
      "  File \"/opt/conda/lib/python3.7/site-packages/multiprocess/process.py\", line 99, in run\n",
      "    self._target(*self._args, **self._kwargs)\n",
      "  File \"/opt/conda/lib/python3.7/site-packages/multiprocess/process.py\", line 99, in run\n",
      "    self._target(*self._args, **self._kwargs)\n",
      "  File \"/opt/conda/lib/python3.7/site-packages/multiprocess/process.py\", line 99, in run\n",
      "    self._target(*self._args, **self._kwargs)\n",
      "  File \"/opt/conda/lib/python3.7/site-packages/multiprocess/process.py\", line 99, in run\n",
      "    self._target(*self._args, **self._kwargs)\n",
      "Traceback (most recent call last):\n",
      "  File \"/opt/conda/lib/python3.7/site-packages/multiprocess/pool.py\", line 110, in worker\n",
      "    task = get()\n",
      "  File \"/opt/conda/lib/python3.7/site-packages/multiprocess/pool.py\", line 110, in worker\n",
      "    task = get()\n"
     ]
    },
    {
     "name": "stdout",
     "output_type": "stream",
     "text": [
      "400"
     ]
    },
    {
     "name": "stderr",
     "output_type": "stream",
     "text": [
      "  File \"/opt/conda/lib/python3.7/site-packages/multiprocess/pool.py\", line 110, in worker\n",
      "    task = get()\n",
      "  File \"/opt/conda/lib/python3.7/site-packages/multiprocess/pool.py\", line 110, in worker\n",
      "    task = get()\n",
      "  File \"/opt/conda/lib/python3.7/site-packages/multiprocess/process.py\", line 297, in _bootstrap\n",
      "    self.run()\n",
      "  File \"/opt/conda/lib/python3.7/site-packages/multiprocess/queues.py\", line 354, in get\n",
      "    with self._rlock:\n"
     ]
    },
    {
     "name": "stdout",
     "output_type": "stream",
     "text": [
      " "
     ]
    },
    {
     "name": "stderr",
     "output_type": "stream",
     "text": [
      "  File \"/opt/conda/lib/python3.7/site-packages/multiprocess/queues.py\", line 354, in get\n",
      "    with self._rlock:\n",
      "  File \"/opt/conda/lib/python3.7/site-packages/multiprocess/queues.py\", line 354, in get\n",
      "    with self._rlock:\n",
      "  File \"/opt/conda/lib/python3.7/site-packages/multiprocess/queues.py\", line 354, in get\n",
      "    with self._rlock:\n",
      "  File \"/opt/conda/lib/python3.7/site-packages/multiprocess/synchronize.py\", line 102, in __enter__\n",
      "    return self._semlock.__enter__()\n",
      "  File \"/opt/conda/lib/python3.7/site-packages/multiprocess/process.py\", line 99, in run\n",
      "    self._target(*self._args, **self._kwargs)\n"
     ]
    },
    {
     "name": "stdout",
     "output_type": "stream",
     "text": [
      " of "
     ]
    },
    {
     "name": "stderr",
     "output_type": "stream",
     "text": [
      "  File \"/opt/conda/lib/python3.7/site-packages/multiprocess/synchronize.py\", line 102, in __enter__\n",
      "    return self._semlock.__enter__()\n",
      "  File \"/opt/conda/lib/python3.7/site-packages/multiprocess/synchronize.py\", line 102, in __enter__\n",
      "    return self._semlock.__enter__()\n",
      "  File \"/opt/conda/lib/python3.7/site-packages/multiprocess/pool.py\", line 110, in worker\n",
      "    task = get()\n",
      "  File \"/opt/conda/lib/python3.7/site-packages/multiprocess/synchronize.py\", line 102, in __enter__\n",
      "    return self._semlock.__enter__()\n"
     ]
    },
    {
     "name": "stdout",
     "output_type": "stream",
     "text": [
      " "
     ]
    },
    {
     "name": "stderr",
     "output_type": "stream",
     "text": [
      "KeyboardInterrupt\n",
      "KeyboardInterrupt\n"
     ]
    },
    {
     "name": "stdout",
     "output_type": "stream",
     "text": [
      "2000"
     ]
    },
    {
     "name": "stderr",
     "output_type": "stream",
     "text": [
      "KeyboardInterrupt\n",
      "  File \"/opt/conda/lib/python3.7/site-packages/multiprocess/queues.py\", line 355, in get\n",
      "    res = self._reader.recv_bytes()\n"
     ]
    },
    {
     "name": "stdout",
     "output_type": "stream",
     "text": [
      "\n"
     ]
    },
    {
     "name": "stderr",
     "output_type": "stream",
     "text": [
      "  File \"/opt/conda/lib/python3.7/site-packages/multiprocess/connection.py\", line 219, in recv_bytes\n",
      "    buf = self._recv_bytes(maxlength)\n",
      "KeyboardInterrupt\n"
     ]
    },
    {
     "name": "stdout",
     "output_type": "stream",
     "text": [
      "Could not generate output statistics for "
     ]
    },
    {
     "name": "stderr",
     "output_type": "stream",
     "text": [
      "  File \"/opt/conda/lib/python3.7/site-packages/multiprocess/connection.py\", line 410, in _recv_bytes\n",
      "    buf = self._recv(4)\n"
     ]
    },
    {
     "name": "stdout",
     "output_type": "stream",
     "text": [
      "zHalting at iteration 390"
     ]
    },
    {
     "name": "stderr",
     "output_type": "stream",
     "text": [
      "  File \"/opt/conda/lib/python3.7/site-packages/multiprocess/connection.py\", line 382, in _recv\n",
      "    chunk = read(handle, remaining)\n"
     ]
    },
    {
     "name": "stdout",
     "output_type": "stream",
     "text": [
      "\n",
      "  "
     ]
    },
    {
     "name": "stderr",
     "output_type": "stream",
     "text": [
      "KeyboardInterrupt\n"
     ]
    },
    {
     "name": "stdout",
     "output_type": "stream",
     "text": [
      "337Could not generate output statistics for of    t_subj.22000 of \n",
      "\n",
      " Could not generate output statistics for2000 \n",
      "z_subj_trans.6\n",
      "Halting at iteration  Could not generate output statistics for 357z_subj_trans.12Could not generate output statistics for\n",
      " Could not generate output statistics forvCould not generate output statistics for   of a_subj.2\n",
      " \n",
      "Could not generate output statistics for2000Could not generate output statistics for \n",
      " t_subj.11t_subj.4\n",
      "\n",
      "Could not generate output statistics forCould not generate output statistics for  t_subj.10\n",
      "t\n",
      "\n",
      "Could not generate output statistics for"
     ]
    },
    {
     "ename": "KeyboardInterrupt",
     "evalue": "",
     "output_type": "error",
     "traceback": [
      "\u001b[0;31m---------------------------------------------------------------------------\u001b[0m",
      "\u001b[0;31mIndexError\u001b[0m                                Traceback (most recent call last)",
      "\u001b[0;32m/opt/conda/lib/python3.7/site-packages/multiprocess/pool.py\u001b[0m in \u001b[0;36mnext\u001b[0;34m(self, timeout)\u001b[0m\n\u001b[1;32m    732\u001b[0m             \u001b[0;32mtry\u001b[0m\u001b[0;34m:\u001b[0m\u001b[0;34m\u001b[0m\u001b[0;34m\u001b[0m\u001b[0m\n\u001b[0;32m--> 733\u001b[0;31m                 \u001b[0mitem\u001b[0m \u001b[0;34m=\u001b[0m \u001b[0mself\u001b[0m\u001b[0;34m.\u001b[0m\u001b[0m_items\u001b[0m\u001b[0;34m.\u001b[0m\u001b[0mpopleft\u001b[0m\u001b[0;34m(\u001b[0m\u001b[0;34m)\u001b[0m\u001b[0;34m\u001b[0m\u001b[0;34m\u001b[0m\u001b[0m\n\u001b[0m\u001b[1;32m    734\u001b[0m             \u001b[0;32mexcept\u001b[0m \u001b[0mIndexError\u001b[0m\u001b[0;34m:\u001b[0m\u001b[0;34m\u001b[0m\u001b[0;34m\u001b[0m\u001b[0m\n",
      "\u001b[0;31mIndexError\u001b[0m: pop from an empty deque",
      "\nDuring handling of the above exception, another exception occurred:\n",
      "\u001b[0;31mKeyboardInterrupt\u001b[0m                         Traceback (most recent call last)",
      "\u001b[0;32m<ipython-input-11-efb307b8e68b>\u001b[0m in \u001b[0;36m<module>\u001b[0;34m\u001b[0m\n\u001b[1;32m      5\u001b[0m \u001b[0;34m\u001b[0m\u001b[0m\n\u001b[1;32m      6\u001b[0m         \u001b[0;31m### fit the sim data\u001b[0m\u001b[0;34m\u001b[0m\u001b[0;34m\u001b[0m\u001b[0;34m\u001b[0m\u001b[0m\n\u001b[0;32m----> 7\u001b[0;31m         \u001b[0mmodels\u001b[0m\u001b[0;34m,\u001b[0m \u001b[0mInfData\u001b[0m \u001b[0;34m=\u001b[0m \u001b[0mmodel_recov\u001b[0m\u001b[0;34m(\u001b[0m\u001b[0mm_keys\u001b[0m\u001b[0;34m,\u001b[0m \u001b[0mdata\u001b[0m\u001b[0;34m,\u001b[0m \u001b[0mmodel_func\u001b[0m\u001b[0;34m)\u001b[0m\u001b[0;34m\u001b[0m\u001b[0;34m\u001b[0m\u001b[0m\n\u001b[0m\u001b[1;32m      8\u001b[0m \u001b[0;34m\u001b[0m\u001b[0m\n\u001b[1;32m      9\u001b[0m         \u001b[0;31m### compare models\u001b[0m\u001b[0;34m\u001b[0m\u001b[0;34m\u001b[0m\u001b[0;34m\u001b[0m\u001b[0m\n",
      "\u001b[0;32m<ipython-input-10-da8e256bed9a>\u001b[0m in \u001b[0;36mmodel_recov\u001b[0;34m(m_keys, data, model_func)\u001b[0m\n\u001b[1;32m     18\u001b[0m                                \u001b[0mburn\u001b[0m\u001b[0;34m=\u001b[0m\u001b[0mburn\u001b[0m\u001b[0;34m,\u001b[0m\u001b[0;34m\u001b[0m\u001b[0;34m\u001b[0m\u001b[0m\n\u001b[1;32m     19\u001b[0m                                save_name=\"model_tmp\"),\n\u001b[0;32m---> 20\u001b[0;31m                        range(chains))\n\u001b[0m\u001b[1;32m     21\u001b[0m \u001b[0;34m\u001b[0m\u001b[0m\n\u001b[1;32m     22\u001b[0m         \u001b[0;31m# models[df_key][m_key] = ms_tmp  # save to dict\u001b[0m\u001b[0;34m\u001b[0m\u001b[0;34m\u001b[0m\u001b[0;34m\u001b[0m\u001b[0m\n",
      "\u001b[0;32m/opt/conda/lib/python3.7/site-packages/p_tqdm/p_tqdm.py\u001b[0m in \u001b[0;36mp_map\u001b[0;34m(function, *iterables, **kwargs)\u001b[0m\n\u001b[1;32m     58\u001b[0m     \u001b[0mordered\u001b[0m \u001b[0;34m=\u001b[0m \u001b[0;32mTrue\u001b[0m\u001b[0;34m\u001b[0m\u001b[0;34m\u001b[0m\u001b[0m\n\u001b[1;32m     59\u001b[0m     \u001b[0mgenerator\u001b[0m \u001b[0;34m=\u001b[0m \u001b[0m_parallel\u001b[0m\u001b[0;34m(\u001b[0m\u001b[0mordered\u001b[0m\u001b[0;34m,\u001b[0m \u001b[0mfunction\u001b[0m\u001b[0;34m,\u001b[0m \u001b[0;34m*\u001b[0m\u001b[0miterables\u001b[0m\u001b[0;34m,\u001b[0m \u001b[0;34m**\u001b[0m\u001b[0mkwargs\u001b[0m\u001b[0;34m)\u001b[0m\u001b[0;34m\u001b[0m\u001b[0;34m\u001b[0m\u001b[0m\n\u001b[0;32m---> 60\u001b[0;31m     \u001b[0mresult\u001b[0m \u001b[0;34m=\u001b[0m \u001b[0mlist\u001b[0m\u001b[0;34m(\u001b[0m\u001b[0mgenerator\u001b[0m\u001b[0;34m)\u001b[0m\u001b[0;34m\u001b[0m\u001b[0;34m\u001b[0m\u001b[0m\n\u001b[0m\u001b[1;32m     61\u001b[0m \u001b[0;34m\u001b[0m\u001b[0m\n\u001b[1;32m     62\u001b[0m     \u001b[0;32mreturn\u001b[0m \u001b[0mresult\u001b[0m\u001b[0;34m\u001b[0m\u001b[0;34m\u001b[0m\u001b[0m\n",
      "\u001b[0;32m/opt/conda/lib/python3.7/site-packages/p_tqdm/p_tqdm.py\u001b[0m in \u001b[0;36m_parallel\u001b[0;34m(ordered, function, *iterables, **kwargs)\u001b[0m\n\u001b[1;32m     47\u001b[0m     \u001b[0mmap_func\u001b[0m \u001b[0;34m=\u001b[0m \u001b[0mgetattr\u001b[0m\u001b[0;34m(\u001b[0m\u001b[0mpool\u001b[0m\u001b[0;34m,\u001b[0m \u001b[0mmap_type\u001b[0m\u001b[0;34m)\u001b[0m\u001b[0;34m\u001b[0m\u001b[0;34m\u001b[0m\u001b[0m\n\u001b[1;32m     48\u001b[0m \u001b[0;34m\u001b[0m\u001b[0m\n\u001b[0;32m---> 49\u001b[0;31m     \u001b[0;32mfor\u001b[0m \u001b[0mitem\u001b[0m \u001b[0;32min\u001b[0m \u001b[0mtqdm\u001b[0m\u001b[0;34m(\u001b[0m\u001b[0mmap_func\u001b[0m\u001b[0;34m(\u001b[0m\u001b[0mfunction\u001b[0m\u001b[0;34m,\u001b[0m \u001b[0;34m*\u001b[0m\u001b[0miterables\u001b[0m\u001b[0;34m)\u001b[0m\u001b[0;34m,\u001b[0m \u001b[0mtotal\u001b[0m\u001b[0;34m=\u001b[0m\u001b[0mlength\u001b[0m\u001b[0;34m,\u001b[0m \u001b[0;34m**\u001b[0m\u001b[0mkwargs\u001b[0m\u001b[0;34m)\u001b[0m\u001b[0;34m:\u001b[0m\u001b[0;34m\u001b[0m\u001b[0;34m\u001b[0m\u001b[0m\n\u001b[0m\u001b[1;32m     50\u001b[0m         \u001b[0;32myield\u001b[0m \u001b[0mitem\u001b[0m\u001b[0;34m\u001b[0m\u001b[0;34m\u001b[0m\u001b[0m\n\u001b[1;32m     51\u001b[0m \u001b[0;34m\u001b[0m\u001b[0m\n",
      "\u001b[0;32m/opt/conda/lib/python3.7/site-packages/tqdm/notebook.py\u001b[0m in \u001b[0;36m__iter__\u001b[0;34m(self, *args, **kwargs)\u001b[0m\n\u001b[1;32m    216\u001b[0m     \u001b[0;32mdef\u001b[0m \u001b[0m__iter__\u001b[0m\u001b[0;34m(\u001b[0m\u001b[0mself\u001b[0m\u001b[0;34m,\u001b[0m \u001b[0;34m*\u001b[0m\u001b[0margs\u001b[0m\u001b[0;34m,\u001b[0m \u001b[0;34m**\u001b[0m\u001b[0mkwargs\u001b[0m\u001b[0;34m)\u001b[0m\u001b[0;34m:\u001b[0m\u001b[0;34m\u001b[0m\u001b[0;34m\u001b[0m\u001b[0m\n\u001b[1;32m    217\u001b[0m         \u001b[0;32mtry\u001b[0m\u001b[0;34m:\u001b[0m\u001b[0;34m\u001b[0m\u001b[0;34m\u001b[0m\u001b[0m\n\u001b[0;32m--> 218\u001b[0;31m             \u001b[0;32mfor\u001b[0m \u001b[0mobj\u001b[0m \u001b[0;32min\u001b[0m \u001b[0msuper\u001b[0m\u001b[0;34m(\u001b[0m\u001b[0mtqdm_notebook\u001b[0m\u001b[0;34m,\u001b[0m \u001b[0mself\u001b[0m\u001b[0;34m)\u001b[0m\u001b[0;34m.\u001b[0m\u001b[0m__iter__\u001b[0m\u001b[0;34m(\u001b[0m\u001b[0;34m*\u001b[0m\u001b[0margs\u001b[0m\u001b[0;34m,\u001b[0m \u001b[0;34m**\u001b[0m\u001b[0mkwargs\u001b[0m\u001b[0;34m)\u001b[0m\u001b[0;34m:\u001b[0m\u001b[0;34m\u001b[0m\u001b[0;34m\u001b[0m\u001b[0m\n\u001b[0m\u001b[1;32m    219\u001b[0m                 \u001b[0;31m# return super(tqdm...) will not catch exception\u001b[0m\u001b[0;34m\u001b[0m\u001b[0;34m\u001b[0m\u001b[0;34m\u001b[0m\u001b[0m\n\u001b[1;32m    220\u001b[0m                 \u001b[0;32myield\u001b[0m \u001b[0mobj\u001b[0m\u001b[0;34m\u001b[0m\u001b[0;34m\u001b[0m\u001b[0m\n",
      "\u001b[0;32m/opt/conda/lib/python3.7/site-packages/tqdm/std.py\u001b[0m in \u001b[0;36m__iter__\u001b[0;34m(self)\u001b[0m\n\u001b[1;32m   1127\u001b[0m \u001b[0;34m\u001b[0m\u001b[0m\n\u001b[1;32m   1128\u001b[0m         \u001b[0;32mtry\u001b[0m\u001b[0;34m:\u001b[0m\u001b[0;34m\u001b[0m\u001b[0;34m\u001b[0m\u001b[0m\n\u001b[0;32m-> 1129\u001b[0;31m             \u001b[0;32mfor\u001b[0m \u001b[0mobj\u001b[0m \u001b[0;32min\u001b[0m \u001b[0miterable\u001b[0m\u001b[0;34m:\u001b[0m\u001b[0;34m\u001b[0m\u001b[0;34m\u001b[0m\u001b[0m\n\u001b[0m\u001b[1;32m   1130\u001b[0m                 \u001b[0;32myield\u001b[0m \u001b[0mobj\u001b[0m\u001b[0;34m\u001b[0m\u001b[0;34m\u001b[0m\u001b[0m\n\u001b[1;32m   1131\u001b[0m                 \u001b[0;31m# Update and possibly print the progressbar.\u001b[0m\u001b[0;34m\u001b[0m\u001b[0;34m\u001b[0m\u001b[0;34m\u001b[0m\u001b[0m\n",
      "\u001b[0;32m/opt/conda/lib/python3.7/site-packages/multiprocess/pool.py\u001b[0m in \u001b[0;36mnext\u001b[0;34m(self, timeout)\u001b[0m\n\u001b[1;32m    735\u001b[0m                 \u001b[0;32mif\u001b[0m \u001b[0mself\u001b[0m\u001b[0;34m.\u001b[0m\u001b[0m_index\u001b[0m \u001b[0;34m==\u001b[0m \u001b[0mself\u001b[0m\u001b[0;34m.\u001b[0m\u001b[0m_length\u001b[0m\u001b[0;34m:\u001b[0m\u001b[0;34m\u001b[0m\u001b[0;34m\u001b[0m\u001b[0m\n\u001b[1;32m    736\u001b[0m                     \u001b[0;32mraise\u001b[0m \u001b[0mStopIteration\u001b[0m \u001b[0;32mfrom\u001b[0m \u001b[0;32mNone\u001b[0m\u001b[0;34m\u001b[0m\u001b[0;34m\u001b[0m\u001b[0m\n\u001b[0;32m--> 737\u001b[0;31m                 \u001b[0mself\u001b[0m\u001b[0;34m.\u001b[0m\u001b[0m_cond\u001b[0m\u001b[0;34m.\u001b[0m\u001b[0mwait\u001b[0m\u001b[0;34m(\u001b[0m\u001b[0mtimeout\u001b[0m\u001b[0;34m)\u001b[0m\u001b[0;34m\u001b[0m\u001b[0;34m\u001b[0m\u001b[0m\n\u001b[0m\u001b[1;32m    738\u001b[0m                 \u001b[0;32mtry\u001b[0m\u001b[0;34m:\u001b[0m\u001b[0;34m\u001b[0m\u001b[0;34m\u001b[0m\u001b[0m\n\u001b[1;32m    739\u001b[0m                     \u001b[0mitem\u001b[0m \u001b[0;34m=\u001b[0m \u001b[0mself\u001b[0m\u001b[0;34m.\u001b[0m\u001b[0m_items\u001b[0m\u001b[0;34m.\u001b[0m\u001b[0mpopleft\u001b[0m\u001b[0;34m(\u001b[0m\u001b[0;34m)\u001b[0m\u001b[0;34m\u001b[0m\u001b[0;34m\u001b[0m\u001b[0m\n",
      "\u001b[0;32m/opt/conda/lib/python3.7/threading.py\u001b[0m in \u001b[0;36mwait\u001b[0;34m(self, timeout)\u001b[0m\n\u001b[1;32m    294\u001b[0m         \u001b[0;32mtry\u001b[0m\u001b[0;34m:\u001b[0m    \u001b[0;31m# restore state no matter what (e.g., KeyboardInterrupt)\u001b[0m\u001b[0;34m\u001b[0m\u001b[0;34m\u001b[0m\u001b[0m\n\u001b[1;32m    295\u001b[0m             \u001b[0;32mif\u001b[0m \u001b[0mtimeout\u001b[0m \u001b[0;32mis\u001b[0m \u001b[0;32mNone\u001b[0m\u001b[0;34m:\u001b[0m\u001b[0;34m\u001b[0m\u001b[0;34m\u001b[0m\u001b[0m\n\u001b[0;32m--> 296\u001b[0;31m                 \u001b[0mwaiter\u001b[0m\u001b[0;34m.\u001b[0m\u001b[0macquire\u001b[0m\u001b[0;34m(\u001b[0m\u001b[0;34m)\u001b[0m\u001b[0;34m\u001b[0m\u001b[0;34m\u001b[0m\u001b[0m\n\u001b[0m\u001b[1;32m    297\u001b[0m                 \u001b[0mgotit\u001b[0m \u001b[0;34m=\u001b[0m \u001b[0;32mTrue\u001b[0m\u001b[0;34m\u001b[0m\u001b[0;34m\u001b[0m\u001b[0m\n\u001b[1;32m    298\u001b[0m             \u001b[0;32melse\u001b[0m\u001b[0;34m:\u001b[0m\u001b[0;34m\u001b[0m\u001b[0;34m\u001b[0m\u001b[0m\n",
      "\u001b[0;31mKeyboardInterrupt\u001b[0m: "
     ]
    },
    {
     "name": "stdout",
     "output_type": "stream",
     "text": [
      "Could not generate output statistics for  Could not generate output statistics for a_subj.2v_subj.1t_subj.13 \n",
      "\n",
      "\n",
      "t_subj.5Could not generate output statistics forCould not generate output statistics forCould not generate output statistics for\n",
      "   Could not generate output statistics fort_subj.4vt_subj.8 \n",
      "\n",
      "\n",
      "t_subj.10\n",
      "Could not generate output statistics forCould not generate output statistics forCould not generate output statistics for   Could not generate output statistics fort_subj.6v_subj.1z_trans \n",
      "\n",
      "\n",
      "a_subj.12Could not generate output statistics forCould not generate output statistics forCould not generate output statistics for\n",
      "  Could not generate output statistics for z_subj_trans.4 stt_subj.11\n",
      "a_subj.1\n",
      "\n",
      "\n",
      "Could not generate output statistics forCould not generate output statistics forCould not generate output statistics forCould not generate output statistics for    z_subj_trans.1szt_subj.0z_subj.13\n",
      "\n",
      "\n",
      "Could not generate output statistics for\n",
      "Could not generate output statistics for Could not generate output statistics forCould not generate output statistics for z_subj_trans.10  \n",
      "t_subj.13t_subj.8t_subj.10\n",
      "\n",
      "Could not generate output statistics forCould not generate output statistics for\n",
      "Could not generate output statistics for   Could not generate output statistics fora_subj.11z_subj.9z_subj_trans.5\n",
      "\n",
      " "
     ]
    },
    {
     "name": "stderr",
     "output_type": "stream",
     "text": [
      "Process ForkPoolWorker-10:\n"
     ]
    },
    {
     "name": "stdout",
     "output_type": "stream",
     "text": [
      "\n"
     ]
    },
    {
     "name": "stderr",
     "output_type": "stream",
     "text": [
      "Process ForkPoolWorker-11:\n"
     ]
    },
    {
     "name": "stdout",
     "output_type": "stream",
     "text": [
      "Could not generate output statistics forCould not generate output statistics forCould not generate output statistics for   "
     ]
    },
    {
     "name": "stderr",
     "output_type": "stream",
     "text": [
      "Traceback (most recent call last):\n"
     ]
    },
    {
     "name": "stdout",
     "output_type": "stream",
     "text": [
      "z_subj.10"
     ]
    },
    {
     "name": "stderr",
     "output_type": "stream",
     "text": [
      "Traceback (most recent call last):\n"
     ]
    },
    {
     "name": "stdout",
     "output_type": "stream",
     "text": [
      "z_subj_trans.7a_subj.13"
     ]
    },
    {
     "name": "stderr",
     "output_type": "stream",
     "text": [
      "  File \"/opt/conda/lib/python3.7/site-packages/multiprocess/process.py\", line 297, in _bootstrap\n",
      "    self.run()\n"
     ]
    },
    {
     "name": "stdout",
     "output_type": "stream",
     "text": [
      "\n",
      "z_subj.0"
     ]
    },
    {
     "name": "stderr",
     "output_type": "stream",
     "text": [
      "  File \"/opt/conda/lib/python3.7/site-packages/multiprocess/process.py\", line 297, in _bootstrap\n",
      "    self.run()\n"
     ]
    },
    {
     "name": "stdout",
     "output_type": "stream",
     "text": [
      "\n",
      "\n"
     ]
    },
    {
     "name": "stderr",
     "output_type": "stream",
     "text": [
      "  File \"/opt/conda/lib/python3.7/site-packages/multiprocess/process.py\", line 99, in run\n",
      "    self._target(*self._args, **self._kwargs)\n",
      "  File \"/opt/conda/lib/python3.7/site-packages/multiprocess/process.py\", line 99, in run\n",
      "    self._target(*self._args, **self._kwargs)\n"
     ]
    },
    {
     "name": "stdout",
     "output_type": "stream",
     "text": [
      "Could not generate output statistics for\n",
      "Could not generate output statistics forCould not generate output statistics for"
     ]
    },
    {
     "name": "stderr",
     "output_type": "stream",
     "text": [
      "  File \"/opt/conda/lib/python3.7/site-packages/multiprocess/pool.py\", line 110, in worker\n",
      "    task = get()\n",
      "  File \"/opt/conda/lib/python3.7/site-packages/multiprocess/pool.py\", line 110, in worker\n",
      "    task = get()\n"
     ]
    },
    {
     "name": "stdout",
     "output_type": "stream",
     "text": [
      "Could not generate output statistics for "
     ]
    },
    {
     "name": "stderr",
     "output_type": "stream",
     "text": [
      "Process ForkPoolWorker-13:\n",
      "Process ForkPoolWorker-12:\n"
     ]
    },
    {
     "name": "stdout",
     "output_type": "stream",
     "text": [
      "\n",
      " a_subj.13 \n",
      "\n",
      "t_subj.12\n",
      "Could not generate output statistics forCould not generate output statistics for  z_subj.11z_subj.7"
     ]
    },
    {
     "name": "stderr",
     "output_type": "stream",
     "text": [
      "  File \"/opt/conda/lib/python3.7/site-packages/multiprocess/queues.py\", line 354, in get\n",
      "    with self._rlock:\n",
      "  File \"/opt/conda/lib/python3.7/site-packages/multiprocess/synchronize.py\", line 102, in __enter__\n",
      "    return self._semlock.__enter__()\n"
     ]
    },
    {
     "name": "stdout",
     "output_type": "stream",
     "text": [
      "z_subj_trans.11Could not generate output statistics forCould not generate output statistics for \n",
      " "
     ]
    },
    {
     "name": "stderr",
     "output_type": "stream",
     "text": [
      "KeyboardInterrupt\n"
     ]
    },
    {
     "name": "stdout",
     "output_type": "stream",
     "text": [
      "Could not generate output statistics fort_subj.9v_subj.1\n",
      " \n",
      "Could not generate output statistics forz_subj_trans.5  "
     ]
    },
    {
     "name": "stderr",
     "output_type": "stream",
     "text": [
      "  File \"/opt/conda/lib/python3.7/site-packages/multiprocess/queues.py\", line 354, in get\n",
      "    with self._rlock:\n"
     ]
    },
    {
     "name": "stdout",
     "output_type": "stream",
     "text": [
      "a_subj.13z_subj_trans.6\n"
     ]
    },
    {
     "name": "stderr",
     "output_type": "stream",
     "text": [
      "  File \"/opt/conda/lib/python3.7/site-packages/multiprocess/synchronize.py\", line 102, in __enter__\n",
      "    return self._semlock.__enter__()\n"
     ]
    },
    {
     "name": "stdout",
     "output_type": "stream",
     "text": [
      "Could not generate output statistics for\n",
      "\n",
      "Could not generate output statistics for "
     ]
    },
    {
     "name": "stderr",
     "output_type": "stream",
     "text": [
      "KeyboardInterrupt\n"
     ]
    },
    {
     "name": "stdout",
     "output_type": "stream",
     "text": [
      "Could not generate output statistics forCould not generate output statistics fort_subj.6 \n",
      "z_subj_trans.13 \n",
      "Could not generate output statistics fort_subj.12 Could not generate output statistics for\n",
      " z_subj.12z_subj_trans.0Could not generate output statistics for\n",
      " Could not generate output statistics forz \n",
      "z_transCould not generate output statistics for\n",
      " Could not generate output statistics forz_subj.5\n",
      " \n",
      "Could not generate output statistics forsvCould not generate output statistics for  a_subj.11\n",
      "a_subj.1\n",
      "Could not generate output statistics forCould not generate output statistics for\n",
      "  Could not generate output statistics fort_subj.1a_subj.10 \n",
      "\n",
      "z_subj.7\n",
      "Could not generate output statistics forCould not generate output statistics for Could not generate output statistics for t_subj.11 t_subj.3a_subj.1\n",
      "\n",
      "Could not generate output statistics forCould not generate output statistics for\n",
      "   Could not generate output statistics forz_subj.1t_subj.3t_subj.3 \n",
      "\n",
      "z_subj.13Could not generate output statistics for\n",
      "Could not generate output statistics for\n",
      " Could not generate output statistics for z_subj_trans.0z_subj_trans.3 \n",
      "\n",
      "z_subj_trans.3Could not generate output statistics forCould not generate output statistics forCould not generate output statistics for\n",
      "   Could not generate output statistics forz_subj.0t_stdt \n",
      "\n",
      "a_subj.1\n",
      "Could not generate output statistics for\n",
      "Could not generate output statistics for Could not generate output statistics forCould not generate output statistics for  t_subj.7 \n",
      "t_subj.2z_subj_trans.0Could not generate output statistics forz_subj.2\n",
      "\n",
      "\n",
      " Could not generate output statistics forCould not generate output statistics fort_subj.9 \n",
      " z_subj.4Could not generate output statistics forz_subj.8\n",
      "Could not generate output statistics for"
     ]
    },
    {
     "name": "stderr",
     "output_type": "stream",
     "text": [
      "Process ForkPoolWorker-15:\n"
     ]
    },
    {
     "name": "stdout",
     "output_type": "stream",
     "text": [
      "  \n",
      "Could not generate output statistics forz_subj_trans.4\n",
      " Could not generate output statistics forCould not generate output statistics for"
     ]
    },
    {
     "name": "stderr",
     "output_type": "stream",
     "text": [
      "Traceback (most recent call last):\n"
     ]
    },
    {
     "name": "stdout",
     "output_type": "stream",
     "text": [
      "z_subj.2t_subj.3"
     ]
    },
    {
     "name": "stderr",
     "output_type": "stream",
     "text": [
      "  File \"/opt/conda/lib/python3.7/site-packages/multiprocess/process.py\", line 297, in _bootstrap\n",
      "    self.run()\n"
     ]
    },
    {
     "name": "stdout",
     "output_type": "stream",
     "text": [
      "  \n",
      "\n"
     ]
    },
    {
     "name": "stderr",
     "output_type": "stream",
     "text": [
      "  File \"/opt/conda/lib/python3.7/site-packages/multiprocess/process.py\", line 99, in run\n",
      "    self._target(*self._args, **self._kwargs)\n"
     ]
    },
    {
     "name": "stdout",
     "output_type": "stream",
     "text": [
      "z_subj.1z_subj.2Could not generate output statistics for"
     ]
    },
    {
     "name": "stderr",
     "output_type": "stream",
     "text": [
      "  File \"/opt/conda/lib/python3.7/site-packages/multiprocess/pool.py\", line 110, in worker\n",
      "    task = get()\n"
     ]
    },
    {
     "name": "stdout",
     "output_type": "stream",
     "text": [
      "Could not generate output statistics for"
     ]
    },
    {
     "name": "stderr",
     "output_type": "stream",
     "text": [
      "Process ForkPoolWorker-14:\n"
     ]
    },
    {
     "name": "stdout",
     "output_type": "stream",
     "text": [
      " "
     ]
    },
    {
     "name": "stderr",
     "output_type": "stream",
     "text": [
      "  File \"/opt/conda/lib/python3.7/site-packages/multiprocess/queues.py\", line 354, in get\n",
      "    with self._rlock:\n"
     ]
    },
    {
     "name": "stdout",
     "output_type": "stream",
     "text": [
      "\n",
      "\n",
      " z_trans"
     ]
    },
    {
     "name": "stderr",
     "output_type": "stream",
     "text": [
      "  File \"/opt/conda/lib/python3.7/site-packages/multiprocess/synchronize.py\", line 102, in __enter__\n",
      "    return self._semlock.__enter__()\n"
     ]
    },
    {
     "name": "stdout",
     "output_type": "stream",
     "text": [
      "Could not generate output statistics forv_stdCould not generate output statistics for"
     ]
    },
    {
     "name": "stderr",
     "output_type": "stream",
     "text": [
      "KeyboardInterrupt\n"
     ]
    },
    {
     "name": "stdout",
     "output_type": "stream",
     "text": [
      "\n"
     ]
    },
    {
     "name": "stderr",
     "output_type": "stream",
     "text": [
      "Traceback (most recent call last):\n"
     ]
    },
    {
     "name": "stdout",
     "output_type": "stream",
     "text": [
      "\n",
      " Could not generate output statistics for"
     ]
    },
    {
     "name": "stderr",
     "output_type": "stream",
     "text": [
      "  File \"/opt/conda/lib/python3.7/site-packages/multiprocess/process.py\", line 297, in _bootstrap\n",
      "    self.run()\n"
     ]
    },
    {
     "name": "stdout",
     "output_type": "stream",
     "text": [
      "Could not generate output statistics for  "
     ]
    },
    {
     "name": "stderr",
     "output_type": "stream",
     "text": [
      "  File \"/opt/conda/lib/python3.7/site-packages/multiprocess/process.py\", line 99, in run\n",
      "    self._target(*self._args, **self._kwargs)\n"
     ]
    },
    {
     "name": "stdout",
     "output_type": "stream",
     "text": [
      " "
     ]
    },
    {
     "name": "stderr",
     "output_type": "stream",
     "text": [
      "Process ForkPoolWorker-16:\n"
     ]
    },
    {
     "name": "stdout",
     "output_type": "stream",
     "text": [
      "t_subj.10z_subj.5z_subj_trans.8"
     ]
    },
    {
     "name": "stderr",
     "output_type": "stream",
     "text": [
      "  File \"/opt/conda/lib/python3.7/site-packages/multiprocess/pool.py\", line 110, in worker\n",
      "    task = get()\n"
     ]
    },
    {
     "name": "stdout",
     "output_type": "stream",
     "text": [
      "\n",
      "a_std"
     ]
    },
    {
     "name": "stderr",
     "output_type": "stream",
     "text": [
      "  File \"/opt/conda/lib/python3.7/site-packages/multiprocess/queues.py\", line 354, in get\n",
      "    with self._rlock:\n"
     ]
    },
    {
     "name": "stdout",
     "output_type": "stream",
     "text": [
      "Could not generate output statistics for\n"
     ]
    },
    {
     "name": "stderr",
     "output_type": "stream",
     "text": [
      "Traceback (most recent call last):\n",
      "  File \"/opt/conda/lib/python3.7/site-packages/multiprocess/synchronize.py\", line 102, in __enter__\n",
      "    return self._semlock.__enter__()\n"
     ]
    },
    {
     "name": "stdout",
     "output_type": "stream",
     "text": [
      "\n",
      " "
     ]
    },
    {
     "name": "stderr",
     "output_type": "stream",
     "text": [
      "  File \"/opt/conda/lib/python3.7/site-packages/multiprocess/process.py\", line 297, in _bootstrap\n",
      "    self.run()\n"
     ]
    },
    {
     "name": "stdout",
     "output_type": "stream",
     "text": [
      "Could not generate output statistics for"
     ]
    },
    {
     "name": "stderr",
     "output_type": "stream",
     "text": [
      "KeyboardInterrupt\n"
     ]
    },
    {
     "name": "stdout",
     "output_type": "stream",
     "text": [
      "z_subj.6Could not generate output statistics for"
     ]
    },
    {
     "name": "stderr",
     "output_type": "stream",
     "text": [
      "  File \"/opt/conda/lib/python3.7/site-packages/multiprocess/process.py\", line 99, in run\n",
      "    self._target(*self._args, **self._kwargs)\n"
     ]
    },
    {
     "name": "stdout",
     "output_type": "stream",
     "text": [
      " \n",
      " "
     ]
    },
    {
     "name": "stderr",
     "output_type": "stream",
     "text": [
      "  File \"/opt/conda/lib/python3.7/site-packages/multiprocess/pool.py\", line 110, in worker\n",
      "    task = get()\n"
     ]
    },
    {
     "name": "stdout",
     "output_type": "stream",
     "text": [
      "aCould not generate output statistics for\n",
      "t_subj.0"
     ]
    },
    {
     "name": "stderr",
     "output_type": "stream",
     "text": [
      "  File \"/opt/conda/lib/python3.7/site-packages/multiprocess/queues.py\", line 354, in get\n",
      "    with self._rlock:\n"
     ]
    },
    {
     "name": "stdout",
     "output_type": "stream",
     "text": [
      "\n",
      " \n",
      "Could not generate output statistics forCould not generate output statistics fort_subj.8"
     ]
    },
    {
     "name": "stderr",
     "output_type": "stream",
     "text": [
      "  File \"/opt/conda/lib/python3.7/site-packages/multiprocess/synchronize.py\", line 102, in __enter__\n",
      "    return self._semlock.__enter__()\n"
     ]
    },
    {
     "name": "stdout",
     "output_type": "stream",
     "text": [
      "  \n",
      "z_subj_trans.12"
     ]
    },
    {
     "name": "stderr",
     "output_type": "stream",
     "text": [
      "KeyboardInterrupt\n"
     ]
    },
    {
     "name": "stdout",
     "output_type": "stream",
     "text": [
      "Could not generate output statistics for\n",
      "a_subj.12 \n",
      "Could not generate output statistics forCould not generate output statistics fora_subj.13Could not generate output statistics for  \n",
      "tz_subj.8 Could not generate output statistics for\n",
      "\n",
      "t_subj.6 Could not generate output statistics forCould not generate output statistics for\n",
      "v_subj.1  Could not generate output statistics forz_std"
     ]
    },
    {
     "name": "stderr",
     "output_type": "stream",
     "text": [
      "Traceback (most recent call last):\n"
     ]
    },
    {
     "name": "stdout",
     "output_type": "stream",
     "text": [
      "st\n",
      "\n",
      " \n"
     ]
    },
    {
     "name": "stderr",
     "output_type": "stream",
     "text": [
      "  File \"/opt/conda/lib/python3.7/site-packages/multiprocess/process.py\", line 297, in _bootstrap\n",
      "    self.run()\n"
     ]
    },
    {
     "name": "stdout",
     "output_type": "stream",
     "text": [
      "Could not generate output statistics fora_std"
     ]
    },
    {
     "name": "stderr",
     "output_type": "stream",
     "text": [
      "  File \"/opt/conda/lib/python3.7/site-packages/multiprocess/process.py\", line 99, in run\n",
      "    self._target(*self._args, **self._kwargs)\n"
     ]
    },
    {
     "name": "stdout",
     "output_type": "stream",
     "text": [
      "Could not generate output statistics forCould not generate output statistics for \n"
     ]
    },
    {
     "name": "stderr",
     "output_type": "stream",
     "text": [
      "  File \"/opt/conda/lib/python3.7/site-packages/multiprocess/pool.py\", line 110, in worker\n",
      "    task = get()\n"
     ]
    },
    {
     "name": "stdout",
     "output_type": "stream",
     "text": [
      "  a_subj.10Could not generate output statistics for"
     ]
    },
    {
     "name": "stderr",
     "output_type": "stream",
     "text": [
      "  File \"/opt/conda/lib/python3.7/site-packages/multiprocess/queues.py\", line 354, in get\n",
      "    with self._rlock:\n"
     ]
    },
    {
     "name": "stdout",
     "output_type": "stream",
     "text": [
      "t_subj.2\n"
     ]
    },
    {
     "name": "stderr",
     "output_type": "stream",
     "text": [
      "  File \"/opt/conda/lib/python3.7/site-packages/multiprocess/synchronize.py\", line 102, in __enter__\n",
      "    return self._semlock.__enter__()\n"
     ]
    },
    {
     "name": "stdout",
     "output_type": "stream",
     "text": [
      "z_subj_trans.6 \n",
      "Could not generate output statistics for"
     ]
    },
    {
     "name": "stderr",
     "output_type": "stream",
     "text": [
      "KeyboardInterrupt\n"
     ]
    },
    {
     "name": "stdout",
     "output_type": "stream",
     "text": [
      "z_subj.9Could not generate output statistics for \n",
      " t_stdstCould not generate output statistics for\n",
      " Could not generate output statistics for\n",
      "a_subj.11 \n",
      "Could not generate output statistics forCould not generate output statistics forz_subj.6  \n",
      "t_subj.13z_subj_trans.1\n",
      "Could not generate output statistics forCould not generate output statistics for\n",
      "\n",
      " Could not generate output statistics fora_subj.12Could not generate output statistics for  \n",
      " v_subj.9t_subj.7Could not generate output statistics forz_subj.13\n",
      " \n",
      "\n",
      "Could not generate output statistics fora_stdCould not generate output statistics forCould not generate output statistics for \n"
     ]
    },
    {
     "name": "stderr",
     "output_type": "stream",
     "text": [
      "Traceback (most recent call last):\n"
     ]
    },
    {
     "name": "stdout",
     "output_type": "stream",
     "text": [
      "  t_subj.5Could not generate output statistics for"
     ]
    },
    {
     "name": "stderr",
     "output_type": "stream",
     "text": [
      "  File \"/opt/conda/lib/python3.7/site-packages/multiprocess/process.py\", line 297, in _bootstrap\n",
      "    self.run()\n"
     ]
    },
    {
     "name": "stdout",
     "output_type": "stream",
     "text": [
      "t_subj.12\n",
      "a_subj.9"
     ]
    },
    {
     "name": "stderr",
     "output_type": "stream",
     "text": [
      "  File \"/opt/conda/lib/python3.7/site-packages/multiprocess/process.py\", line 99, in run\n",
      "    self._target(*self._args, **self._kwargs)\n"
     ]
    },
    {
     "name": "stdout",
     "output_type": "stream",
     "text": [
      "\n",
      " \n",
      "Could not generate output statistics for"
     ]
    },
    {
     "name": "stderr",
     "output_type": "stream",
     "text": [
      "  File \"/opt/conda/lib/python3.7/site-packages/multiprocess/pool.py\", line 110, in worker\n",
      "    task = get()\n"
     ]
    },
    {
     "name": "stdout",
     "output_type": "stream",
     "text": [
      "Could not generate output statistics forz_subj.8Could not generate output statistics for"
     ]
    },
    {
     "name": "stderr",
     "output_type": "stream",
     "text": [
      "  File \"/opt/conda/lib/python3.7/site-packages/multiprocess/queues.py\", line 354, in get\n",
      "    with self._rlock:\n"
     ]
    },
    {
     "name": "stdout",
     "output_type": "stream",
     "text": [
      "  \n",
      " "
     ]
    },
    {
     "name": "stderr",
     "output_type": "stream",
     "text": [
      "  File \"/opt/conda/lib/python3.7/site-packages/multiprocess/synchronize.py\", line 102, in __enter__\n",
      "    return self._semlock.__enter__()\n"
     ]
    },
    {
     "name": "stdout",
     "output_type": "stream",
     "text": [
      "t_subj.0z_subj.5z_subj.10Could not generate output statistics for\n"
     ]
    },
    {
     "name": "stderr",
     "output_type": "stream",
     "text": [
      "KeyboardInterrupt\n"
     ]
    },
    {
     "name": "stdout",
     "output_type": "stream",
     "text": [
      "\n",
      "\n",
      " Could not generate output statistics forCould not generate output statistics forCould not generate output statistics fora_subj.11   \n",
      "z_subj_trans.2v_subj.10t_subj.5\n",
      "Could not generate output statistics for\n",
      "\n",
      " Could not generate output statistics forCould not generate output statistics forCould not generate output statistics fort_subj.4  \n",
      " tz_subj_trans.11Could not generate output statistics for\n",
      "\n",
      "z_std Could not generate output statistics forCould not generate output statistics for\n",
      "z_subj_trans.7  Could not generate output statistics for\n",
      "z_subj.4z_subj_trans.13 \n",
      "\n",
      "Could not generate output statistics fort_subj.4Could not generate output statistics for Could not generate output statistics for\n",
      "  a_subj.9Could not generate output statistics fora_subj.12a_subj.7\n",
      " \n",
      "\n",
      "Could not generate output statistics forCould not generate output statistics forz_subj.11Could not generate output statistics for  \n",
      "z_subj_trans.6z_subj_trans.3 Could not generate output statistics for\n",
      "\n",
      "z_subj.5 Could not generate output statistics forCould not generate output statistics fora_subj.10\n",
      "  \n",
      "Could not generate output statistics forz_subj.9a_subj.4 Could not generate output statistics for\n",
      "\n",
      "z_subj_trans.8 Could not generate output statistics forCould not generate output statistics for\n",
      "z_subj_trans.2  Could not generate output statistics for\n",
      "t_subj.8a_subj.5 Could not generate output statistics for\n",
      "\n",
      "z_subj.3 \n",
      "Could not generate output statistics forz_subj_trans.7Could not generate output statistics forCould not generate output statistics for \n",
      "  a_subj.0z_subj.12Could not generate output statistics fort_subj.9\n",
      "\n",
      " \n",
      "Could not generate output statistics forCould not generate output statistics forz_subj_trans.3Could not generate output statistics for  \n",
      "v_subj.8 zCould not generate output statistics for\n",
      "a_subj.3\n",
      " Could not generate output statistics for\n",
      "z_subj.12Could not generate output statistics forCould not generate output statistics for  \n",
      " z_subj_trans.4z_subj_trans.1Could not generate output statistics forz_subj_trans.9\n",
      "\n",
      " \n",
      "Could not generate output statistics forCould not generate output statistics fort_subj.0Could not generate output statistics for  \n",
      " z_subj.7a_subj.10Could not generate output statistics forz_subj.7\n",
      "\n",
      " \n",
      "Could not generate output statistics forCould not generate output statistics fort_subj.9Could not generate output statistics for  \n",
      " z_subj.1t_subj.7Could not generate output statistics fora\n",
      "\n",
      " \n",
      "Could not generate output statistics forCould not generate output statistics forv_stdCould not generate output statistics for   \n",
      "z_subj.10a_subj.8a_stdCould not generate output statistics for\n",
      "\n",
      " \n",
      "Could not generate output statistics forCould not generate output statistics forCould not generate output statistics fort_subj.7  \n",
      " z_subj.3t_subj.11Could not generate output statistics forv_subj.2 \n",
      "\n",
      "\n",
      "a_subj.3Could not generate output statistics forCould not generate output statistics forCould not generate output statistics for\n",
      "   z_subj_trans.2z_subj_trans.2Could not generate output statistics forsz\n",
      " \n",
      "\n",
      "Could not generate output statistics forz_subj.0Could not generate output statistics forCould not generate output statistics for \n",
      "  szCould not generate output statistics forv_subj.2t_subj.6\n",
      " \n",
      "\n",
      "Could not generate output statistics foraCould not generate output statistics forCould not generate output statistics for\n",
      "   z_stdCould not generate output statistics forv_subj.9z_subj_trans.5\n",
      " \n",
      "\n",
      "Could not generate output statistics forv_subj.9Could not generate output statistics for \n",
      "Could not generate output statistics for z_subj.2 Could not generate output statistics fora_subj.6\n",
      " z_subj.11\n",
      "Could not generate output statistics forz_subj_trans.13\n",
      " Could not generate output statistics for\n",
      "Could not generate output statistics forz Could not generate output statistics for \n",
      "v_subj.8 v_std\n",
      "Could not generate output statistics forv_subj.11\n",
      " Could not generate output statistics for\n",
      "Could not generate output statistics for a_subj.9 Could not generate output statistics for\n",
      "v_subj.3t_subj.5 Could not generate output statistics for\n",
      "\n",
      "a_subj.7 Could not generate output statistics forCould not generate output statistics forz_subj_trans.0\n",
      "  \n",
      "Could not generate output statistics fort_subj.12a_subj.3 \n",
      "\n",
      "Could not generate output statistics forv_subj.8 Could not generate output statistics for\n",
      "Could not generate output statistics for t_subj.1Could not generate output statistics for a_subj.4\n",
      " \n",
      "Could not generate output statistics forz_subj_trans.4z_subj_trans.11 \n",
      "Could not generate output statistics for\n",
      "t_subj.2Could not generate output statistics for Could not generate output statistics for\n",
      " v_subj.5 Could not generate output statistics forz_subj_trans.10\n",
      "z_subj_trans.10 \n",
      "\n",
      "Could not generate output statistics forz_subj_trans.8Could not generate output statistics forCould not generate output statistics for \n",
      "  t_subj.13aCould not generate output statistics forz_subj.6\n",
      " \n",
      "\n",
      "Could not generate output statistics forv_subj.12Could not generate output statistics forCould not generate output statistics for\n",
      "   v_subj.7Could not generate output statistics forv_subj.9a_subj.2\n",
      " \n",
      "\n",
      "Could not generate output statistics forz_subj_trans.9Could not generate output statistics for Could not generate output statistics for\n",
      "v_subj.6  Could not generate output statistics for\n",
      "z_subj_trans.12v_subj.11 \n",
      "Could not generate output statistics forv_subj.0\n",
      "Could not generate output statistics for Could not generate output statistics for\n",
      " a_subj.0 Could not generate output statistics forv_subj.12\n",
      " z_subj_trans.13\n",
      "Could not generate output statistics for\n",
      "z_subj.4Could not generate output statistics for Could not generate output statistics for\n",
      " z_subj.8 Could not generate output statistics forz_subj_trans.9\n",
      "a_subj.7 \n",
      "\n",
      "Could not generate output statistics fora_subj.3Could not generate output statistics for Could not generate output statistics for \n",
      "a_subj.5 Could not generate output statistics fort_std\n",
      "v_subj.8\n",
      " Could not generate output statistics for\n",
      "v_subj.4 Could not generate output statistics for\n",
      " Could not generate output statistics forv_subj.4 t_subj.1Could not generate output statistics for\n",
      "z_subj_trans.9\n",
      " Could not generate output statistics for\n",
      "Could not generate output statistics forz_trans Could not generate output statistics for\n",
      " v_subj.10 a_subj.4\n",
      "a_subj.2Could not generate output statistics for\n",
      "Could not generate output statistics for\n",
      " Could not generate output statistics for Could not generate output statistics forz_subj.6 z_subj.9 \n",
      "st\n",
      "z_subj_trans.8Could not generate output statistics for\n",
      "Could not generate output statistics for \n",
      "Could not generate output statistics for v_subj.3Could not generate output statistics fora_subj.9\n",
      "  \n",
      "Could not generate output statistics forz_subj.4v_subj.12Could not generate output statistics for \n",
      "\n",
      " v_subj.7Could not generate output statistics forCould not generate output statistics forv_std\n",
      "  \n",
      "Could not generate output statistics forz_subj_trans.12svCould not generate output statistics for\n",
      " \n",
      " Could not generate output statistics forz_subj_trans.7Could not generate output statistics forz_subj.10 \n",
      "\n",
      " t_stdCould not generate output statistics forCould not generate output statistics forv_subj.7\n",
      "  \n",
      "Could not generate output statistics fora_subj.6v_subj.0Could not generate output statistics for \n",
      " \n",
      "z_subj_trans.11Could not generate output statistics fora_subj.8Could not generate output statistics for\n",
      " \n",
      " Could not generate output statistics forvCould not generate output statistics forz_subj.11 \n",
      " \n",
      "a_subj.4Could not generate output statistics forv_subj.13Could not generate output statistics for\n",
      " \n",
      " Could not generate output statistics forv_subj.6Could not generate output statistics forv  \n",
      "\n",
      "t_subj.1a_subj.6Could not generate output statistics forCould not generate output statistics for\n",
      "\n",
      "  Could not generate output statistics forCould not generate output statistics forv_subj.13a_subj.8  \n",
      "sv\n",
      "v_subj.5Could not generate output statistics for\n",
      "Could not generate output statistics for\n",
      " Could not generate output statistics for Could not generate output statistics forv_subj.5 z_subj.12 \n",
      "v_subj.7\n",
      "v_subj.2\n",
      "Could not generate output statistics forCould not generate output statistics for\n"
     ]
    },
    {
     "name": "stdout",
     "output_type": "stream",
     "text": [
      " Could not generate output statistics for Could not generate output statistics forz_subj.0 a_subj.7 \n",
      "a_subj.8\n",
      "v_subj.4\n",
      "Could not generate output statistics for\n",
      " Could not generate output statistics forCould not generate output statistics forCould not generate output statistics forv_subj.11   z_subj.13\n",
      "v_subj.13\n",
      "Could not generate output statistics for\n",
      "v_subj.3Could not generate output statistics forCould not generate output statistics for  \n",
      "v_subj.12z_subj_trans.1 Could not generate output statistics for\n",
      "a_subj.6\n",
      " Could not generate output statistics forz_subj.3Could not generate output statistics for\n",
      " \n",
      " Could not generate output statistics forz_subj.3 v_subj.11\n",
      "Could not generate output statistics forv_subj.5\n",
      " Could not generate output statistics for\n",
      "Could not generate output statistics for a_subj.5Could not generate output statistics for \n",
      "sv v_subj.13Could not generate output statistics for\n",
      "v_subj.2\n",
      " Could not generate output statistics for\n",
      "Could not generate output statistics forv_subj.0Could not generate output statistics for   \n",
      "z_subj_trans.5z_stdz_subj.1Could not generate output statistics for\n",
      "\n",
      "\n",
      " Could not generate output statistics forCould not generate output statistics forv_subj.10  \n",
      "z_subj_trans.10v_subj.4Could not generate output statistics for\n",
      "\n",
      " Could not generate output statistics fora_subj.0 \n",
      "v_subj.3Could not generate output statistics for\n",
      " Could not generate output statistics forv_subj.6 \n",
      "sz\n",
      "Could not generate output statistics for a_subj.5\n",
      "Could not generate output statistics for v_subj.0\n",
      "Could not generate output statistics for v_subj.10\n",
      "Could not generate output statistics for a_subj.0\n",
      "Could not generate output statistics for v_subj.6\n"
     ]
    }
   ],
   "source": [
    "conf_mat_dic0 = pd.DataFrame(0, index=m_keys, columns=df_keys)\n",
    "conf_mat_loo0 = pd.DataFrame(0, index=m_keys, columns=df_keys)\n",
    "conf_mat_waic0 = pd.DataFrame(0, index=m_keys, columns=df_keys)\n",
    "\n",
    "for sim in range (5):   \n",
    "    for df_key in df_keys:\n",
    "        ### simulate data\n",
    "        data = SimData(df_key)\n",
    "\n",
    "        ### fit the sim data\n",
    "        models, InfData = model_recov(m_keys, data, model_func)\n",
    "\n",
    "        ### compare models\n",
    "        tmp_loo_comp = az.compare(InfData[df_key], ic=\"loo\")\n",
    "        tmp_loo_comp = tmp_loo_comp.reset_index()\n",
    "        tmp_waic_comp = az.compare(InfData[df_key], ic=\"waic\")\n",
    "        tmp_waic_comp = tmp_loo_comp.reset_index()\n",
    "        \n",
    "        tmp_dic = []\n",
    "        indx_name = []\n",
    "\n",
    "        for m_key, model in models[df_key].items():\n",
    "            m_tmp = kabuki.utils.concat_models(model)\n",
    "            tmp_dic.append(m_tmp.dic)\n",
    "            indx_name.append(m_key)\n",
    "            \n",
    "        conf_mat_dic = pd.DataFrame(tmp_dic, index=indx_name, columns=['dic'])\n",
    "        conf_mat_dic = conf_mat_dic.sort_values(by=['dic'])\n",
    "        conf_mat_dic = conf_mat_dic.reset_index()\n",
    "        #conf_mat_dic.rename(columns={'index':'rank'}, inplace=True)\n",
    "\n",
    "        ### record the best models\n",
    "        conf_mat_dic0.loc[tmp_dic_comp.loc[0, 'index'], df_key] += 1\n",
    "        conf_mat_loo0.loc[tmp_loo_comp.loc[0, 'index'], df_key] += 1\n",
    "        conf_mat_waic0.loc[tmp_waic_comp.loc[0, 'index'], df_key] += 1\n",
    "\n",
    "conf_mat_dic0.to_csv('conf_mat_dic0.csv')\n",
    "conf_mat_loo0.to_csv('conf_mat_loo0.csv')\n",
    "conf_mat_waic0.to_csv('conf_mat_waic0.csv')"
   ]
  }
 ],
 "metadata": {
  "kernelspec": {
   "display_name": "Python 3",
   "language": "python",
   "name": "python3"
  },
  "language_info": {
   "codemirror_mode": {
    "name": "ipython",
    "version": 3
   },
   "file_extension": ".py",
   "mimetype": "text/x-python",
   "name": "python",
   "nbconvert_exporter": "python",
   "pygments_lexer": "ipython3",
   "version": "3.7.6"
  }
 },
 "nbformat": 4,
 "nbformat_minor": 4
}
