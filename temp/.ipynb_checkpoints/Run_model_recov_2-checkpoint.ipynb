{
 "cells": [
  {
   "cell_type": "code",
   "execution_count": 1,
   "metadata": {
    "scrolled": true
   },
   "outputs": [
    {
     "name": "stdout",
     "output_type": "stream",
     "text": [
      "Notebook is running: /opt/conda/bin/python\n",
      "The current Python version is 3.7.6\n",
      "The current HDDM version is 0.8.0\n",
      "The current Kabuki version is 0.6.3\n",
      "The current PyMC version is 2.3.8\n",
      "The current IPython version is 7.15.0\n",
      "The current Numpy version is 1.19.4\n",
      "The current Pandas version is 1.0.5\n",
      "The current seaborn version is 0.11.1\n"
     ]
    },
    {
     "name": "stderr",
     "output_type": "stream",
     "text": [
      "/opt/conda/lib/python3.7/site-packages/IPython/parallel.py:13: ShimWarning: The `IPython.parallel` package has been deprecated since IPython 4.0. You should import from ipyparallel instead.\n",
      "  \"You should import from ipyparallel instead.\", ShimWarning)\n"
     ]
    }
   ],
   "source": [
    "import sys\n",
    "print('Notebook is running:', sys.executable)\n",
    "\n",
    "# further check your python version\n",
    "from platform import python_version\n",
    "\n",
    "print('The current Python version is', python_version())\n",
    "\n",
    "# If you are sure that conda is installed, also check the package that install\n",
    "#!conda list  # list the conda\n",
    "\n",
    "import hddm, IPython, kabuki, pymc\n",
    "import numpy as np\n",
    "import pandas as pd\n",
    "import seaborn as sns\n",
    "print('The current HDDM version is', hddm.__version__) # 0.8.0\n",
    "print('The current Kabuki version is', kabuki.__version__) # 0.6.3\n",
    "print('The current PyMC version is', pymc.__version__) # 2.3.8\n",
    "\n",
    "# Warning:`IPython.parallel` package has been deprecated since IPython 4.0. \n",
    "print('The current IPython version is', IPython.__version__) \n",
    "\n",
    "print('The current Numpy version is', np.__version__) \n",
    "\n",
    "print('The current Pandas version is', pd.__version__)\n",
    "\n",
    "print('The current seaborn version is', sns.__version__)"
   ]
  },
  {
   "cell_type": "code",
   "execution_count": 2,
   "metadata": {},
   "outputs": [],
   "source": [
    "# Preparation\n",
    "import os, hddm, time, csv\n",
    "import glob\n",
    "import datetime\n",
    "from datetime import date\n",
    "\n",
    "import pymc as pm\n",
    "import hddm\n",
    "import kabuki\n",
    "\n",
    "import arviz as az\n",
    "import numpy as np\n",
    "import pandas as pd\n",
    "import feather\n",
    "import xarray as xr\n",
    "import matplotlib.pyplot as plt\n",
    "import seaborn as sns\n",
    "from patsy import dmatrix\n",
    "\n",
    "from p_tqdm import p_map\n",
    "from functools import partial\n",
    "\n",
    "# set the color of plots\n",
    "from cycler import cycler\n",
    "plt.rcParams['axes.prop_cycle'] = cycler(color='bgrcmykw')"
   ]
  },
  {
   "cell_type": "code",
   "execution_count": 3,
   "metadata": {},
   "outputs": [],
   "source": [
    "# NOTE: I hacked the `post_pred_gen`, \n",
    "# more detals: https://groups.google.com/g/hddm-users/c/Is6AM7eN0fo\n",
    "from post_pred_gen_redifined import _parents_to_random_posterior_sample\n",
    "from post_pred_gen_redifined import _post_pred_generate\n",
    "from post_pred_gen_redifined import post_pred_gen\n",
    "\n",
    "from pointwise_loglik_gen import _pointwise_like_generate\n",
    "from pointwise_loglik_gen import pointwise_like_gen\n",
    "\n",
    "# import self-defined functions\n",
    "from SimData import SimData\n",
    "from run_models import run_m1, run_m2, run_m4, run_m5, run_m7\n",
    "\n",
    "model_func = [run_m1, run_m2, run_m4, run_m5, run_m7]\n",
    "\n",
    "m_keys = [\"ms1\",\n",
    "          \"ms2\",\n",
    "          \"ms4\",\n",
    "          \"ms5\",\n",
    "          \"ms7\"]\n",
    "\n",
    "df_keys = [\"sim_df1\", \n",
    "           \"sim_df2\", \n",
    "           \"sim_df4\", \n",
    "           \"sim_df5\",\n",
    "           \"sim_df7\"]\n"
   ]
  },
  {
   "cell_type": "code",
   "execution_count": 4,
   "metadata": {},
   "outputs": [],
   "source": [
    "def model_recov(data=None, m_keys=None, model_func=None):\n",
    "    \"\"\"\n",
    "    This func is for model recovery. \n",
    "    \n",
    "    data: input data, can be simulated data or real data\n",
    "    m_keys: id for different models\n",
    "    model_func: a list of model functions\n",
    "    \n",
    "    \"\"\"\n",
    "    InfData = {}\n",
    "    models = {}\n",
    "    for ii in range(len(m_keys)):\n",
    "        m_key = m_keys[ii]\n",
    "\n",
    "        ### Run models\n",
    "        save_name = \"./tmp/\" + m_key + \"_tmp\"\n",
    "        print(\"start model fitting for \", m_key)\n",
    "        ms_tmp = p_map(partial(model_func[ii], \n",
    "                               df=data, \n",
    "                               samples=samples,\n",
    "                               burn=burn,\n",
    "                               save_name=save_name),\n",
    "                       range(chains))\n",
    "\n",
    "        ### Observations\n",
    "        xdata_observed = ms_tmp[0].data.copy()\n",
    "        xdata_observed.index.names = ['trial_idx']\n",
    "        xdata_observed = xdata_observed[['rt', 'response']]\n",
    "        xdata_observed = xr.Dataset.from_dataframe(xdata_observed)\n",
    "\n",
    "        ### posteriors\n",
    "        xdata_posterior = []\n",
    "        for jj in range(len(ms_tmp)):\n",
    "            trace_tmp = ms_tmp[jj].get_traces()\n",
    "            trace_tmp['chain'] = jj\n",
    "            trace_tmp['draw'] = np.arange(len(trace_tmp), dtype=int)\n",
    "            xdata_posterior.append(trace_tmp)\n",
    "        xdata_posterior = pd.concat(xdata_posterior)\n",
    "        xdata_posterior = xdata_posterior.set_index([\"chain\", \"draw\"])\n",
    "        xdata_posterior = xr.Dataset.from_dataframe(xdata_posterior)\n",
    "\n",
    "        ### PPC\n",
    "        xdata_post_pred = [] # define an empty dict    \n",
    "        print(\"start PPC for \", m_key)\n",
    "        start_time = time.time()  \n",
    "        xdata_post_pred = p_map(partial(post_pred_gen), ms_tmp)\n",
    "        print(\"Running PPC for \", m_key, \" costs %f seconds\" % (time.time() - start_time))\n",
    "        xdata_post_pred = pd.concat(xdata_post_pred, names=['chain'], \n",
    "                                keys = list(range(len(xdata_post_pred))))\n",
    "        xdata_post_pred = xdata_post_pred.reset_index(level=1, drop=True)\n",
    "        xdata_post_pred = xr.Dataset.from_dataframe(xdata_post_pred)\n",
    "\n",
    "        ### Point-wise log likelihood\n",
    "        xdata_loglik = [] # define an empty dict\n",
    "        print(\"start calculating loglik for \", m_key)\n",
    "        start_time = time.time()  # the start time of the processing\n",
    "        xdata_loglik = p_map(partial(pointwise_like_gen), ms_tmp)\n",
    "        print(\"Generating loglik costs %f seconds\" % (time.time() - start_time))\n",
    "\n",
    "        xdata_loglik = pd.concat(xdata_loglik, names=['chain'], \n",
    "                                keys = list(range(len(xdata_loglik))))\n",
    "        xdata_loglik = xdata_loglik.reset_index(level=1, drop=True)\n",
    "        xdata_loglik = xr.Dataset.from_dataframe(xdata_loglik)\n",
    "        \n",
    "        ### convert to InfData\n",
    "        InfData[m_key] = az.InferenceData(posterior=xdata_posterior, \n",
    "                                                 observed_data=xdata_observed,\n",
    "                                                 posterior_predictive=xdata_post_pred,\n",
    "                                                 log_likelihood = xdata_loglik)\n",
    "        models[m_key] = ms_tmp\n",
    "    return models, InfData"
   ]
  },
  {
   "cell_type": "code",
   "execution_count": 5,
   "metadata": {},
   "outputs": [],
   "source": [
    "samples = 2000\n",
    "burn = 500\n",
    "chains = 4"
   ]
  },
  {
   "cell_type": "code",
   "execution_count": 6,
   "metadata": {
    "scrolled": true
   },
   "outputs": [
    {
     "name": "stdout",
     "output_type": "stream",
     "text": [
      "Start model recovery for  sim_df1\n",
      "start model fitting for  ms1\n"
     ]
    },
    {
     "name": "stderr",
     "output_type": "stream",
     "text": [
      "/opt/conda/lib/python3.7/site-packages/pandas/core/indexing.py:671: SettingWithCopyWarning: \n",
      "A value is trying to be set on a copy of a slice from a DataFrame\n",
      "\n",
      "See the caveats in the documentation: https://pandas.pydata.org/pandas-docs/stable/user_guide/indexing.html#returning-a-view-versus-a-copy\n",
      "  self._setitem_with_indexer(indexer, value)\n"
     ]
    },
    {
     "data": {
      "application/vnd.jupyter.widget-view+json": {
       "model_id": "a96dca9ef0e7411495a2eb96745887c9",
       "version_major": 2,
       "version_minor": 0
      },
      "text/plain": [
       "HBox(children=(FloatProgress(value=0.0, max=4.0), HTML(value='')))"
      ]
     },
     "metadata": {},
     "output_type": "display_data"
    },
    {
     "name": "stderr",
     "output_type": "stream",
     "text": [
      "/opt/conda/lib/python3.7/site-packages/scipy/optimize/optimize.py:2149: RuntimeWarning: invalid value encountered in double_scalars\n",
      "  tmp2 = (x - v) * (fx - fw)\n",
      "/opt/conda/lib/python3.7/site-packages/scipy/optimize/optimize.py:2149: RuntimeWarning: invalid value encountered in double_scalars\n",
      "  tmp2 = (x - v) * (fx - fw)\n",
      "/opt/conda/lib/python3.7/site-packages/scipy/optimize/optimize.py:2149: RuntimeWarning: invalid value encountered in double_scalars\n",
      "  tmp2 = (x - v) * (fx - fw)\n",
      "/opt/conda/lib/python3.7/site-packages/scipy/optimize/optimize.py:2149: RuntimeWarning: invalid value encountered in double_scalars\n",
      "  tmp2 = (x - v) * (fx - fw)\n"
     ]
    },
    {
     "name": "stdout",
     "output_type": "stream",
     "text": [
      "                   1%                  ] 20 of 2000 complete in 27.6 sec                  0%                  ] 2 of 2000 complete in 0.5 sec[                  0%                  ] 2 of 2000 complete in 1.2 sec[                  0%                  ] 4 of 2000 complete in 3.0 sec[                  0%                  ] 3 of 2000 complete in 2.2 sec[                  0%                  ] 2 of 2000 complete in 1.2 sec[                  0%                  ] 3 of 2000 complete in 2.8 sec[                  0%                  ] 5 of 2000 complete in 5.3 sec[                  0%                  ] 4 of 2000 complete in 3.9 sec[                  0%                  ] 4 of 2000 complete in 4.4 sec[                  0%                  ] 3 of 2000 complete in 3.3 sec[                  0%                  ] 6 of 2000 complete in 6.5 sec[                  0%                  ] 5 of 2000 complete in 5.5 sec[                  0%                  ] 5 of 2000 complete in 6.0 sec[                  0%                  ] 4 of 2000 complete in 5.2 sec[                  0%                  ] 7 of 2000 complete in 8.2 sec[                  0%                  ] 6 of 2000 complete in 7.2 sec[                  0%                  ] 6 of 2000 complete in 7.6 sec[                  0%                  ] 5 of 2000 complete in 7.1 sec[                  0%                  ] 8 of 2000 complete in 10.0 sec[                  0%                  ] 7 of 2000 complete in 8.5 sec[                  0%                  ] 7 of 2000 complete in 9.2 sec[                  0%                  ] 8 of 2000 complete in 9.7 sec[                  0%                  ] 6 of 2000 complete in 8.5 sec[                  0%                  ] 9 of 2000 complete in 11.3 sec[                  0%                  ] 7 of 2000 complete in 9.9 sec[                  0%                  ] 10 of 2000 complete in 12.8 sec[                  0%                  ] 8 of 2000 complete in 11.2 sec[                  0%                  ] 9 of 2000 complete in 11.7 sec[                  0%                  ] 11 of 2000 complete in 14.0 sec[                  0%                  ] 9 of 2000 complete in 12.3 sec[                  0%                  ] 10 of 2000 complete in 12.6 sec[                  0%                  ] 8 of 2000 complete in 11.5 sec[                  0%                  ] 12 of 2000 complete in 15.2 sec[                  0%                  ] 11 of 2000 complete in 13.6 sec[                  0%                  ] 10 of 2000 complete in 13.7 sec[                  0%                  ] 9 of 2000 complete in 12.6 sec[                  0%                  ] 10 of 2000 complete in 13.5 sec[                  0%                  ] 13 of 2000 complete in 16.3 sec[                  0%                  ] 12 of 2000 complete in 14.8 sec[                  0%                  ] 11 of 2000 complete in 14.7 sec[                  0%                  ] 11 of 2000 complete in 14.8 sec[                  0%                  ] 12 of 2000 complete in 16.3 sec[                  0%                  ] 13 of 2000 complete in 16.6 sec[                  0%                  ] 14 of 2000 complete in 18.3 sec[                  0%                  ] 12 of 2000 complete in 17.0 sec[                  0%                  ] 15 of 2000 complete in 19.8 sec[                  0%                  ] 13 of 2000 complete in 18.2 sec[                  0%                  ] 14 of 2000 complete in 18.7 sec[                  0%                  ] 13 of 2000 complete in 18.2 sec[                  0%                  ] 14 of 2000 complete in 19.6 sec[                  0%                  ] 16 of 2000 complete in 21.4 sec[                  0%                  ] 15 of 2000 complete in 20.7 sec[                  0%                  ] 17 of 2000 complete in 22.5 sec[                  0%                  ] 15 of 2000 complete in 20.8 sec[                  0%                  ] 14 of 2000 complete in 19.8 sec[                  0%                  ] 15 of 2000 complete in 20.8 sec[                  0%                  ] 16 of 2000 complete in 22.1 sec[                  0%                  ] 18 of 2000 complete in 24.0 sec[                  0%                  ] 16 of 2000 complete in 22.3 sec[                  0%                  ] 16 of 2000 complete in 22.0 sec[                  0%                  ] 17 of 2000 complete in 23.5 sec[                  0%                  ] 19 of 2000 complete in 25.1 sec[                  0%                  ] 17 of 2000 complete in 23.5 sec[                  0%                  ] 17 of 2000 complete in 23.3 sec[                  1%                  ] 20 of 2000 complete in 26.4 sec[                  0%                  ] 18 of 2000 complete in 24.8 sec[                  0%                  ] 18 of 2000 complete in 25.0 sec[                  0%                  ] 18 of 2000 complete in 24.5 sec[                  1%                  ] 21 of 2000 complete in 28.0 sec[                  0%                  ] 19 of 2000 complete in 26.5 sec[                  0%                  ] 19 of 2000 complete in 26.8 sec[                  0%                  ] 19 of 2000 complete in 26.0 sec[                  1%                  ] 22 of 2000 complete in 29.2 sec[                  1%                  ] 20 of 2000 complete in 27.9 sec[                  1%                  ] 20 of 2000 complete in 28.7 sec [                  1%                  ] 23 of 2000 complete in 30.4 sec[                  1%                  ] 21 of 2000 complete in 29.0 sec[                  1%                  ] 21 of 2000 complete in 30.4 sec[                  1%                  ] 24 of 2000 complete in 32.1 sec[                  1%                  ] 21 of 2000 complete in 29.9 sec[                  1%                  ] 22 of 2000 complete in 31.7 sec[                  1%                  ] 25 of 2000 complete in 33.9 sec[                  1%                  ] 22 of 2000 complete in 32.6 sec[                  1%                  ] 22 of 2000 complete in 31.9 sec  [                  1%                  ] 23 of 2000 complete in 33.8 sec[                  1%                  ] 23 of 2000 complete in 33.9 sec[                  1%                  ] 26 of 2000 complete in 35.7 sec[                  1%                  ] 23 of 2000 complete in 33.4 sec[                  1%                  ] 24 of 2000 complete in 36.0 sec[                  1%                  ] 27 of 2000 complete in 38.4 sec[                  1%                  ] 25 of 2000 complete in 37.1 sec[                  1%                  ] 24 of 2000 complete in 37.0 sec[                  1%                  ] 24 of 2000 complete in 36.1 sec[                  1%                  ] 28 of 2000 complete in 39.9 sec[                  1%                  ] 25 of 2000 complete in 38.4 sec[                  1%                  ] 26 of 2000 complete in 38.6 sec[                  1%                  ] 25 of 2000 complete in 37.8 sec[                  1%                  ] 29 of 2000 complete in 41.8 sec[                  1%                  ] 26 of 2000 complete in 40.6 sec[                  1%                  ] 27 of 2000 complete in 40.8 sec[                  1%                  ] 26 of 2000 complete in 40.5 sec[                  1%                  ] 30 of 2000 complete in 43.5 sec[                  1%                  ] 27 of 2000 complete in 42.3 sec[                  1%                  ] 28 of 2000 complete in 42.8 sec[                  1%                  ] 27 of 2000 complete in 41.8 sec[                  1%                  ] 31 of 2000 complete in 44.7 sec  [                  1%                  ] 28 of 2000 complete in 43.5 sec[                  1%                  ] 29 of 2000 complete in 43.6 sec[                  1%                  ] 28 of 2000 complete in 42.9 sec[                  1%                  ] 32 of 2000 complete in 46.2 sec[                  1%                  ] 29 of 2000 complete in 44.6 sec[                  1%                  ] 30 of 2000 complete in 45.4 sec[                  1%                  ] 29 of 2000 complete in 44.7 sec[                  1%                  ] 33 of 2000 complete in 47.9 sec"
     ]
    },
    {
     "name": "stdout",
     "output_type": "stream",
     "text": [
      "                   2%                  ] 41 of 2000 complete in 67.8 secc[                  1%                  ] 31 of 2000 complete in 47.2 sec[                  1%                  ] 34 of 2000 complete in 49.2 sec[                  1%                  ] 30 of 2000 complete in 47.2 sec[                  1%                  ] 31 of 2000 complete in 48.8 sec[                  1%                  ] 32 of 2000 complete in 49.4 sec[                  1%                  ] 35 of 2000 complete in 51.0 sec[                  1%                  ] 31 of 2000 complete in 49.0 sec[                  1%                  ] 32 of 2000 complete in 50.7 sec[                  1%                  ] 33 of 2000 complete in 51.2 sec[                  1%                  ] 36 of 2000 complete in 52.8 sec[                  1%                  ] 32 of 2000 complete in 50.7 sec[                  1%                  ] 34 of 2000 complete in 52.3 sec[                  1%                  ] 33 of 2000 complete in 52.6 sec[                  1%                  ] 37 of 2000 complete in 54.5 sec[                  1%                  ] 33 of 2000 complete in 52.1 sec[                  1%                  ] 35 of 2000 complete in 53.8 sec[                  1%                  ] 34 of 2000 complete in 54.1 sec[                  1%                  ] 38 of 2000 complete in 56.3 sec[                  1%                  ] 36 of 2000 complete in 55.2 sec[                  1%                  ] 34 of 2000 complete in 54.0 sec[                  1%                  ] 35 of 2000 complete in 56.3 sec[                  1%                  ] 39 of 2000 complete in 58.6 sec[                  1%                  ] 35 of 2000 complete in 56.2 sec[                  1%                  ] 37 of 2000 complete in 57.5 sec[                  1%                  ] 36 of 2000 complete in 58.1 sec[                  2%                  ] 40 of 2000 complete in 60.6 sec[                  1%                  ] 36 of 2000 complete in 57.9 sec[                  1%                  ] 38 of 2000 complete in 59.4 sec[                  1%                  ] 37 of 2000 complete in 60.4 sec[                  1%                  ] 39 of 2000 complete in 61.0 sec[                  2%                  ] 41 of 2000 complete in 62.6 sec[                  1%                  ] 37 of 2000 complete in 59.9 sec[                  2%                  ] 42 of 2000 complete in 63.6 sec[                  1%                  ] 38 of 2000 complete in 62.7 sec[                  2%                  ] 40 of 2000 complete in 63.1 sec[                  1%                  ] 38 of 2000 complete in 62.0 sec[                  2%                  ] 43 of 2000 complete in 65.2 sec[                  1%                  ] 39 of 2000 complete in 63.6 sec[                  2%                  ] 41 of 2000 complete in 64.8 sec[                  1%                  ] 39 of 2000 complete in 64.3 sec[                  2%                  ] 44 of 2000 complete in 67.6 sec[                  2%                  ] 40 of 2000 complete in 65.9 sec[                  2%                  ] 42 of 2000 complete in 66.7 sec[                  2%                  ] 40 of 2000 complete in 66.1 sec[                  2%                  ] 45 of 2000 complete in 69.1 sec [                  2%                  ] 43 of 2000 complete in 69.1 sec[                  2%                  ] 41 of 2000 complete in 68.1 sec[                  2%                  ] 46 of 2000 complete in 71.4 sec[                  2%                  ] 42 of 2000 complete in 70.8 sec[                  2%                  ] 42 of 2000 complete in 70.6 sec[                  2%                  ] 44 of 2000 complete in 72.1 sec[                  2%                  ] 47 of 2000 complete in 74.4 sec[                  2%                  ] 43 of 2000 complete in 73.9 sec[                  2%                  ] 43 of 2000 complete in 73.4 sec[                  2%                  ] 45 of 2000 complete in 74.9 sec[                  2%                  ] 48 of 2000 complete in 76.7 sec[                  2%                  ] 44 of 2000 complete in 74.7 sec[                  2%                  ] 44 of 2000 complete in 75.8 sec[                  2%                  ] 49 of 2000 complete in 78.0 sec[                  2%                  ] 46 of 2000 complete in 76.9 sec[                  2%                  ] 45 of 2000 complete in 76.2 sec[                  2%                  ] 45 of 2000 complete in 77.5 sec[                  2%                  ] 50 of 2000 complete in 79.3 sec[                  2%                  ] 47 of 2000 complete in 78.4 sec[                  2%                  ] 46 of 2000 complete in 78.3 sec[                  2%                  ] 46 of 2000 complete in 79.4 sec[                  2%                  ] 51 of 2000 complete in 81.3 sec[                  2%                  ] 48 of 2000 complete in 80.5 sec[                  2%                  ] 47 of 2000 complete in 79.5 sec[                  2%                  ] 47 of 2000 complete in 81.0 sec[                  2%                  ] 52 of 2000 complete in 83.5 sec[                  2%                  ] 49 of 2000 complete in 82.4 sec[                  2%                  ] 48 of 2000 complete in 81.3 sec[                  2%                  ] 48 of 2000 complete in 83.0 sec[-                 2%                  ] 53 of 2000 complete in 84.9 sec[                  2%                  ] 50 of 2000 complete in 83.7 sec[                  2%                  ] 49 of 2000 complete in 82.7 sec[                  2%                  ] 49 of 2000 complete in 84.1 sec[-                 2%                  ] 54 of 2000 complete in 86.4 sec[                  2%                  ] 50 of 2000 complete in 83.7 sec[                  2%                  ] 51 of 2000 complete in 85.7 sec[                  2%                  ] 50 of 2000 complete in 85.7 sec[-                 2%                  ] 55 of 2000 complete in 87.8 sec[                  2%                  ] 51 of 2000 complete in 85.1 sec[                  2%                  ] 51 of 2000 complete in 86.8 sec[                  2%                  ] 52 of 2000 complete in 86.2 sec[-                 2%                  ] 56 of 2000 complete in 89.0 sec[                  2%                  ] 52 of 2000 complete in 87.8 sec[                  2%                  ] 52 of 2000 complete in 87.9 sec[-                 2%                  ] 53 of 2000 complete in 87.4 sec[-                 2%                  ] 57 of 2000 complete in 90.5 sec[-                 2%                  ] 53 of 2000 complete in 89.0 sec[-                 2%                  ] 53 of 2000 complete in 89.0 sec[-                 2%                  ] 54 of 2000 complete in 88.4 sec[-                 2%                  ] 58 of 2000 complete in 91.6 sec[-                 2%                  ] 54 of 2000 complete in 90.0 sec[-                 2%                  ] 54 of 2000 complete in 90.2 sec[-                 2%                  ] 55 of 2000 complete in 89.3 sec[-                 2%                  ] 59 of 2000 complete in 92.7 sec[-                 2%                  ] 55 of 2000 complete in 91.0 sec[-                 2%                  ] 55 of 2000 complete in 91.5 sec[-                 2%                  ] 56 of 2000 complete in 90.6 sec[-                 2%                  ] 56 of 2000 complete in 92.3 sec[-                 3%                  ] 60 of 2000 complete in 94.0 sec[-                 2%                  ] 57 of 2000 complete in 91.6 sec[-                 2%                  ] 56 of 2000 complete in 93.4 sec[-                 2%                  ] 57 of 2000 complete in 93.5 sec[-                 2%                  ] 58 of 2000 complete in 92.8 sec[-                 3%                  ] 61 of 2000 complete in 95.7 sec[-                 2%                  ] 57 of 2000 complete in 94.8 sec[-                 2%                  ] 58 of 2000 complete in 94.9 sec[-                 2%                  ] 59 of 2000 complete in 93.9 sec[-                 3%                  ] 62 of 2000 complete in 97.0 sec"
     ]
    },
    {
     "name": "stdout",
     "output_type": "stream",
     "text": [
      " [-                 2%                  ] 58 of 2000 complete in 95.8 sec[-                 2%                  ] 59 of 2000 complete in 96.1 sec[-                 3%                  ] 60 of 2000 complete in 95.4 sec[-                 3%                  ] 63 of 2000 complete in 98.5 sec[-                 3%                  ] 60 of 2000 complete in 97.4 sec[-                 2%                  ] 59 of 2000 complete in 97.8 sec[-                 3%                  ] 61 of 2000 complete in 97.1 sec[-                 3%                  ] 64 of 2000 complete in 100.9 sec[-                 3%                  ] 61 of 2000 complete in 99.4 sec[-                 3%                  ] 60 of 2000 complete in 99.8 sec[-                 3%                  ] 62 of 2000 complete in 98.9 sec[-                 3%                  ] 62 of 2000 complete in 100.8 sec[-                 3%                  ] 63 of 2000 complete in 99.9 sec[-                 3%                  ] 61 of 2000 complete in 101.3 sec[-                 3%                  ] 65 of 2000 complete in 103.4 sec[-                 3%                  ] 64 of 2000 complete in 101.2 sec[-                 3%                  ] 63 of 2000 complete in 102.3 sec[-                 3%                  ] 62 of 2000 complete in 103.0 sec[-                 3%                  ] 64 of 2000 complete in 103.2 sec[-                 3%                  ] 66 of 2000 complete in 105.0 sec[-                 3%                  ] 65 of 2000 complete in 102.8 sec[-                 3%                  ] 63 of 2000 complete in 104.4 sec[-                 3%                  ] 65 of 2000 complete in 104.6 sec[-                 3%                  ] 66 of 2000 complete in 103.5 sec[-                 3%                  ] 67 of 2000 complete in 106.7 sec[-                 3%                  ] 64 of 2000 complete in 105.6 sec[-                 3%                  ] 67 of 2000 complete in 104.5 sec[-                 3%                  ] 66 of 2000 complete in 105.9 sec[-                 3%                  ] 68 of 2000 complete in 108.0 sec[-                 3%                  ] 68 of 2000 complete in 105.5 sec[-                 3%                  ] 65 of 2000 complete in 107.1 sec[-                 3%                  ] 67 of 2000 complete in 107.2 sec[-                 3%                  ] 69 of 2000 complete in 109.3 sec[-                 3%                  ] 69 of 2000 complete in 106.6 sec[-                 3%                  ] 68 of 2000 complete in 108.1 sec[-                 3%                  ] 66 of 2000 complete in 108.5 sec[-                 3%                  ] 70 of 2000 complete in 107.6 sec[-                 3%                  ] 70 of 2000 complete in 110.7 sec[-                 3%                  ] 69 of 2000 complete in 109.5 sec[-                 3%                  ] 71 of 2000 complete in 108.7 sec[-                 3%                  ] 67 of 2000 complete in 110.1 sec[-                 3%                  ] 71 of 2000 complete in 111.9 sec[-                 3%                  ] 70 of 2000 complete in 110.8 sec[-                 3%                  ] 72 of 2000 complete in 109.9 sec[-                 3%                  ] 72 of 2000 complete in 113.1 sec[-                 3%                  ] 68 of 2000 complete in 111.7 sec[-                 3%                  ] 71 of 2000 complete in 112.5 sec[-                 3%                  ] 73 of 2000 complete in 111.8 sec[-                 3%                  ] 69 of 2000 complete in 113.6 sec[-                 3%                  ] 73 of 2000 complete in 115.5 sec[-                 3%                  ] 72 of 2000 complete in 113.9 sec[-                 3%                  ] 74 of 2000 complete in 113.1 sec[-                 3%                  ] 73 of 2000 complete in 115.0 sec[-                 3%                  ] 70 of 2000 complete in 115.6 sec[-                 3%                  ] 74 of 2000 complete in 117.3 sec[-                 3%                  ] 75 of 2000 complete in 114.7 sec[-                 3%                  ] 74 of 2000 complete in 116.3 sec[-                 3%                  ] 76 of 2000 complete in 115.9 sec[-                 3%                  ] 71 of 2000 complete in 117.6 sec[-                 3%                  ] 75 of 2000 complete in 119.4 sec[-                 3%                  ] 75 of 2000 complete in 118.0 sec[-                 3%                  ] 77 of 2000 complete in 117.3 sec[-                 3%                  ] 72 of 2000 complete in 119.1 sec[-                 3%                  ] 76 of 2000 complete in 119.3 sec[-                 3%                  ] 78 of 2000 complete in 118.5 sec[-                 3%                  ] 76 of 2000 complete in 121.4 sec[-                 3%                  ] 79 of 2000 complete in 119.4 sec[-                 3%                  ] 77 of 2000 complete in 120.6 sec[-                 3%                  ] 73 of 2000 complete in 120.8 sec[-                 3%                  ] 77 of 2000 complete in 122.9 sec[-                 3%                  ] 78 of 2000 complete in 121.8 sec[-                 4%                  ] 80 of 2000 complete in 120.7 sec[-                 3%                  ] 74 of 2000 complete in 122.4 sec[-                 3%                  ] 78 of 2000 complete in 124.5 sec[-                 4%                  ] 81 of 2000 complete in 121.7 sec[-                 3%                  ] 79 of 2000 complete in 122.9 sec[-                 4%                  ] 80 of 2000 complete in 123.4 sec[-                 3%                  ] 75 of 2000 complete in 124.2 sec[-                 4%                  ] 82 of 2000 complete in 123.1 sec[-                 4%                  ] 82 of 2000 complete in 124.4 sec[-                 3%                  ] 79 of 2000 complete in 126.1 sec[-                 3%                  ] 76 of 2000 complete in 125.5 sec[-                 4%                  ] 83 of 2000 complete in 124.3 sec[-                 4%                  ] 83 of 2000 complete in 125.7 sec[-                 4%                  ] 80 of 2000 complete in 127.9 sec[-                 4%                  ] 84 of 2000 complete in 126.7 sec[-                 3%                  ] 77 of 2000 complete in 126.8 sec[-                 4%                  ] 84 of 2000 complete in 125.8 sec[-                 4%                  ] 81 of 2000 complete in 129.0 sec[-                 3%                  ] 78 of 2000 complete in 128.0 sec[-                 4%                  ] 85 of 2000 complete in 128.3 sec[-                 4%                  ] 85 of 2000 complete in 127.2 sec[-                 4%                  ] 82 of 2000 complete in 131.6 sec[-                 4%                  ] 86 of 2000 complete in 130.4 sec[-                 3%                  ] 79 of 2000 complete in 130.6 sec[-                 4%                  ] 86 of 2000 complete in 129.6 sec[-                 4%                  ] 87 of 2000 complete in 131.3 sec[-                 4%                  ] 83 of 2000 complete in 133.2 sec[-                 4%                  ] 87 of 2000 complete in 131.2 sec[-                 4%                  ] 80 of 2000 complete in 132.7 sec[-                 4%                  ] 88 of 2000 complete in 133.2 sec[-                 4%                  ] 84 of 2000 complete in 135.1 sec[-                 4%                  ] 81 of 2000 complete in 134.3 sec[-                 4%                  ] 88 of 2000 complete in 133.2 sec[-                 4%                  ] 85 of 2000 complete in 136.1 sec[-                 4%                  ] 89 of 2000 complete in 134.6 sec[-                 4%                  ] 89 of 2000 complete in 134.3 sec[-                 4%                  ] 82 of 2000 complete in 135.8 sec[-                 4%                  ] 90 of 2000 complete in 135.7 sec[-                 4%                  ] 86 of 2000 complete in 137.4 sec[-                 4%                  ] 83 of 2000 complete in 136.8 sec[-                 4%                  ] 90 of 2000 complete in 135.6 sec[-                 4%                  ] 91 of 2000 complete in 136.9 sec"
     ]
    },
    {
     "name": "stdout",
     "output_type": "stream",
     "text": [
      " [-                 4%                  ] 87 of 2000 complete in 138.8 sec[-                 4%                  ] 92 of 2000 complete in 137.8 sec[-                 4%                  ] 91 of 2000 complete in 137.1 sec[-                 4%                  ] 88 of 2000 complete in 140.0 sec[-                 4%                  ] 84 of 2000 complete in 138.4 sec[-                 4%                  ] 92 of 2000 complete in 138.4 sec[-                 4%                  ] 93 of 2000 complete in 139.6 sec[-                 4%                  ] 89 of 2000 complete in 141.5 sec[-                 4%                  ] 85 of 2000 complete in 140.0 sec[-                 4%                  ] 93 of 2000 complete in 139.4 sec[-                 4%                  ] 94 of 2000 complete in 140.7 sec[-                 4%                  ] 90 of 2000 complete in 142.9 sec[-                 4%                  ] 94 of 2000 complete in 140.8 sec[-                 4%                  ] 86 of 2000 complete in 142.2 sec[-                 4%                  ] 95 of 2000 complete in 142.1 sec[-                 4%                  ] 91 of 2000 complete in 144.2 sec[-                 4%                  ] 96 of 2000 complete in 143.8 sec[-                 4%                  ] 87 of 2000 complete in 144.0 sec[-                 4%                  ] 95 of 2000 complete in 143.0 sec[-                 4%                  ] 92 of 2000 complete in 146.4 sec[-                 4%                  ] 97 of 2000 complete in 144.9 sec[-                 4%                  ] 88 of 2000 complete in 145.6 sec[-                 4%                  ] 96 of 2000 complete in 144.5 sec[-                 4%                  ] 93 of 2000 complete in 147.8 sec[-                 4%                  ] 98 of 2000 complete in 146.2 sec[-                 4%                  ] 97 of 2000 complete in 145.8 sec[-                 4%                  ] 89 of 2000 complete in 147.4 sec[-                 4%                  ] 99 of 2000 complete in 147.8 sec[-                 4%                  ] 94 of 2000 complete in 149.7 sec[-                 4%                  ] 98 of 2000 complete in 147.4 sec[-                 4%                  ] 90 of 2000 complete in 148.7 sec[-                 5%                  ] 100 of 2000 complete in 148.9 sec[-                 4%                  ] 95 of 2000 complete in 150.6 sec[-                 4%                  ] 99 of 2000 complete in 148.8 sec[-                 5%                  ] 101 of 2000 complete in 150.1 sec[-                 4%                  ] 91 of 2000 complete in 150.5 sec[-                 4%                  ] 96 of 2000 complete in 152.4 sec[-                 5%                  ] 102 of 2000 complete in 151.2 sec[-                 5%                  ] 100 of 2000 complete in 150.1 sec[-                 4%                  ] 97 of 2000 complete in 153.4 sec[-                 4%                  ] 92 of 2000 complete in 152.1 sec[-                 5%                  ] 101 of 2000 complete in 151.1 sec[-                 5%                  ] 103 of 2000 complete in 152.3 sec[-                 4%                  ] 98 of 2000 complete in 154.9 sec[-                 4%                  ] 93 of 2000 complete in 153.5 sec[-                 5%                  ] 104 of 2000 complete in 153.6 sec[-                 5%                  ] 102 of 2000 complete in 152.6 sec[-                 5%                  ] 105 of 2000 complete in 154.7 sec[-                 4%                  ] 94 of 2000 complete in 154.8 sec[-                 5%                  ] 103 of 2000 complete in 153.6 sec[-                 4%                  ] 99 of 2000 complete in 156.8 sec[-                 4%                  ] 95 of 2000 complete in 155.9 sec[--                5%                  ] 106 of 2000 complete in 156.0 sec[-                 5%                  ] 104 of 2000 complete in 155.0 sec[-                 5%                  ] 100 of 2000 complete in 158.1 sec[-                 5%                  ] 105 of 2000 complete in 156.2 sec[--                5%                  ] 107 of 2000 complete in 157.3 sec[-                 4%                  ] 96 of 2000 complete in 158.0 sec[-                 5%                  ] 101 of 2000 complete in 160.0 sec[--                5%                  ] 108 of 2000 complete in 158.6 sec[--                5%                  ] 106 of 2000 complete in 158.5 sec[--                5%                  ] 109 of 2000 complete in 159.9 sec[-                 4%                  ] 97 of 2000 complete in 160.4 sec[-                 5%                  ] 102 of 2000 complete in 163.4 sec[--                5%                  ] 107 of 2000 complete in 161.0 sec[--                5%                  ] 110 of 2000 complete in 162.3 sec[-                 4%                  ] 98 of 2000 complete in 163.3 sec[--                5%                  ] 108 of 2000 complete in 162.9 sec[--                5%                  ] 111 of 2000 complete in 164.1 sec[-                 5%                  ] 103 of 2000 complete in 165.8 sec\r"
     ]
    },
    {
     "name": "stderr",
     "output_type": "stream",
     "text": [
      "Process ForkPoolWorker-16:\n",
      "Process ForkPoolWorker-6:\n",
      "Process ForkPoolWorker-5:\n",
      "Process ForkPoolWorker-8:\n"
     ]
    },
    {
     "name": "stdout",
     "output_type": "stream",
     "text": [
      "Halting at iteration Halting at iteration "
     ]
    },
    {
     "name": "stderr",
     "output_type": "stream",
     "text": [
      "Process ForkPoolWorker-14:\n",
      "Process ForkPoolWorker-7:\n"
     ]
    },
    {
     "name": "stdout",
     "output_type": "stream",
     "text": [
      "Halting at iteration "
     ]
    },
    {
     "name": "stderr",
     "output_type": "stream",
     "text": [
      "Process ForkPoolWorker-15:\n"
     ]
    },
    {
     "name": "stdout",
     "output_type": "stream",
     "text": [
      "Halting at iteration "
     ]
    },
    {
     "name": "stderr",
     "output_type": "stream",
     "text": [
      "Process ForkPoolWorker-9:\n"
     ]
    },
    {
     "name": "stdout",
     "output_type": "stream",
     "text": [
      " "
     ]
    },
    {
     "name": "stderr",
     "output_type": "stream",
     "text": [
      "Traceback (most recent call last):\n",
      "Traceback (most recent call last):\n"
     ]
    },
    {
     "name": "stdout",
     "output_type": "stream",
     "text": [
      " "
     ]
    },
    {
     "name": "stderr",
     "output_type": "stream",
     "text": [
      "Traceback (most recent call last):\n",
      "Traceback (most recent call last):\n",
      "Traceback (most recent call last):\n",
      "Traceback (most recent call last):\n"
     ]
    },
    {
     "name": "stdout",
     "output_type": "stream",
     "text": [
      "  "
     ]
    },
    {
     "name": "stderr",
     "output_type": "stream",
     "text": [
      "  File \"/opt/conda/lib/python3.7/site-packages/multiprocess/process.py\", line 297, in _bootstrap\n",
      "    self.run()\n",
      "  File \"/opt/conda/lib/python3.7/site-packages/multiprocess/process.py\", line 297, in _bootstrap\n",
      "    self.run()\n"
     ]
    },
    {
     "name": "stdout",
     "output_type": "stream",
     "text": [
      "110"
     ]
    },
    {
     "name": "stderr",
     "output_type": "stream",
     "text": [
      "  File \"/opt/conda/lib/python3.7/site-packages/multiprocess/process.py\", line 99, in run\n",
      "    self._target(*self._args, **self._kwargs)\n",
      "  File \"/opt/conda/lib/python3.7/site-packages/multiprocess/process.py\", line 297, in _bootstrap\n",
      "    self.run()\n",
      "  File \"/opt/conda/lib/python3.7/site-packages/multiprocess/process.py\", line 297, in _bootstrap\n",
      "    self.run()\n",
      "  File \"/opt/conda/lib/python3.7/site-packages/multiprocess/process.py\", line 297, in _bootstrap\n",
      "    self.run()\n",
      "Traceback (most recent call last):\n"
     ]
    },
    {
     "name": "stdout",
     "output_type": "stream",
     "text": [
      "97 "
     ]
    },
    {
     "name": "stderr",
     "output_type": "stream",
     "text": [
      "Traceback (most recent call last):\n",
      "  File \"/opt/conda/lib/python3.7/site-packages/multiprocess/process.py\", line 297, in _bootstrap\n",
      "    self.run()\n"
     ]
    },
    {
     "name": "stdout",
     "output_type": "stream",
     "text": [
      "107"
     ]
    },
    {
     "name": "stderr",
     "output_type": "stream",
     "text": [
      "  File \"/opt/conda/lib/python3.7/site-packages/multiprocess/process.py\", line 99, in run\n",
      "    self._target(*self._args, **self._kwargs)\n",
      "  File \"/opt/conda/lib/python3.7/site-packages/multiprocess/process.py\", line 99, in run\n",
      "    self._target(*self._args, **self._kwargs)\n",
      "  File \"/opt/conda/lib/python3.7/site-packages/multiprocess/process.py\", line 99, in run\n",
      "    self._target(*self._args, **self._kwargs)\n",
      "  File \"/opt/conda/lib/python3.7/site-packages/multiprocess/process.py\", line 297, in _bootstrap\n",
      "    self.run()\n",
      "  File \"/opt/conda/lib/python3.7/site-packages/multiprocess/pool.py\", line 110, in worker\n",
      "    task = get()\n",
      "  File \"/opt/conda/lib/python3.7/site-packages/multiprocess/pool.py\", line 110, in worker\n",
      "    task = get()\n",
      "  File \"/opt/conda/lib/python3.7/site-packages/multiprocess/process.py\", line 99, in run\n",
      "    self._target(*self._args, **self._kwargs)\n"
     ]
    },
    {
     "name": "stdout",
     "output_type": "stream",
     "text": [
      " of "
     ]
    },
    {
     "name": "stderr",
     "output_type": "stream",
     "text": [
      "  File \"/opt/conda/lib/python3.7/site-packages/multiprocess/process.py\", line 99, in run\n",
      "    self._target(*self._args, **self._kwargs)\n"
     ]
    },
    {
     "name": "stdout",
     "output_type": "stream",
     "text": [
      " "
     ]
    },
    {
     "name": "stderr",
     "output_type": "stream",
     "text": [
      "  File \"/opt/conda/lib/python3.7/site-packages/multiprocess/queues.py\", line 355, in get\n",
      "    res = self._reader.recv_bytes()\n",
      "  File \"/opt/conda/lib/python3.7/site-packages/multiprocess/queues.py\", line 354, in get\n",
      "    with self._rlock:\n",
      "  File \"/opt/conda/lib/python3.7/site-packages/multiprocess/synchronize.py\", line 102, in __enter__\n",
      "    return self._semlock.__enter__()\n",
      "  File \"/opt/conda/lib/python3.7/site-packages/multiprocess/queues.py\", line 354, in get\n",
      "    with self._rlock:\n",
      "  File \"/opt/conda/lib/python3.7/site-packages/multiprocess/pool.py\", line 110, in worker\n",
      "    task = get()\n",
      "  File \"/opt/conda/lib/python3.7/site-packages/multiprocess/pool.py\", line 110, in worker\n",
      "    task = get()\n",
      "  File \"/opt/conda/lib/python3.7/site-packages/multiprocess/process.py\", line 99, in run\n",
      "    self._target(*self._args, **self._kwargs)\n",
      "  File \"/opt/conda/lib/python3.7/site-packages/multiprocess/pool.py\", line 110, in worker\n",
      "    task = get()\n"
     ]
    },
    {
     "name": "stdout",
     "output_type": "stream",
     "text": [
      "  of  "
     ]
    },
    {
     "name": "stderr",
     "output_type": "stream",
     "text": [
      "  File \"/opt/conda/lib/python3.7/site-packages/multiprocess/process.py\", line 297, in _bootstrap\n",
      "    self.run()\n"
     ]
    },
    {
     "name": "stdout",
     "output_type": "stream",
     "text": [
      "102"
     ]
    },
    {
     "name": "stderr",
     "output_type": "stream",
     "text": [
      "KeyboardInterrupt\n",
      "  File \"/opt/conda/lib/python3.7/site-packages/multiprocess/queues.py\", line 354, in get\n",
      "    with self._rlock:\n",
      "  File \"/opt/conda/lib/python3.7/site-packages/multiprocess/pool.py\", line 110, in worker\n",
      "    task = get()\n"
     ]
    },
    {
     "name": "stdout",
     "output_type": "stream",
     "text": [
      " of 2000 \n"
     ]
    },
    {
     "name": "stderr",
     "output_type": "stream",
     "text": [
      "  File \"/opt/conda/lib/python3.7/site-packages/multiprocess/synchronize.py\", line 102, in __enter__\n",
      "    return self._semlock.__enter__()\n",
      "  File \"/opt/conda/lib/python3.7/site-packages/multiprocess/process.py\", line 99, in run\n",
      "    self._target(*self._args, **self._kwargs)\n",
      "KeyboardInterrupt\n"
     ]
    },
    {
     "name": "stdout",
     "output_type": "stream",
     "text": [
      " "
     ]
    },
    {
     "name": "stderr",
     "output_type": "stream",
     "text": [
      "KeyboardInterrupt\n",
      "  File \"/opt/conda/lib/python3.7/site-packages/multiprocess/queues.py\", line 354, in get\n",
      "    with self._rlock:\n",
      "  File \"/opt/conda/lib/python3.7/site-packages/multiprocess/queues.py\", line 354, in get\n",
      "    with self._rlock:\n",
      "  File \"/opt/conda/lib/python3.7/site-packages/multiprocess/connection.py\", line 219, in recv_bytes\n",
      "    buf = self._recv_bytes(maxlength)\n"
     ]
    },
    {
     "name": "stdout",
     "output_type": "stream",
     "text": [
      "2000"
     ]
    },
    {
     "name": "stderr",
     "output_type": "stream",
     "text": [
      "KeyboardInterrupt\n",
      "  File \"/opt/conda/lib/python3.7/site-packages/multiprocess/pool.py\", line 110, in worker\n",
      "    task = get()\n",
      "  File \"/opt/conda/lib/python3.7/site-packages/multiprocess/connection.py\", line 410, in _recv_bytes\n",
      "    buf = self._recv(4)\n"
     ]
    },
    {
     "name": "stdout",
     "output_type": "stream",
     "text": [
      "\n"
     ]
    },
    {
     "name": "stderr",
     "output_type": "stream",
     "text": [
      "  File \"/opt/conda/lib/python3.7/site-packages/multiprocess/synchronize.py\", line 102, in __enter__\n",
      "    return self._semlock.__enter__()\n",
      "  File \"/opt/conda/lib/python3.7/site-packages/multiprocess/connection.py\", line 382, in _recv\n",
      "    chunk = read(handle, remaining)\n",
      "KeyboardInterrupt\n",
      "KeyboardInterrupt\n",
      "  File \"/opt/conda/lib/python3.7/site-packages/multiprocess/pool.py\", line 110, in worker\n",
      "    task = get()\n",
      "  File \"/opt/conda/lib/python3.7/site-packages/multiprocess/queues.py\", line 354, in get\n",
      "    with self._rlock:\n",
      "  File \"/opt/conda/lib/python3.7/site-packages/multiprocess/queues.py\", line 354, in get\n",
      "    with self._rlock:\n",
      "  File \"/opt/conda/lib/python3.7/site-packages/multiprocess/synchronize.py\", line 102, in __enter__\n",
      "    return self._semlock.__enter__()\n",
      "  File \"/opt/conda/lib/python3.7/site-packages/multiprocess/synchronize.py\", line 102, in __enter__\n",
      "    return self._semlock.__enter__()\n",
      "  File \"/opt/conda/lib/python3.7/site-packages/multiprocess/synchronize.py\", line 102, in __enter__\n",
      "    return self._semlock.__enter__()\n",
      "  File \"/opt/conda/lib/python3.7/site-packages/multiprocess/synchronize.py\", line 102, in __enter__\n",
      "    return self._semlock.__enter__()\n",
      "KeyboardInterrupt\n",
      "KeyboardInterrupt\n"
     ]
    },
    {
     "name": "stdout",
     "output_type": "stream",
     "text": [
      "  of Could not generate output statistics forCould not generate output statistics for  2000z_subj_trans.5\n",
      " \n",
      "tCould not generate output statistics for2000\n",
      " \n",
      "Could not generate output statistics fort_subj.5 \n",
      "a_subj.9Could not generate output statistics for\n",
      " Could not generate output statistics forz_subj.0Could not generate output statistics for\n",
      "Could not generate output statistics for z_subj.4 \n",
      "z_subj.7\n",
      "Could not generate output statistics forCould not generate output statistics for a_subj.5  t_subj.12z_subj.3\n",
      "\n",
      "\n",
      "\n",
      "Could not generate output statistics forCould not generate output statistics for  a_subj.7\n",
      "Could not generate output statistics for Could not generate output statistics forz_subj.0 \n",
      "a_subj.2Could not generate output statistics for\n",
      " Could not generate output statistics forCould not generate output statistics for  a_subj.7v_subj.5a_subj.12\n",
      "\n",
      "\n",
      "Could not generate output statistics for Could not generate output statistics forCould not generate output statistics forv_subj.1 t_subj.3\n",
      "Could not generate output statistics for v_subj.11\n",
      " z_subj.1Could not generate output statistics fort_subj.10"
     ]
    },
    {
     "name": "stderr",
     "output_type": "stream",
     "text": [
      "Process ForkPoolWorker-11:\n",
      "Process ForkPoolWorker-12:\n"
     ]
    },
    {
     "name": "stdout",
     "output_type": "stream",
     "text": [
      "\n",
      "\n",
      " \n",
      "Could not generate output statistics forCould not generate output statistics for"
     ]
    },
    {
     "name": "stderr",
     "output_type": "stream",
     "text": [
      "Traceback (most recent call last):\n"
     ]
    },
    {
     "name": "stdout",
     "output_type": "stream",
     "text": [
      "Could not generate output statistics for"
     ]
    },
    {
     "name": "stderr",
     "output_type": "stream",
     "text": [
      "Traceback (most recent call last):\n"
     ]
    },
    {
     "name": "stdout",
     "output_type": "stream",
     "text": [
      "z_subj_trans.9 "
     ]
    },
    {
     "name": "stderr",
     "output_type": "stream",
     "text": [
      "  File \"/opt/conda/lib/python3.7/site-packages/multiprocess/process.py\", line 297, in _bootstrap\n",
      "    self.run()\n"
     ]
    },
    {
     "name": "stdout",
     "output_type": "stream",
     "text": [
      " "
     ]
    },
    {
     "name": "stderr",
     "output_type": "stream",
     "text": [
      "Process ForkPoolWorker-10:\n"
     ]
    },
    {
     "name": "stdout",
     "output_type": "stream",
     "text": [
      "\n",
      " "
     ]
    },
    {
     "name": "stderr",
     "output_type": "stream",
     "text": [
      "  File \"/opt/conda/lib/python3.7/site-packages/multiprocess/process.py\", line 297, in _bootstrap\n",
      "    self.run()\n"
     ]
    },
    {
     "name": "stdout",
     "output_type": "stream",
     "text": [
      "a_subj.5"
     ]
    },
    {
     "name": "stderr",
     "output_type": "stream",
     "text": [
      "  File \"/opt/conda/lib/python3.7/site-packages/multiprocess/process.py\", line 99, in run\n",
      "    self._target(*self._args, **self._kwargs)\n",
      "Process ForkPoolWorker-13:\n",
      "  File \"/opt/conda/lib/python3.7/site-packages/multiprocess/pool.py\", line 110, in worker\n",
      "    task = get()\n"
     ]
    },
    {
     "name": "stdout",
     "output_type": "stream",
     "text": [
      "t_std\n",
      "a_subj.10"
     ]
    },
    {
     "name": "stderr",
     "output_type": "stream",
     "text": [
      "Traceback (most recent call last):\n",
      "  File \"/opt/conda/lib/python3.7/site-packages/multiprocess/process.py\", line 99, in run\n",
      "    self._target(*self._args, **self._kwargs)\n"
     ]
    },
    {
     "name": "stdout",
     "output_type": "stream",
     "text": [
      "\n"
     ]
    },
    {
     "name": "stderr",
     "output_type": "stream",
     "text": [
      "  File \"/opt/conda/lib/python3.7/site-packages/multiprocess/queues.py\", line 354, in get\n",
      "    with self._rlock:\n"
     ]
    },
    {
     "name": "stdout",
     "output_type": "stream",
     "text": [
      "Could not generate output statistics for\n"
     ]
    },
    {
     "name": "stderr",
     "output_type": "stream",
     "text": [
      "  File \"/opt/conda/lib/python3.7/site-packages/multiprocess/process.py\", line 297, in _bootstrap\n",
      "    self.run()\n",
      "  File \"/opt/conda/lib/python3.7/site-packages/multiprocess/pool.py\", line 110, in worker\n",
      "    task = get()\n"
     ]
    },
    {
     "name": "stdout",
     "output_type": "stream",
     "text": [
      "Could not generate output statistics for"
     ]
    },
    {
     "name": "stderr",
     "output_type": "stream",
     "text": [
      "Traceback (most recent call last):\n",
      "  File \"/opt/conda/lib/python3.7/site-packages/multiprocess/synchronize.py\", line 102, in __enter__\n",
      "    return self._semlock.__enter__()\n"
     ]
    },
    {
     "name": "stdout",
     "output_type": "stream",
     "text": [
      "Could not generate output statistics for"
     ]
    },
    {
     "name": "stderr",
     "output_type": "stream",
     "text": [
      "  File \"/opt/conda/lib/python3.7/site-packages/multiprocess/queues.py\", line 354, in get\n",
      "    with self._rlock:\n"
     ]
    },
    {
     "name": "stdout",
     "output_type": "stream",
     "text": [
      " "
     ]
    },
    {
     "name": "stderr",
     "output_type": "stream",
     "text": [
      "  File \"/opt/conda/lib/python3.7/site-packages/multiprocess/process.py\", line 297, in _bootstrap\n",
      "    self.run()\n"
     ]
    },
    {
     "name": "stdout",
     "output_type": "stream",
     "text": [
      " Could not generate output statistics for"
     ]
    },
    {
     "name": "stderr",
     "output_type": "stream",
     "text": [
      "KeyboardInterrupt\n",
      "  File \"/opt/conda/lib/python3.7/site-packages/multiprocess/process.py\", line 99, in run\n",
      "    self._target(*self._args, **self._kwargs)\n"
     ]
    },
    {
     "name": "stdout",
     "output_type": "stream",
     "text": [
      " "
     ]
    },
    {
     "name": "stderr",
     "output_type": "stream",
     "text": [
      "  File \"/opt/conda/lib/python3.7/site-packages/multiprocess/synchronize.py\", line 102, in __enter__\n",
      "    return self._semlock.__enter__()\n"
     ]
    },
    {
     "name": "stdout",
     "output_type": "stream",
     "text": [
      "t_subj.4"
     ]
    },
    {
     "name": "stderr",
     "output_type": "stream",
     "text": [
      "  File \"/opt/conda/lib/python3.7/site-packages/multiprocess/process.py\", line 99, in run\n",
      "    self._target(*self._args, **self._kwargs)\n"
     ]
    },
    {
     "name": "stdout",
     "output_type": "stream",
     "text": [
      "z_subj.7 "
     ]
    },
    {
     "name": "stderr",
     "output_type": "stream",
     "text": [
      "  File \"/opt/conda/lib/python3.7/site-packages/multiprocess/pool.py\", line 110, in worker\n",
      "    task = get()\n"
     ]
    },
    {
     "name": "stdout",
     "output_type": "stream",
     "text": [
      "\n",
      "\n",
      "a_subj.3"
     ]
    },
    {
     "name": "stderr",
     "output_type": "stream",
     "text": [
      "  File \"/opt/conda/lib/python3.7/site-packages/multiprocess/queues.py\", line 354, in get\n",
      "    with self._rlock:\n"
     ]
    },
    {
     "name": "stdout",
     "output_type": "stream",
     "text": [
      "Could not generate output statistics for"
     ]
    },
    {
     "name": "stderr",
     "output_type": "stream",
     "text": [
      "  File \"/opt/conda/lib/python3.7/site-packages/multiprocess/pool.py\", line 110, in worker\n",
      "    task = get()\n"
     ]
    },
    {
     "name": "stdout",
     "output_type": "stream",
     "text": [
      "\n",
      "Could not generate output statistics for"
     ]
    },
    {
     "name": "stderr",
     "output_type": "stream",
     "text": [
      "  File \"/opt/conda/lib/python3.7/site-packages/multiprocess/synchronize.py\", line 102, in __enter__\n",
      "    return self._semlock.__enter__()\n",
      "  File \"/opt/conda/lib/python3.7/site-packages/multiprocess/queues.py\", line 354, in get\n",
      "    with self._rlock:\n"
     ]
    },
    {
     "name": "stdout",
     "output_type": "stream",
     "text": [
      "  "
     ]
    },
    {
     "name": "stderr",
     "output_type": "stream",
     "text": [
      "KeyboardInterrupt\n"
     ]
    },
    {
     "name": "stdout",
     "output_type": "stream",
     "text": [
      "t_subj.2"
     ]
    },
    {
     "name": "stderr",
     "output_type": "stream",
     "text": [
      "  File \"/opt/conda/lib/python3.7/site-packages/multiprocess/synchronize.py\", line 102, in __enter__\n",
      "    return self._semlock.__enter__()\n"
     ]
    },
    {
     "name": "stdout",
     "output_type": "stream",
     "text": [
      "v_subj.5"
     ]
    },
    {
     "name": "stderr",
     "output_type": "stream",
     "text": [
      "KeyboardInterrupt\n"
     ]
    },
    {
     "name": "stdout",
     "output_type": "stream",
     "text": [
      "Could not generate output statistics for\n",
      "\n",
      "v_subj.10 "
     ]
    },
    {
     "name": "stderr",
     "output_type": "stream",
     "text": [
      "KeyboardInterrupt\n"
     ]
    },
    {
     "name": "stdout",
     "output_type": "stream",
     "text": [
      "Could not generate output statistics for\n",
      " a_subj.9a_subj.13\n",
      "Could not generate output statistics for \n",
      "a_std\n",
      "Could not generate output statistics forCould not generate output statistics for Could not generate output statistics for z_subj.10 Could not generate output statistics fort_subj.12\n",
      "a_subj.8 \n",
      "Could not generate output statistics forv_subj.2\n",
      " Could not generate output statistics fort_subj.0\n",
      "Could not generate output statistics for\n",
      "Could not generate output statistics for Could not generate output statistics for z_subj_trans.4z_subj.11\n",
      "\n",
      "Could not generate output statistics forCould not generate output statistics for   v_subj.9z_subj_trans.8 v\n",
      "\n",
      "t_subj.11\n",
      "Could not generate output statistics forCould not generate output statistics forCould not generate output statistics for\n",
      "  Could not generate output statistics foraz_subj_trans.10 \n",
      "\n",
      " t_stdCould not generate output statistics for\n",
      "Could not generate output statistics for v_subj.0Could not generate output statistics for t_subj.13\n",
      " Could not generate output statistics for\n",
      "v_subj.6a_subj.12\n",
      " Could not generate output statistics for\n",
      "Could not generate output statistics forv_subj.12  Could not generate output statistics forz_subj_trans.2\n",
      "t_subj.13\n",
      " Could not generate output statistics for\n",
      "a_subj.11Could not generate output statistics for z_subj.6Could not generate output statistics for\n",
      " Could not generate output statistics for  \n",
      "zv_stdCould not generate output statistics fora_subj.4\n",
      "\n",
      " Could not generate output statistics fora_subj.1 \n",
      "\n",
      "Could not generate output statistics fora_subj.3Could not generate output statistics forCould not generate output statistics for \n",
      "  Could not generate output statistics forv_subj.6z_subj.3z_subj.7 \n",
      "\n",
      "aCould not generate output statistics for\n",
      "Could not generate output statistics for \n",
      "v_subj.4Could not generate output statistics for Could not generate output statistics for\n",
      " v_subj.7 z\n",
      "z_subj_trans.7Could not generate output statistics for\n",
      "\n",
      " Could not generate output statistics forCould not generate output statistics forCould not generate output statistics forv_subj.2  \n",
      "stz_subj.1Could not generate output statistics for \n",
      "\n",
      " a_subj.6Could not generate output statistics forCould not generate output statistics forsz \n",
      " \n",
      "Could not generate output statistics forz_subj.8z_subj_trans.1 Could not generate output statistics for\n",
      "\n",
      "v_subj.13Could not generate output statistics forCould not generate output statistics for\n",
      "  Could not generate output statistics for z_subj.1t_subj.10 \n",
      "t_subj.11a_subj.2\n",
      "Could not generate output statistics for\n",
      "\n",
      "Could not generate output statistics forCould not generate output statistics forCould not generate output statistics for  z_trans \n",
      "v_subj.8z_subj_trans.0Could not generate output statistics for\n",
      "\n",
      "Could not generate output statistics for Could not generate output statistics fora_subj.0   \n",
      "v_subj.4a_subj.2Could not generate output statistics for\n",
      "\n",
      " z_subj.5\n",
      "v_subj.3Could not generate output statistics forCould not generate output statistics forCould not generate output statistics for\n",
      "   z_subj.6Could not generate output statistics forsz \n",
      "\n",
      "Could not generate output statistics forv_subj.9a_std Could not generate output statistics for\n",
      "z_subj.5Could not generate output statistics for\n",
      "\n",
      " Could not generate output statistics fora_subj.0\n",
      "Could not generate output statistics for  Could not generate output statistics fort_subj.8  \n",
      "v_subj.1z_subj_trans.10\n",
      "Could not generate output statistics for\n",
      " Could not generate output statistics forz_subj_trans.3 \n",
      "Could not generate output statistics forv_subj.0Could not generate output statistics for \n",
      " z_subj.7Could not generate output statistics forz_std\n",
      " \n",
      "vCould not generate output statistics forCould not generate output statistics for\n",
      "  Could not generate output statistics fort_subj.1a_std\n",
      "a_subj.1 \n",
      "Could not generate output statistics for\n",
      "a_subj.3 Could not generate output statistics for\n",
      "Could not generate output statistics for v \n",
      "Could not generate output statistics fort_subj.8a_subj.4\n",
      "\n",
      "Could not generate output statistics forCould not generate output statistics forCould not generate output statistics for   z_subj.12t_subj.6\n",
      "\n",
      "Could not generate output statistics forCould not generate output statistics for  z_subj.11t_subj.11\n",
      "\n",
      "Could not generate output statistics forCould not generate output statistics for  v_subj.3t_subj.7\n",
      "\n",
      " Could not generate output statistics forz_subj_trans.9Could not generate output statistics forv_subj.7  \n",
      "\n",
      "svCould not generate output statistics forCould not generate output statistics for \n",
      "z_transa_subj.8\n",
      "Could not generate output statistics for\n",
      " Could not generate output statistics fora_subj.13\n",
      " t_subj.9Could not generate output statistics for\n",
      " Could not generate output statistics forz_subj.4 \n",
      "z_subj.12Could not generate output statistics forCould not generate output statistics for  av_std\n",
      "\n",
      "\n",
      "Could not generate output statistics forCould not generate output statistics forCould not generate output statistics for  z_subj_trans.1z \n",
      "\n",
      " Could not generate output statistics forCould not generate output statistics for a_subj.10t_subj.2 \n",
      "z_subj.13z_subj_trans.6\n",
      "Could not generate output statistics forCould not generate output statistics for\n",
      " \n",
      "Could not generate output statistics for z_subj.10Could not generate output statistics for \n",
      "t_std z_subj.9Could not generate output statistics for\n",
      "\n",
      "Could not generate output statistics forCould not generate output statistics forst  \n",
      " a_subj.11z_stdv_subj.10\n",
      "\n",
      "\n",
      "Could not generate output statistics forCould not generate output statistics forCould not generate output statistics forCould not generate output statistics for    z_subj.9v_stdt_subj.3a_subj.6\n",
      "\n",
      "\n",
      "\n",
      "Could not generate output statistics forCould not generate output statistics forCould not generate output statistics for   z_subj.8stz_subj_trans.5\n",
      "\n",
      "\n",
      "Could not generate output statistics forCould not generate output statistics forCould not generate output statistics forCould not generate output statistics for   szv_subj.8 \n",
      "\n",
      "t_subj.4Could not generate output statistics forCould not generate output statistics for  z_subj.13a_subj.6\n",
      "\n",
      "\n",
      "Could not generate output statistics forCould not generate output statistics for  z_subj_trans.10a_subj.0z_subj.1Could not generate output statistics for\n",
      " \n",
      "\n",
      "Could not generate output statistics forCould not generate output statistics for v_subj.6Could not generate output statistics for  z_subj.5\n",
      "\n",
      "z_subj.0a_subj.9Could not generate output statistics for\n",
      "\n",
      " Could not generate output statistics for Could not generate output statistics forv_subj.10Could not generate output statistics forz_subj.8 \n",
      " a_subj.0\n",
      "Could not generate output statistics for\n",
      "Could not generate output statistics forz_subj_trans.12  t_subj.10\n",
      "Could not generate output statistics for\n",
      "Could not generate output statistics for Could not generate output statistics fort_subj.11 za_subj.1 \n",
      "\n",
      "Could not generate output statistics forz_subj_trans.0\n",
      "Could not generate output statistics forCould not generate output statistics for \n",
      "  Could not generate output statistics forz_subj_trans.10z_subj_trans.5z_subj.4 \n",
      "\n",
      "\n",
      "t_subj.0Could not generate output statistics for\n",
      "Could not generate output statistics forCould not generate output statistics for   Could not generate output statistics for t_subj.6v_subj.0t_subj.6\n",
      "t_subj.13\n",
      "\n",
      "Could not generate output statistics forCould not generate output statistics for\n",
      "Could not generate output statistics for  Could not generate output statistics for z_subj.10t_subj.7z_subj.11Could not generate output statistics for\n",
      "\n",
      " \n",
      "z_subj_trans.3 Could not generate output statistics for\n",
      " t_subj.12t_subj.2Could not generate output statistics for\n",
      "\n",
      "Could not generate output statistics for  Could not generate output statistics forz_subj_trans.12t\n",
      "\n",
      "Could not generate output statistics for Could not generate output statistics for  z_subj_trans.0z_subj_trans.7z_subj_trans.0\n",
      "Could not generate output statistics for\n",
      "\n",
      "Could not generate output statistics for Could not generate output statistics forz_subj.9  \n",
      "z_subj_trans.1z_subj_trans.11Could not generate output statistics for \n",
      "\n",
      "Could not generate output statistics forz_subj.12 t_subj.3\n",
      "Could not generate output statistics for\n",
      " Could not generate output statistics forCould not generate output statistics forCould not generate output statistics forv_subj.2  \n",
      " z_subj_trans.11t_subj.4v_subj.2\n",
      "Could not generate output statistics for\n",
      "Could not generate output statistics forCould not generate output statistics for\n",
      "  Could not generate output statistics forz_subj_trans.6v_subj.11 \n",
      "\n",
      "z_std\n",
      "Could not generate output statistics forCould not generate output statistics forCould not generate output statistics for    v_subj.11t_subj.0z_subj_trans.11\n",
      "t_subj.5\n",
      "\n",
      "Could not generate output statistics for\n",
      "Could not generate output statistics forCould not generate output statistics forCould not generate output statistics for  v_subj.0  v_subj.8\n",
      "a_subj.9\n",
      "Could not generate output statistics forv_subj.9\n",
      "Could not generate output statistics for\n",
      "Could not generate output statistics for Could not generate output statistics for  v_subj.6 t_subj.0\n",
      "z_subj.13\n",
      "Could not generate output statistics for\n",
      "t_subj.4 Could not generate output statistics for\n",
      "Could not generate output statistics fora_subj.4 Could not generate output statistics forCould not generate output statistics for\n",
      "z_subj_trans.13 \n",
      "z_subj_trans.6 Could not generate output statistics for\n",
      "a_subj.7 \n",
      "Could not generate output statistics for v_subj.12 Could not generate output statistics fort\n",
      "\n",
      "Could not generate output statistics forCould not generate output statistics for\n",
      "  z_subj.13 v_subj.5\n",
      "t_subj.13\n",
      "v_subj.5Could not generate output statistics for\n",
      "Could not generate output statistics for Could not generate output statistics for\n",
      "  v_subj.10t_subj.12Could not generate output statistics forz_subj.8 \n",
      "z_subj_trans.13Could not generate output statistics for\n",
      " \n",
      "z_subj_trans.8Could not generate output statistics forCould not generate output statistics forCould not generate output statistics for   \n",
      "z_subj.2z_subj_trans.9Could not generate output statistics forz_subj_trans.7\n",
      "\n",
      " \n",
      "Could not generate output statistics forz_subj.2 Could not generate output statistics forCould not generate output statistics for\n",
      "  z_subj_trans.12Could not generate output statistics for\n",
      "t_subj.2 Could not generate output statistics for\n",
      "z_subj.10Could not generate output statistics for \n",
      " v_subj.12z_subj_trans.11Could not generate output statistics forz_subj_trans.12\n",
      " \n",
      "Could not generate output statistics for\n",
      "Could not generate output statistics for  Could not generate output statistics fora_subj.5a_subj.7 \n",
      "\n",
      "v_subj.11Could not generate output statistics for\n",
      "z_subj.0\n",
      " Could not generate output statistics forCould not generate output statistics forCould not generate output statistics forv_subj.4 \n",
      "  Could not generate output statistics forz_subj.9 \n",
      "t_subj.8v_subj.13z_subj_trans.8\n",
      "Could not generate output statistics for\n",
      " Could not generate output statistics for\n",
      "Could not generate output statistics for Could not generate output statistics forv_subj.13  \n",
      "a_subj.10a_stdCould not generate output statistics for\n",
      "st\n",
      " Could not generate output statistics for Could not generate output statistics forz_subj.6a_subj.13 z_subj_trans.13\n",
      "\n",
      "\n",
      "Could not generate output statistics forCould not generate output statistics for Could not generate output statistics for t_std z_subj.2a_subj.4\n",
      "\n",
      "\n",
      "Could not generate output statistics forCould not generate output statistics forCould not generate output statistics for  a_subj.8 \n",
      "v_subj.8z_subj.3Could not generate output statistics for\n",
      " Could not generate output statistics for\n",
      "z_subj_trans.13 \n",
      "aCould not generate output statistics forCould not generate output statistics for\n",
      "\n",
      "  Could not generate output statistics forv_subj.12 \n",
      "z_subj.4Could not generate output statistics for\n",
      " Could not generate output statistics forz_std t_subj.5\n",
      "\n",
      "Could not generate output statistics for Could not generate output statistics for v_subj.13sz\n",
      "\n",
      "Could not generate output statistics forCould not generate output statistics fort_subj.7  \n",
      "t_subj.3t_subj.6Could not generate output statistics for\n",
      " \n",
      "Could not generate output statistics forz_subj_trans.6Could not generate output statistics for\n",
      "  z_subj_trans.2z_subj_trans.4Could not generate output statistics for\n",
      " \n",
      "Could not generate output statistics fora_subj.10Could not generate output statistics for \n",
      "Could not generate output statistics forz_subj_trans.3 Could not generate output statistics for\n",
      "sv Could not generate output statistics for \n",
      "v_stda_subj.13 \n",
      "Could not generate output statistics for\n",
      "Could not generate output statistics for t_subj.1Could not generate output statistics forz_subj_trans.7  \n",
      "ta_subj.8\n",
      "Could not generate output statistics for\n",
      " \n",
      "Could not generate output statistics forCould not generate output statistics forCould not generate output statistics for  t_subj.1 \n",
      "z_subj_trans.8Could not generate output statistics fort_subj.8\n",
      " \n",
      "Could not generate output statistics fora_subj.12Could not generate output statistics for  z_subj_trans.3z_subj_trans.1\n",
      "\n",
      "z_trans\n",
      "Could not generate output statistics forCould not generate output statistics for\n",
      " Could not generate output statistics forCould not generate output statistics forv_subj.7   v_subj.7\n",
      "z_subj.6z_transCould not generate output statistics for\n",
      "\n",
      " \n",
      "Could not generate output statistics fora_subj.11Could not generate output statistics forCould not generate output statistics for  \n",
      "t_subj.9 Could not generate output statistics forv\n",
      " \n",
      "v_subj.3v_subj.3Could not generate output statistics for\n",
      "\n",
      " Could not generate output statistics forCould not generate output statistics forCould not generate output statistics for a_subj.2  \n",
      "z_subj_trans.5a_subj.5z_subj.5Could not generate output statistics for\n",
      "\n",
      " \n",
      "Could not generate output statistics forCould not generate output statistics forCould not generate output statistics fort_subj.1  \n",
      "v_subj.1z_subj.3Could not generate output statistics for\n",
      "\n",
      "  Could not generate output statistics forCould not generate output statistics fort_subj.7  \n",
      "z_subj_trans.4t_subj.10\n",
      "Could not generate output statistics for\n",
      "Could not generate output statistics for"
     ]
    },
    {
     "ename": "KeyboardInterrupt",
     "evalue": "",
     "output_type": "error",
     "traceback": [
      "\u001b[0;31m---------------------------------------------------------------------------\u001b[0m",
      "\u001b[0;31mIndexError\u001b[0m                                Traceback (most recent call last)",
      "\u001b[0;32m/opt/conda/lib/python3.7/site-packages/multiprocess/pool.py\u001b[0m in \u001b[0;36mnext\u001b[0;34m(self, timeout)\u001b[0m\n\u001b[1;32m    732\u001b[0m             \u001b[0;32mtry\u001b[0m\u001b[0;34m:\u001b[0m\u001b[0;34m\u001b[0m\u001b[0;34m\u001b[0m\u001b[0m\n\u001b[0;32m--> 733\u001b[0;31m                 \u001b[0mitem\u001b[0m \u001b[0;34m=\u001b[0m \u001b[0mself\u001b[0m\u001b[0;34m.\u001b[0m\u001b[0m_items\u001b[0m\u001b[0;34m.\u001b[0m\u001b[0mpopleft\u001b[0m\u001b[0;34m(\u001b[0m\u001b[0;34m)\u001b[0m\u001b[0;34m\u001b[0m\u001b[0;34m\u001b[0m\u001b[0m\n\u001b[0m\u001b[1;32m    734\u001b[0m             \u001b[0;32mexcept\u001b[0m \u001b[0mIndexError\u001b[0m\u001b[0;34m:\u001b[0m\u001b[0;34m\u001b[0m\u001b[0;34m\u001b[0m\u001b[0m\n",
      "\u001b[0;31mIndexError\u001b[0m: pop from an empty deque",
      "\nDuring handling of the above exception, another exception occurred:\n",
      "\u001b[0;31mKeyboardInterrupt\u001b[0m                         Traceback (most recent call last)",
      "\u001b[0;32m<timed exec>\u001b[0m in \u001b[0;36m<module>\u001b[0;34m\u001b[0m\n",
      "\u001b[0;32m<ipython-input-4-8551d4c62a83>\u001b[0m in \u001b[0;36mmodel_recov\u001b[0;34m(data, m_keys, model_func)\u001b[0m\n\u001b[1;32m     21\u001b[0m                                \u001b[0mburn\u001b[0m\u001b[0;34m=\u001b[0m\u001b[0mburn\u001b[0m\u001b[0;34m,\u001b[0m\u001b[0;34m\u001b[0m\u001b[0;34m\u001b[0m\u001b[0m\n\u001b[1;32m     22\u001b[0m                                save_name=save_name),\n\u001b[0;32m---> 23\u001b[0;31m                        range(chains))\n\u001b[0m\u001b[1;32m     24\u001b[0m \u001b[0;34m\u001b[0m\u001b[0m\n\u001b[1;32m     25\u001b[0m         \u001b[0;31m### Observations\u001b[0m\u001b[0;34m\u001b[0m\u001b[0;34m\u001b[0m\u001b[0;34m\u001b[0m\u001b[0m\n",
      "\u001b[0;32m/opt/conda/lib/python3.7/site-packages/p_tqdm/p_tqdm.py\u001b[0m in \u001b[0;36mp_map\u001b[0;34m(function, *iterables, **kwargs)\u001b[0m\n\u001b[1;32m     58\u001b[0m     \u001b[0mordered\u001b[0m \u001b[0;34m=\u001b[0m \u001b[0;32mTrue\u001b[0m\u001b[0;34m\u001b[0m\u001b[0;34m\u001b[0m\u001b[0m\n\u001b[1;32m     59\u001b[0m     \u001b[0mgenerator\u001b[0m \u001b[0;34m=\u001b[0m \u001b[0m_parallel\u001b[0m\u001b[0;34m(\u001b[0m\u001b[0mordered\u001b[0m\u001b[0;34m,\u001b[0m \u001b[0mfunction\u001b[0m\u001b[0;34m,\u001b[0m \u001b[0;34m*\u001b[0m\u001b[0miterables\u001b[0m\u001b[0;34m,\u001b[0m \u001b[0;34m**\u001b[0m\u001b[0mkwargs\u001b[0m\u001b[0;34m)\u001b[0m\u001b[0;34m\u001b[0m\u001b[0;34m\u001b[0m\u001b[0m\n\u001b[0;32m---> 60\u001b[0;31m     \u001b[0mresult\u001b[0m \u001b[0;34m=\u001b[0m \u001b[0mlist\u001b[0m\u001b[0;34m(\u001b[0m\u001b[0mgenerator\u001b[0m\u001b[0;34m)\u001b[0m\u001b[0;34m\u001b[0m\u001b[0;34m\u001b[0m\u001b[0m\n\u001b[0m\u001b[1;32m     61\u001b[0m \u001b[0;34m\u001b[0m\u001b[0m\n\u001b[1;32m     62\u001b[0m     \u001b[0;32mreturn\u001b[0m \u001b[0mresult\u001b[0m\u001b[0;34m\u001b[0m\u001b[0;34m\u001b[0m\u001b[0m\n",
      "\u001b[0;32m/opt/conda/lib/python3.7/site-packages/p_tqdm/p_tqdm.py\u001b[0m in \u001b[0;36m_parallel\u001b[0;34m(ordered, function, *iterables, **kwargs)\u001b[0m\n\u001b[1;32m     47\u001b[0m     \u001b[0mmap_func\u001b[0m \u001b[0;34m=\u001b[0m \u001b[0mgetattr\u001b[0m\u001b[0;34m(\u001b[0m\u001b[0mpool\u001b[0m\u001b[0;34m,\u001b[0m \u001b[0mmap_type\u001b[0m\u001b[0;34m)\u001b[0m\u001b[0;34m\u001b[0m\u001b[0;34m\u001b[0m\u001b[0m\n\u001b[1;32m     48\u001b[0m \u001b[0;34m\u001b[0m\u001b[0m\n\u001b[0;32m---> 49\u001b[0;31m     \u001b[0;32mfor\u001b[0m \u001b[0mitem\u001b[0m \u001b[0;32min\u001b[0m \u001b[0mtqdm\u001b[0m\u001b[0;34m(\u001b[0m\u001b[0mmap_func\u001b[0m\u001b[0;34m(\u001b[0m\u001b[0mfunction\u001b[0m\u001b[0;34m,\u001b[0m \u001b[0;34m*\u001b[0m\u001b[0miterables\u001b[0m\u001b[0;34m)\u001b[0m\u001b[0;34m,\u001b[0m \u001b[0mtotal\u001b[0m\u001b[0;34m=\u001b[0m\u001b[0mlength\u001b[0m\u001b[0;34m,\u001b[0m \u001b[0;34m**\u001b[0m\u001b[0mkwargs\u001b[0m\u001b[0;34m)\u001b[0m\u001b[0;34m:\u001b[0m\u001b[0;34m\u001b[0m\u001b[0;34m\u001b[0m\u001b[0m\n\u001b[0m\u001b[1;32m     50\u001b[0m         \u001b[0;32myield\u001b[0m \u001b[0mitem\u001b[0m\u001b[0;34m\u001b[0m\u001b[0;34m\u001b[0m\u001b[0m\n\u001b[1;32m     51\u001b[0m \u001b[0;34m\u001b[0m\u001b[0m\n",
      "\u001b[0;32m/opt/conda/lib/python3.7/site-packages/tqdm/notebook.py\u001b[0m in \u001b[0;36m__iter__\u001b[0;34m(self, *args, **kwargs)\u001b[0m\n\u001b[1;32m    216\u001b[0m     \u001b[0;32mdef\u001b[0m \u001b[0m__iter__\u001b[0m\u001b[0;34m(\u001b[0m\u001b[0mself\u001b[0m\u001b[0;34m,\u001b[0m \u001b[0;34m*\u001b[0m\u001b[0margs\u001b[0m\u001b[0;34m,\u001b[0m \u001b[0;34m**\u001b[0m\u001b[0mkwargs\u001b[0m\u001b[0;34m)\u001b[0m\u001b[0;34m:\u001b[0m\u001b[0;34m\u001b[0m\u001b[0;34m\u001b[0m\u001b[0m\n\u001b[1;32m    217\u001b[0m         \u001b[0;32mtry\u001b[0m\u001b[0;34m:\u001b[0m\u001b[0;34m\u001b[0m\u001b[0;34m\u001b[0m\u001b[0m\n\u001b[0;32m--> 218\u001b[0;31m             \u001b[0;32mfor\u001b[0m \u001b[0mobj\u001b[0m \u001b[0;32min\u001b[0m \u001b[0msuper\u001b[0m\u001b[0;34m(\u001b[0m\u001b[0mtqdm_notebook\u001b[0m\u001b[0;34m,\u001b[0m \u001b[0mself\u001b[0m\u001b[0;34m)\u001b[0m\u001b[0;34m.\u001b[0m\u001b[0m__iter__\u001b[0m\u001b[0;34m(\u001b[0m\u001b[0;34m*\u001b[0m\u001b[0margs\u001b[0m\u001b[0;34m,\u001b[0m \u001b[0;34m**\u001b[0m\u001b[0mkwargs\u001b[0m\u001b[0;34m)\u001b[0m\u001b[0;34m:\u001b[0m\u001b[0;34m\u001b[0m\u001b[0;34m\u001b[0m\u001b[0m\n\u001b[0m\u001b[1;32m    219\u001b[0m                 \u001b[0;31m# return super(tqdm...) will not catch exception\u001b[0m\u001b[0;34m\u001b[0m\u001b[0;34m\u001b[0m\u001b[0;34m\u001b[0m\u001b[0m\n\u001b[1;32m    220\u001b[0m                 \u001b[0;32myield\u001b[0m \u001b[0mobj\u001b[0m\u001b[0;34m\u001b[0m\u001b[0;34m\u001b[0m\u001b[0m\n",
      "\u001b[0;32m/opt/conda/lib/python3.7/site-packages/tqdm/std.py\u001b[0m in \u001b[0;36m__iter__\u001b[0;34m(self)\u001b[0m\n\u001b[1;32m   1127\u001b[0m \u001b[0;34m\u001b[0m\u001b[0m\n\u001b[1;32m   1128\u001b[0m         \u001b[0;32mtry\u001b[0m\u001b[0;34m:\u001b[0m\u001b[0;34m\u001b[0m\u001b[0;34m\u001b[0m\u001b[0m\n\u001b[0;32m-> 1129\u001b[0;31m             \u001b[0;32mfor\u001b[0m \u001b[0mobj\u001b[0m \u001b[0;32min\u001b[0m \u001b[0miterable\u001b[0m\u001b[0;34m:\u001b[0m\u001b[0;34m\u001b[0m\u001b[0;34m\u001b[0m\u001b[0m\n\u001b[0m\u001b[1;32m   1130\u001b[0m                 \u001b[0;32myield\u001b[0m \u001b[0mobj\u001b[0m\u001b[0;34m\u001b[0m\u001b[0;34m\u001b[0m\u001b[0m\n\u001b[1;32m   1131\u001b[0m                 \u001b[0;31m# Update and possibly print the progressbar.\u001b[0m\u001b[0;34m\u001b[0m\u001b[0;34m\u001b[0m\u001b[0;34m\u001b[0m\u001b[0m\n",
      "\u001b[0;32m/opt/conda/lib/python3.7/site-packages/multiprocess/pool.py\u001b[0m in \u001b[0;36mnext\u001b[0;34m(self, timeout)\u001b[0m\n\u001b[1;32m    735\u001b[0m                 \u001b[0;32mif\u001b[0m \u001b[0mself\u001b[0m\u001b[0;34m.\u001b[0m\u001b[0m_index\u001b[0m \u001b[0;34m==\u001b[0m \u001b[0mself\u001b[0m\u001b[0;34m.\u001b[0m\u001b[0m_length\u001b[0m\u001b[0;34m:\u001b[0m\u001b[0;34m\u001b[0m\u001b[0;34m\u001b[0m\u001b[0m\n\u001b[1;32m    736\u001b[0m                     \u001b[0;32mraise\u001b[0m \u001b[0mStopIteration\u001b[0m \u001b[0;32mfrom\u001b[0m \u001b[0;32mNone\u001b[0m\u001b[0;34m\u001b[0m\u001b[0;34m\u001b[0m\u001b[0m\n\u001b[0;32m--> 737\u001b[0;31m                 \u001b[0mself\u001b[0m\u001b[0;34m.\u001b[0m\u001b[0m_cond\u001b[0m\u001b[0;34m.\u001b[0m\u001b[0mwait\u001b[0m\u001b[0;34m(\u001b[0m\u001b[0mtimeout\u001b[0m\u001b[0;34m)\u001b[0m\u001b[0;34m\u001b[0m\u001b[0;34m\u001b[0m\u001b[0m\n\u001b[0m\u001b[1;32m    738\u001b[0m                 \u001b[0;32mtry\u001b[0m\u001b[0;34m:\u001b[0m\u001b[0;34m\u001b[0m\u001b[0;34m\u001b[0m\u001b[0m\n\u001b[1;32m    739\u001b[0m                     \u001b[0mitem\u001b[0m \u001b[0;34m=\u001b[0m \u001b[0mself\u001b[0m\u001b[0;34m.\u001b[0m\u001b[0m_items\u001b[0m\u001b[0;34m.\u001b[0m\u001b[0mpopleft\u001b[0m\u001b[0;34m(\u001b[0m\u001b[0;34m)\u001b[0m\u001b[0;34m\u001b[0m\u001b[0;34m\u001b[0m\u001b[0m\n",
      "\u001b[0;32m/opt/conda/lib/python3.7/threading.py\u001b[0m in \u001b[0;36mwait\u001b[0;34m(self, timeout)\u001b[0m\n\u001b[1;32m    294\u001b[0m         \u001b[0;32mtry\u001b[0m\u001b[0;34m:\u001b[0m    \u001b[0;31m# restore state no matter what (e.g., KeyboardInterrupt)\u001b[0m\u001b[0;34m\u001b[0m\u001b[0;34m\u001b[0m\u001b[0m\n\u001b[1;32m    295\u001b[0m             \u001b[0;32mif\u001b[0m \u001b[0mtimeout\u001b[0m \u001b[0;32mis\u001b[0m \u001b[0;32mNone\u001b[0m\u001b[0;34m:\u001b[0m\u001b[0;34m\u001b[0m\u001b[0;34m\u001b[0m\u001b[0m\n\u001b[0;32m--> 296\u001b[0;31m                 \u001b[0mwaiter\u001b[0m\u001b[0;34m.\u001b[0m\u001b[0macquire\u001b[0m\u001b[0;34m(\u001b[0m\u001b[0;34m)\u001b[0m\u001b[0;34m\u001b[0m\u001b[0;34m\u001b[0m\u001b[0m\n\u001b[0m\u001b[1;32m    297\u001b[0m                 \u001b[0mgotit\u001b[0m \u001b[0;34m=\u001b[0m \u001b[0;32mTrue\u001b[0m\u001b[0;34m\u001b[0m\u001b[0;34m\u001b[0m\u001b[0m\n\u001b[1;32m    298\u001b[0m             \u001b[0;32melse\u001b[0m\u001b[0;34m:\u001b[0m\u001b[0;34m\u001b[0m\u001b[0;34m\u001b[0m\u001b[0m\n",
      "\u001b[0;31mKeyboardInterrupt\u001b[0m: "
     ]
    },
    {
     "name": "stdout",
     "output_type": "stream",
     "text": [
      " z_subj_trans.4\n",
      "Could not generate output statistics for a_subj.11v_subj.1\n",
      "\n",
      "Could not generate output statistics for Could not generate output statistics for z_subj_trans.2\n",
      "v_subj.9\n",
      "Could not generate output statistics for Could not generate output statistics for z_subj_trans.9sv \n",
      "Could not generate output statistics for\n",
      "z_subj_trans.2Could not generate output statistics for \n",
      " v_subj.4Could not generate output statistics fort_subj.9 \n",
      "a_subj.1Could not generate output statistics for\n",
      "\n",
      "Could not generate output statistics forCould not generate output statistics for  z_subj.2a_subj.3\n",
      "\n",
      "Could not generate output statistics forCould not generate output statistics for  t_subj.5\n",
      "a_subj.12\n",
      "Could not generate output statistics for z_subj.11\n",
      " a_subj.6\n",
      "Could not generate output statistics for t_subj.9\n",
      "Could not generate output statistics for sv\n",
      "Could not generate output statistics for z_subj.12\n"
     ]
    }
   ],
   "source": [
    "%%time\n",
    "\n",
    "conf_mat_dic2 = pd.DataFrame(0, index=m_keys, columns=df_keys)\n",
    "conf_mat_loo2 = pd.DataFrame(0, index=m_keys, columns=df_keys)\n",
    "conf_mat_waic2 = pd.DataFrame(0, index=m_keys, columns=df_keys)\n",
    "\n",
    "for sim in range (3):   \n",
    "    for df_key in df_keys:\n",
    "        ### simulate data\n",
    "        data = SimData(df_key)\n",
    "\n",
    "        ### fit the sim data\n",
    "        print(\"Start model recovery for \", df_key)\n",
    "        models, InfData = model_recov(data=data, m_keys=m_keys, model_func=model_func)\n",
    "\n",
    "        ### compare models\n",
    "        tmp_loo_comp = az.compare(InfData, ic=\"loo\")\n",
    "        tmp_loo_comp = tmp_loo_comp.reset_index()\n",
    "        tmp_waic_comp = az.compare(InfData, ic=\"waic\")\n",
    "        tmp_waic_comp = tmp_waic_comp.reset_index()\n",
    "        \n",
    "        tmp_dic = []\n",
    "        indx_name = []\n",
    "\n",
    "        for m_key, model in models.items():\n",
    "            m_tmp = kabuki.utils.concat_models(model)\n",
    "            tmp_dic.append(m_tmp.dic)\n",
    "            indx_name.append(m_key)\n",
    "            \n",
    "        tmp_dic_comp = pd.DataFrame(tmp_dic, index=indx_name, columns=['dic'])\n",
    "        tmp_dic_comp = tmp_dic_comp.sort_values(by=['dic'])\n",
    "        tmp_dic_comp = tmp_dic_comp.reset_index()\n",
    "        #conf_mat_dic.rename(columns={'index':'rank'}, inplace=True)\n",
    "\n",
    "        ### record the best models\n",
    "        conf_mat_dic2.loc[tmp_dic_comp.loc[0, 'index'], df_key] += 1\n",
    "        conf_mat_loo2.loc[tmp_loo_comp.loc[0, 'index'], df_key] += 1\n",
    "        conf_mat_waic2.loc[tmp_waic_comp.loc[0, 'index'], df_key] += 1\n",
    "\n",
    "        conf_mat_dic2.to_csv('conf_mat_dic2.csv')\n",
    "        conf_mat_loo2.to_csv('conf_mat_loo2.csv')\n",
    "        conf_mat_waic2.to_csv('conf_mat_waic2.csv')"
   ]
  },
  {
   "cell_type": "code",
   "execution_count": 7,
   "metadata": {},
   "outputs": [
    {
     "ename": "NameError",
     "evalue": "name 'tmp_loo_comp' is not defined",
     "output_type": "error",
     "traceback": [
      "\u001b[0;31m---------------------------------------------------------------------------\u001b[0m",
      "\u001b[0;31mNameError\u001b[0m                                 Traceback (most recent call last)",
      "\u001b[0;32m<ipython-input-7-3922f7925783>\u001b[0m in \u001b[0;36m<module>\u001b[0;34m\u001b[0m\n\u001b[0;32m----> 1\u001b[0;31m \u001b[0mtmp_loo_comp\u001b[0m\u001b[0;34m\u001b[0m\u001b[0;34m\u001b[0m\u001b[0m\n\u001b[0m",
      "\u001b[0;31mNameError\u001b[0m: name 'tmp_loo_comp' is not defined"
     ]
    }
   ],
   "source": [
    "tmp_loo_comp"
   ]
  },
  {
   "cell_type": "code",
   "execution_count": null,
   "metadata": {
    "scrolled": true
   },
   "outputs": [],
   "source": [
    "tmp_waic_comp"
   ]
  },
  {
   "cell_type": "code",
   "execution_count": null,
   "metadata": {},
   "outputs": [],
   "source": [
    "models['ms7'][0].plot_posteriors()"
   ]
  }
 ],
 "metadata": {
  "kernelspec": {
   "display_name": "Python 3",
   "language": "python",
   "name": "python3"
  },
  "language_info": {
   "codemirror_mode": {
    "name": "ipython",
    "version": 3
   },
   "file_extension": ".py",
   "mimetype": "text/x-python",
   "name": "python",
   "nbconvert_exporter": "python",
   "pygments_lexer": "ipython3",
   "version": "3.7.6"
  }
 },
 "nbformat": 4,
 "nbformat_minor": 4
}
