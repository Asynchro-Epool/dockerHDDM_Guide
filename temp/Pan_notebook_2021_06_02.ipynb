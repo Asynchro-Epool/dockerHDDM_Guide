{
 "cells": [
  {
   "cell_type": "code",
   "execution_count": 30,
   "metadata": {
    "id": "6054A79B17E1435B8D8B03165B6B427B",
    "jupyter": {},
    "notebookId": "60b7256fb5d06b001738e050",
    "scrolled": false,
    "slideshow": {
     "slide_type": "slide"
    },
    "tags": []
   },
   "outputs": [],
   "source": [
    "# define model\n",
    "def run_model(dependcon,df):\n",
    "    import time\n",
    "    import hddm\n",
    "\n",
    "    samplenum = 500\n",
    "    burn = 200\n",
    "    name1 = \"\".join([x for x in dependcon.keys()])\n",
    "    postfix = \".hddm\"\n",
    "    p_outlier = 0.05\n",
    "\n",
    "    starttime = time.time()\n",
    "    m = hddm.HDDM(df,p_outlier=p_outlier,\n",
    "    depends_on=dependcon)\n",
    "    m.find_starting_values()\n",
    "    m.sample(samplenum,burn,dbname=name1+'traces.db', db='pickle')\n",
    "    m.save(name1+postfix)\n",
    "    del m\n",
    "    timegap = time.time()-starttime\n",
    "    print(name1 + 'usage time: %.3f min' %(timegap/60))"
   ]
  },
  {
   "cell_type": "code",
   "execution_count": 31,
   "metadata": {
    "id": "DD479B8EE77348CE89CD5FEE8653A4B5",
    "jupyter": {},
    "notebookId": "60b7256fb5d06b001738e050",
    "scrolled": false,
    "slideshow": {
     "slide_type": "slide"
    },
    "tags": []
   },
   "outputs": [
    {
     "data": {
      "text/html": [
       "<div>\n",
       "<style scoped>\n",
       "    .dataframe tbody tr th:only-of-type {\n",
       "        vertical-align: middle;\n",
       "    }\n",
       "\n",
       "    .dataframe tbody tr th {\n",
       "        vertical-align: top;\n",
       "    }\n",
       "\n",
       "    .dataframe thead th {\n",
       "        text-align: right;\n",
       "    }\n",
       "</style>\n",
       "<table border=\"1\" class=\"dataframe\">\n",
       "  <thead>\n",
       "    <tr style=\"text-align: right;\">\n",
       "      <th></th>\n",
       "      <th>subj_idx</th>\n",
       "      <th>response</th>\n",
       "      <th>rt</th>\n",
       "      <th>resp</th>\n",
       "      <th>Cresp</th>\n",
       "      <th>PresentOrder</th>\n",
       "      <th>condition</th>\n",
       "      <th>playsound</th>\n",
       "      <th>key_state</th>\n",
       "      <th>t_resp</th>\n",
       "    </tr>\n",
       "  </thead>\n",
       "  <tbody>\n",
       "    <tr>\n",
       "      <th>4015</th>\n",
       "      <td>S28</td>\n",
       "      <td>0</td>\n",
       "      <td>-0.584423</td>\n",
       "      <td>j</td>\n",
       "      <td>f</td>\n",
       "      <td>128</td>\n",
       "      <td>1</td>\n",
       "      <td>1</td>\n",
       "      <td>0</td>\n",
       "      <td>0.60</td>\n",
       "    </tr>\n",
       "    <tr>\n",
       "      <th>4017</th>\n",
       "      <td>S28</td>\n",
       "      <td>0</td>\n",
       "      <td>-0.610923</td>\n",
       "      <td>f</td>\n",
       "      <td>j</td>\n",
       "      <td>130</td>\n",
       "      <td>4</td>\n",
       "      <td>1</td>\n",
       "      <td>0</td>\n",
       "      <td>0.62</td>\n",
       "    </tr>\n",
       "    <tr>\n",
       "      <th>4020</th>\n",
       "      <td>S28</td>\n",
       "      <td>0</td>\n",
       "      <td>-0.615764</td>\n",
       "      <td>f</td>\n",
       "      <td>j</td>\n",
       "      <td>133</td>\n",
       "      <td>4</td>\n",
       "      <td>1</td>\n",
       "      <td>0</td>\n",
       "      <td>0.66</td>\n",
       "    </tr>\n",
       "    <tr>\n",
       "      <th>4025</th>\n",
       "      <td>S28</td>\n",
       "      <td>1</td>\n",
       "      <td>0.611960</td>\n",
       "      <td>f</td>\n",
       "      <td>f</td>\n",
       "      <td>138</td>\n",
       "      <td>1</td>\n",
       "      <td>0</td>\n",
       "      <td>0</td>\n",
       "      <td>0.70</td>\n",
       "    </tr>\n",
       "    <tr>\n",
       "      <th>4027</th>\n",
       "      <td>S28</td>\n",
       "      <td>1</td>\n",
       "      <td>0.513033</td>\n",
       "      <td>j</td>\n",
       "      <td>j</td>\n",
       "      <td>140</td>\n",
       "      <td>4</td>\n",
       "      <td>0</td>\n",
       "      <td>0</td>\n",
       "      <td>0.68</td>\n",
       "    </tr>\n",
       "  </tbody>\n",
       "</table>\n",
       "</div>"
      ],
      "text/plain": [
       "     subj_idx  response        rt resp Cresp  PresentOrder  condition  \\\n",
       "4015      S28         0 -0.584423    j     f           128          1   \n",
       "4017      S28         0 -0.610923    f     j           130          4   \n",
       "4020      S28         0 -0.615764    f     j           133          4   \n",
       "4025      S28         1  0.611960    f     f           138          1   \n",
       "4027      S28         1  0.513033    j     j           140          4   \n",
       "\n",
       "      playsound  key_state  t_resp  \n",
       "4015          1          0    0.60  \n",
       "4017          1          0    0.62  \n",
       "4020          1          0    0.66  \n",
       "4025          0          0    0.70  \n",
       "4027          0          0    0.68  "
      ]
     },
     "execution_count": 31,
     "metadata": {},
     "output_type": "execute_result"
    }
   ],
   "source": [
    "# import data and preparation\n",
    "import pandas as pd\n",
    "import hddm\n",
    "df = pd.read_csv(\n",
    "  \"/home/mw/data222.csv\",\n",
    "  header=\"infer\",encoding=\"utf-8\")\n",
    "df = df.loc[df[\"resp\"]!=\"NONE\"]\n",
    "df = hddm.utils.flip_errors(df.rename(columns={\"ACC\":\"response\",\"sub\":\"subj_idx\",\"RT\":\"rt\"}))\n",
    "df.tail()\n"
   ]
  },
  {
   "cell_type": "code",
   "execution_count": 32,
   "metadata": {
    "id": "CD99749694BF4D488C4E61EFDF50E321",
    "jupyter": {},
    "notebookId": "60b7256fb5d06b001738e050",
    "scrolled": false,
    "slideshow": {
     "slide_type": "slide"
    },
    "tags": []
   },
   "outputs": [],
   "source": [
    "# define parallel computation\n",
    "def parallel(func, *args, show=False, thread=False, **kwargs):\n",
    "    \"\"\"\n",
    "    并行计算\n",
    "    :param func: 函数，必选参数\n",
    "    :param args: list/tuple/iterable,1个或多个函数的动态参数，必选参数\n",
    "    :param show:bool,默认False,是否显示计算进度\n",
    "    :param thread:bool,默认False,是否为多线程\n",
    "    :param kwargs:1个或多个函数的静态参数，key-word形式\n",
    "    :return:list,与函数动态参数等长\n",
    "    \"\"\"\n",
    "    import time\n",
    "    from functools import partial\n",
    "    from pathos.pools import ProcessPool, ThreadPool\n",
    "    from tqdm import tqdm\n",
    "    # 冻结静态参数\n",
    "    p_func = partial(func, **kwargs)\n",
    "    # 打开进程/线程池\n",
    "    pool = ThreadPool() if thread else ProcessPool()\n",
    "    try:\n",
    "        if show:\n",
    "            start = time.time()\n",
    "            # imap方法\n",
    "            with tqdm(total=len(args[0]), desc=\"计算进度\") as t:  # 进度条设置\n",
    "                r = []\n",
    "                for i in pool.imap(p_func, *args):\n",
    "                    r.append(i)\n",
    "                    t.set_postfix({'并行函数': func.__name__, \"计算花销\": \"%ds\" % (time.time() - start)})\n",
    "                    t.update()\n",
    "        else:\n",
    "            # map方法\n",
    "            r = pool.map(p_func, *args)\n",
    "        return r\n",
    "    except Exception as e:\n",
    "        print(e)\n",
    "    finally:\n",
    "        # 关闭池\n",
    "        pool.close()  # close the pool to any new jobs\n",
    "        pool.join()  # cleanup the closed worker processes\n",
    "        pool.clear()  # Remove server with matching state"
   ]
  },
  {
   "cell_type": "code",
   "execution_count": 33,
   "metadata": {
    "id": "DF12F59055054FCEB21935B7340B8F30",
    "jupyter": {},
    "notebookId": "60b7256fb5d06b001738e050",
    "scrolled": false,
    "slideshow": {
     "slide_type": "slide"
    },
    "tags": []
   },
   "outputs": [
    {
     "name": "stderr",
     "output_type": "stream",
     "text": [
      "/opt/conda/lib/python3.7/site-packages/scipy/optimize/optimize.py:1960: RuntimeWarning: invalid value encountered in double_scalars\n",
      "  tmp2 = (x - v) * (fx - fw)\n",
      "/opt/conda/lib/python3.7/site-packages/scipy/optimize/optimize.py:1960: RuntimeWarning: invalid value encountered in double_scalars\n",
      "  tmp2 = (x - v) * (fx - fw)\n",
      "/opt/conda/lib/python3.7/site-packages/scipy/optimize/optimize.py:1960: RuntimeWarning: invalid value encountered in double_scalars\n",
      "  tmp2 = (x - v) * (fx - fw)\n",
      "/opt/conda/lib/python3.7/site-packages/scipy/optimize/optimize.py:1960: RuntimeWarning: invalid value encountered in double_scalars\n",
      "  tmp2 = (x - v) * (fx - fw)\n"
     ]
    },
    {
     "name": "stdout",
     "output_type": "stream",
     "text": [
      " [-----------------95%----------------  ] 475 of 500 complete in 501.7 secvusage time: 9.085 min\n",
      " [-----------------83%-----------       ] 416 of 500 complete in 501.5 secvausage time: 9.447 min\n",
      " [-----------------96%----------------  ] 481 of 500 complete in 540.6 secvtusage time: 10.101 min\n",
      " [-----------------100%-----------------] 501 of 500 complete in 549.4 secvatusage time: 10.263 min\n"
     ]
    }
   ],
   "source": [
    "# run model\n",
    "## define model parameters\n",
    "dependcon = [\n",
    "    {'v': 'condition','a': 'condition','t': 'condition'},\n",
    "    {'v': 'condition','a': 'condition'},\n",
    "    {'v': 'condition','t': 'condition'},\n",
    "    {'v': 'condition'}]\n",
    "\n",
    "parallel(run_model,dependcon,df=df)"
   ]
  },
  {
   "cell_type": "code",
   "execution_count": 35,
   "metadata": {
    "id": "7323A3B06C5447D2855F2F4C35696351",
    "jupyter": {},
    "notebookId": "60b7256fb5d06b001738e050",
    "scrolled": false,
    "slideshow": {
     "slide_type": "slide"
    },
    "tags": []
   },
   "outputs": [
    {
     "ename": "AttributeError",
     "evalue": "'NoneType' object has no attribute 'get_group_nodes'",
     "output_type": "error",
     "traceback": [
      "\u001b[0;31m---------------------------------------------------------------------------\u001b[0m",
      "\u001b[0;31mAttributeError\u001b[0m                            Traceback (most recent call last)",
      "\u001b[0;32m<ipython-input-35-99769bc7bba0>\u001b[0m in \u001b[0;36m<module>\u001b[0;34m\u001b[0m\n\u001b[1;32m      1\u001b[0m \u001b[0;32mimport\u001b[0m \u001b[0mhddm\u001b[0m\u001b[0;34m\u001b[0m\u001b[0;34m\u001b[0m\u001b[0m\n\u001b[0;32m----> 2\u001b[0;31m \u001b[0;34m[\u001b[0m\u001b[0mi\u001b[0m\u001b[0;34m.\u001b[0m\u001b[0mget_group_nodes\u001b[0m\u001b[0;34m(\u001b[0m\u001b[0;34m)\u001b[0m \u001b[0;32mfor\u001b[0m \u001b[0mi\u001b[0m \u001b[0;32min\u001b[0m \u001b[0mm\u001b[0m\u001b[0;34m]\u001b[0m\u001b[0;34m\u001b[0m\u001b[0;34m\u001b[0m\u001b[0m\n\u001b[0m",
      "\u001b[0;32m<ipython-input-35-99769bc7bba0>\u001b[0m in \u001b[0;36m<listcomp>\u001b[0;34m(.0)\u001b[0m\n\u001b[1;32m      1\u001b[0m \u001b[0;32mimport\u001b[0m \u001b[0mhddm\u001b[0m\u001b[0;34m\u001b[0m\u001b[0;34m\u001b[0m\u001b[0m\n\u001b[0;32m----> 2\u001b[0;31m \u001b[0;34m[\u001b[0m\u001b[0mi\u001b[0m\u001b[0;34m.\u001b[0m\u001b[0mget_group_nodes\u001b[0m\u001b[0;34m(\u001b[0m\u001b[0;34m)\u001b[0m \u001b[0;32mfor\u001b[0m \u001b[0mi\u001b[0m \u001b[0;32min\u001b[0m \u001b[0mm\u001b[0m\u001b[0;34m]\u001b[0m\u001b[0;34m\u001b[0m\u001b[0;34m\u001b[0m\u001b[0m\n\u001b[0m",
      "\u001b[0;31mAttributeError\u001b[0m: 'NoneType' object has no attribute 'get_group_nodes'"
     ]
    }
   ],
   "source": [
    "import hddm\n",
    "[i.get_group_nodes() for i in m]"
   ]
  },
  {
   "cell_type": "code",
   "execution_count": 28,
   "metadata": {
    "id": "8F0F053634F042E19BBC462909CC9FAA",
    "jupyter": {},
    "notebookId": "60b7256fb5d06b001738e050",
    "scrolled": false,
    "slideshow": {
     "slide_type": "slide"
    },
    "tags": []
   },
   "outputs": [
    {
     "ename": "AttributeError",
     "evalue": "'NoneType' object has no attribute 'get_group_nodes'",
     "output_type": "error",
     "traceback": [
      "\u001b[0;31m---------------------------------------------------------------------------\u001b[0m",
      "\u001b[0;31mAttributeError\u001b[0m                            Traceback (most recent call last)",
      "\u001b[0;32m<ipython-input-28-82037e6aab3d>\u001b[0m in \u001b[0;36m<module>\u001b[0;34m\u001b[0m\n\u001b[0;32m----> 1\u001b[0;31m \u001b[0mm\u001b[0m\u001b[0;34m[\u001b[0m\u001b[0;36m0\u001b[0m\u001b[0;34m]\u001b[0m\u001b[0;34m.\u001b[0m\u001b[0mget_group_nodes\u001b[0m\u001b[0;34m(\u001b[0m\u001b[0;34m)\u001b[0m\u001b[0;34m\u001b[0m\u001b[0;34m\u001b[0m\u001b[0m\n\u001b[0m",
      "\u001b[0;31mAttributeError\u001b[0m: 'NoneType' object has no attribute 'get_group_nodes'"
     ]
    }
   ],
   "source": []
  },
  {
   "cell_type": "code",
   "execution_count": null,
   "metadata": {
    "id": "C3B952D1733A4D3E88D828351771503C",
    "jupyter": {},
    "notebookId": "60b7256fb5d06b001738e050",
    "slideshow": {
     "slide_type": "slide"
    },
    "tags": []
   },
   "outputs": [],
   "source": []
  }
 ],
 "metadata": {
  "kernelspec": {
   "display_name": "Python 3",
   "language": "python",
   "name": "python3"
  },
  "language_info": {
   "codemirror_mode": {
    "name": "ipython",
    "version": 3
   },
   "file_extension": ".py",
   "mimetype": "text/x-python",
   "name": "python",
   "nbconvert_exporter": "python",
   "pygments_lexer": "ipython3",
   "version": "3.7.10"
  }
 },
 "nbformat": 4,
 "nbformat_minor": 1
}
