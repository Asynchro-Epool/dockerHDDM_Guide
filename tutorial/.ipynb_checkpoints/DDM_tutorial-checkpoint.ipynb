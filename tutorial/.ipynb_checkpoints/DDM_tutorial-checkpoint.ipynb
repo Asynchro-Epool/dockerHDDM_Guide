{
 "cells": [
  {
   "cell_type": "markdown",
   "metadata": {},
   "source": [
    "# A tutorial of sequential sampling, with illustration of HDDM 0.8.0\n",
    "\n",
    "Following the ten simple rules step by step.\n",
    "\n",
    "Q1: shall we work with HDDM? it's a bit old (pymc2.3.8).\n",
    "\n",
    "Packages can be included:\n",
    "* [HDDM 0.8.0](http://ski.clps.brown.edu/hddm_docs/)\n",
    "* [pyddm 0.4.0](https://pyddm.readthedocs.io/en/latest/)\n",
    "* [ggdmc 0.2.5.2](https://www.rdocumentation.org/packages/ggdmc/versions/0.2.5.2)\n",
    "\n",
    "\n",
    "## Useful functions for beginners\n",
    "\n",
    "### Plot an illustration of DDM with [seaborn](https://seaborn.pydata.org/)\n",
    "\n",
    "### Plot the priors used in HDDM and how to change prior\n",
    "\n",
    "### Prior predictive check\n",
    "\n",
    "### Plot individual PPC results using [seaborn](https://seaborn.pydata.org/) or [arviz](https://arviz-devs.github.io/arviz/examples/index.html)\n",
    "\n",
    "### Plot group-level posterior with pair plot with seaborn\n",
    "\n",
    "\n",
    "## Outline of the tutorial/guide\n",
    "1. Overview of the sequantial sampling models and toolbox (maybe we can create a table based on [Ratcliff et al. 2016](https://www.cell.com/trends/cognitive-sciences/fulltext/S1364-6613(16)00025-5)).\n",
    "2. Guide for selecting models (?)\n",
    "3. Tutorial on how to use HDDM, following the ten simple rules."
   ]
  },
  {
   "cell_type": "markdown",
   "metadata": {},
   "source": [
    "### Full diffusion model (HDDM)\n",
    "\n",
    "Wiecki et al. (2013):\n",
    "\n",
    "$$ x_{i,j}  \\sim F(a_{i}, z_{i}, v_{i}, t_{i}, sv, st, sz)$$, \n",
    "where $x_{i,j}$ represents the observed data consisting of response time and choice of subject i on trial j and F represents the DDM likelihood function as formulated by Navarro and Fuss (2009).\n",
    "\n",
    "\n",
    "Navarro and Fuss (2009): Wiener first passage time (WFPT) distribution. \n",
    "\n",
    "relative starting point: $ w = z/a $. The probability density function for the WFPT distribution, which describes the chance that the diffusion process is absorbed at time $t$ at the **lower boundary** will be denoted by $f(t|v, a, w)$:\n",
    "\n",
    "$$f(t|v, a, w) = \\frac{\\pi}{a^2}exp \\left(-vaw - \\frac{v^2 t}{2}\\right) \\sum_{k=1}^{\\infty} k exp \\left(-\\frac{k^2 \\pi^2 t}{2 a^2} \\right) sin(k \\pi w).$$\n"
   ]
  }
 ],
 "metadata": {
  "kernelspec": {
   "display_name": "Python 3",
   "language": "python",
   "name": "python3"
  },
  "language_info": {
   "codemirror_mode": {
    "name": "ipython",
    "version": 3
   },
   "file_extension": ".py",
   "mimetype": "text/x-python",
   "name": "python",
   "nbconvert_exporter": "python",
   "pygments_lexer": "ipython3",
   "version": "3.7.6"
  }
 },
 "nbformat": 4,
 "nbformat_minor": 4
}
