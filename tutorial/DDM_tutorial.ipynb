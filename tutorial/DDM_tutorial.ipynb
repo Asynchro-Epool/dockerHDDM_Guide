{
 "cells": [
  {
   "cell_type": "markdown",
   "metadata": {},
   "source": [
    "# Principled Bayesian hierarchical drift-diffusion modelling: A practical primer\n",
    "\n",
    "\n",
    "## Outline\n",
    "### 1. Preparation\n",
    "#### 1.1 How to install HDDM container (on different platforms)\n",
    "#### 1.2 How to use the container, e.g., Open Jupyter Notebook or other IDE.\n",
    "\n",
    "### 2. A pipeline of principled Bayesian hierarchical DDM\n",
    "#### 2.1 Brief description of DDM and DDM parameters\n",
    "#### 2.2 Priors selection and prior predictive check\n",
    "#### 2.3 Model estimation\n",
    "#### 2.4 Convergence check\n",
    "#### 2.5 Parameter recovery\n",
    "#### 2.6 Model comparison (e.g., information criteria)\n",
    "#### 2.7 Posterior predictive check\n",
    "\n",
    "### 3. Interpreting and reporting of statistical results\n",
    "#### 3.1 Intepreting parameters and inference \n",
    "#### 3.2 Tyipcal pitfalls in parameter interpretations"
   ]
  },
  {
   "cell_type": "markdown",
   "metadata": {},
   "source": [
    "\n",
    "## Useful functions for beginners\n",
    "\n",
    "Plot an illustration of DDM with [seaborn](https://seaborn.pydata.org/)\n",
    "\n",
    "Plot the priors used in HDDM and how to change prior\n",
    "\n",
    "Plot MCMC trace using seaborn.\n",
    "\n",
    "Prior predictive check\n",
    "\n",
    "Plot individual PPC results using [seaborn](https://seaborn.pydata.org/) or [arviz](https://arviz-devs.github.io/arviz/examples/index.html)\n",
    "\n",
    "Plot group-level posterior with pair plot with seaborn\n",
    "\n",
    "1. Overview of the sequantial sampling models and toolbox (maybe we can create a table based on [Ratcliff et al. 2016](https://www.cell.com/trends/cognitive-sciences/fulltext/S1364-6613(16)00025-5)). briefly. a table.\n",
    "\n",
    "2. motivation: (1) implicit knowledge; (2)\n",
    "2. Guide for selecting models (?)\n",
    "3. Tutorial on how to use HDDM, following the ten simple rules."
   ]
  },
  {
   "cell_type": "markdown",
   "metadata": {},
   "source": [
    "## Introduction\n",
    "#### Brief description of DDM and DDM parameters\n",
    "\n",
    "From (Matzke and Wagenmakes, 2009)\n",
    "* Drift rate $v$ represents the mean rate of information accumulation and is determined by the quality of information that is extracted from the stimulus. Drift rate can be influenced either by individual differences in the quality of information processing or by stimulus characteristics that reflect task difficulty. \n",
    "* Boundary separation $a$ quantifies the distance between the two response boundaries and represents response caution. Large values of $a$ indicate that more information must be accumulated before a decision can be made. Boundary separation is usually manipulated via speed–accuracy instructions. \n",
    "* Starting point $z$ represents participants’ a priori bias for one of the two response alternatives. Starting point is usually manipulated either by varying the proportions of stimuli associated with the upper and lower response boundaries or by payoff manipulations. Both a and $z$ are assumed to be under the subjective control of participants. \n",
    "* Nondecision time $Ter$ quantifies the duration of processes that are unrelated to the decision process, including stimulus encoding and response execution."
   ]
  },
  {
   "cell_type": "markdown",
   "metadata": {},
   "source": [
    "## 1 Preparation\n",
    "#### 1.1 How to install"
   ]
  },
  {
   "cell_type": "markdown",
   "metadata": {},
   "source": [
    "#### 1.2 How to use container"
   ]
  },
  {
   "cell_type": "markdown",
   "metadata": {},
   "source": [
    "### Full diffusion model (HDDM)\n",
    "\n",
    "Wiecki et al. (2013):\n",
    "\n",
    "$$ x_{i,j}  \\sim F(a_{i}, z_{i}, v_{i}, t_{i}, sv, st, sz)$$, \n",
    "where $x_{i,j}$ represents the observed data consisting of response time and choice of subject $i$ on trial $j$ and $F$ represents the DDM likelihood function as formulated by Navarro and Fuss (2009).\n",
    "\n",
    "\n",
    "Navarro and Fuss (2009): Wiener first passage time (WFPT) distribution. \n",
    "\n",
    "relative starting point: $ w = z/a $. The probability density function for the WFPT distribution, which describes the chance that the diffusion process is absorbed at time $t$ at the **lower boundary** will be denoted by $f(t|v, a, w)$:\n",
    "\n",
    "$$f(t|v, a, w) = \\frac{\\pi}{a^2}exp \\left(-vaw - \\frac{v^2 t}{2}\\right) \\sum_{k=1}^{\\infty} k exp \\left(-\\frac{k^2 \\pi^2 t}{2 a^2} \\right) sin(k \\pi w).$$\n"
   ]
  },
  {
   "cell_type": "markdown",
   "metadata": {},
   "source": [
    "#### Prior selection and prior check\n",
    "\n",
    "Steps for prior check\n",
    "\n",
    "Current prior in HDDM, weakly informative prior, was based on Matzke & Wagenmakes (2009, Appendix A, and supplementary). Note, Matzke and Wagenmakes (2009) summaried 23 papers (?# of experiments, participants?) and provided the frequencies of **9** parameters, but Wiekie et al (2013) defined **12** parameters.\n",
    "\n",
    "$a_{j} \\sim \\mathcal{G}(\\mu_{a}, \\sigma_{a}^2)$, $ \\mu_{a} \\sim \\mathcal{G}(1.50, 0.75)$, $\\sigma_{a} \\sim \\mathcal{HN}(0.1)$; \n",
    "\n",
    "$v_{j} \\sim \\mathcal{N}(\\mu_{v}, \\sigma_{v}^2)$, $ \\mu_{v} \\sim \\mathcal{N}(2.00, 3.00)$, $\\sigma_{v} \\sim \\mathcal{HN}(2.0)$; \n",
    "\n",
    "$z_{j} \\sim invlogit(\\mathcal{N}(\\mu_{z}, \\sigma_{z}^2))$, $ \\mu_{z} \\sim \\mathcal{N}(0.50, 0.50)$; $\\sigma_{z} \\sim \\mathcal{HN}(0.05)$; \n",
    "\n",
    "$t_{j} \\sim \\mathcal{N}(\\mu_{t}, \\sigma_{t}^2)$, $ \\mu_{t} \\sim \\mathcal{G}(0.40, 0.20)$, $\\sigma_{t} \\sim \\mathcal{HN}(1)$; \n",
    "\n",
    "$ \\mathcal{sv} \\sim \\mathcal{HN}(2)$; $ \\mathcal{st} \\sim \\mathcal{HN}(0.3)$; $\\mathcal{sz} \\sim \\mathcal{B}(1, 3)$  \n",
    "\n",
    "The above prior were specified at `hddm/models/hddm_info.py`, line 115 - 160\n",
    "critical func is `_create_stochastic_knodes(self, include)`, this defines the free parameter based on the input.  `_create_stochastic_knodes(self, include)` will define the distribution of each parameter using functions in `hddm/models/base.py`, such as `_create_family_gamma_gamma_hnormal`, these function further depends on `pymc/distribution.py`, in which the class name were re-capitalized ('half_normal' -> 'HalfNormal').\n",
    "\n",
    "One question left: parameter `value` in these functions. It might be the \"Starting value\"\n",
    "\n",
    "\n",
    "Possible new priors: Tran, N.-H., Maanen, L. van, Heathcote, A., & Matzke, D. (2020). Systematic Quantitative Parameter Reviews in Cognitive Modeling: Towards Robust and Cumulative Models of Psychological Processes. https://doi.org/10.31234/osf.io/6jyf3\n"
   ]
  },
  {
   "cell_type": "markdown",
   "metadata": {},
   "source": [
    "def _create_stochastic_knodes_info(self, include):\n",
    "        knodes = OrderedDict()\n",
    "        if 'a' in include:\n",
    "            knodes.update(self._create_family_gamma_gamma_hnormal('a', g_mean=1.5, g_std=0.75, std_std=2, std_value=0.1, value=1))\n",
    "        if 'v' in include:\n",
    "            knodes.update(self._create_family_normal_normal_hnormal('v', value=2, g_mu=2, g_tau=3**-2, std_std=2))\n",
    "        if 't' in include:\n",
    "            knodes.update(self._create_family_gamma_gamma_hnormal('t', g_mean=.4, g_std=0.2, value=0.001, std_std=1, std_value=0.2))\n",
    "        if 'sv' in include:\n",
    "            knodes['sv_bottom'] = Knode(pm.HalfNormal, 'sv', tau=2**-2, value=1, depends=self.depends['sv'])\n",
    "        if 'sz' in include:\n",
    "            knodes['sz_bottom'] = Knode(pm.Beta, 'sz', alpha=1, beta=3, value=0.01, depends=self.depends['sz'])\n",
    "        if 'st' in include:\n",
    "            knodes['st_bottom'] = Knode(pm.HalfNormal, 'st', tau=0.3**-2, value=0.001, depends=self.depends['st'])\n",
    "        if 'z' in include:\n",
    "            knodes.update(self._create_family_invlogit('z', value=.5, g_tau=0.5**-2, std_std=0.05))\n",
    "        if 'p_outlier' in include:\n",
    "            knodes['p_outlier_bottom'] = Knode(pm.Beta, 'p_outlier', alpha=1, beta=15, value=0.01, depends=self.depends['p_outlier'])\n",
    "            \n",
    "def _create_family_gamma_gamma_hnormal(self, name, value=1, g_mean=1, g_std=1, std_std=2, std_value=.1):\n",
    "\n",
    "        knodes = OrderedDict()\n",
    "        g_shape = (g_mean**2) / (g_std**2)\n",
    "        g_rate = g_mean / (g_std**2)\n",
    "        if self.is_group_model and name not in self.group_only_nodes:\n",
    "            g = Knode(pm.Gamma, name, alpha=g_shape, beta=g_rate,\n",
    "                            value=g_mean, depends=self.depends[name])\n",
    "            depends_std = self.depends[name] if self.std_depends else ()\n",
    "            std = Knode(pm.HalfNormal, '%s_std' % name, tau=std_std**-2,\n",
    "                        value=std_value, depends=depends_std)\n",
    "\n",
    "            shape = Knode(pm.Deterministic, '%s_shape' % name, eval=lambda x,y: (x**2)/(y**2),\n",
    "                        x=g, y=std, plot=False, trace=False, hidden=True)\n",
    "\n",
    "            rate = Knode(pm.Deterministic, '%s_rate' % name, eval=lambda x,y: x/(y**2),\n",
    "                        x=g, y=std, plot=False, trace=False, hidden=True)\n",
    "\n",
    "\n",
    "            subj = Knode(pm.Gamma, '%s_subj'%name, alpha=shape, beta=rate,\n",
    "                         value=value, depends=('subj_idx',),\n",
    "                         subj=True, plot=False)\n",
    "\n",
    "            knodes['%s'%name]            = g\n",
    "            knodes['%s_std'%name]        = std\n",
    "            knodes['%s_rate'%name]       = rate\n",
    "            knodes['%s_shape'%name]      = shape\n",
    "            knodes['%s_bottom'%name]     = subj\n",
    "\n",
    "        else:\n",
    "            g = Knode(pm.Gamma, name, alpha=g_shape, beta=g_rate, value=value,\n",
    "                            depends=self.depends[name])\n",
    "\n",
    "            knodes['%s_bottom'%name] = g\n",
    "\n",
    "        return knodes\n",
    "        \n",
    " def _create_family_normal_normal_hnormal(self, name, value=0, g_mu=None,\n",
    "                             g_tau=15**-2, std_std=2,\n",
    "                             std_value=.1):\n",
    "        \"\"\"Create a family of knodes. A family is a group of knodes\n",
    "        that belong together.\n",
    "        For example, a family could consist of the following distributions:\n",
    "        * group mean g_mean (Normal(g_mu, g_tau))\n",
    "        * group standard deviation g_std (Uniform(std_lower, std_upper))\n",
    "        * transform node g_std_trans for g_std (x -> x**-2)\n",
    "        * subject (Normal(g_mean, g_std_trans))\n",
    "        In fact, if is_group_model is True and the name does not appear in\n",
    "        group_only nodes, this is the family that will be created.\n",
    "        Otherwise, only a Normal knode will be returned.\n",
    "        :Arguments:\n",
    "            name : str\n",
    "                Name of the family. Each family member will have this name prefixed.\n",
    "        :Optional:\n",
    "            value : float\n",
    "                Starting value.\n",
    "            g_mu, g_tau, std_lower, std_upper, std_value : float\n",
    "                The hyper parameters for the different family members (see above).\n",
    "        :Returns:\n",
    "            OrderedDict: member name -> member Knode\n",
    "        \"\"\"\n",
    "        if g_mu is None:\n",
    "            g_mu = value\n",
    "\n",
    "        knodes = OrderedDict()\n",
    "\n",
    "        if self.is_group_model and name not in self.group_only_nodes:\n",
    "            g = Knode(pm.Normal, '%s' % name, mu=g_mu, tau=g_tau,\n",
    "                      value=value, depends=self.depends[name])\n",
    "            depends_std = self.depends[name] if self.std_depends else ()\n",
    "            std = Knode(pm.HalfNormal, '%s_std' % name, tau=std_std**-2,\n",
    "                        value=std_value, depends=depends_std)\n",
    "            tau = Knode(pm.Deterministic, '%s_tau' % name,\n",
    "                        doc='%s_tau' % name, eval=lambda x: x**-2, x=std,\n",
    "                        plot=False, trace=False, hidden=True)\n",
    "            subj = Knode(pm.Normal, '%s_subj' % name, mu=g, tau=tau,\n",
    "                         value=value, depends=('subj_idx',),\n",
    "                         subj=True, plot=self.plot_subjs)\n",
    "            knodes['%s'%name] = g\n",
    "            knodes['%s_std'%name] = std\n",
    "            knodes['%s_tau'%name] = tau\n",
    "            knodes['%s_bottom'%name] = subj\n",
    "\n",
    "        else:\n",
    "            subj = Knode(pm.Normal, name, mu=g_mu, tau=g_tau,\n",
    "                         value=value, depends=self.depends[name])\n",
    "\n",
    "            knodes['%s_bottom'%name] = subj\n",
    "\n",
    "        return knodes"
   ]
  },
  {
   "cell_type": "markdown",
   "metadata": {},
   "source": [
    "Steps for prior check\n",
    "\n",
    "Step 1: random sample 4 parameter from the prior;\n",
    "\n",
    "Step 2: generate data using these 4 parameters\n",
    "\n",
    "Step 3: calculate the mean of RT from the generated data\n",
    "\n",
    "Step 4: using some cutoff for the RTs\n",
    "\n",
    "Step 5: reverse back to the priors that generated data with the cutoff."
   ]
  },
  {
   "cell_type": "code",
   "execution_count": 1,
   "metadata": {
    "scrolled": false
   },
   "outputs": [
    {
     "name": "stderr",
     "output_type": "stream",
     "text": [
      "\n",
      "Bad key \"text.kerning_factor\" on line 4 in\n",
      "/home/hcp4715/miniconda3/envs/hddm/lib/python3.7/site-packages/matplotlib/mpl-data/stylelib/_classic_test_patch.mplstyle.\n",
      "You probably need to get an updated matplotlibrc file from\n",
      "https://github.com/matplotlib/matplotlib/blob/v3.1.3/matplotlibrc.template\n",
      "or from the matplotlib source distribution\n",
      "/home/hcp4715/miniconda3/envs/hddm/lib/python3.7/site-packages/IPython/parallel.py:13: ShimWarning: The `IPython.parallel` package has been deprecated since IPython 4.0. You should import from ipyparallel instead.\n",
      "  \"You should import from ipyparallel instead.\", ShimWarning)\n"
     ]
    }
   ],
   "source": [
    "import hddm\n",
    "import numpy as np\n",
    "import seaborn as sns\n",
    "import pymc as pm"
   ]
  },
  {
   "cell_type": "markdown",
   "metadata": {},
   "source": [
    "Draw a random value from prior distribution of $a$\n",
    "\n",
    "$$a_{j} \\sim \\mathcal{G}(\\mu_{a}, \\sigma_{a}^2)$$, $$ \\mu_{a} \\sim \\mathcal{G}(1.50, 0.75)$$, $$\\sigma_{a} \\sim \\mathcal{HN}(0.1)$$ "
   ]
  },
  {
   "cell_type": "code",
   "execution_count": 61,
   "metadata": {},
   "outputs": [
    {
     "data": {
      "text/plain": [
       "<matplotlib.axes._subplots.AxesSubplot at 0x7f90e0e9efd0>"
      ]
     },
     "execution_count": 61,
     "metadata": {},
     "output_type": "execute_result"
    },
    {
     "data": {
      "image/png": "[encoded data removed]",
      "text/plain": [
       "<Figure size 432x288 with 1 Axes>"
      ]
     },
     "metadata": {
      "needs_background": "light"
     },
     "output_type": "display_data"
    }
   ],
   "source": [
    "# draw a random a from the prior\n",
    "\n",
    "# in hddminfo.py `_create_stochastic_knodes_info`\n",
    "# knodes.update(self._create_family_gamma_gamma_hnormal('a', g_mean=1.5, g_std=0.75, std_std=2, std_value=0.1, value=1))\n",
    "\n",
    "# def _create_family_gamma_gamma_hnormal(self, name, value=1, g_mean=1, g_std=1, std_std=2, std_value=.1):\n",
    "\n",
    "#        knodes = OrderedDict()\n",
    "#        g_shape = (g_mean**2) / (g_std**2)\n",
    "#        g_rate = g_mean / (g_std**2)\n",
    "#        if self.is_group_model and name not in self.group_only_nodes:\n",
    "#            g = Knode(pm.Gamma, name, alpha=g_shape, beta=g_rate,\n",
    "#                            value=g_mean, depends=self.depends[name])\n",
    "#            depends_std = self.depends[name] if self.std_depends else ()\n",
    "#            std = Knode(pm.HalfNormal, '%s_std' % name, tau=std_std**-2,\n",
    "#                        value=std_value, depends=depends_std)#\n",
    "#\n",
    "#            shape = Knode(pm.Deterministic, '%s_shape' % name, eval=lambda x,y: (x**2)/(y**2),\n",
    "#                        x=g, y=std, plot=False, trace=False, hidden=True)\n",
    "\n",
    "#            rate = Knode(pm.Deterministic, '%s_rate' % name, eval=lambda x,y: x/(y**2),\n",
    "#                        x=g, y=std, plot=False, trace=False, hidden=True)\n",
    "\n",
    "\n",
    "#            subj = Knode(pm.Gamma, '%s_subj'%name, alpha=shape, beta=rate,\n",
    "#                         value=value, depends=('subj_idx',),\n",
    "#                         subj=True, plot=False)\n",
    "\n",
    "#            knodes['%s'%name]            = g\n",
    "#            knodes['%s_std'%name]        = std\n",
    "#            knodes['%s_rate'%name]       = rate\n",
    "#            knodes['%s_shape'%name]      = shape\n",
    "#            knodes['%s_bottom'%name]     = subj\n",
    "#\n",
    "#        else:\n",
    "#            g = Knode(pm.Gamma, name, alpha=g_shape, beta=g_rate, value=value,\n",
    "#                            depends=self.depends[name])\n",
    "\n",
    "#            knodes['%s_bottom'%name] = g\n",
    "\n",
    "#        return knodes\n",
    "\n",
    "# in `pymc/distribution.py`\n",
    "# the gamma distribution\n",
    "# def rgamma(alpha, beta, size=None):\n",
    "#     \"\"\"\n",
    "#     Random gamma variates.\n",
    "#     \"\"\"\n",
    "#\n",
    "#     return np.random.gamma(shape=alpha, scale=1. / beta, size=size)\n",
    "\n",
    "\n",
    "# the half_normal ditribution\n",
    "# def rhalf_normal(tau, size=None):\n",
    "#     \"\"\"\n",
    "#     Random half-normal variates.\n",
    "#     \"\"\"\n",
    "\n",
    "#     return abs(np.random.normal(0, np.sqrt(1 / tau), size))\n",
    "\n",
    "def draw_a_prior(g_mean=1.5, g_std=0.75, std_std=2, std_value=0.1, size = 1):\n",
    "    g_shape = (g_mean**2) / (g_std**2)\n",
    "    g_rate = g_mean / (g_std**2)\n",
    "    g_beta=g_rate\n",
    "    \n",
    "    g = np.random.gamma(shape=g_shape, scale = 1./ g_beta, size = size)\n",
    "    \n",
    "    tau=std_std**-2 # why using std_std instead of std_value?\n",
    "    std = abs(np.random.normal(0, np.sqrt(1 / tau), size=size))\n",
    "    \n",
    "    shape = (g**2)/(std**2)\n",
    "    \n",
    "    rate = g/(std**2)\n",
    "    \n",
    "    beta = rate\n",
    "    \n",
    "    subj_a = np.random.gamma(shape=shape, scale = 1./ beta, size=size)\n",
    "    \n",
    "    return subj_a\n",
    "\n",
    "subj_a = draw_a_prior(size = 1)\n",
    "# print(subj_a)\n",
    "\n",
    "\n",
    "# sns.distplot(subj_a)"
   ]
  },
  {
   "cell_type": "markdown",
   "metadata": {},
   "source": [
    "$z_{j} \\sim invlogit(\\mathcal{N}(\\mu_{z}, \\sigma_{z}^2))$, $ \\mu_{z} \\sim \\mathcal{N}(0.50, 0.50)$; $\\sigma_{z} \\sim \\mathcal{HN}(0.05)$; "
   ]
  },
  {
   "cell_type": "code",
   "execution_count": 124,
   "metadata": {},
   "outputs": [
    {
     "data": {
      "text/plain": [
       "0.0"
      ]
     },
     "execution_count": 124,
     "metadata": {},
     "output_type": "execute_result"
    }
   ],
   "source": [
    "np.log(0.5) - np.log(1-0.5)"
   ]
  },
  {
   "cell_type": "code",
   "execution_count": 137,
   "metadata": {
    "scrolled": true
   },
   "outputs": [
    {
     "name": "stdout",
     "output_type": "stream",
     "text": [
      "g_trans is:  [0.58120817]\n",
      "g is:  [0.64134536]\n",
      "g_tau is:  399.99999999999994\n",
      "g_std is:  [0.09652751]\n",
      "subj_trans is:  [-113.87719689]\n",
      "tau is:  [107.32423529]\n",
      "[2.22044605e-16]\n"
     ]
    }
   ],
   "source": [
    "# draw a random z from the prior\n",
    "\n",
    "# in hddminfo.py `_create_stochastic_knodes_info`\n",
    "# knodes.update(self._create_family_invlogit('z', value=.5, g_tau=0.5**-2, std_std=0.05))\n",
    "\n",
    "# def _create_family_invlogit(self, name, value, g_mu=None, g_tau=15**-2,\n",
    "#                               std_std=0.2, std_value=.1):\n",
    "#        \"\"\"Similar to _create_family_normal_normal_hnormal() but adds a invlogit\n",
    "#        transform knode to the subject and group mean nodes. This is useful\n",
    "#        when the parameter space is restricted from [0, 1].\n",
    "#        See _create_family_normal_normal_hnormal() help for more information.\n",
    "#        \"\"\"\n",
    "#\n",
    "#        if g_mu is None:\n",
    "#            g_mu = value\n",
    "#\n",
    "#        # logit transform values\n",
    "#        value_trans = np.log(value) - np.log(1-value) \n",
    "#        g_mu_trans = np.log(g_mu) - np.log(1-g_mu) # when g_mu = value = 0.5, g_mu_trans = 0\n",
    "#\n",
    "#        knodes = OrderedDict()\n",
    "#\n",
    "#        if self.is_group_model and name not in self.group_only_nodes:\n",
    "#            g_trans = Knode(pm.Normal,\n",
    "#                            '%s_trans'%name,\n",
    "#                            mu=g_mu_trans,\n",
    "#                            tau=g_tau,\n",
    "#                            value=value_trans,\n",
    "#                            depends=self.depends[name],\n",
    "#                            plot=False,\n",
    "#                            hidden=True)\n",
    "#\n",
    "#            g = Knode(pm.InvLogit, name, ltheta=g_trans, plot=True, trace=True)\n",
    "#\n",
    "#            depends_std = self.depends[name] if self.std_depends else ()\n",
    "#            std = Knode(pm.HalfNormal, '%s_std' % name, tau=std_std**-2,\n",
    "#                        value=std_value, depends=depends_std)\n",
    "#\n",
    "#            tau = Knode(pm.Deterministic, '%s_tau'%name, doc='%s_tau'\n",
    "#                        % name, eval=lambda x: x**-2, x=std,\n",
    "#                        plot=False, trace=False, hidden=True)\n",
    "#\n",
    "#            subj_trans = Knode(pm.Normal, '%s_subj_trans'%name,\n",
    "#                               mu=g_trans, tau=tau, value=value_trans,\n",
    "#                               depends=('subj_idx',), subj=True,\n",
    "#                               plot=False, hidden=True)\n",
    "#\n",
    "#            subj = Knode(pm.InvLogit, '%s_subj'%name,\n",
    "#                         ltheta=subj_trans, depends=('subj_idx',),\n",
    "#                         plot=self.plot_subjs, trace=True, subj=True)\n",
    "#\n",
    "#            knodes['%s_trans'%name]      = g_trans\n",
    "#            knodes['%s'%name]            = g\n",
    "#            knodes['%s_std'%name]        = std\n",
    "#            knodes['%s_tau'%name]        = tau\n",
    "#\n",
    "#            knodes['%s_subj_trans'%name] = subj_trans\n",
    "#            knodes['%s_bottom'%name]     = subj\n",
    "#\n",
    "#        else:\n",
    "#            g_trans = Knode(pm.Normal, '%s_trans'%name, mu=g_mu_trans,\n",
    "#                            tau=g_tau, value=value_trans,\n",
    "#                            depends=self.depends[name], plot=False, hidden=True)\n",
    "#\n",
    "#            g = Knode(pm.InvLogit, '%s'%name, ltheta=g_trans, plot=True,\n",
    "#                      trace=True )\n",
    "#\n",
    "#            knodes['%s_trans'%name] = g_trans\n",
    "#            knodes['%s_bottom'%name] = g\n",
    "#\n",
    "#        return knodes\n",
    "\n",
    "# in `pymc/distribution.py`\n",
    "# def rnormal(mu, tau, size=None):\n",
    "#     \"\"\"\n",
    "#     Random normal variates.\n",
    "#     \"\"\"\n",
    "#     return np.random.normal(mu, 1. / np.sqrt(tau), size)\n",
    "\n",
    "# InvLogit in `pymc/CommonDeterministics.py` <-- invlogit in `pymc/utils.py#L84` <-- `flib.f` (Fortran)\n",
    "# invlogit in utils.py#L84\n",
    "# def invlogit(ltheta):\n",
    "#     return flib.invlogit(ravel(ltheta)).reshape(shape(ltheta))\n",
    "# numpy.ravel = reshape(-1, order=order), return a contiguous flattened array.\n",
    "\n",
    "# replace with invlogit in pymc3?\n",
    "# `pymc3/math.py#L193`\n",
    "# def invlogit(x, eps=sys.float_info.epsilon):\n",
    "#     \"\"\"The inverse of the logit function, 1 / (1 + exp(-x)).\"\"\"\n",
    "#    return (1.0 - 2.0 * eps) / (1.0 + tt.exp(-x)) + eps\n",
    "\n",
    "# can replace `tt` with `np`? yes, almost the same.\n",
    "\n",
    "# the half_normal ditribution\n",
    "# def rhalf_normal(tau, size=None):\n",
    "#     \"\"\"\n",
    "#     Random half-normal variates.\n",
    "#     \"\"\"\n",
    "\n",
    "#     return abs(np.random.normal(0, np.sqrt(1 / tau), size))\n",
    "\n",
    "import sys\n",
    "def invlogit(ltheta, eps=sys.float_info.epsilon):\n",
    "    \"\"\"The inverse of the logit function, 1 / (1 + exp(-x)).\"\"\"\n",
    "    ltheta = np.array(ltheta, dtype=np.float128)\n",
    "    return (1.0 - 2.0 * eps) / (1.0 + np.exp(-ltheta)) + eps\n",
    "\n",
    "def draw_z_prior(value=.5, g_mu = None, g_tau=0.5**-2, std_std=0.05, size=1):\n",
    "    \n",
    "    if g_mu is None:\n",
    "        g_mu = value\n",
    "    \n",
    "    g_mu_trans = np.log(g_mu) - np.log(1-g_mu)\n",
    "    g_trans = np.random.normal(g_mu_trans, 1. / np.sqrt(g_tau), size)\n",
    "    print('g_trans is: ', g_trans)\n",
    "    g = invlogit(ltheta=g_trans)\n",
    "    \n",
    "    print('g is: ', g)\n",
    "    \n",
    "    g_tau = std_std**-2\n",
    "    print('g_tau is: ', g_tau)\n",
    "    \n",
    "    g_std = abs(np.random.normal(0, np.sqrt(1 / g_tau), size=size)) # half normal\n",
    "    print('g_std is: ', g_std)\n",
    "    \n",
    "    tau = g_std ** -2\n",
    "    subj_trans = np.random.normal(g_trans, tau, size=size)\n",
    "    print('subj_trans is: ', subj_trans)\n",
    "    print('tau is: ', tau)\n",
    "#\n",
    "    subj_z = invlogit(ltheta=subj_trans)\n",
    "    \n",
    "    return subj_z\n",
    " \n",
    "subj_z = draw_z_prior(size=1)\n",
    "#z_std = abs(np.random.normal(0, 0.05. ** -2, size = size)) # half normal\n",
    "#z_mu = np.random.normal(0.5, 0.5 ** -2, size = size)\n",
    "\n",
    "#v = np.random.normal(v_mu, v_std**-2)\n",
    "print(subj_z)\n",
    "\n",
    "\n",
    "# sns.distplot(subj_z)"
   ]
  },
  {
   "cell_type": "markdown",
   "metadata": {},
   "source": [
    "Draw a random value from prior distribution of $v$: \n",
    "$v_{j} \\sim \\mathcal{N}(\\mu_{v}, \\sigma_{v}^2)$, $ \\mu_{v} \\sim \\mathcal{N}(2.00, 3.00)$, $\\sigma_{v} \\sim \\mathcal{HN}(2.0)$; "
   ]
  },
  {
   "cell_type": "code",
   "execution_count": 155,
   "metadata": {},
   "outputs": [
    {
     "data": {
      "text/plain": [
       "<matplotlib.axes._subplots.AxesSubplot at 0x7f90db9e6c50>"
      ]
     },
     "execution_count": 155,
     "metadata": {},
     "output_type": "execute_result"
    },
    {
     "data": {
      "image/png": "[encoded data removed]",
      "text/plain": [
       "<Figure size 432x288 with 1 Axes>"
      ]
     },
     "metadata": {
      "needs_background": "light"
     },
     "output_type": "display_data"
    }
   ],
   "source": [
    "# draw a random a from the prior\n",
    "\n",
    "# in hddminfo.py `_create_stochastic_knodes_info`\n",
    "# knodes.update(self._create_family_normal_normal_hnormal('v', value=2, g_mu=2, g_tau=3**-2, std_std=2))\n",
    "\n",
    "# in hddm/models/base.py\n",
    "# def _create_family_normal_normal_hnormal(self, name, value=0, g_mu=None,\n",
    "#                              g_tau=15**-2, std_std=2,\n",
    "#                              std_value=.1):\n",
    "#         \"\"\"Create a family of knodes. A family is a group of knodes\n",
    "#         that belong together.\n",
    "#         For example, a family could consist of the following distributions:\n",
    "#         * group mean g_mean (Normal(g_mu, g_tau))\n",
    "#         * group standard deviation g_std (Uniform(std_lower, std_upper))\n",
    "#         * transform node g_std_trans for g_std (x -> x**-2)\n",
    "#         * subject (Normal(g_mean, g_std_trans))\n",
    "#         In fact, if is_group_model is True and the name does not appear in\n",
    "#         group_only nodes, this is the family that will be created.\n",
    "#         Otherwise, only a Normal knode will be returned.\n",
    "#         :Arguments:\n",
    "#             name : str\n",
    "#                 Name of the family. Each family member will have this name prefixed.\n",
    "#         :Optional:\n",
    "#             value : float\n",
    "#                 Starting value.\n",
    "#             g_mu, g_tau, std_lower, std_upper, std_value : float\n",
    "#                 The hyper parameters for the different family members (see above).\n",
    "#         :Returns:\n",
    "#             OrderedDict: member name -> member Knode\n",
    "#         \"\"\"\n",
    "#         if g_mu is None:\n",
    "#             g_mu = value\n",
    "# \n",
    "#         knodes = OrderedDict()\n",
    "#\n",
    "#        if self.is_group_model and name not in self.group_only_nodes:\n",
    "#            g = Knode(pm.Normal, '%s' % name, mu=g_mu, tau=g_tau,\n",
    "#                      value=value, depends=self.depends[name])\n",
    "#            depends_std = self.depends[name] if self.std_depends else ()\n",
    "#            std = Knode(pm.HalfNormal, '%s_std' % name, tau=std_std**-2,\n",
    "#                        value=std_value, depends=depends_std)\n",
    "#            tau = Knode(pm.Deterministic, '%s_tau' % name,\n",
    "#                        doc='%s_tau' % name, eval=lambda x: x**-2, x=std,\n",
    "#                        plot=False, trace=False, hidden=True)\n",
    "#            subj = Knode(pm.Normal, '%s_subj' % name, mu=g, tau=tau,\n",
    "#                         value=value, depends=('subj_idx',),\n",
    "#                         subj=True, plot=self.plot_subjs)\n",
    "#            knodes['%s'%name] = g\n",
    "#            knodes['%s_std'%name] = std\n",
    "#            knodes['%s_tau'%name] = tau\n",
    "#            knodes['%s_bottom'%name] = subj\n",
    "\n",
    "#        else:\n",
    "#            subj = Knode(pm.Normal, name, mu=g_mu, tau=g_tau,\n",
    "#                         value=value, depends=self.depends[name])\n",
    "\n",
    "#            knodes['%s_bottom'%name] = subj\n",
    "#\n",
    "#        return knodes\n",
    "\n",
    "\n",
    "# in `pymc/distribution.py`\n",
    "\n",
    "# in `pymc/distribution.py`\n",
    "# def rnormal(mu, tau, size=None):\n",
    "#     \"\"\"\n",
    "#     Random normal variates.\n",
    "#     \"\"\"\n",
    "#     return np.random.normal(mu, 1. / np.sqrt(tau), size)\n",
    "\n",
    "# the half_normal ditribution\n",
    "# def rhalf_normal(tau, size=None):\n",
    "#     \"\"\"\n",
    "#     Random half-normal variates.\n",
    "#     \"\"\"\n",
    "\n",
    "#     return abs(np.random.normal(0, np.sqrt(1 / tau), size))\n",
    "\n",
    "def draw_v_prior(value=2, g_mu=2,g_tau=3**-2, std_std=2, size=1):\n",
    "    if g_mu is None:\n",
    "        g_mu = value\n",
    "    \n",
    "    g = np.random.normal(g_mu, 1. / np.sqrt(g_tau), size=size)\n",
    "    tau_g=std_std**-2\n",
    "    \n",
    "    std_g = abs(np.random.normal(tau_g, size=size))\n",
    "    #print('g: ', g)\n",
    "    #print('std_g', std_g)\n",
    "    \n",
    "    tau = std_g ** -2\n",
    "    #print('tau', tau)\n",
    "    subj_v = np.random.normal(g, tau, size=size)\n",
    "    \n",
    "    return subj_v\n",
    "    \n",
    "subj_v = draw_v_prior(size=1000)\n",
    "#print(subj_v)\n",
    "sns.distplot(subj_v)\n",
    "\n",
    "#v_std = abs(np.random.normal(0, 2. ** -2, size = size)) # half normal\n",
    "#v_mu = np.random.normal(2, 3. ** -2, size = size)\n",
    "\n",
    "#v = np.random.normal(v_mu, v_std**-2)\n",
    "#print(v_mu, v_std ** -2, v)"
   ]
  },
  {
   "cell_type": "markdown",
   "metadata": {},
   "source": [
    "Draw a value from prior of $t$:\n",
    "\n",
    "$t_{j} \\sim \\mathcal{N}(\\mu_{t}, \\sigma_{t}^2)$, $ \\mu_{t} \\sim \\mathcal{G}(0.40, 0.20)$, $\\sigma_{t} \\sim \\mathcal{HN}(1)$;"
   ]
  },
  {
   "cell_type": "code",
   "execution_count": 158,
   "metadata": {},
   "outputs": [
    {
     "data": {
      "text/plain": [
       "<matplotlib.axes._subplots.AxesSubplot at 0x7f90db8ecc50>"
      ]
     },
     "execution_count": 158,
     "metadata": {},
     "output_type": "execute_result"
    },
    {
     "data": {
      "image/png": "[encoded data removed]",
      "text/plain": [
       "<Figure size 432x288 with 1 Axes>"
      ]
     },
     "metadata": {
      "needs_background": "light"
     },
     "output_type": "display_data"
    }
   ],
   "source": [
    "# draw a random a from the prior\n",
    "\n",
    "# in hddminfo.py `_create_stochastic_knodes_info`\n",
    "# knodes.update(self._create_family_gamma_gamma_hnormal('t', g_mean=.4, g_std=0.2, value=0.001, std_std=1, std_value=0.2))\n",
    "#\n",
    "# in hddm/models/base.py\n",
    "# def _create_family_gamma_gamma_hnormal(self, name, value=1, g_mean=1, g_std=1, std_std=2, std_value=.1):\n",
    "#\n",
    "#        knodes = OrderedDict()\n",
    "#        g_shape = (g_mean**2) / (g_std**2)\n",
    "#        g_rate = g_mean / (g_std**2)\n",
    "#        if self.is_group_model and name not in self.group_only_nodes:\n",
    "#            g = Knode(pm.Gamma, name, alpha=g_shape, beta=g_rate,\n",
    "#                            value=g_mean, depends=self.depends[name])\n",
    "#            depends_std = self.depends[name] if self.std_depends else ()\n",
    "#            std = Knode(pm.HalfNormal, '%s_std' % name, tau=std_std**-2,\n",
    "#                        value=std_value, depends=depends_std)#\n",
    "#\n",
    "#            shape = Knode(pm.Deterministic, '%s_shape' % name, eval=lambda x,y: (x**2)/(y**2),\n",
    "#                        x=g, y=std, plot=False, trace=False, hidden=True)\n",
    "#\n",
    "#            rate = Knode(pm.Deterministic, '%s_rate' % name, eval=lambda x,y: x/(y**2),\n",
    "#                        x=g, y=std, plot=False, trace=False, hidden=True)\n",
    "#\n",
    "#\n",
    "#            subj = Knode(pm.Gamma, '%s_subj'%name, alpha=shape, beta=rate,\n",
    "#                         value=value, depends=('subj_idx',),\n",
    "#                         subj=True, plot=False)\n",
    "#\n",
    "#            knodes['%s'%name]            = g\n",
    "#            knodes['%s_std'%name]        = std\n",
    "#            knodes['%s_rate'%name]       = rate\n",
    "#            knodes['%s_shape'%name]      = shape\n",
    "#            knodes['%s_bottom'%name]     = subj\n",
    "#\n",
    "#        else:\n",
    "#            g = Knode(pm.Gamma, name, alpha=g_shape, beta=g_rate, value=value,\n",
    "#                            depends=self.depends[name])\n",
    "#\n",
    "#            knodes['%s_bottom'%name] = g\n",
    "#\n",
    "#        return knodes\n",
    "\n",
    "# in `pymc/distribution.py`\n",
    "# the gamma distribution\n",
    "# def rgamma(alpha, beta, size=None):\n",
    "#     \"\"\"\n",
    "#     Random gamma variates.\n",
    "#     \"\"\"\n",
    "#\n",
    "#     return np.random.gamma(shape=alpha, scale=1. / beta, size=size)\n",
    "\n",
    "\n",
    "# the half_normal ditribution\n",
    "# def rhalf_normal(tau, size=None):\n",
    "#     \"\"\"\n",
    "#     Random half-normal variates.\n",
    "#     \"\"\"\n",
    "#     return abs(np.random.normal(0, np.sqrt(1 / tau), size))\n",
    "\n",
    "# in `pymc/distribution.py`\n",
    "# def rnormal(mu, tau, size=None):\n",
    "#     \"\"\"\n",
    "#     Random normal variates.\n",
    "#     \"\"\"\n",
    "#     return np.random.normal(mu, 1. / np.sqrt(tau), size)\n",
    "\n",
    "def draw_t_prior(g_mean=.4, g_std=0.2, value=0.001, std_std=1, std_value=0.2, size=1):\n",
    "    g_shape = (g_mean**2) / (g_std**2)\n",
    "    g_rate = g_mean / (g_std**2)\n",
    "    g_beta=g_rate\n",
    "    \n",
    "    g = np.random.gamma(shape=g_shape, scale = 1./ g_beta, size = size)\n",
    "    \n",
    "    tau=std_std**-2 # why using std_std instead of std_value?\n",
    "    std = abs(np.random.normal(0, np.sqrt(1 / tau), size=size))\n",
    "    \n",
    "    shape = (g**2)/(std**2)\n",
    "    \n",
    "    rate = g/(std**2)\n",
    "    \n",
    "    beta = rate\n",
    "    \n",
    "    subj_t = np.random.gamma(shape=shape, scale = 1./ beta, size=size)\n",
    "    \n",
    "    return subj_t\n",
    "\n",
    "subj_t = draw_t_prior(size = 1000)\n",
    "\n",
    "#print(subj_t)\n",
    "sns.distplot(subj_t)"
   ]
  },
  {
   "cell_type": "code",
   "execution_count": 159,
   "metadata": {},
   "outputs": [
    {
     "data": {
      "text/plain": [
       "<matplotlib.axes._subplots.AxesSubplot at 0x7f90db7e91d0>"
      ]
     },
     "execution_count": 159,
     "metadata": {},
     "output_type": "execute_result"
    },
    {
     "data": {
      "image/png": "[encoded data removed]",
      "text/plain": [
       "<Figure size 432x288 with 1 Axes>"
      ]
     },
     "metadata": {
      "needs_background": "light"
     },
     "output_type": "display_data"
    }
   ],
   "source": [
    "subj_a = draw_a_prior(size=1000)\n",
    "sns.distplot(subj_a)"
   ]
  },
  {
   "cell_type": "code",
   "execution_count": 29,
   "metadata": {
    "scrolled": true
   },
   "outputs": [
    {
     "data": {
      "text/plain": [
       "{'sv': 0,\n",
       " 'sz': 0,\n",
       " 'st': 0,\n",
       " 'z': 0.5,\n",
       " 'v': -0.4211249060415714,\n",
       " 't': 0.46198859805598536,\n",
       " 'a': 1.027035964260195}"
      ]
     },
     "execution_count": 29,
     "metadata": {},
     "output_type": "execute_result"
    }
   ],
   "source": [
    "tmp1 = hddm.generate.gen_rand_params()\n",
    "tmp1\n",
    "# type(tmp1)"
   ]
  },
  {
   "cell_type": "code",
   "execution_count": 46,
   "metadata": {},
   "outputs": [
    {
     "data": {
      "text/plain": [
       "<matplotlib.axes._subplots.AxesSubplot at 0x7f9b6e4b4310>"
      ]
     },
     "execution_count": 46,
     "metadata": {},
     "output_type": "execute_result"
    },
    {
     "data": {
      "image/png": "[encoded data removed]",
      "text/plain": [
       "<Figure size 432x288 with 1 Axes>"
      ]
     },
     "metadata": {
      "needs_background": "light"
     },
     "output_type": "display_data"
    }
   ],
   "source": [
    "# tmp = hddm.generate.gen_rand_data({'z':tmp1['z'], 't':tmp1['t'], 'v':tmp1['v'], 'a':tmp1['a'],}, size=1000, subjs=1)\n",
    "\n",
    "tmp = hddm.generate.gen_rand_data(tmp1, size=1000, subjs=1)\n",
    "\n",
    "tmp[0].rt\n",
    "\n",
    "import seaborn as sns\n",
    "sns.distplot(tmp[0].rt)\n"
   ]
  },
  {
   "cell_type": "code",
   "execution_count": 33,
   "metadata": {},
   "outputs": [
    {
     "name": "stdout",
     "output_type": "stream",
     "text": [
      "[7.6067483] [0.00509494] [16969830.83466574]\n"
     ]
    }
   ],
   "source": [
    "# draw a random from all 7 parameters as the prior has specified\n",
    "import numpy as np\n",
    "\n",
    "std_a = None\n",
    "while std_a == None:\n",
    "    tmp = np.random.normal(loc=0.0, scale=0.1, size=1)\n",
    "    if tmp > 0:\n",
    "        std_a = tmp\n",
    "\n",
    "# note that in Wieckie 2013, Gamma distribution was define by mean and rate\n",
    "# which is not directly corresponding to the numpy's gamma (shape or α, scale or β)\n",
    "# rate is an inverse scale parameter β =1/θ, which means θ=1/β\n",
    "# mean parameter μ = kθ = α/β, which mean α = β * μ\n",
    "\n",
    "mu_a = np.random.gamma(shape = (1.5**2)/(0.75**2), scale= 1.5 / (0.75**2), size=1)\n",
    "\n",
    "# mu = mu_a, sigma = sigma_a --> alpha (shape) = beta * mu = (1/sigma) * mu = mu_a * (1/sigma_a); beta = 1/sigma_a\n",
    "a_1 =  np.random.gamma(shape = (mu_a**2) /(std_a**2), scale=mu_a/(std_a**2), size=1)\n",
    "\n",
    "print(mu_a, std_a ** 2, a_1)"
   ]
  },
  {
   "cell_type": "code",
   "execution_count": null,
   "metadata": {},
   "outputs": [],
   "source": []
  },
  {
   "cell_type": "code",
   "execution_count": 31,
   "metadata": {},
   "outputs": [
    {
     "data": {
      "text/plain": [
       "array([30.92149286])"
      ]
     },
     "execution_count": 31,
     "metadata": {},
     "output_type": "execute_result"
    }
   ],
   "source": [
    "1/(sigma_a ** 2)"
   ]
  }
 ],
 "metadata": {
  "kernelspec": {
   "display_name": "Python 3",
   "language": "python",
   "name": "python3"
  },
  "language_info": {
   "codemirror_mode": {
    "name": "ipython",
    "version": 3
   },
   "file_extension": ".py",
   "mimetype": "text/x-python",
   "name": "python",
   "nbconvert_exporter": "python",
   "pygments_lexer": "ipython3",
   "version": "3.7.7"
  }
 },
 "nbformat": 4,
 "nbformat_minor": 4
}
