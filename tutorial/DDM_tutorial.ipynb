{
 "cells": [
  {
   "cell_type": "markdown",
   "metadata": {},
   "source": [
    "# A tutorial of sequential sampling, with illustration of HDDM 0.8.0\n",
    "\n",
    "Following the ten simple rules step by step.\n",
    "\n",
    "Q1: shall we work with HDDM? it's a bit old (pymc2.3.8).\n",
    "\n",
    "Packages can be included:\n",
    "* [HDDM 0.8.0](http://ski.clps.brown.edu/hddm_docs/)\n",
    "* [pyddm 0.4.0](https://pyddm.readthedocs.io/en/latest/)\n",
    "* [ggdmc 0.2.5.2](https://www.rdocumentation.org/packages/ggdmc/versions/0.2.5.2)\n",
    "\n",
    "\n",
    "## Useful functions for beginners\n",
    "\n",
    "### Plot an illustration of DDM with [seaborn](https://seaborn.pydata.org/)\n",
    "\n",
    "### Plot the priors used in HDDM and how to change prior\n",
    "\n",
    "### Prior predictive check\n",
    "\n",
    "### Plot individual PPC results using [seaborn](https://seaborn.pydata.org/) or [arviz](https://arviz-devs.github.io/arviz/examples/index.html)\n",
    "\n",
    "### Plot group-level posterior with pair plot with seaborn\n",
    "\n",
    "\n",
    "## Outline of the tutorial/guide"
   ]
  }
 ],
 "metadata": {
  "kernelspec": {
   "display_name": "Python 3",
   "language": "python",
   "name": "python3"
  },
  "language_info": {
   "codemirror_mode": {
    "name": "ipython",
    "version": 3
   },
   "file_extension": ".py",
   "mimetype": "text/x-python",
   "name": "python",
   "nbconvert_exporter": "python",
   "pygments_lexer": "ipython3",
   "version": "3.7.7"
  }
 },
 "nbformat": 4,
 "nbformat_minor": 4
}
