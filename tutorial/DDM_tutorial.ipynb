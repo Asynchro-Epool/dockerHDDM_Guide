{
 "cells": [
  {
   "cell_type": "markdown",
   "metadata": {},
   "source": [
    "# Principled Bayesian hierarchical drift-diffusion modelling: A practical primer\n",
    "\n",
    "\n",
    "## Outline\n",
    "### 1. Preparation\n",
    "#### 1.1 How to install HDDM container (on different platforms)\n",
    "#### 1.2 How to use the container, e.g., Open Jupyter Notebook or other IDE.\n",
    "\n",
    "### 2. A pipeline of principled Bayesian hierarchical DDM\n",
    "#### 2.1 Brief description of DDM and DDM parameters\n",
    "#### 2.2 Priors selection and prior predictive check\n",
    "#### 2.3 Model estimation\n",
    "#### 2.4 Convergence check\n",
    "#### 2.5 Parameter recovery\n",
    "#### 2.6 Model comparison (e.g., information criteria)\n",
    "#### 2.7 Posterior predictive check\n",
    "\n",
    "### 3. Interpreting and reporting of statistical results\n",
    "#### 3.1 Intepreting parameters and inference \n",
    "#### 3.2 Tyipcal pitfalls in parameter interpretations"
   ]
  },
  {
   "cell_type": "markdown",
   "metadata": {},
   "source": [
    "\n",
    "## Useful functions for beginners\n",
    "\n",
    "Plot an illustration of DDM with [seaborn](https://seaborn.pydata.org/)\n",
    "\n",
    "Plot the priors used in HDDM and how to change prior\n",
    "\n",
    "Plot MCMC trace using seaborn.\n",
    "\n",
    "Prior predictive check\n",
    "\n",
    "Plot individual PPC results using [seaborn](https://seaborn.pydata.org/) or [arviz](https://arviz-devs.github.io/arviz/examples/index.html)\n",
    "\n",
    "Plot group-level posterior with pair plot with seaborn\n",
    "\n",
    "1. Overview of the sequantial sampling models and toolbox (maybe we can create a table based on [Ratcliff et al. 2016](https://www.cell.com/trends/cognitive-sciences/fulltext/S1364-6613(16)00025-5)). briefly. a table.\n",
    "\n",
    "2. motivation: (1) implicit knowledge; (2)\n",
    "2. Guide for selecting models (?)\n",
    "3. Tutorial on how to use HDDM, following the ten simple rules."
   ]
  },
  {
   "cell_type": "markdown",
   "metadata": {},
   "source": [
    "## Introduction\n",
    "#### Brief description of DDM and DDM parameters\n",
    "\n",
    "From (Matzke and Wagenmakes, 2009)\n",
    "* Drift rate $v$ represents the mean rate of information accumulation and is determined by the quality of information that is extracted from the stimulus. Drift rate can be influenced either by individual differences in the quality of information processing or by stimulus characteristics that reflect task difficulty. \n",
    "* Boundary separation $a$ quantifies the distance between the two response boundaries and represents response caution. Large values of $a$ indicate that more information must be accumulated before a decision can be made. Boundary separation is usually manipulated via speed–accuracy instructions. \n",
    "* Starting point $z$ represents participants’ a priori bias for one of the two response alternatives. Starting point is usually manipulated either by varying the proportions of stimuli associated with the upper and lower response boundaries or by payoff manipulations. Both a and $z$ are assumed to be under the subjective control of participants. \n",
    "* Nondecision time $Ter$ quantifies the duration of processes that are unrelated to the decision process, including stimulus encoding and response execution."
   ]
  },
  {
   "cell_type": "markdown",
   "metadata": {},
   "source": [
    "## 1 Preparation\n",
    "#### 1.1 How to install"
   ]
  },
  {
   "cell_type": "markdown",
   "metadata": {},
   "source": [
    "#### 1.2 How to use container"
   ]
  },
  {
   "cell_type": "markdown",
   "metadata": {},
   "source": [
    "### Full diffusion model (HDDM)\n",
    "\n",
    "Wiecki et al. (2013):\n",
    "\n",
    "$$ x_{i,j}  \\sim F(a_{i}, z_{i}, v_{i}, t_{i}, sv, st, sz)$$, \n",
    "where $x_{i,j}$ represents the observed data consisting of response time and choice of subject $i$ on trial $j$ and $F$ represents the DDM likelihood function as formulated by Navarro and Fuss (2009).\n",
    "\n",
    "\n",
    "Navarro and Fuss (2009): Wiener first passage time (WFPT) distribution. \n",
    "\n",
    "relative starting point: $ w = z/a $. The probability density function for the WFPT distribution, which describes the chance that the diffusion process is absorbed at time $t$ at the **lower boundary** will be denoted by $f(t|v, a, w)$:\n",
    "\n",
    "$$f(t|v, a, w) = \\frac{\\pi}{a^2}exp \\left(-vaw - \\frac{v^2 t}{2}\\right) \\sum_{k=1}^{\\infty} k exp \\left(-\\frac{k^2 \\pi^2 t}{2 a^2} \\right) sin(k \\pi w).$$\n"
   ]
  },
  {
   "cell_type": "markdown",
   "metadata": {},
   "source": [
    "#### Prior selection and prior check\n",
    "\n",
    "Steps for prior check\n",
    "\n",
    "Current prior in HDDM, weakly informative prior, was based on Matzke & Wagenmakes (2009, Appendix A, and supplementary). Note, Matzke and Wagenmakes (2009) summaried 23 papers (?# of experiments, participants?) and provided the frequencies of **9** parameters, but Wiekie et al (2013) defined **11** group-level parameters and **4** individual-level parameters.\n",
    "\n",
    "$a_{j} \\sim \\mathcal{G}(\\mu_{a}, \\sigma_{a}^2)$, $ \\mu_{a} \\sim \\mathcal{G}(1.50, 0.75)$, $\\sigma_{a} \\sim \\mathcal{HN}(0.1)$; \n",
    "\n",
    "$v_{j} \\sim \\mathcal{N}(\\mu_{v}, \\sigma_{v}^2)$, $ \\mu_{v} \\sim \\mathcal{N}(2.00, 3.00)$, $\\sigma_{v} \\sim \\mathcal{HN}(2.0)$; \n",
    "\n",
    "$z_{j} \\sim invlogit(\\mathcal{N}(\\mu_{z}, \\sigma_{z}^2))$, $ \\mu_{z} \\sim \\mathcal{N}(0.50, 0.50)$; $\\sigma_{z} \\sim \\mathcal{HN}(0.05)$; \n",
    "\n",
    "$t_{j} \\sim \\mathcal{N}(\\mu_{t}, \\sigma_{t}^2)$, $ \\mu_{t} \\sim \\mathcal{G}(0.40, 0.20)$, $\\sigma_{t} \\sim \\mathcal{HN}(1)$; \n",
    "\n",
    "$ \\mathcal{sv} \\sim \\mathcal{HN}(2)$; $ \\mathcal{st} \\sim \\mathcal{HN}(0.3)$; $\\mathcal{sz} \\sim \\mathcal{B}(1, 3)$  \n",
    "\n",
    "The above prior were specified at `hddm/models/hddm_info.py`, line 115 - 160\n",
    "critical func is `_create_stochastic_knodes(self, include)`, this defines the free parameter based on the input.  `_create_stochastic_knodes(self, include)` will define the distribution of each parameter using functions in `hddm/models/base.py`, such as `_create_family_gamma_gamma_hnormal`, these function further depends on `pymc/distribution.py`, in which the class name were re-capitalized ('half_normal' -> 'HalfNormal').\n",
    "\n",
    "One question left: parameter `value` in these functions. It might be the \"Starting value\"\n",
    "\n",
    "\n",
    "Possible new priors: Tran, N.-H., Maanen, L. van, Heathcote, A., & Matzke, D. (2020). Systematic Quantitative Parameter Reviews in Cognitive Modeling: Towards Robust and Cumulative Models of Psychological Processes. https://doi.org/10.31234/osf.io/6jyf3\n"
   ]
  },
  {
   "cell_type": "markdown",
   "metadata": {},
   "source": [
    "def _create_stochastic_knodes_info(self, include):\n",
    "\n",
    "        knodes = OrderedDict()\n",
    "        if 'a' in include:\n",
    "            knodes.update(self._create_family_gamma_gamma_hnormal('a', g_mean=1.5, g_std=0.75, std_std=2, std_value=0.1, value=1))\n",
    "        if 'v' in include:\n",
    "            knodes.update(self._create_family_normal_normal_hnormal('v', value=2, g_mu=2, g_tau=3**-2, std_std=2))\n",
    "        if 't' in include:\n",
    "            knodes.update(self._create_family_gamma_gamma_hnormal('t', g_mean=.4, g_std=0.2, value=0.001, std_std=1, std_value=0.2))\n",
    "        if 'sv' in include:\n",
    "            knodes['sv_bottom'] = Knode(pm.HalfNormal, 'sv', tau=2**-2, value=1, depends=self.depends['sv'])\n",
    "        if 'sz' in include:\n",
    "            knodes['sz_bottom'] = Knode(pm.Beta, 'sz', alpha=1, beta=3, value=0.01, depends=self.depends['sz'])\n",
    "        if 'st' in include:\n",
    "            knodes['st_bottom'] = Knode(pm.HalfNormal, 'st', tau=0.3**-2, value=0.001, depends=self.depends['st'])\n",
    "        if 'z' in include:\n",
    "            knodes.update(self._create_family_invlogit('z', value=.5, g_tau=0.5**-2, std_std=0.05))\n",
    "        if 'p_outlier' in include:\n",
    "            knodes['p_outlier_bottom'] = Knode(pm.Beta, 'p_outlier', alpha=1, beta=15, value=0.01, depends=self.depends['p_outlier'])"
   ]
  },
  {
   "cell_type": "markdown",
   "metadata": {},
   "source": [
    "Steps for prior check\n",
    "\n",
    "Step 1: random sample 4 parameter from the prior;\n",
    "\n",
    "Step 2: generate data using these 4 parameters\n",
    "\n",
    "Step 3: calculate the mean of RT from the generated data\n",
    "\n",
    "Step 4: using some cutoff for the RTs\n",
    "\n",
    "Step 5: reverse back to the priors that generated data with the cutoff."
   ]
  },
  {
   "cell_type": "code",
   "execution_count": 1,
   "metadata": {
    "scrolled": false
   },
   "outputs": [
    {
     "name": "stderr",
     "output_type": "stream",
     "text": [
      "/home/hcp4715/miniconda3/envs/hddm/lib/python3.7/site-packages/IPython/parallel.py:13: ShimWarning: The `IPython.parallel` package has been deprecated since IPython 4.0. You should import from ipyparallel instead.\n",
      "  \"You should import from ipyparallel instead.\", ShimWarning)\n"
     ]
    }
   ],
   "source": [
    "import hddm\n",
    "import pymc as pm\n",
    "\n",
    "import numpy as np\n",
    "import statistics\n",
    "from scipy.stats import halfnorm\n",
    "\n",
    "import matplotlib.pyplot as plt\n",
    "import seaborn as sns\n"
   ]
  },
  {
   "cell_type": "markdown",
   "metadata": {},
   "source": [
    "##### Draw a random value from prior distribution of $a$\n",
    "\n",
    "$$ a_{j} \\sim \\mathcal{G}(\\mu_{a}, \\sigma_{a}^2) $$, $$ \\mu_{a} \\sim \\mathcal{G}(1.50, 0.75)$$, $$\\sigma_{a} \\sim \\mathcal{HN}(0.1)$$ \n",
    "\n",
    "I doubt here the `std_std` (hddm/models/hddm_info.py#L124) should be 0.1 instead of 2"
   ]
  },
  {
   "cell_type": "code",
   "execution_count": 12,
   "metadata": {
    "scrolled": false
   },
   "outputs": [
    {
     "name": "stdout",
     "output_type": "stream",
     "text": [
      "mean of a:  1.5532078333577841\n",
      "mean of mu_a:  1.5113942126362558\n",
      "std of mu_a:  0.7320614987400055\n",
      "fit of std_a, location and scale:  (0.0011993123003876671, 2.079596426930764)\n"
     ]
    },
    {
     "data": {
      "text/plain": [
       "<matplotlib.axes._subplots.AxesSubplot at 0x7f9857611f10>"
      ]
     },
     "execution_count": 12,
     "metadata": {},
     "output_type": "execute_result"
    },
    {
     "data": {
      "image/png": "[encoded data removed]",
      "text/plain": [
       "<Figure size 1080x360 with 3 Axes>"
      ]
     },
     "metadata": {
      "needs_background": "light"
     },
     "output_type": "display_data"
    }
   ],
   "source": [
    "# in /hddm/models/hddm_info.py#L124 `_create_stochastic_knodes_info`\n",
    "# knodes.update(self._create_family_gamma_gamma_hnormal('a', g_mean=1.5, g_std=0.75, \n",
    "#                                                            std_std=2, std_value=0.1, value=1))\n",
    "\n",
    "# def _create_family_gamma_gamma_hnormal(self, name, value=1, g_mean=1, g_std=1, std_std=2, std_value=.1):\n",
    "#        knodes = OrderedDict()\n",
    "#        g_shape = (g_mean**2) / (g_std**2)\n",
    "#        g_rate = g_mean / (g_std**2)\n",
    "#        if self.is_group_model and name not in self.group_only_nodes:\n",
    "#            g = Knode(pm.Gamma, name, alpha=g_shape, beta=g_rate,\n",
    "#                            value=g_mean, depends=self.depends[name])\n",
    "#            depends_std = self.depends[name] if self.std_depends else ()\n",
    "#            std = Knode(pm.HalfNormal, '%s_std' % name, tau=std_std**-2,\n",
    "#                        value=std_value, depends=depends_std)#\n",
    "#\n",
    "#            shape = Knode(pm.Deterministic, '%s_shape' % name, eval=lambda x,y: (x**2)/(y**2),\n",
    "#                        x=g, y=std, plot=False, trace=False, hidden=True)\n",
    "#\n",
    "#            rate = Knode(pm.Deterministic, '%s_rate' % name, eval=lambda x,y: x/(y**2),\n",
    "#                        x=g, y=std, plot=False, trace=False, hidden=True)\n",
    "#\n",
    "#            subj = Knode(pm.Gamma, '%s_subj'%name, alpha=shape, beta=rate,\n",
    "#                         value=value, depends=('subj_idx',),\n",
    "#                         subj=True, plot=False)\n",
    "#\n",
    "#            knodes['%s'%name]            = g\n",
    "#            knodes['%s_std'%name]        = std\n",
    "#            knodes['%s_rate'%name]       = rate\n",
    "#            knodes['%s_shape'%name]      = shape\n",
    "#            knodes['%s_bottom'%name]     = subj\n",
    "#\n",
    "#        else:\n",
    "#            g = Knode(pm.Gamma, name, alpha=g_shape, beta=g_rate, value=value,\n",
    "#                            depends=self.depends[name])\n",
    "#\n",
    "#            knodes['%s_bottom'%name] = g\n",
    "#\n",
    "#        return knodes\n",
    "\n",
    "# in `pymc/distribution.py`\n",
    "# the gamma distribution\n",
    "# def rgamma(alpha, beta, size=None):\n",
    "#     \"\"\"\n",
    "#     Random gamma variates.\n",
    "#     \"\"\"\n",
    "#\n",
    "#     return np.random.gamma(shape=alpha, scale=1. / beta, size=size)\n",
    "\n",
    "# the half_normal ditribution\n",
    "# def rhalf_normal(tau, size=None):\n",
    "#     \"\"\"\n",
    "#     Random half-normal variates.\n",
    "#     \"\"\"\n",
    "#\n",
    "#     return abs(np.random.normal(0, np.sqrt(1 / tau), size))\n",
    "\n",
    "#### std_std=0.1\n",
    "def draw_a_prior(g_mean=1.5, g_std=0.75, std_std=0.1, std_value=2, size = 1):\n",
    "    g_shape = (g_mean**2) / (g_std**2)\n",
    "    g_rate = g_mean / (g_std**2)\n",
    "    g_beta=g_rate\n",
    "    \n",
    "    g = np.random.gamma(shape=g_shape, scale = 1./ g_beta, size = size)\n",
    "    \n",
    "    tau=std_std**-2 # why using std_std instead of std_value?\n",
    "    std = abs(np.random.normal(0, np.sqrt(1 / tau), size=size))\n",
    "    \n",
    "    shape = (g**2)/(std**2)\n",
    "    \n",
    "    rate = g/(std**2)\n",
    "    beta = rate\n",
    "    \n",
    "    subj_a = np.random.gamma(shape=shape, scale = 1./ beta, size=size)\n",
    "    \n",
    "    return subj_a, g, std\n",
    "\n",
    "subj_a, g, std = draw_a_prior(size = 1000, std_std=2)\n",
    "# print(subj_a)\n",
    "print('mean of a: ', statistics.mean(subj_a))\n",
    "print('mean of mu_a: ', statistics.mean(g))\n",
    "print('std of mu_a: ', statistics.stdev(g))\n",
    "print('fit of std_a, location and scale: ', halfnorm.fit(std))\n",
    "\n",
    "f, axes = plt.subplots(1, 4, figsize=(15,5))\n",
    "sns.distplot(subj_a, ax = axes[0])\n",
    "sns.distplot(g, ax = axes[1])\n",
    "sns.distplot(std, ax = axes[2])"
   ]
  },
  {
   "cell_type": "markdown",
   "metadata": {},
   "source": [
    "##### Draw a value from prior of $t$. \n",
    "\n",
    "In Wiecki et al (2013), the prior of $t$ was written as below:\n",
    "\n",
    "$$t_{j} \\sim \\mathcal{N}(\\mu_{t}, \\sigma_{t}^2)$$ $$ \\mu_{t} \\sim \\mathcal{G}(0.40, 0.20)$$ $$\\sigma_{t} \\sim \\mathcal{HN}(1)$$\n",
    "\n",
    "However, in the `hddm/models/hddm_info.py#L128`, the code defins the prior distribution was `knodes.update(self._create_family_gamma_gamma_hnormal('t', g_mean=.4, g_std=0.2, value=0.001, std_std=1, std_value=0.2))`, which is the same as `a`. Even though it was different from but it's reasonable because `t` should not be negative.\n",
    "\n",
    "So, the actual prior used was:\n",
    "\n",
    "$$t_{j} \\sim \\mathcal{G}(\\mu_{t}, \\sigma_{t}^2)$$ $$ \\mu_{t} \\sim \\mathcal{G}(0.40, 0.20)$$ $$\\sigma_{t} \\sim \\mathcal{HN}(1)$$"
   ]
  },
  {
   "cell_type": "code",
   "execution_count": 14,
   "metadata": {
    "scrolled": false
   },
   "outputs": [
    {
     "name": "stdout",
     "output_type": "stream",
     "text": [
      "mean of mu_t:  0.3982810309840283\n",
      "std of mu_t:  0.20208414993482743\n",
      "std of std_t:  (0.0016885334572148093, 0.9875470586445434)\n"
     ]
    },
    {
     "data": {
      "text/plain": [
       "<matplotlib.axes._subplots.AxesSubplot at 0x7f985710f450>"
      ]
     },
     "execution_count": 14,
     "metadata": {},
     "output_type": "execute_result"
    },
    {
     "data": {
      "image/png": "[encoded data removed]",
      "text/plain": [
       "<Figure size 1080x360 with 3 Axes>"
      ]
     },
     "metadata": {
      "needs_background": "light"
     },
     "output_type": "display_data"
    }
   ],
   "source": [
    "# draw a random t from the prior\n",
    "\n",
    "# in hddminfo.py `_create_stochastic_knodes_info`\n",
    "# knodes.update(self._create_family_gamma_gamma_hnormal('t', g_mean=.4, g_std=0.2,  \n",
    "#                                                       std_std=1, std_value=0.2, value=0.001))\n",
    "\n",
    "# in hddm/models/base.py\n",
    "# def _create_family_gamma_gamma_hnormal(self, name, value=1, g_mean=1, g_std=1, std_std=2, std_value=.1):\n",
    "#\n",
    "#        knodes = OrderedDict()\n",
    "#        g_shape = (g_mean**2) / (g_std**2)\n",
    "#        g_rate = g_mean / (g_std**2)\n",
    "#        if self.is_group_model and name not in self.group_only_nodes:\n",
    "#            g = Knode(pm.Gamma, name, alpha=g_shape, beta=g_rate,\n",
    "#                            value=g_mean, depends=self.depends[name])\n",
    "#            depends_std = self.depends[name] if self.std_depends else ()\n",
    "#            std = Knode(pm.HalfNormal, '%s_std' % name, tau=std_std**-2,\n",
    "#                        value=std_value, depends=depends_std)#\n",
    "#\n",
    "#            shape = Knode(pm.Deterministic, '%s_shape' % name, eval=lambda x,y: (x**2)/(y**2),\n",
    "#                        x=g, y=std, plot=False, trace=False, hidden=True)\n",
    "#\n",
    "#            rate = Knode(pm.Deterministic, '%s_rate' % name, eval=lambda x,y: x/(y**2),\n",
    "#                        x=g, y=std, plot=False, trace=False, hidden=True)\n",
    "#\n",
    "#\n",
    "#            subj = Knode(pm.Gamma, '%s_subj'%name, alpha=shape, beta=rate,\n",
    "#                         value=value, depends=('subj_idx',),\n",
    "#                         subj=True, plot=False)\n",
    "#\n",
    "#            knodes['%s'%name]            = g\n",
    "#            knodes['%s_std'%name]        = std\n",
    "#            knodes['%s_rate'%name]       = rate\n",
    "#            knodes['%s_shape'%name]      = shape\n",
    "#            knodes['%s_bottom'%name]     = subj\n",
    "#\n",
    "#        else:\n",
    "#            g = Knode(pm.Gamma, name, alpha=g_shape, beta=g_rate, value=value,\n",
    "#                            depends=self.depends[name])\n",
    "#\n",
    "#            knodes['%s_bottom'%name] = g\n",
    "#\n",
    "#        return knodes\n",
    "\n",
    "# in `pymc/distribution.py`\n",
    "# the gamma distribution\n",
    "# def rgamma(alpha, beta, size=None):\n",
    "#     \"\"\"\n",
    "#     Random gamma variates.\n",
    "#     \"\"\"\n",
    "#\n",
    "#     return np.random.gamma(shape=alpha, scale=1. / beta, size=size)\n",
    "\n",
    "\n",
    "# the half_normal ditribution\n",
    "# def rhalf_normal(tau, size=None):\n",
    "#     \"\"\"\n",
    "#     Random half-normal variates.\n",
    "#     \"\"\"\n",
    "#     return abs(np.random.normal(0, np.sqrt(1 / tau), size))\n",
    "\n",
    "# in `pymc/distribution.py`\n",
    "# def rnormal(mu, tau, size=None):\n",
    "#     \"\"\"\n",
    "#     Random normal variates.\n",
    "#     \"\"\"\n",
    "#     return np.random.normal(mu, 1. / np.sqrt(tau), size)\n",
    "\n",
    "def draw_t_prior(g_mean=.4, g_std=0.2, value=0.001, std_std=1, std_value=0.2, size=1):\n",
    "    g_shape = (g_mean**2) / (g_std**2)\n",
    "    g_rate = g_mean / (g_std**2)\n",
    "    g_beta=g_rate\n",
    "    \n",
    "    g = np.random.gamma(shape=g_shape, scale = 1./ g_beta, size = size)\n",
    "    \n",
    "    tau_g =std_std**-2\n",
    "    std = abs(np.random.normal(0, np.sqrt(1 / tau_g), size=size))\n",
    "    \n",
    "    #tau = std ** -2\n",
    "    shape = (g**2)/(std**2)\n",
    "    \n",
    "    rate = g/(std**2)\n",
    "    \n",
    "    beta = rate\n",
    "    \n",
    "    #subj_t = np.random.normal(g, 1. / np.sqrt(tau), size)\n",
    "    subj_t = np.random.gamma(shape=shape, scale = 1./ beta, size=size)\n",
    "    \n",
    "    return subj_t, g, std\n",
    "\n",
    "subj_t, g, std = draw_t_prior(size = 1000, std_std=1)\n",
    "# list = [subj_t, g, std]\n",
    "# param_t = pd.DataFrame(data = list, columns= [\"subj_t\", \"g\", \"std\"])\n",
    "\n",
    "#print(subj_t)\n",
    "\n",
    "print('mean of mu_t: ', statistics.mean(g))\n",
    "print('std of mu_t: ', statistics.stdev(g))\n",
    "print('std of std_t: ', halfnorm.fit(std))\n",
    "\n",
    "f, axes = plt.subplots(1, 3, figsize=(15,5))\n",
    "sns.distplot(subj_t, ax = axes[0])\n",
    "sns.distplot(g, ax = axes[1])\n",
    "sns.distplot(std, ax = axes[2])"
   ]
  },
  {
   "cell_type": "markdown",
   "metadata": {},
   "source": [
    "##### Draw a random value from prior distribution of $v$\n",
    "\n",
    "$v_{j} \\sim \\mathcal{N}(\\mu_{v}, \\sigma_{v}^2)$, $ \\mu_{v} \\sim \\mathcal{N}(2.00, 3.00)$, $\\sigma_{v} \\sim \\mathcal{HN}(2.0)$; "
   ]
  },
  {
   "cell_type": "code",
   "execution_count": 2,
   "metadata": {},
   "outputs": [
    {
     "name": "stdout",
     "output_type": "stream",
     "text": [
      "mean of mu_v:  1.8572006745842875\n",
      "std of mu_v:  2.9006761035805755\n",
      "std of std_v:  (0.002147553501142806, 1.9792684737837105)\n"
     ]
    },
    {
     "data": {
      "text/plain": [
       "<matplotlib.axes._subplots.AxesSubplot at 0x7f419f2e4450>"
      ]
     },
     "execution_count": 2,
     "metadata": {},
     "output_type": "execute_result"
    },
    {
     "data": {
      "image/png": "[encoded data removed]",
      "text/plain": [
       "<Figure size 1080x360 with 3 Axes>"
      ]
     },
     "metadata": {
      "needs_background": "light"
     },
     "output_type": "display_data"
    }
   ],
   "source": [
    "# in hddminfo.py `_create_stochastic_knodes_info`\n",
    "# knodes.update(self._create_family_normal_normal_hnormal('v', value=2, g_mu=2, g_tau=3**-2, std_std=2))\n",
    "\n",
    "# in hddm/models/base.py\n",
    "# def _create_family_normal_normal_hnormal(self, name, value=0, g_mu=None,\n",
    "#                              g_tau=15**-2, std_std=2,\n",
    "#                              std_value=.1):\n",
    "#         \"\"\"Create a family of knodes. A family is a group of knodes\n",
    "#         that belong together.\n",
    "#         For example, a family could consist of the following distributions:\n",
    "#         * group mean g_mean (Normal(g_mu, g_tau))\n",
    "#         * group standard deviation g_std (Uniform(std_lower, std_upper))\n",
    "#         * transform node g_std_trans for g_std (x -> x**-2)\n",
    "#         * subject (Normal(g_mean, g_std_trans))\n",
    "#         In fact, if is_group_model is True and the name does not appear in\n",
    "#         group_only nodes, this is the family that will be created.\n",
    "#         Otherwise, only a Normal knode will be returned.\n",
    "#         :Arguments:\n",
    "#             name : str\n",
    "#                 Name of the family. Each family member will have this name prefixed.\n",
    "#         :Optional:\n",
    "#             value : float\n",
    "#                 Starting value.\n",
    "#             g_mu, g_tau, std_lower, std_upper, std_value : float\n",
    "#                 The hyper parameters for the different family members (see above).\n",
    "#         :Returns:\n",
    "#             OrderedDict: member name -> member Knode\n",
    "#         \"\"\"\n",
    "#         if g_mu is None:\n",
    "#             g_mu = value\n",
    "# \n",
    "#         knodes = OrderedDict()\n",
    "#\n",
    "#        if self.is_group_model and name not in self.group_only_nodes:\n",
    "#            g = Knode(pm.Normal, '%s' % name, mu=g_mu, tau=g_tau,\n",
    "#                      value=value, depends=self.depends[name])\n",
    "#            depends_std = self.depends[name] if self.std_depends else ()\n",
    "#            std = Knode(pm.HalfNormal, '%s_std' % name, tau=std_std**-2,\n",
    "#                        value=std_value, depends=depends_std)\n",
    "#            tau = Knode(pm.Deterministic, '%s_tau' % name,\n",
    "#                        doc='%s_tau' % name, eval=lambda x: x**-2, x=std,\n",
    "#                        plot=False, trace=False, hidden=True)\n",
    "#            subj = Knode(pm.Normal, '%s_subj' % name, mu=g, tau=tau,\n",
    "#                         value=value, depends=('subj_idx',),\n",
    "#                         subj=True, plot=self.plot_subjs)\n",
    "#            knodes['%s'%name] = g\n",
    "#            knodes['%s_std'%name] = std\n",
    "#            knodes['%s_tau'%name] = tau\n",
    "#            knodes['%s_bottom'%name] = subj\n",
    "\n",
    "#        else:\n",
    "#            subj = Knode(pm.Normal, name, mu=g_mu, tau=g_tau,\n",
    "#                         value=value, depends=self.depends[name])\n",
    "\n",
    "#            knodes['%s_bottom'%name] = subj\n",
    "#\n",
    "#        return knodes\n",
    "\n",
    "# in `pymc/distribution.py`\n",
    "# def rnormal(mu, tau, size=None):\n",
    "#     \"\"\"\n",
    "#     Random normal variates.\n",
    "#     \"\"\"\n",
    "#     return np.random.normal(mu, 1. / np.sqrt(tau), size)\n",
    "\n",
    "# the half_normal ditribution\n",
    "# def rhalf_normal(tau, size=None):\n",
    "#     \"\"\"\n",
    "#     Random half-normal variates.\n",
    "#     \"\"\"\n",
    "#\n",
    "#     return abs(np.random.normal(0, np.sqrt(1 / tau), size))\n",
    "\n",
    "def draw_v_prior(value=2, g_mu=2,g_tau=3**-2, std_std=2, size=1):\n",
    "    if g_mu is None:\n",
    "        g_mu = value\n",
    "    \n",
    "    g = np.random.normal(g_mu, 1. / np.sqrt(g_tau), size=size)\n",
    "    tau_g=std_std**-2\n",
    "    \n",
    "    std_g = abs(np.random.normal(0, 1./ np.sqrt(tau_g), size=size)) # half-normal distribution\n",
    "    \n",
    "    tau = std_g ** -2\n",
    "    #print('tau', tau)\n",
    "    subj_v = np.random.normal(g, 1./ np.sqrt(tau), size=size)\n",
    "    \n",
    "    return subj_v, g, std_g\n",
    "    \n",
    "subj_v, g, std_g = draw_v_prior(size=1000)\n",
    "#print(subj_v)\n",
    "\n",
    "print('mean of mu_v: ', statistics.mean(g))\n",
    "print('std of mu_v: ', statistics.stdev(g))\n",
    "print('std of std_v: ', halfnorm.fit(std_g))\n",
    "\n",
    "f, axes = plt.subplots(1, 3, figsize=(15,5))\n",
    "sns.distplot(subj_v, ax = axes[0])\n",
    "sns.distplot(g, ax = axes[1])\n",
    "sns.distplot(std_g, ax = axes[2])"
   ]
  },
  {
   "cell_type": "markdown",
   "metadata": {},
   "source": [
    "##### Draw a value of $z$ from its' prior:\n",
    "\n",
    "$z_{j} \\sim invlogit(\\mathcal{N}(\\mu_{z}, \\sigma_{z}^2))$, $ \\mu_{z} \\sim \\mathcal{N}(0.50, 0.50)$; $\\sigma_{z} \\sim \\mathcal{HN}(0.05)$; "
   ]
  },
  {
   "cell_type": "code",
   "execution_count": 16,
   "metadata": {
    "scrolled": false
   },
   "outputs": [
    {
     "name": "stdout",
     "output_type": "stream",
     "text": [
      "mean of mu_z:  0.48343050804153986\n",
      "std of mu_z:  0.5130402759699899\n",
      "std of std_z:  (0.00015169116078846752, 0.04831862707326631)\n"
     ]
    },
    {
     "data": {
      "text/plain": [
       "<matplotlib.axes._subplots.AxesSubplot at 0x7f9856cb5150>"
      ]
     },
     "execution_count": 16,
     "metadata": {},
     "output_type": "execute_result"
    },
    {
     "data": {
      "image/png": "[encoded data removed]",
      "text/plain": [
       "<Figure size 1080x360 with 3 Axes>"
      ]
     },
     "metadata": {
      "needs_background": "light"
     },
     "output_type": "display_data"
    }
   ],
   "source": [
    "# draw a random z from the prior\n",
    "\n",
    "# in hddminfo.py `_create_stochastic_knodes_info`\n",
    "# knodes.update(self._create_family_invlogit('z', value=.5, g_tau=0.5**-2, std_std=0.05))\n",
    "\n",
    "# def _create_family_invlogit(self, name, value, g_mu=None, g_tau=15**-2,\n",
    "#                               std_std=0.2, std_value=.1):\n",
    "#        \"\"\"Similar to _create_family_normal_normal_hnormal() but adds a invlogit\n",
    "#        transform knode to the subject and group mean nodes. This is useful\n",
    "#        when the parameter space is restricted from [0, 1].\n",
    "#        See _create_family_normal_normal_hnormal() help for more information.\n",
    "#        \"\"\"\n",
    "#\n",
    "#        if g_mu is None:\n",
    "#            g_mu = value\n",
    "#\n",
    "#        # logit transform values\n",
    "#        value_trans = np.log(value) - np.log(1-value) \n",
    "#        g_mu_trans = np.log(g_mu) - np.log(1-g_mu) # when g_mu = value = 0.5, g_mu_trans = 0\n",
    "#\n",
    "#        knodes = OrderedDict()\n",
    "#\n",
    "#        if self.is_group_model and name not in self.group_only_nodes:\n",
    "#            g_trans = Knode(pm.Normal,\n",
    "#                            '%s_trans'%name,\n",
    "#                            mu=g_mu_trans,\n",
    "#                            tau=g_tau,\n",
    "#                            value=value_trans,\n",
    "#                            depends=self.depends[name],\n",
    "#                            plot=False,\n",
    "#                            hidden=True)\n",
    "#\n",
    "#            g = Knode(pm.InvLogit, name, ltheta=g_trans, plot=True, trace=True)\n",
    "#\n",
    "#            depends_std = self.depends[name] if self.std_depends else ()\n",
    "#            std = Knode(pm.HalfNormal, '%s_std' % name, tau=std_std**-2,\n",
    "#                        value=std_value, depends=depends_std)\n",
    "#\n",
    "#            tau = Knode(pm.Deterministic, '%s_tau'%name, doc='%s_tau'\n",
    "#                        % name, eval=lambda x: x**-2, x=std,\n",
    "#                        plot=False, trace=False, hidden=True)\n",
    "#\n",
    "#            subj_trans = Knode(pm.Normal, '%s_subj_trans'%name,\n",
    "#                               mu=g_trans, tau=tau, value=value_trans,\n",
    "#                               depends=('subj_idx',), subj=True,\n",
    "#                               plot=False, hidden=True)\n",
    "#\n",
    "#            subj = Knode(pm.InvLogit, '%s_subj'%name,\n",
    "#                         ltheta=subj_trans, depends=('subj_idx',),\n",
    "#                         plot=self.plot_subjs, trace=True, subj=True)\n",
    "#\n",
    "#            knodes['%s_trans'%name]      = g_trans\n",
    "#            knodes['%s'%name]            = g\n",
    "#            knodes['%s_std'%name]        = std\n",
    "#            knodes['%s_tau'%name]        = tau\n",
    "#\n",
    "#            knodes['%s_subj_trans'%name] = subj_trans\n",
    "#            knodes['%s_bottom'%name]     = subj\n",
    "#\n",
    "#        else:\n",
    "#            g_trans = Knode(pm.Normal, '%s_trans'%name, mu=g_mu_trans,\n",
    "#                            tau=g_tau, value=value_trans,\n",
    "#                            depends=self.depends[name], plot=False, hidden=True)\n",
    "#\n",
    "#            g = Knode(pm.InvLogit, '%s'%name, ltheta=g_trans, plot=True,\n",
    "#                      trace=True )\n",
    "#\n",
    "#            knodes['%s_trans'%name] = g_trans\n",
    "#            knodes['%s_bottom'%name] = g\n",
    "#\n",
    "#        return knodes\n",
    "\n",
    "# in `pymc/distribution.py`\n",
    "# def rnormal(mu, tau, size=None):\n",
    "#     \"\"\"\n",
    "#     Random normal variates.\n",
    "#     \"\"\"\n",
    "#     return np.random.normal(mu, 1. / np.sqrt(tau), size)\n",
    "\n",
    "# InvLogit in `pymc/CommonDeterministics.py` <-- invlogit in `pymc/utils.py#L84` <-- `flib.f` (Fortran)\n",
    "# invlogit in utils.py#L84\n",
    "# def invlogit(ltheta):\n",
    "#     return flib.invlogit(ravel(ltheta)).reshape(shape(ltheta))\n",
    "# numpy.ravel = reshape(-1, order=order), return a contiguous flattened array.\n",
    "\n",
    "# replace with invlogit in pymc3?\n",
    "# `pymc3/math.py#L193`\n",
    "# def invlogit(x, eps=sys.float_info.epsilon):\n",
    "#     \"\"\"The inverse of the logit function, 1 / (1 + exp(-x)).\"\"\"\n",
    "#    return (1.0 - 2.0 * eps) / (1.0 + tt.exp(-x)) + eps\n",
    "\n",
    "# can replace `tt` with `np`? yes, almost the same.\n",
    "\n",
    "# the half_normal ditribution\n",
    "# def rhalf_normal(tau, size=None):\n",
    "#     \"\"\"\n",
    "#     Random half-normal variates.\n",
    "#     \"\"\"\n",
    "\n",
    "#     return abs(np.random.normal(0, np.sqrt(1 / tau), size))\n",
    "\n",
    "import sys\n",
    "def invlogit(ltheta, eps=sys.float_info.epsilon):\n",
    "    \"\"\"The inverse of the logit function, 1 / (1 + exp(-x)).\"\"\"\n",
    "    ltheta = np.array(ltheta, dtype=np.float128)\n",
    "    return (1.0 - 2.0 * eps) / (1.0 + np.exp(-ltheta)) + eps\n",
    "\n",
    "def draw_z_prior(value=.5, g_mu = None, g_tau=0.5**-2, std_std=0.05, size=1):\n",
    "    \n",
    "    if g_mu is None:\n",
    "        g_mu = value\n",
    "    g_mu_trans = g_mu\n",
    "    \n",
    "    # g_mu_trans = np.log(g_mu) - np.log(1-g_mu) #### this deviate from prior!!\n",
    "    g_trans = np.random.normal(g_mu_trans, 1. / np.sqrt(g_tau), size)\n",
    "    #print('g_trans is: ', g_trans)\n",
    "    g = invlogit(ltheta=g_trans)\n",
    "    \n",
    "    #print('g is: ', g)\n",
    "    \n",
    "    g_tau = std_std**-2\n",
    "    #print('g_tau is: ', g_tau)\n",
    "    \n",
    "    g_std = abs(np.random.normal(0, np.sqrt(1. / g_tau), size=size)) # half normal\n",
    "    #print('g_std is: ', g_std)\n",
    "    \n",
    "    tau = g_std ** -2\n",
    "    subj_trans = np.random.normal(g_trans, np.sqrt(1./tau), size=size)\n",
    "    #print('subj_trans is: ', subj_trans)\n",
    "    #print('tau is: ', tau)\n",
    "#\n",
    "    subj_z = invlogit(ltheta=subj_trans)\n",
    "    \n",
    "    return subj_z, g_trans, g_std\n",
    " \n",
    "subj_z, g_trans, g_std = draw_z_prior(size=1000)\n",
    "#z_std = abs(np.random.normal(0, 0.05. ** -2, size = size)) # half normal\n",
    "#z_mu = np.random.normal(0.5, 0.5 ** -2, size = size)\n",
    "\n",
    "#v = np.random.normal(v_mu, v_std**-2)\n",
    "#print(subj_z)\n",
    "\n",
    "\n",
    "print('mean of mu_z: ', statistics.mean(g_trans))\n",
    "print('std of mu_z: ', statistics.stdev(g_trans))\n",
    "print('std of std_z: ', halfnorm.fit(g_std))\n",
    "\n",
    "f, axes = plt.subplots(1, 3, figsize=(15,5))\n",
    "sns.distplot(subj_z, ax = axes[0])\n",
    "sns.distplot(g_trans, ax = axes[1])\n",
    "sns.distplot(g_std, ax = axes[2])"
   ]
  },
  {
   "cell_type": "markdown",
   "metadata": {},
   "source": [
    "#### Define functions for draw value from prior of the parameters.\n",
    "\n",
    "##### Param $a$\n",
    "\n",
    "$ a_{j} \\sim \\mathcal{G}(\\mu_{a}, \\sigma_{a}^2) $, $ \\mu_{a} \\sim \\mathcal{G}(1.50, 0.75)$, $\\sigma_{a} \\sim \\mathcal{HN}(0.1)$; \n",
    "\n",
    "The he `std_std` (in `hddm/models/hddm_info.py#L124`) should be 0.1 instead of 2, otherwise it is different from the paper.\n",
    "\n",
    "#### Param $t$\n",
    "\n",
    "$t_{j} \\sim \\mathcal{N}(\\mu_{t}, \\sigma_{t}^2)$, $ \\mu_{t} \\sim \\mathcal{G}(0.40, 0.20)$, $\\sigma_{t} \\sim \\mathcal{HN}(1)$;\n",
    "\n",
    "However, in the `hddm/models/hddm_info.py#L128`, the code defins the prior distribution was `knodes.update(self._create_family_gamma_gamma_hnormal('t', g_mean=.4, g_std=0.2, value=0.001, std_std=1, std_value=0.2))`, which is the same as `a`. Even though it was different from but it's reasonable because `t` should not be negative.\n",
    "\n",
    "So, the actual prior used in HDDM was:\n",
    "\n",
    "$t_{j} \\sim \\mathcal{G}(\\mu_{t}, \\sigma_{t}^2)$, $ \\mu_{t} \\sim \\mathcal{G}(0.40, 0.20)$, $\\sigma_{t} \\sim \\mathcal{HN}(1)$;\n",
    "\n",
    "Here I used the prior as stated in the paper.\n",
    "\n",
    "##### Param $v$\n",
    "\n",
    "$v_{j} \\sim \\mathcal{N}(\\mu_{v}, \\sigma_{v}^2)$, $ \\mu_{v} \\sim \\mathcal{N}(2.00, 3.00)$, $\\sigma_{v} \\sim \\mathcal{HN}(2.0)$\n",
    "\n",
    "\n",
    "##### Param $z$:\n",
    "\n",
    "$z_{j} \\sim invlogit(\\mathcal{N}(\\mu_{z}, \\sigma_{z}^2))$, $ \\mu_{z} \\sim \\mathcal{N}(0.50, 0.50)$; $\\sigma_{z} \\sim \\mathcal{HN}(0.05)$; "
   ]
  },
  {
   "cell_type": "code",
   "execution_count": 2,
   "metadata": {},
   "outputs": [],
   "source": [
    "def draw_a_prior(g_mean=1.5, g_std=0.75, std_std=0.1, std_value=2, size = 1):\n",
    "    '''\n",
    "    draw parameter a from its prior\n",
    "    return three parameters: group level mean, std, subject level data\n",
    "    '''\n",
    "    g_shape = (g_mean**2) / (g_std**2)\n",
    "    g_rate = g_mean / (g_std**2)\n",
    "    g_beta=g_rate\n",
    "\n",
    "    g_mu_a = np.random.gamma(shape=g_shape, scale = 1./ g_beta, size = size)\n",
    "\n",
    "    tau=std_std**-2 # why using std_std instead of std_value?\n",
    "    g_std_a = abs(np.random.normal(0, np.sqrt(1 / tau), size=size))\n",
    "\n",
    "    shape = (g_mu_a**2)/(g_std_a**2)\n",
    "\n",
    "    rate = g_mu_a/(g_std_a**2)\n",
    "    beta = rate\n",
    "\n",
    "    subj_a = np.random.gamma(shape=shape, scale = 1./ beta, size=size)\n",
    "\n",
    "    return subj_a, g_mu_a, g_std_a\n",
    "\n",
    "def draw_t_prior(g_mean=.4, g_std=0.2, value=0.001, std_std=1, std_value=0.2, size=1):\n",
    "    '''\n",
    "    draw parameter t from its prior\n",
    "    '''\n",
    "    g_shape = (g_mean**2) / (g_std**2)\n",
    "    g_rate = g_mean / (g_std**2)\n",
    "    g_beta=g_rate\n",
    "\n",
    "    g_mu_t = np.random.gamma(shape=g_shape, scale = 1./ g_beta, size = size)\n",
    "\n",
    "    tau_g =std_std**-2\n",
    "    g_std_t = abs(np.random.normal(0, np.sqrt(1 / tau_g), size=size))\n",
    "\n",
    "    #tau = std ** -2\n",
    "    shape = (g_mu_t**2)/(g_std_t**2)\n",
    "\n",
    "    rate = g_mu_t/(g_std_t**2)\n",
    "\n",
    "    beta = rate\n",
    "\n",
    "    #subj_t = np.random.normal(g, 1. / np.sqrt(tau), size)\n",
    "    subj_t = np.random.gamma(shape=shape, scale = 1./ beta, size=size)\n",
    "\n",
    "    return subj_t, g_mu_t, g_std_t\n",
    "\n",
    "def draw_v_prior(value=2, g_mu=2,g_tau=3**-2, std_std=2, size=1):\n",
    "    '''\n",
    "    draw parameter v from its prior\n",
    "    '''\n",
    "    if g_mu is None:\n",
    "        g_mu = value\n",
    "\n",
    "    g_mu_v = np.random.normal(g_mu, 1. / np.sqrt(g_tau), size=size)\n",
    "    tau_g=std_std**-2\n",
    "\n",
    "    g_std_v = abs(np.random.normal(0, 1./ np.sqrt(tau_g), size=size)) # half-normal distribution\n",
    "\n",
    "    tau = g_std_v ** -2\n",
    "    #print('tau', tau)\n",
    "    subj_v = np.random.normal(g_mu_v, 1./ np.sqrt(tau), size=size)\n",
    "\n",
    "    return subj_v, g_mu_v, g_std_v\n",
    "\n",
    "import sys\n",
    "def invlogit(ltheta, eps=sys.float_info.epsilon):\n",
    "    \"\"\"The inverse of the logit function, 1 / (1 + exp(-x)).\"\"\"\n",
    "    ltheta = np.array(ltheta, dtype=np.float128)\n",
    "    return (1.0 - 2.0 * eps) / (1.0 + np.exp(-ltheta)) + eps\n",
    "\n",
    "def draw_z_prior(value=.5, g_mu = None, g_tau=0.5**-2, std_std=0.05, size=1):\n",
    "    '''\n",
    "    draw parameter z from its prior\n",
    "    '''\n",
    "    if g_mu is None:\n",
    "        g_mu = value\n",
    "    g_mu_trans = g_mu\n",
    "\n",
    "    g_mu_z = np.random.normal(g_mu_trans, 1. / np.sqrt(g_tau), size)\n",
    "\n",
    "    g = invlogit(ltheta=g_mu_z)\n",
    "\n",
    "    g_tau = std_std**-2\n",
    "\n",
    "    g_std_z = abs(np.random.normal(0, np.sqrt(1. / g_tau), size=size)) # half normal\n",
    "\n",
    "    tau = g_std_z ** -2\n",
    "    subj_trans = np.random.normal(g_mu_z, np.sqrt(1./tau), size=size)\n",
    "\n",
    "    subj_z = invlogit(ltheta=subj_trans)\n",
    "\n",
    "    return subj_z, g_mu_z, g_std_z"
   ]
  },
  {
   "cell_type": "markdown",
   "metadata": {},
   "source": [
    "Check the distribution of each parameter by draw 5000 data from the prior, and check if the parameters (group-level and individual-level) could be recovered."
   ]
  },
  {
   "cell_type": "code",
   "execution_count": 8,
   "metadata": {},
   "outputs": [
    {
     "name": "stdout",
     "output_type": "stream",
     "text": [
      "mean of subj_:  0.61647574503383539835\n",
      "mean of g_mu:  0.5020235963240303\n",
      "std of g_mu:  0.4973111903698014\n",
      "fit of g_std, location and scale:  (6.876380861956031e-06, 0.05057646406200964)\n"
     ]
    },
    {
     "data": {
      "text/plain": [
       "<matplotlib.axes._subplots.AxesSubplot at 0x7f2ce64003d0>"
      ]
     },
     "execution_count": 8,
     "metadata": {},
     "output_type": "execute_result"
    },
    {
     "data": {
      "image/png": "[encoded data removed]",
      "text/plain": [
       "<Figure size 1080x360 with 3 Axes>"
      ]
     },
     "metadata": {
      "needs_background": "light"
     },
     "output_type": "display_data"
    }
   ],
   "source": [
    "subj_, g_mu, g_std = draw_z_prior(size = 10000) # change the draw_z_prior function to other functions\n",
    "\n",
    "# print(subj_a)\n",
    "print('mean of subj_: ', statistics.mean(subj_))\n",
    "print('mean of g_mu: ', statistics.mean(g_mu))\n",
    "print('std of g_mu: ', statistics.stdev(g_mu))\n",
    "print('fit of g_std, location and scale: ', halfnorm.fit(g_std))\n",
    "\n",
    "f, axes = plt.subplots(1, 3, figsize=(15,5))\n",
    "sns.distplot(subj_, ax = axes[0])\n",
    "sns.distplot(g_mu, ax = axes[1])\n",
    "sns.distplot(g_std, ax = axes[2])"
   ]
  },
  {
   "cell_type": "code",
   "execution_count": 9,
   "metadata": {},
   "outputs": [],
   "source": [
    "def gen_data_from_prior(n = 1):\n",
    "    '''\n",
    "    Define a function to simulate the RT and response using params draw from prior\n",
    "    '''\n",
    "    import pandas as pd\n",
    "\n",
    "    cols = ['prior_a', 'prior_v', 'prior_t', 'prior_z',\n",
    "            'mean_rt', 'acc']\n",
    "    df = pd.DataFrame(columns=cols)\n",
    "\n",
    "    for ii in range(n):\n",
    "        a = draw_a_prior(size=1)[0][0]\n",
    "        v = draw_v_prior(size=1)[0][0]\n",
    "        t = draw_t_prior(size=1)[0][0]\n",
    "        z = draw_z_prior(size=1)[0][0]\n",
    "\n",
    "        params = {'a': a,\n",
    "                  'v': v,\n",
    "                  't': t,\n",
    "                  'z': z}\n",
    "\n",
    "        data, params = hddm.generate.gen_rand_data(params, size=120, subjs=1)\n",
    "        # Note: not be able to use method = 'drift' of the gen_rt function\n",
    "\n",
    "        df = df.append({'prior_a': a, \n",
    "                        'prior_v': v, \n",
    "                        'prior_t': t, \n",
    "                        'prior_z': z,\n",
    "                        'mean_rt': statistics.mean(data['rt']), \n",
    "                        'acc': statistics.mean(data['response'])}, \n",
    "                       ignore_index=True)\n",
    "\n",
    "    return df"
   ]
  },
  {
   "cell_type": "code",
   "execution_count": 17,
   "metadata": {},
   "outputs": [],
   "source": [
    "df = gen_data_from_prior(n = 10000)\n"
   ]
  },
  {
   "cell_type": "code",
   "execution_count": 18,
   "metadata": {
    "scrolled": true
   },
   "outputs": [
    {
     "data": {
      "text/html": [
       "<div>\n",
       "<style scoped>\n",
       "    .dataframe tbody tr th:only-of-type {\n",
       "        vertical-align: middle;\n",
       "    }\n",
       "\n",
       "    .dataframe tbody tr th {\n",
       "        vertical-align: top;\n",
       "    }\n",
       "\n",
       "    .dataframe thead th {\n",
       "        text-align: right;\n",
       "    }\n",
       "</style>\n",
       "<table border=\"1\" class=\"dataframe\">\n",
       "  <thead>\n",
       "    <tr style=\"text-align: right;\">\n",
       "      <th></th>\n",
       "      <th>prior_a</th>\n",
       "      <th>prior_v</th>\n",
       "      <th>prior_t</th>\n",
       "      <th>prior_z</th>\n",
       "      <th>mean_rt</th>\n",
       "      <th>acc</th>\n",
       "    </tr>\n",
       "  </thead>\n",
       "  <tbody>\n",
       "    <tr>\n",
       "      <th>0</th>\n",
       "      <td>1.124548</td>\n",
       "      <td>2.110192</td>\n",
       "      <td>7.877206e-09</td>\n",
       "      <td>0.615467</td>\n",
       "      <td>0.187025</td>\n",
       "      <td>0.975000</td>\n",
       "    </tr>\n",
       "    <tr>\n",
       "      <th>1</th>\n",
       "      <td>1.566511</td>\n",
       "      <td>0.795132</td>\n",
       "      <td>7.830981e-08</td>\n",
       "      <td>0.479513</td>\n",
       "      <td>0.491142</td>\n",
       "      <td>0.750000</td>\n",
       "    </tr>\n",
       "    <tr>\n",
       "      <th>2</th>\n",
       "      <td>2.540879</td>\n",
       "      <td>-0.388085</td>\n",
       "      <td>1.278794e-01</td>\n",
       "      <td>0.574237</td>\n",
       "      <td>1.753438</td>\n",
       "      <td>0.308333</td>\n",
       "    </tr>\n",
       "    <tr>\n",
       "      <th>3</th>\n",
       "      <td>1.509694</td>\n",
       "      <td>6.347896</td>\n",
       "      <td>1.675330e-01</td>\n",
       "      <td>0.659735</td>\n",
       "      <td>0.250025</td>\n",
       "      <td>1.000000</td>\n",
       "    </tr>\n",
       "    <tr>\n",
       "      <th>4</th>\n",
       "      <td>2.121258</td>\n",
       "      <td>2.374109</td>\n",
       "      <td>3.476717e-01</td>\n",
       "      <td>0.625043</td>\n",
       "      <td>0.653122</td>\n",
       "      <td>1.000000</td>\n",
       "    </tr>\n",
       "  </tbody>\n",
       "</table>\n",
       "</div>"
      ],
      "text/plain": [
       "    prior_a   prior_v       prior_t   prior_z   mean_rt       acc\n",
       "0  1.124548  2.110192  7.877206e-09  0.615467  0.187025  0.975000\n",
       "1  1.566511  0.795132  7.830981e-08  0.479513  0.491142  0.750000\n",
       "2  2.540879 -0.388085  1.278794e-01  0.574237  1.753438  0.308333\n",
       "3  1.509694  6.347896  1.675330e-01  0.659735  0.250025  1.000000\n",
       "4  2.121258  2.374109  3.476717e-01  0.625043  0.653122  1.000000"
      ]
     },
     "execution_count": 18,
     "metadata": {},
     "output_type": "execute_result"
    }
   ],
   "source": [
    "df.head()"
   ]
  },
  {
   "cell_type": "code",
   "execution_count": 26,
   "metadata": {
    "scrolled": true
   },
   "outputs": [
    {
     "data": {
      "text/plain": [
       "<seaborn.axisgrid.FacetGrid at 0x7f2ce5ca8850>"
      ]
     },
     "execution_count": 26,
     "metadata": {},
     "output_type": "execute_result"
    },
    {
     "data": {
      "image/png": "[encoded data removed]",
      "text/plain": [
       "<Figure size 720x360 with 2 Axes>"
      ]
     },
     "metadata": {
      "needs_background": "light"
     },
     "output_type": "display_data"
    }
   ],
   "source": [
    "df_s = df[['mean_rt', 'acc']].copy()     # select mean RT and accuracy\n",
    "df_melted = df_s.melt(var_name='column') # to long format\n",
    "\n",
    "# plot the long format data\n",
    "g = sns.FacetGrid(df_melted, col='column', sharex=False, sharey=False, height=5)\n",
    "g.map(plt.hist, 'value')"
   ]
  },
  {
   "cell_type": "markdown",
   "metadata": {},
   "source": [
    "#### Check the non-informative prior\n",
    "\n",
    "##### param $a$\n",
    "\n"
   ]
  },
  {
   "cell_type": "code",
   "execution_count": 32,
   "metadata": {},
   "outputs": [
    {
     "data": {
      "text/plain": [
       "1.6448536269514722"
      ]
     },
     "execution_count": 32,
     "metadata": {},
     "output_type": "execute_result"
    }
   ],
   "source": [
    "from scipy.special import ndtri # invcdf mentioned in solution (3) above\n",
    "\n",
    "ndtri(0.95)"
   ]
  },
  {
   "cell_type": "code",
   "execution_count": 37,
   "metadata": {},
   "outputs": [],
   "source": [
    "# hddm/models/hddm_info.py#L145 \n",
    "# knodes.update(self._create_family_trunc_normal('a', lower=1e-3, upper=1e3, value=1))\n",
    "\n",
    "# /hddm/models/base.py#L371\n",
    "# def _create_family_trunc_normal(self, name, value=0, lower=None,\n",
    "#                                    upper=None, std_lower=1e-10,\n",
    "#                                    std_upper=100, std_value=.1):\n",
    "#        \"\"\"Similar to _create_family_normal() but creates a Uniform\n",
    "#        group distribution and a truncated subject distribution.\n",
    "#        See _create_family_normal() help for more information.\n",
    "#        \"\"\"\n",
    "#        knodes = OrderedDict()\n",
    "#\n",
    "#        if self.is_group_model and name not in self.group_only_nodes:\n",
    "#            g = Knode(pm.Uniform, '%s' % name, lower=lower,\n",
    "#                      upper=upper, value=value, depends=self.depends[name])\n",
    "#\n",
    "#            depends_std = self.depends[name] if self.std_depends else ()\n",
    "#            std = Knode(pm.Uniform, '%s_std' % name, lower=std_lower,\n",
    "#                        upper=std_upper, value=std_value, depends=depends_std)\n",
    "#            tau = Knode(pm.Deterministic, '%s_tau' % name,\n",
    "#                        doc='%s_tau' % name, eval=lambda x: x**-2, x=std,\n",
    "#                        plot=False, trace=False, hidden=True)\n",
    "#            subj = Knode(pm.TruncatedNormal, '%s_subj' % name, mu=g,\n",
    "#                         tau=tau, a=lower, b=upper, value=value,\n",
    "#                         depends=('subj_idx',), subj=True, plot=self.plot_subjs)\n",
    "#\n",
    "#            knodes['%s'%name] = g\n",
    "#            knodes['%s_std'%name] = std\n",
    "#            knodes['%s_tau'%name] = tau\n",
    "#            knodes['%s_bottom'%name] = subj\n",
    "#\n",
    "#        else:\n",
    "#            subj = Knode(pm.Uniform, name, lower=lower,\n",
    "#                         upper=upper, value=value,\n",
    "#                         depends=self.depends[name])\n",
    "#            knodes['%s_bottom'%name] = subj\n",
    "#\n",
    "#        return knodes\n",
    "  \n",
    "# pymc/distributions.py#L2723\n",
    "# def runiform(lower, upper, size=None):\n",
    "#     \"\"\"\n",
    "#     Random uniform variates.\n",
    "#      \"\"\"\n",
    "#     return np.random.uniform(lower, upper, size)\n",
    "    \n",
    "# pymc/distributions.py#L2447\n",
    "# def rtruncated_normal(mu, tau, a=-np.inf, b=np.inf, size=None):\n",
    "#     \"\"\"\n",
    "#     Random truncated normal variates.\n",
    "#     \"\"\"\n",
    "#\n",
    "#    sigma = 1. / np.sqrt(tau)\n",
    "#    na = utils.normcdf((a - mu) / sigma)\n",
    "#    nb = utils.normcdf((b - mu) / sigma)\n",
    "#\n",
    "#    # Use the inverse CDF generation method.\n",
    "#    U = np.random.mtrand.uniform(size=size)\n",
    "#    q = U * nb + (1 - U) * na\n",
    "#    R = utils.invcdf(q)\n",
    "#\n",
    "#    # Unnormalize\n",
    "#     return R * sigma + mu\n",
    "\n",
    "# /pymc/utils.py#L471\n",
    "# def invcdf(x):\n",
    "#     \"\"\"Inverse of normal cumulative density function.\"\"\"\n",
    "#     x_flat = np.ravel(x)\n",
    "#     x_trans = np.array([flib.ppnd16(y, 1) for y in x_flat])\n",
    "#     return np.reshape(x_trans, np.shape(x))\n",
    "\n",
    "# Because utils.invcdf, utils.normcdf here used fortran code `flib`, for me, there are three ways to continue: \n",
    "# (1) learn how to import `flib`, which means more on import from local\n",
    "# (2) sample from normal distribution, and reject value outside the boundary, which is straightforward:\n",
    "#     https://stackoverflow.com/questions/47933019/how-to-properly-sample-truncated-distributions\n",
    "# (3) use other way to replace flib invcdf, normcdf, e.g., \n",
    "# https://stackoverflow.com/questions/20626994/how-to-calculate-the-inverse-of-the-normal-cumulative-distribution-function-in-p\n",
    "# \n",
    "# I also checked pymc3's code, they use tensor theano\n",
    "\n",
    "#def invcdf(x):\n",
    "#    x_flat = np.ravel(x)\n",
    "#    x_trans = np.array([flib.ppnd16(y, 1) for y in x_flat])\n",
    "#    return np.reshape(x_trans, np.shape(x))\n",
    "\n",
    "def rtruncated_normal(mu, tau, a=-np.inf, b=np.inf, size=1):\n",
    "    from scipy.stats import norm\n",
    "    sigma = 1. / np.sqrt(tau)\n",
    "    #na = utils.normcdf((a - mu) / sigma)  # here ther utils.normcdf also used flib\n",
    "    #nb = utils.normcdf((b - mu) / sigma)\n",
    "    na = norm.cdf((a - mu) / sigma)\n",
    "    nb = norm.cdf((b - mu) / sigma)\n",
    "\n",
    "    # Use the inverse CDF generation method.\n",
    "    U = np.random.mtrand.uniform(size=size)\n",
    "    q = U * nb + (1 - U) * na\n",
    "    \n",
    "    from scipy.special import ndtri # invcdf mentioned in solution (3) above\n",
    "    # R = utils.invcdf(q)\n",
    "    R = ndtri(q)\n",
    "\n",
    "    # Unnormalize\n",
    "    return R * sigma + mu\n",
    "\n",
    "def draw_a_noninfo(lower=1e-3, upper=1e3, size=1):\n",
    "    g_mu_a = np.random.uniform(low=lower, high=upper, size=size)\n",
    "    g_std_a = np.random.uniform(low=1e-10, high=100, size=size)\n",
    "    tau = g_std_a**-2\n",
    "    #sigma = 1. / np.sqrt(tau)\n",
    "    \n",
    "    subj_a = rtruncated_normal(mu=g_mu_a, tau=tau, a=lower, b=upper, size=size)\n",
    "    \n",
    "    return subj_a, g_mu_a, g_std_a"
   ]
  },
  {
   "cell_type": "code",
   "execution_count": 38,
   "metadata": {},
   "outputs": [
    {
     "name": "stdout",
     "output_type": "stream",
     "text": [
      "mean of subj_:  492.4978381384133\n",
      "mean of g_mu:  489.9549048170633\n",
      "std of g_mu:  288.70884361333344\n",
      "fit of g_std, location and scale:  (0.35781982751042674, 57.04342180340036)\n"
     ]
    },
    {
     "data": {
      "text/plain": [
       "<matplotlib.axes._subplots.AxesSubplot at 0x7f2ce5969e50>"
      ]
     },
     "execution_count": 38,
     "metadata": {},
     "output_type": "execute_result"
    },
    {
     "data": {
      "image/png": "[encoded data removed]",
      "text/plain": [
       "<Figure size 1080x360 with 3 Axes>"
      ]
     },
     "metadata": {
      "needs_background": "light"
     },
     "output_type": "display_data"
    }
   ],
   "source": [
    "subj_, g_mu, g_std = draw_a_noninfo(size = 1000) # change the draw_z_prior function to other functions\n",
    "\n",
    "# print(subj_a)\n",
    "print('mean of subj_: ', statistics.mean(subj_))\n",
    "print('mean of g_mu: ', statistics.mean(g_mu))\n",
    "print('std of g_mu: ', statistics.stdev(g_mu))\n",
    "print('fit of g_std, location and scale: ', halfnorm.fit(g_std))\n",
    "\n",
    "f, axes = plt.subplots(1, 3, figsize=(15,5))\n",
    "sns.distplot(subj_, ax = axes[0])\n",
    "sns.distplot(g_mu, ax = axes[1])\n",
    "sns.distplot(g_std, ax = axes[2])"
   ]
  },
  {
   "cell_type": "markdown",
   "metadata": {},
   "source": [
    "draw $t$"
   ]
  },
  {
   "cell_type": "code",
   "execution_count": null,
   "metadata": {},
   "outputs": [],
   "source": [
    "# hddm/models/hddm_info.py#L149\n",
    "# knodes.update(self._create_family_trunc_normal('t', lower=1e-3, upper=1e3, value=.01))\n",
    "\n",
    "# /hddm/models/base.py#L371\n",
    "# def _create_family_trunc_normal(self, name, value=0, lower=None,\n",
    "#                                    upper=None, std_lower=1e-10,\n",
    "#                                    std_upper=100, std_value=.1):\n",
    "#        \"\"\"Similar to _create_family_normal() but creates a Uniform\n",
    "#        group distribution and a truncated subject distribution.\n",
    "#        See _create_family_normal() help for more information.\n",
    "#        \"\"\"\n",
    "#        knodes = OrderedDict()\n",
    "#\n",
    "#        if self.is_group_model and name not in self.group_only_nodes:\n",
    "#            g = Knode(pm.Uniform, '%s' % name, lower=lower,\n",
    "#                      upper=upper, value=value, depends=self.depends[name])\n",
    "#\n",
    "#            depends_std = self.depends[name] if self.std_depends else ()\n",
    "#            std = Knode(pm.Uniform, '%s_std' % name, lower=std_lower,\n",
    "#                        upper=std_upper, value=std_value, depends=depends_std)\n",
    "#            tau = Knode(pm.Deterministic, '%s_tau' % name,\n",
    "#                        doc='%s_tau' % name, eval=lambda x: x**-2, x=std,\n",
    "#                        plot=False, trace=False, hidden=True)\n",
    "#            subj = Knode(pm.TruncatedNormal, '%s_subj' % name, mu=g,\n",
    "#                         tau=tau, a=lower, b=upper, value=value,\n",
    "#                         depends=('subj_idx',), subj=True, plot=self.plot_subjs)\n",
    "#\n",
    "#            knodes['%s'%name] = g\n",
    "#            knodes['%s_std'%name] = std\n",
    "#            knodes['%s_tau'%name] = tau\n",
    "#            knodes['%s_bottom'%name] = subj\n",
    "#\n",
    "#        else:\n",
    "#            subj = Knode(pm.Uniform, name, lower=lower,\n",
    "#                         upper=upper, value=value,\n",
    "#                         depends=self.depends[name])\n",
    "#            knodes['%s_bottom'%name] = subj\n",
    "#\n",
    "#        return knodes\n",
    "  \n",
    "# pymc/distributions.py#L2723\n",
    "# def runiform(lower, upper, size=None):\n",
    "#     \"\"\"\n",
    "#     Random uniform variates.\n",
    "#      \"\"\"\n",
    "#     return np.random.uniform(lower, upper, size)\n",
    "    \n",
    "# pymc/distributions.py#L2447\n",
    "# def rtruncated_normal(mu, tau, a=-np.inf, b=np.inf, size=None):\n",
    "#     \"\"\"\n",
    "#     Random truncated normal variates.\n",
    "#     \"\"\"\n",
    "#\n",
    "#    sigma = 1. / np.sqrt(tau)\n",
    "#    na = utils.normcdf((a - mu) / sigma)\n",
    "#    nb = utils.normcdf((b - mu) / sigma)\n",
    "#\n",
    "#    # Use the inverse CDF generation method.\n",
    "#    U = np.random.mtrand.uniform(size=size)\n",
    "#    q = U * nb + (1 - U) * na\n",
    "#    R = utils.invcdf(q)\n",
    "#\n",
    "#    # Unnormalize\n",
    "#     return R * sigma + mu"
   ]
  },
  {
   "cell_type": "code",
   "execution_count": null,
   "metadata": {},
   "outputs": [],
   "source": [
    "# hddm/models/hddm_info.py#L147\n",
    "# knodes.update(self._create_family_normal_normal_hnormal('v', value=0, g_tau=50**-2, std_std=10))"
   ]
  },
  {
   "cell_type": "code",
   "execution_count": null,
   "metadata": {},
   "outputs": [],
   "source": [
    "# hddm/models/hddm_info.py#L147\n",
    "# knodes.update(self._create_family_invlogit('z', value=.5, g_tau=10**-2, std_std=0.5))"
   ]
  }
 ],
 "metadata": {
  "kernelspec": {
   "display_name": "Python 3",
   "language": "python",
   "name": "python3"
  },
  "language_info": {
   "codemirror_mode": {
    "name": "ipython",
    "version": 3
   },
   "file_extension": ".py",
   "mimetype": "text/x-python",
   "name": "python",
   "nbconvert_exporter": "python",
   "pygments_lexer": "ipython3",
   "version": "3.7.7"
  }
 },
 "nbformat": 4,
 "nbformat_minor": 4
}
